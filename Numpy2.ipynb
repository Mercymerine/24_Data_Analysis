{
  "cells": [
    {
      "cell_type": "markdown",
      "metadata": {
        "id": "view-in-github",
        "colab_type": "text"
      },
      "source": [
        "<a href=\"https://colab.research.google.com/github/Mercymerine/24_Data_Analysis/blob/main/Numpy2.ipynb\" target=\"_parent\"><img src=\"https://colab.research.google.com/assets/colab-badge.svg\" alt=\"Open In Colab\"/></a>"
      ]
    },
    {
      "cell_type": "markdown",
      "metadata": {
        "id": "4T-TaozmO6hn"
      },
      "source": [
        "# Numpy Exercise 2\n",
        "\n",
        "### All of the questions in this exercise are attributed to rougier/numpy-100"
      ]
    },
    {
      "cell_type": "code",
      "execution_count": null,
      "metadata": {
        "id": "sr-3rCcTO6hp"
      },
      "outputs": [],
      "source": [
        "import numpy as np"
      ]
    },
    {
      "cell_type": "markdown",
      "metadata": {
        "id": "0HQiC7XfO6hr"
      },
      "source": [
        "#### 16. How to add a border (filled with 0's) around an existing array? (★☆☆)"
      ]
    },
    {
      "cell_type": "code",
      "execution_count": null,
      "metadata": {
        "id": "DGnDZb1HO6hz",
        "outputId": "1d8da7fb-bcd6-433c-c51b-6ab9c12c09ae"
      },
      "outputs": [
        {
          "name": "stdout",
          "output_type": "stream",
          "text": [
            "[[1 2 3]\n",
            " [4 5 6]\n",
            " [7 8 9]]\n",
            "3 3\n",
            "[[0 0 0 0 0]\n",
            " [0 1 2 3 0]\n",
            " [0 4 5 6 0]\n",
            " [0 7 8 9 0]\n",
            " [0 0 0 0 0]]\n"
          ]
        }
      ],
      "source": [
        "arr = np.array([\n",
        "    [1, 2, 3],\n",
        "    [4, 5, 6],\n",
        "    [7, 8, 9]\n",
        "])\n",
        "print(arr)\n",
        "\n",
        "#Calcualte the shape of the array\n",
        "rows, columns = arr.shape\n",
        "print(rows, columns)\n",
        "\n",
        "#Creating a new array with dimensions increased by 2 to accomodate the border\n",
        "bordered = np.zeros((rows + 2, columns + 2), dtype = arr.dtype)\n",
        "\n",
        "#Copy the original array into the center of the bordered array\n",
        "bordered[1:-1, 1:-1] = arr\n",
        "\n",
        "print(bordered)"
      ]
    },
    {
      "cell_type": "markdown",
      "metadata": {
        "id": "cfLNPFCjO6h0"
      },
      "source": [
        "#### 17. What is the result of the following expression? (★☆☆)\n",
        "```python\n",
        "0 * np.nan\n",
        "np.nan == np.nan\n",
        "np.inf > np.nan\n",
        "np.nan - np.nan\n",
        "np.nan in set([np.nan])\n",
        "0.3 == 3 * 0.1\n",
        "```"
      ]
    },
    {
      "cell_type": "code",
      "execution_count": null,
      "metadata": {
        "id": "ilBitqSWO6h1",
        "outputId": "a1a2fe9f-23e9-46d2-c8e9-daf3e1f2c2e7"
      },
      "outputs": [
        {
          "name": "stdout",
          "output_type": "stream",
          "text": [
            "nan\n",
            "False\n",
            "False\n",
            "nan\n",
            "True\n",
            "False\n"
          ]
        }
      ],
      "source": [
        "print(0 * np.nan) # operation results in nan (not a number) because any arithmetic operation involving nan results in nan.\n",
        "print(np.nan == np.nan) #nan is considered not equal to itself. This is because nan represents an undefined or unrepresentable value, so it's not logically equal to any other value, including itself.\n",
        "print(np.inf > np.nan) #In this case, np.inf represents positive infinity, which is greater than any finite number. However, when compared to nan, the result is False, as any comparison involving nan results in False.\n",
        "print(np.nan - np.nan) #operation results in nan. Subtracting nan from nan results in nan because the value is undefined.\n",
        "print(np.nan in set([np.nan])) #This membership check returns True. Although nan is not equal to itself in a direct comparison, it is considered to be a member of a set containing nan.\n",
        "print(0.3 == 3 * 0.1) #comparison returns False. This is because floating-point arithmetic can sometimes introduce small errors due to the way numbers are represented in binary. In this case, 3 * 0.1 does not result in exactly 0.3 due to such precision issues."
      ]
    },
    {
      "cell_type": "markdown",
      "metadata": {
        "id": "p-gy6be5O6h1"
      },
      "source": [
        "#### 18. Create a 5x5 matrix with values 1,2,3,4 just below the diagonal (★☆☆)"
      ]
    },
    {
      "cell_type": "code",
      "execution_count": null,
      "metadata": {
        "id": "k2VNKf7YO6h1",
        "outputId": "dedbc936-bbe1-4274-9c4f-46585d92534b"
      },
      "outputs": [
        {
          "name": "stdout",
          "output_type": "stream",
          "text": [
            "[[0. 0. 0. 0. 0.]\n",
            " [0. 0. 0. 0. 0.]\n",
            " [0. 0. 0. 0. 0.]\n",
            " [0. 0. 0. 0. 0.]\n",
            " [0. 0. 0. 0. 0.]]\n",
            "[[0. 0. 0. 0. 0.]\n",
            " [1. 0. 0. 0. 0.]\n",
            " [0. 2. 0. 0. 0.]\n",
            " [0. 0. 3. 0. 0.]\n",
            " [0. 0. 0. 4. 0.]]\n"
          ]
        }
      ],
      "source": [
        "arr = np.zeros((5, 5))\n",
        "print(arr)\n",
        "\n",
        "#Set the values 1, 2,3, 4 just below the diagnol\n",
        "np.fill_diagonal(arr[1:], [1, 2, 3, 4]) #np.fill_diagonal() function is used to fill the diagonal starting from the first sub-diagonal with the specified values.\n",
        "\n",
        "print(arr)"
      ]
    },
    {
      "cell_type": "markdown",
      "metadata": {
        "id": "vtkwyaZLO6h1"
      },
      "source": [
        "#### 19. Create a 8x8 matrix and fill it with a checkerboard pattern (★☆☆)"
      ]
    },
    {
      "cell_type": "code",
      "execution_count": null,
      "metadata": {
        "id": "KcZ8FV_4O6h2",
        "outputId": "a939c8c7-dbf4-4cd7-e047-351f92c5f3ee"
      },
      "outputs": [
        {
          "name": "stdout",
          "output_type": "stream",
          "text": [
            "[[7 3 7 6]\n",
            " [2 7 7 5]\n",
            " [7 3 2 5]\n",
            " [6 4 1 3]]\n",
            "[[7 7]\n",
            " [7 2]]\n"
          ]
        }
      ],
      "source": [
        "arr = np.random.randint(8, size=(4, 4))\n",
        "print(arr)\n",
        "print(arr[::2, ::2])"
      ]
    },
    {
      "cell_type": "code",
      "execution_count": null,
      "metadata": {
        "id": "0NjeFmPWO6h2",
        "outputId": "4ee0f2e1-5199-43ae-92da-73d08c314427"
      },
      "outputs": [
        {
          "name": "stdout",
          "output_type": "stream",
          "text": [
            "[[0 0 0 0 0 0 0 0]\n",
            " [0 0 0 0 0 0 0 0]\n",
            " [0 0 0 0 0 0 0 0]\n",
            " [0 0 0 0 0 0 0 0]\n",
            " [0 0 0 0 0 0 0 0]\n",
            " [0 0 0 0 0 0 0 0]\n",
            " [0 0 0 0 0 0 0 0]\n",
            " [0 0 0 0 0 0 0 0]]\n",
            "[[1 0 1 0 1 0 1 0]\n",
            " [0 0 0 0 0 0 0 0]\n",
            " [1 0 1 0 1 0 1 0]\n",
            " [0 0 0 0 0 0 0 0]\n",
            " [1 0 1 0 1 0 1 0]\n",
            " [0 0 0 0 0 0 0 0]\n",
            " [1 0 1 0 1 0 1 0]\n",
            " [0 0 0 0 0 0 0 0]]\n",
            "[[1 0 1 0 1 0 1 0]\n",
            " [0 1 0 1 0 1 0 1]\n",
            " [1 0 1 0 1 0 1 0]\n",
            " [0 1 0 1 0 1 0 1]\n",
            " [1 0 1 0 1 0 1 0]\n",
            " [0 1 0 1 0 1 0 1]\n",
            " [1 0 1 0 1 0 1 0]\n",
            " [0 1 0 1 0 1 0 1]]\n"
          ]
        }
      ],
      "source": [
        "#Create an 8*8  matrix filled with zeros\n",
        "matrix = np.zeros((8, 8), dtype = int)\n",
        "print(matrix)\n",
        "\n",
        "#Fill the matrix with the checkerboard pattern\n",
        "matrix[::2, ::2] = 1 # Fill every other row and column with 1 starting from (0,0)\n",
        "print(matrix)\n",
        "\n",
        "matrix[1::2, 1::2] = 1 #Fill every other row and column with 1 starting from(1,1)\n",
        "print(matrix)"
      ]
    },
    {
      "cell_type": "markdown",
      "metadata": {
        "id": "UyxiInueO6h3"
      },
      "source": [
        "### 20. Consider a (6,7,8) shape array, what is the index (x,y,z) of the 100th element?"
      ]
    },
    {
      "cell_type": "code",
      "execution_count": null,
      "metadata": {
        "id": "v-oovFBdO6h3",
        "outputId": "72aa9157-c0b1-44d3-fdc0-8717b55564aa"
      },
      "outputs": [
        {
          "name": "stdout",
          "output_type": "stream",
          "text": [
            "[[[  0   1   2   3   4   5   6   7]\n",
            "  [  8   9  10  11  12  13  14  15]\n",
            "  [ 16  17  18  19  20  21  22  23]\n",
            "  [ 24  25  26  27  28  29  30  31]\n",
            "  [ 32  33  34  35  36  37  38  39]\n",
            "  [ 40  41  42  43  44  45  46  47]\n",
            "  [ 48  49  50  51  52  53  54  55]]\n",
            "\n",
            " [[ 56  57  58  59  60  61  62  63]\n",
            "  [ 64  65  66  67  68  69  70  71]\n",
            "  [ 72  73  74  75  76  77  78  79]\n",
            "  [ 80  81  82  83  84  85  86  87]\n",
            "  [ 88  89  90  91  92  93  94  95]\n",
            "  [ 96  97  98  99 100 101 102 103]\n",
            "  [104 105 106 107 108 109 110 111]]\n",
            "\n",
            " [[112 113 114 115 116 117 118 119]\n",
            "  [120 121 122 123 124 125 126 127]\n",
            "  [128 129 130 131 132 133 134 135]\n",
            "  [136 137 138 139 140 141 142 143]\n",
            "  [144 145 146 147 148 149 150 151]\n",
            "  [152 153 154 155 156 157 158 159]\n",
            "  [160 161 162 163 164 165 166 167]]\n",
            "\n",
            " [[168 169 170 171 172 173 174 175]\n",
            "  [176 177 178 179 180 181 182 183]\n",
            "  [184 185 186 187 188 189 190 191]\n",
            "  [192 193 194 195 196 197 198 199]\n",
            "  [200 201 202 203 204 205 206 207]\n",
            "  [208 209 210 211 212 213 214 215]\n",
            "  [216 217 218 219 220 221 222 223]]\n",
            "\n",
            " [[224 225 226 227 228 229 230 231]\n",
            "  [232 233 234 235 236 237 238 239]\n",
            "  [240 241 242 243 244 245 246 247]\n",
            "  [248 249 250 251 252 253 254 255]\n",
            "  [256 257 258 259 260 261 262 263]\n",
            "  [264 265 266 267 268 269 270 271]\n",
            "  [272 273 274 275 276 277 278 279]]\n",
            "\n",
            " [[280 281 282 283 284 285 286 287]\n",
            "  [288 289 290 291 292 293 294 295]\n",
            "  [296 297 298 299 300 301 302 303]\n",
            "  [304 305 306 307 308 309 310 311]\n",
            "  [312 313 314 315 316 317 318 319]\n",
            "  [320 321 322 323 324 325 326 327]\n",
            "  [328 329 330 331 332 333 334 335]]]\n",
            "99\n"
          ]
        }
      ],
      "source": [
        "arr = np.arange(336).reshape(6, 7, 8)\n",
        "print(arr)\n",
        "print(arr[1, 5, 3])"
      ]
    },
    {
      "cell_type": "markdown",
      "metadata": {
        "id": "wB5DvN3iO6h3"
      },
      "source": [
        "#### 21. Create a checkerboard 8x8 matrix using the tile function (★☆☆)"
      ]
    },
    {
      "cell_type": "code",
      "execution_count": null,
      "metadata": {
        "id": "jIUIMjyHO6h3"
      },
      "outputs": [],
      "source": []
    },
    {
      "cell_type": "markdown",
      "metadata": {
        "id": "HZ418R7uO6h4"
      },
      "source": [
        "#### 22. Normalize a 5x5 random matrix (★☆☆)"
      ]
    },
    {
      "cell_type": "code",
      "execution_count": null,
      "metadata": {
        "id": "DjCGBApbO6h4",
        "outputId": "0550805d-deba-4f5c-a542-946e7f55462d"
      },
      "outputs": [
        {
          "name": "stdout",
          "output_type": "stream",
          "text": [
            "[[0.25368721 0.68519361 1.220988   0.21150713 0.70736757]\n",
            " [1.01794563 1.23056965 1.47092836 0.97606859 0.93727043]\n",
            " [1.63794629 0.62439833 1.58580567 0.92362017 0.88729243]\n",
            " [1.31248212 0.98404275 0.7608424  1.38046122 1.35908375]\n",
            " [0.67602153 1.25418818 0.77714186 1.65619777 2.12415285]]\n"
          ]
        }
      ],
      "source": [
        "arr = np.random.normal(1, 0.5, size=(5, 5))\n",
        "print(arr)"
      ]
    },
    {
      "cell_type": "markdown",
      "metadata": {
        "id": "Z6dN1KcWO6h4"
      },
      "source": [
        "#### 23. Create a custom dtype that describes a color as four unsigned bytes (RGBA) (★☆☆)"
      ]
    },
    {
      "cell_type": "code",
      "execution_count": null,
      "metadata": {
        "id": "DzGi_14-O6h4",
        "outputId": "08c5fe6b-cf77-4870-ec4a-bc80c12c22d4"
      },
      "outputs": [
        {
          "name": "stdout",
          "output_type": "stream",
          "text": [
            "[[[2 4 6]\n",
            "  [4 7 0]]\n",
            "\n",
            " [[1 2 3]\n",
            "  [5 8 6]]\n",
            "\n",
            " [[0 9 8]\n",
            "  [7 6 5]]\n",
            "\n",
            " [[4 3 2]\n",
            "  [1 1 1]]]\n",
            "3\n"
          ]
        }
      ],
      "source": [
        "custom_matrix = np.array([\n",
        "    [[2, 4, 6], [4, 7, 0]],\n",
        "    [[1, 2, 3], [5, 8, 6]],\n",
        "    [[0,9, 8], [7, 6, 5]],\n",
        "    [[4, 3, 2], [1, 1, 1]]\n",
        "])\n",
        "print(custom_matrix)\n",
        "print(custom_matrix.ndim)"
      ]
    },
    {
      "cell_type": "markdown",
      "metadata": {
        "id": "oOV943LCO6h4"
      },
      "source": [
        "#### 24. Multiply a 5x3 matrix by a 3x2 matrix (real matrix product) (★☆☆)"
      ]
    },
    {
      "cell_type": "code",
      "execution_count": null,
      "metadata": {
        "id": "RY1iYzEqO6h4",
        "outputId": "df4f3501-b4d0-4bc4-97db-ba9847babab5"
      },
      "outputs": [
        {
          "name": "stdout",
          "output_type": "stream",
          "text": [
            "[[ 0  1  2]\n",
            " [ 3  4  5]\n",
            " [ 6  7  8]\n",
            " [ 9 10 11]\n",
            " [12 13 14]]\n",
            "[[0 1]\n",
            " [2 3]\n",
            " [4 5]]\n"
          ]
        },
        {
          "ename": "ValueError",
          "evalue": "operands could not be broadcast together with shapes (5,3) (3,2) ",
          "output_type": "error",
          "traceback": [
            "\u001b[1;31m---------------------------------------------------------------------------\u001b[0m",
            "\u001b[1;31mValueError\u001b[0m                                Traceback (most recent call last)",
            "Cell \u001b[1;32mIn[69], line 7\u001b[0m\n\u001b[0;32m      4\u001b[0m arr2 \u001b[38;5;241m=\u001b[39m np\u001b[38;5;241m.\u001b[39marange(\u001b[38;5;241m6\u001b[39m)\u001b[38;5;241m.\u001b[39mreshape(\u001b[38;5;241m3\u001b[39m, \u001b[38;5;241m2\u001b[39m)\n\u001b[0;32m      5\u001b[0m \u001b[38;5;28mprint\u001b[39m(arr2)\n\u001b[1;32m----> 7\u001b[0m arr3 \u001b[38;5;241m=\u001b[39m arr1 \u001b[38;5;241m*\u001b[39m arr2\n\u001b[0;32m      8\u001b[0m \u001b[38;5;28mprint\u001b[39m(arr3)\n",
            "\u001b[1;31mValueError\u001b[0m: operands could not be broadcast together with shapes (5,3) (3,2) "
          ]
        }
      ],
      "source": [
        "arr1 = np.arange(15).reshape(5,3)\n",
        "print(arr1)\n",
        "\n",
        "arr2 = np.arange(6).reshape(3, 2)\n",
        "print(arr2)\n",
        "\n",
        "arr3 = arr1 * arr2\n",
        "print(arr3)"
      ]
    },
    {
      "cell_type": "markdown",
      "metadata": {
        "id": "tD_PQuS9O6h5"
      },
      "source": [
        "#### 25. Given a 1D array, negate all elements which are between 3 and 8, in place. (★☆☆)"
      ]
    },
    {
      "cell_type": "code",
      "execution_count": null,
      "metadata": {
        "id": "ca76QRqzO6h5",
        "outputId": "4414d79d-c472-41a5-b2da-2537f7fdb0c6"
      },
      "outputs": [
        {
          "name": "stdout",
          "output_type": "stream",
          "text": [
            "[0 1 2 3 4 5 6 7 8 9]\n",
            "[ 0  1  2  3 -4 -5 -6 -7  8  9]\n"
          ]
        }
      ],
      "source": [
        "arr = np.arange(10)\n",
        "print(arr)\n",
        "arr[(arr>3) & (arr<8)] *= -1\n",
        "print(arr)"
      ]
    },
    {
      "cell_type": "markdown",
      "metadata": {
        "id": "XcylDljnO6h5"
      },
      "source": [
        "#### 26. What is the output of the following script? (★☆☆)\n",
        "```python\n",
        "# Author: Jake VanderPlas\n",
        "\n",
        "print(sum(range(5),-1))\n",
        "from numpy import *\n",
        "print(sum(range(5),-1))\n",
        "```"
      ]
    },
    {
      "cell_type": "code",
      "execution_count": null,
      "metadata": {
        "id": "GM7DLg4yO6h5",
        "outputId": "7cb24e1a-0984-45b0-db6c-afb1847ee88c"
      },
      "outputs": [
        {
          "name": "stdout",
          "output_type": "stream",
          "text": [
            "10\n",
            "int32\n"
          ]
        }
      ],
      "source": [
        "print(sum(range(5),-1))\n",
        "\n",
        "#?? he behavior is similar to the previous line, but with NumPy's sum function, you'll get an output that is converted to a NumPy array.\n",
        "from numpy import *\n",
        "x = (sum(range(5),-1))\n",
        "print(dtype(x))"
      ]
    },
    {
      "cell_type": "markdown",
      "metadata": {
        "id": "mCahzT0vO6h5"
      },
      "source": [
        "#### 27. Consider an integer vector Z, which of these expressions are legal? (★☆☆)\n",
        "```python\n",
        "Z**Z\n",
        "2 << Z >> 2\n",
        "Z <- Z\n",
        "1j*Z\n",
        "Z/1/1\n",
        "Z<Z>Z\n",
        "```"
      ]
    },
    {
      "cell_type": "code",
      "execution_count": null,
      "metadata": {
        "id": "NxnLc_omO6h5",
        "outputId": "9cb1f817-90bf-47ea-91d8-2d0cc8949024"
      },
      "outputs": [
        {
          "name": "stdout",
          "output_type": "stream",
          "text": [
            "3125\n",
            "16\n",
            "False\n",
            "5j\n",
            "5.0\n",
            "False\n"
          ]
        }
      ],
      "source": [
        "#Z =np.array([1, 2, 3])\n",
        "Z = 5\n",
        "print(Z**Z)# This expression calculates the element-wise exponentiation of vector Z to itself. It raises each element of Z to the power of itself. This is legal, assuming Z is a vector with integer elements.\n",
        "print(2 << Z >> 2) #This expression left shifts each element of Z by 2 bits (2 << Z) and then right shifts the result by 2 bits (>> 2). This operation is legal as long as the elements of Z are integers.\n",
        "print(Z <- Z) #  This expression checks element-wise if each element of Z is less than minus itself. It's a comparison operation. This is legal, assuming Z is a vector with integer elements.\n",
        "print(1j*Z) #This expression multiplies each element of Z by the imaginary unit 1j. It's legal as long as Z is a vector with numerical elements (either integer or floating-point).\n",
        "print(Z/1/1) # This expression divides each element of Z by 1 and then by 1 again. It's legal as long as Z is a vector with numerical elements (either integer or floating-point).\n",
        "print(Z<Z>)#  This line of code is incomplete and contains a syntax error. The < operator expects another value after it for comparison. It seems like there's a typo or missing expression after the second <\n",
        "#Correct code\n",
        "print(Z<Z>Z)"
      ]
    },
    {
      "cell_type": "markdown",
      "metadata": {
        "id": "47Y2KMQIO6h6"
      },
      "source": [
        "## Question??"
      ]
    },
    {
      "cell_type": "code",
      "execution_count": null,
      "metadata": {
        "id": "65MkZEdLO6h6",
        "outputId": "82db3b4a-823d-42a6-bed9-8fa0e64e421b"
      },
      "outputs": [
        {
          "name": "stdout",
          "output_type": "stream",
          "text": [
            "0\n"
          ]
        }
      ],
      "source": [
        "print(8 << Z >> 8)"
      ]
    },
    {
      "cell_type": "code",
      "execution_count": null,
      "metadata": {
        "id": "GdeVAVlTO6h6",
        "outputId": "755f7a98-9d41-443d-a209-89434bc7aea2"
      },
      "outputs": [
        {
          "name": "stdout",
          "output_type": "stream",
          "text": [
            "0\n"
          ]
        }
      ],
      "source": [
        "print(7 << Z >> 7)"
      ]
    },
    {
      "cell_type": "code",
      "execution_count": null,
      "metadata": {
        "id": "KuUa2G65O6h6",
        "outputId": "9d2ab03b-f258-4bb3-b286-1d551327b684"
      },
      "outputs": [
        {
          "name": "stdout",
          "output_type": "stream",
          "text": [
            "1\n"
          ]
        }
      ],
      "source": [
        "print(6 << Z >> 6)"
      ]
    },
    {
      "cell_type": "code",
      "execution_count": null,
      "metadata": {
        "id": "Q0jzJLHlO6h6",
        "outputId": "e08c3a09-39bd-4924-b49a-e64aaedc6c83"
      },
      "outputs": [
        {
          "name": "stdout",
          "output_type": "stream",
          "text": [
            "2\n"
          ]
        }
      ],
      "source": [
        "print(5 << Z >> 5)"
      ]
    },
    {
      "cell_type": "code",
      "execution_count": null,
      "metadata": {
        "id": "3cMV_-4KO6h6",
        "outputId": "fed25dbf-49f6-4259-be13-af5953082d8b"
      },
      "outputs": [
        {
          "name": "stdout",
          "output_type": "stream",
          "text": [
            "4\n"
          ]
        }
      ],
      "source": [
        "print(4 << Z >> 4)"
      ]
    },
    {
      "cell_type": "code",
      "execution_count": null,
      "metadata": {
        "id": "Nj9KjBaHO6h7",
        "outputId": "21de27fa-35d6-4ed7-d0f3-83750642b9dd"
      },
      "outputs": [
        {
          "name": "stdout",
          "output_type": "stream",
          "text": [
            "6\n"
          ]
        }
      ],
      "source": [
        "print(3 << Z >> 3)"
      ]
    },
    {
      "cell_type": "code",
      "execution_count": null,
      "metadata": {
        "id": "IWtCeOcWO6h7",
        "outputId": "131b6cfd-d1ac-4c79-9556-07cbc9e72ff6"
      },
      "outputs": [
        {
          "name": "stdout",
          "output_type": "stream",
          "text": [
            "8\n"
          ]
        }
      ],
      "source": [
        "print(2 << bZ >> 2)"
      ]
    },
    {
      "cell_type": "code",
      "execution_count": null,
      "metadata": {
        "id": "XszvrFKgO6h7",
        "outputId": "2a9f83f3-2081-4bf5-e0bd-80092d108cf6"
      },
      "outputs": [
        {
          "name": "stdout",
          "output_type": "stream",
          "text": [
            "8\n"
          ]
        }
      ],
      "source": [
        "print(1 << Z >> 1)"
      ]
    },
    {
      "cell_type": "code",
      "execution_count": null,
      "metadata": {
        "id": "j1IFsBYpO6h7",
        "outputId": "4ca57677-751a-43cf-9e19-b4f2b2c9a10a"
      },
      "outputs": [
        {
          "name": "stdout",
          "output_type": "stream",
          "text": [
            "0\n"
          ]
        }
      ],
      "source": [
        "print(0 << Z >> 0)"
      ]
    },
    {
      "cell_type": "markdown",
      "metadata": {
        "id": "d8ZdG6EyO6h7"
      },
      "source": [
        "#### 28. What are the result of the following expressions?\n",
        "```python\n",
        "np.array(0) / np.array(0)\n",
        "np.array(0) // np.array(0)\n",
        "np.array([np.nan]).astype(int).astype(float)\n",
        "```"
      ]
    },
    {
      "cell_type": "code",
      "execution_count": null,
      "metadata": {
        "id": "IO77NYLgO6h7",
        "outputId": "5070d405-2707-4692-c532-25c735761fbf"
      },
      "outputs": [
        {
          "name": "stdout",
          "output_type": "stream",
          "text": [
            "1\n"
          ]
        }
      ],
      "source": [
        "print(5//5)"
      ]
    },
    {
      "cell_type": "code",
      "execution_count": null,
      "metadata": {
        "id": "PSkNsrCKO6iB",
        "outputId": "78d79f48-0028-49aa-fa9f-26480f8c6d83"
      },
      "outputs": [
        {
          "name": "stdout",
          "output_type": "stream",
          "text": [
            "nan\n",
            "0\n",
            "[-2.14748365e+09]\n"
          ]
        },
        {
          "name": "stderr",
          "output_type": "stream",
          "text": [
            "C:\\Users\\Mercy Atiz\\AppData\\Local\\Temp\\ipykernel_44620\\1347146650.py:1: RuntimeWarning: invalid value encountered in divide\n",
            "  print(np.array(0) / np.array(0))#  this operation results in a division by zero error, which is mathematically undefined. This is because dividing zero by zero does not have a meaningful mathematical interpretation.Result: nan\n",
            "C:\\Users\\Mercy Atiz\\AppData\\Local\\Temp\\ipykernel_44620\\1347146650.py:2: RuntimeWarning: divide by zero encountered in floor_divide\n",
            "  print(np.array(0) // np.array(0))\n",
            "C:\\Users\\Mercy Atiz\\AppData\\Local\\Temp\\ipykernel_44620\\1347146650.py:3: RuntimeWarning: invalid value encountered in cast\n",
            "  print(np.array([np.nan]).astype(int).astype(float))\n"
          ]
        }
      ],
      "source": [
        "print(np.array(0) / np.array(0))#  this operation results in a division by zero error, which is mathematically undefined. This is because dividing zero by zero does not have a meaningful mathematical interpretation.Result: nan\n",
        "print(np.array(0) // np.array(0)) #Similarly to the previous case, this operation also results in a division by zero error. NumPy handles this situation by producing a warning and returning zero as a result. This is because floor division of zero by zero is undefined, but NumPy chooses to return zero as a convention.Result: 0\n",
        "print(np.array([np.nan]).astype(int).astype(float))"
      ]
    },
    {
      "cell_type": "markdown",
      "metadata": {
        "id": "dFW9UsgDO6iB"
      },
      "source": [
        "#### 29. How to round away from zero a float array ? (★☆☆)"
      ]
    },
    {
      "cell_type": "code",
      "execution_count": null,
      "metadata": {
        "id": "S78_CZgQO6iB",
        "outputId": "7027a37f-a112-4325-b7ab-f6c768ffe095"
      },
      "outputs": [
        {
          "name": "stdout",
          "output_type": "stream",
          "text": [
            "-4.0\n"
          ]
        }
      ],
      "source": [
        "print(np.ceil(4.1)) # Round up to the next integer. For Positive numbers"
      ]
    },
    {
      "cell_type": "code",
      "execution_count": null,
      "metadata": {
        "id": "KiUBk816O6iB",
        "outputId": "ca974c03-a12e-472b-c9b3-e1f0cdc0dd87"
      },
      "outputs": [
        {
          "name": "stdout",
          "output_type": "stream",
          "text": [
            "-5.0\n"
          ]
        }
      ],
      "source": [
        "print(np.floor(4.99)) #Round down to the next integer. For Negative numbers"
      ]
    },
    {
      "cell_type": "code",
      "execution_count": null,
      "metadata": {
        "id": "sC00jcbIO6iB"
      },
      "outputs": [],
      "source": []
    },
    {
      "cell_type": "code",
      "execution_count": null,
      "metadata": {
        "id": "YwSFiZQVO6iB"
      },
      "outputs": [],
      "source": []
    },
    {
      "cell_type": "markdown",
      "metadata": {
        "id": "GL7NfAm5O6iC"
      },
      "source": [
        "#### 30. How to find common values between two arrays? (★☆☆)"
      ]
    },
    {
      "cell_type": "code",
      "execution_count": null,
      "metadata": {
        "id": "sZvIeovpO6iC",
        "outputId": "d70208ed-b246-45fd-a6de-55aeb3b65edf"
      },
      "outputs": [
        {
          "name": "stdout",
          "output_type": "stream",
          "text": [
            "[3 4 5]\n"
          ]
        }
      ],
      "source": [
        "arr1 = np.array([1, 2, 3, 4, 5])\n",
        "arr2 = np.array([3, 4, 5, 6, 7])\n",
        "#arr3 = np.array([3, 4, 5, 9, 10])\n",
        "\n",
        "#Find common values\n",
        "common_values = np.intersect1d(arr1, arr2) # takes two arrays as input and returns the sorted, unique values that are present in both arrays.\n",
        "print(common_values)"
      ]
    },
    {
      "cell_type": "code",
      "execution_count": null,
      "metadata": {
        "id": "qwVtzhEbO6iC"
      },
      "outputs": [],
      "source": []
    }
  ],
  "metadata": {
    "kernelspec": {
      "display_name": "Python 3 (ipykernel)",
      "language": "python",
      "name": "python3"
    },
    "language_info": {
      "codemirror_mode": {
        "name": "ipython",
        "version": 3
      },
      "file_extension": ".py",
      "mimetype": "text/x-python",
      "name": "python",
      "nbconvert_exporter": "python",
      "pygments_lexer": "ipython3",
      "version": "3.11.7"
    },
    "colab": {
      "provenance": [],
      "include_colab_link": true
    }
  },
  "nbformat": 4,
  "nbformat_minor": 0
}