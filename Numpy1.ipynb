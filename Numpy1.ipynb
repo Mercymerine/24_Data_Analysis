{
  "cells": [
    {
      "cell_type": "markdown",
      "metadata": {
        "id": "view-in-github",
        "colab_type": "text"
      },
      "source": [
        "<a href=\"https://colab.research.google.com/github/Mercymerine/24_Data_Analysis/blob/main/Numpy1.ipynb\" target=\"_parent\"><img src=\"https://colab.research.google.com/assets/colab-badge.svg\" alt=\"Open In Colab\"/></a>"
      ]
    },
    {
      "cell_type": "markdown",
      "metadata": {
        "id": "ypmUfhnLtLXM"
      },
      "source": [
        "# Numpy Exercise 1\n",
        "\n",
        "### All of the questions in this exercise are attributed to rougier/numpy-100"
      ]
    },
    {
      "cell_type": "code",
      "execution_count": null,
      "metadata": {
        "id": "8dISKP2EtLXX"
      },
      "outputs": [],
      "source": []
    },
    {
      "cell_type": "markdown",
      "metadata": {
        "id": "QxZtgLRctLXa"
      },
      "source": [
        "#### 1. Import the numpy package under the name `np` (★☆☆)"
      ]
    },
    {
      "cell_type": "code",
      "execution_count": null,
      "metadata": {
        "id": "v8B27gGFtLXd"
      },
      "outputs": [],
      "source": [
        "import numpy as np"
      ]
    },
    {
      "cell_type": "markdown",
      "metadata": {
        "id": "kvNylvBItLXh"
      },
      "source": [
        "#### 2. Print the numpy version and the configuration (★☆☆)"
      ]
    },
    {
      "cell_type": "code",
      "execution_count": null,
      "metadata": {
        "id": "-Lviz4jxtLXj",
        "outputId": "224b7b0b-7f06-4382-9e43-6c8b7b0a3953"
      },
      "outputs": [
        {
          "name": "stdout",
          "output_type": "stream",
          "text": [
            "1.26.4\n"
          ]
        }
      ],
      "source": [
        "print(np.__version__)"
      ]
    },
    {
      "cell_type": "code",
      "execution_count": null,
      "metadata": {
        "id": "mHF2-YUqtLXm",
        "outputId": "6ef90903-f9d5-4951-e915-4b1921ec809c"
      },
      "outputs": [
        {
          "name": "stdout",
          "output_type": "stream",
          "text": [
            "Build Dependencies:\n",
            "  blas:\n",
            "    detection method: pkgconfig\n",
            "    found: true\n",
            "    include directory: C:/Users/Mercy Atiz/AppData/Local/anaconda3/Library/include\n",
            "    lib directory: C:/Users/Mercy Atiz/AppData/Local/anaconda3/Library/lib\n",
            "    name: mkl-sdl\n",
            "    openblas configuration: unknown\n",
            "    pc file directory: C:\\b\\abs_c1ywpu18ar\\croot\\numpy_and_numpy_base_1708638681471\\_h_env\\Library\\lib\\pkgconfig\n",
            "    version: '2023.1'\n",
            "  lapack:\n",
            "    detection method: internal\n",
            "    found: true\n",
            "    include directory: unknown\n",
            "    lib directory: unknown\n",
            "    name: dep1868282989520\n",
            "    openblas configuration: unknown\n",
            "    pc file directory: unknown\n",
            "    version: 1.26.4\n",
            "Compilers:\n",
            "  c:\n",
            "    commands: cl.exe\n",
            "    linker: link\n",
            "    name: msvc\n",
            "    version: 19.29.30154\n",
            "  c++:\n",
            "    commands: cl.exe\n",
            "    linker: link\n",
            "    name: msvc\n",
            "    version: 19.29.30154\n",
            "  cython:\n",
            "    commands: cython\n",
            "    linker: cython\n",
            "    name: cython\n",
            "    version: 3.0.8\n",
            "Machine Information:\n",
            "  build:\n",
            "    cpu: x86_64\n",
            "    endian: little\n",
            "    family: x86_64\n",
            "    system: windows\n",
            "  host:\n",
            "    cpu: x86_64\n",
            "    endian: little\n",
            "    family: x86_64\n",
            "    system: windows\n",
            "Python Information:\n",
            "  path: C:\\b\\abs_c1ywpu18ar\\croot\\numpy_and_numpy_base_1708638681471\\_h_env\\python.exe\n",
            "  version: '3.11'\n",
            "SIMD Extensions:\n",
            "  baseline:\n",
            "  - SSE\n",
            "  - SSE2\n",
            "  - SSE3\n",
            "  found:\n",
            "  - SSSE3\n",
            "  - SSE41\n",
            "  - POPCNT\n",
            "  - SSE42\n",
            "  - AVX\n",
            "  - F16C\n",
            "  - FMA3\n",
            "  - AVX2\n",
            "  not found:\n",
            "  - AVX512F\n",
            "  - AVX512CD\n",
            "  - AVX512_SKX\n",
            "  - AVX512_CLX\n",
            "  - AVX512_CNL\n",
            "  - AVX512_ICL\n",
            "\n",
            "None\n"
          ]
        }
      ],
      "source": [
        "print(np.show_config())"
      ]
    },
    {
      "cell_type": "markdown",
      "metadata": {
        "id": "XnMGYxHBtLXo"
      },
      "source": [
        "#### 3. Create a null vector of size 10 (★☆☆)"
      ]
    },
    {
      "cell_type": "code",
      "execution_count": null,
      "metadata": {
        "id": "IbTfQF9ptLXo",
        "outputId": "84c51dfe-a313-4e3c-912b-717adbee0362"
      },
      "outputs": [
        {
          "name": "stdout",
          "output_type": "stream",
          "text": [
            "[0. 0. 0. 0. 0. 0. 0. 0. 0. 0.]\n"
          ]
        }
      ],
      "source": [
        "null_vector = np.zeros(10)\n",
        "print(null_vector)"
      ]
    },
    {
      "cell_type": "markdown",
      "metadata": {
        "id": "UzVOUna-tLXq"
      },
      "source": [
        "#### 4. How to find the memory size of any array (★☆☆)"
      ]
    },
    {
      "cell_type": "code",
      "execution_count": null,
      "metadata": {
        "id": "E1oGhoGvtLXr",
        "outputId": "bcfa84ff-8d3d-429f-e89b-4b7d9a97afd2"
      },
      "outputs": [
        {
          "name": "stdout",
          "output_type": "stream",
          "text": [
            "80\n"
          ]
        }
      ],
      "source": [
        "print(null_vector.nbytes)"
      ]
    },
    {
      "cell_type": "markdown",
      "metadata": {
        "id": "I1JBGT8HtLXs"
      },
      "source": [
        "#### 5. How to get the documentation of the numpy add function from the command line? (★☆☆)"
      ]
    },
    {
      "cell_type": "code",
      "execution_count": null,
      "metadata": {
        "id": "SvjHCixitLXt",
        "outputId": "d5fb107f-0ede-443a-c1b4-c8a894887f92"
      },
      "outputs": [
        {
          "data": {
            "text/plain": [
              "\u001b[1;31mType:\u001b[0m        module\n",
              "\u001b[1;31mString form:\u001b[0m <module 'numpy' from 'C:\\\\Users\\\\Mercy Atiz\\\\AppData\\\\Local\\\\anaconda3\\\\Lib\\\\site-packages\\\\numpy\\\\__init__.py'>\n",
              "\u001b[1;31mFile:\u001b[0m        c:\\users\\mercy atiz\\appdata\\local\\anaconda3\\lib\\site-packages\\numpy\\__init__.py\n",
              "\u001b[1;31mDocstring:\u001b[0m  \n",
              "NumPy\n",
              "=====\n",
              "\n",
              "Provides\n",
              "  1. An array object of arbitrary homogeneous items\n",
              "  2. Fast mathematical operations over arrays\n",
              "  3. Linear Algebra, Fourier Transforms, Random Number Generation\n",
              "\n",
              "How to use the documentation\n",
              "----------------------------\n",
              "Documentation is available in two forms: docstrings provided\n",
              "with the code, and a loose standing reference guide, available from\n",
              "`the NumPy homepage <https://numpy.org>`_.\n",
              "\n",
              "We recommend exploring the docstrings using\n",
              "`IPython <https://ipython.org>`_, an advanced Python shell with\n",
              "TAB-completion and introspection capabilities.  See below for further\n",
              "instructions.\n",
              "\n",
              "The docstring examples assume that `numpy` has been imported as ``np``::\n",
              "\n",
              "  >>> import numpy as np\n",
              "\n",
              "Code snippets are indicated by three greater-than signs::\n",
              "\n",
              "  >>> x = 42\n",
              "  >>> x = x + 1\n",
              "\n",
              "Use the built-in ``help`` function to view a function's docstring::\n",
              "\n",
              "  >>> help(np.sort)\n",
              "  ... # doctest: +SKIP\n",
              "\n",
              "For some objects, ``np.info(obj)`` may provide additional help.  This is\n",
              "particularly true if you see the line \"Help on ufunc object:\" at the top\n",
              "of the help() page.  Ufuncs are implemented in C, not Python, for speed.\n",
              "The native Python help() does not know how to view their help, but our\n",
              "np.info() function does.\n",
              "\n",
              "To search for documents containing a keyword, do::\n",
              "\n",
              "  >>> np.lookfor('keyword')\n",
              "  ... # doctest: +SKIP\n",
              "\n",
              "General-purpose documents like a glossary and help on the basic concepts\n",
              "of numpy are available under the ``doc`` sub-module::\n",
              "\n",
              "  >>> from numpy import doc\n",
              "  >>> help(doc)\n",
              "  ... # doctest: +SKIP\n",
              "\n",
              "Available subpackages\n",
              "---------------------\n",
              "lib\n",
              "    Basic functions used by several sub-packages.\n",
              "random\n",
              "    Core Random Tools\n",
              "linalg\n",
              "    Core Linear Algebra Tools\n",
              "fft\n",
              "    Core FFT routines\n",
              "polynomial\n",
              "    Polynomial tools\n",
              "testing\n",
              "    NumPy testing tools\n",
              "distutils\n",
              "    Enhancements to distutils with support for\n",
              "    Fortran compilers support and more  (for Python <= 3.11).\n",
              "\n",
              "Utilities\n",
              "---------\n",
              "test\n",
              "    Run numpy unittests\n",
              "show_config\n",
              "    Show numpy build configuration\n",
              "matlib\n",
              "    Make everything matrices.\n",
              "__version__\n",
              "    NumPy version string\n",
              "\n",
              "Viewing documentation using IPython\n",
              "-----------------------------------\n",
              "\n",
              "Start IPython and import `numpy` usually under the alias ``np``: `import\n",
              "numpy as np`.  Then, directly past or use the ``%cpaste`` magic to paste\n",
              "examples into the shell.  To see which functions are available in `numpy`,\n",
              "type ``np.<TAB>`` (where ``<TAB>`` refers to the TAB key), or use\n",
              "``np.*cos*?<ENTER>`` (where ``<ENTER>`` refers to the ENTER key) to narrow\n",
              "down the list.  To view the docstring for a function, use\n",
              "``np.cos?<ENTER>`` (to view the docstring) and ``np.cos??<ENTER>`` (to view\n",
              "the source code).\n",
              "\n",
              "Copies vs. in-place operation\n",
              "-----------------------------\n",
              "Most of the functions in `numpy` return a copy of the array argument\n",
              "(e.g., `np.sort`).  In-place versions of these functions are often\n",
              "available as array methods, i.e. ``x = np.array([1,2,3]); x.sort()``.\n",
              "Exceptions to this rule are documented."
            ]
          },
          "metadata": {},
          "output_type": "display_data"
        }
      ],
      "source": [
        "np?\n"
      ]
    },
    {
      "cell_type": "markdown",
      "metadata": {
        "id": "35XYPdaNtLXu"
      },
      "source": [
        "#### 6. Create a null vector of size 10 but the fifth value which is 1 (★☆☆)"
      ]
    },
    {
      "cell_type": "code",
      "execution_count": null,
      "metadata": {
        "id": "x90kEGprtLXv",
        "outputId": "cc86e0b6-5a55-49cb-f964-4808c8f9e24c"
      },
      "outputs": [
        {
          "name": "stdout",
          "output_type": "stream",
          "text": [
            "[0. 0. 0. 0. 1. 0. 0. 0. 0. 0.]\n"
          ]
        }
      ],
      "source": [
        "null_vector = np.zeros(10)\n",
        "null_vector[4] = 1\n",
        "\n",
        "print(null_vector)"
      ]
    },
    {
      "cell_type": "markdown",
      "metadata": {
        "id": "4Up7vg9rtLXw"
      },
      "source": [
        "#### 7. Create a vector with values ranging from 10 to 49 (★☆☆)"
      ]
    },
    {
      "cell_type": "code",
      "execution_count": null,
      "metadata": {
        "id": "W8RYQMm3tLXx",
        "outputId": "29a7eeeb-0506-4125-ef24-a09a1293b823"
      },
      "outputs": [
        {
          "name": "stdout",
          "output_type": "stream",
          "text": [
            "[10 11 12 13 14 15 16 17 18 19 20 21 22 23 24 25 26 27 28 29 30 31 32 33\n",
            " 34 35 36 37 38 39 40 41 42 43 44 45 46 47 48]\n"
          ]
        }
      ],
      "source": [
        "arr = np.arange(10, 49)\n",
        "print(arr)"
      ]
    },
    {
      "cell_type": "markdown",
      "metadata": {
        "id": "GWYXk9KBtLXy"
      },
      "source": [
        "#### 8. Reverse a vector (first element becomes last) (★☆☆)"
      ]
    },
    {
      "cell_type": "code",
      "execution_count": null,
      "metadata": {
        "id": "xyf_e_ODtLXz",
        "outputId": "db490750-e000-482d-96eb-97df3812fce1"
      },
      "outputs": [
        {
          "name": "stdout",
          "output_type": "stream",
          "text": [
            "[9 8 7 6 5 4 3 2 1 0]\n"
          ]
        }
      ],
      "source": [
        "reverse_vector = np.arange(10)\n",
        "print(np.flip(reverse_vector))"
      ]
    },
    {
      "cell_type": "markdown",
      "metadata": {
        "id": "jSn4B8UatLX0"
      },
      "source": [
        "#### 9. Create a 3x3 matrix with values ranging from 0 to 8 (★☆☆)"
      ]
    },
    {
      "cell_type": "code",
      "execution_count": null,
      "metadata": {
        "id": "kUSfPnoxtLX1",
        "outputId": "53e830aa-2f1b-4acd-ea05-4c5f81613846"
      },
      "outputs": [
        {
          "name": "stdout",
          "output_type": "stream",
          "text": [
            "[[3 4 1]\n",
            " [7 4 4]\n",
            " [1 4 0]]\n"
          ]
        }
      ],
      "source": [
        "arr = np.random.randint(0, 8, size =(3, 3))\n",
        "print(arr)\n"
      ]
    },
    {
      "cell_type": "code",
      "execution_count": null,
      "metadata": {
        "id": "sB2vKPBktLX2",
        "outputId": "52f0b2cb-39e7-4a66-963a-fcb1d7e7c38c"
      },
      "outputs": [
        {
          "name": "stdout",
          "output_type": "stream",
          "text": [
            "[[0 1 2]\n",
            " [3 4 5]\n",
            " [6 7 8]]\n"
          ]
        }
      ],
      "source": [
        "arr = np.arange(9).reshape(3, 3)\n",
        "print(arr)"
      ]
    },
    {
      "cell_type": "markdown",
      "metadata": {
        "id": "1WI0Oi16tLX3"
      },
      "source": [
        "#### 10. Find indices of non-zero elements from [1,2,0,0,4,0] (★☆☆)"
      ]
    },
    {
      "cell_type": "code",
      "execution_count": null,
      "metadata": {
        "id": "UWnSkkoMtLX4",
        "outputId": "129fad99-1de7-4037-b089-0895f606cd92"
      },
      "outputs": [
        {
          "name": "stdout",
          "output_type": "stream",
          "text": [
            "1\n",
            "2\n",
            "4\n"
          ]
        }
      ],
      "source": [
        "array = np.array([1, 2, 0, 0, 4, 0])\n",
        "for values in array:\n",
        "    if values != 0:\n",
        "        print(values)"
      ]
    },
    {
      "cell_type": "code",
      "execution_count": null,
      "metadata": {
        "id": "C26ySBQstLX5",
        "outputId": "315d2a08-ca96-456a-c36e-794e83018262"
      },
      "outputs": [
        {
          "name": "stdout",
          "output_type": "stream",
          "text": [
            "(array([0, 1, 4], dtype=int64),)\n"
          ]
        }
      ],
      "source": [
        "array = np.array([1, 2, 0, 0, 4, 0])\n",
        "print(np.nonzero(array))"
      ]
    },
    {
      "cell_type": "markdown",
      "metadata": {
        "id": "_yQgECqOtLX6"
      },
      "source": [
        "#### 11. Create a 3x3 identity matrix (★☆☆)"
      ]
    },
    {
      "cell_type": "code",
      "execution_count": null,
      "metadata": {
        "id": "rMNdN-qjtLX6",
        "outputId": "16679906-2c7a-434f-fe0d-4009018627ff"
      },
      "outputs": [
        {
          "name": "stdout",
          "output_type": "stream",
          "text": [
            "[[1. 0. 0.]\n",
            " [0. 1. 0.]\n",
            " [0. 0. 1.]]\n"
          ]
        }
      ],
      "source": [
        "identity = np.eye(3)\n",
        "print(identity)"
      ]
    },
    {
      "cell_type": "markdown",
      "metadata": {
        "id": "ys3HlG8MtLX7"
      },
      "source": [
        "#### 12. Create a 3x3x3 array with random values (★☆☆)"
      ]
    },
    {
      "cell_type": "code",
      "execution_count": null,
      "metadata": {
        "id": "Eg2VT1O3tLX8",
        "outputId": "25eb0778-6259-4696-8b6d-15d84dd709c6"
      },
      "outputs": [
        {
          "name": "stdout",
          "output_type": "stream",
          "text": [
            "[[[0.85764996 0.65269463 0.42374344]\n",
            "  [0.31628049 0.24505689 0.62495274]\n",
            "  [0.26561893 0.48685334 0.36058411]]\n",
            "\n",
            " [[0.94153548 0.5541206  0.25971294]\n",
            "  [0.0703755  0.0948277  0.91923986]\n",
            "  [0.64643032 0.95980432 0.95747699]]\n",
            "\n",
            " [[0.30937954 0.62688522 0.94933082]\n",
            "  [0.48626352 0.36359802 0.28088976]\n",
            "  [0.22544734 0.89042603 0.57271917]]]\n"
          ]
        }
      ],
      "source": [
        "arr = np.random.random((3, 3, 3))\n",
        "print(arr)"
      ]
    },
    {
      "cell_type": "markdown",
      "metadata": {
        "id": "qtKuJuO-tLX9"
      },
      "source": [
        "#### 13. Create a 10x10 array with random values and find the minimum and maximum values (★☆☆)"
      ]
    },
    {
      "cell_type": "code",
      "execution_count": null,
      "metadata": {
        "id": "7b-6sB5RtLX9",
        "outputId": "d479033b-96d8-4227-955d-574af9c4a91f"
      },
      "outputs": [
        {
          "name": "stdout",
          "output_type": "stream",
          "text": [
            "[[0.72556547 0.55158511 0.80811182 0.19174746 0.82937284 0.29868988\n",
            "  0.12837183 0.22312756 0.08108382 0.56608092]\n",
            " [0.00156924 0.27966489 0.14620428 0.10523479 0.45199155 0.6365388\n",
            "  0.76979649 0.37078743 0.79405218 0.57113207]\n",
            " [0.39102823 0.09234568 0.59612174 0.46089974 0.12373922 0.32807231\n",
            "  0.30498245 0.59480644 0.76707797 0.4593209 ]\n",
            " [0.56524246 0.62657626 0.59441015 0.15845138 0.50192188 0.55916993\n",
            "  0.12346657 0.59524819 0.052827   0.12262107]\n",
            " [0.92686991 0.79921614 0.17037799 0.20062021 0.58711892 0.78678183\n",
            "  0.56707842 0.76885461 0.49789606 0.32375192]\n",
            " [0.46201139 0.00791024 0.1379815  0.03492485 0.206583   0.31589141\n",
            "  0.53937179 0.40171457 0.50127379 0.33978888]\n",
            " [0.94085852 0.64316898 0.11739248 0.32415533 0.81773299 0.79433006\n",
            "  0.68602479 0.78592716 0.70972528 0.36368153]\n",
            " [0.39236153 0.60170577 0.02808753 0.92307017 0.11155339 0.69968767\n",
            "  0.05059109 0.17776676 0.27617045 0.41481634]\n",
            " [0.95610434 0.01784456 0.02678098 0.48294978 0.01642582 0.39063953\n",
            "  0.1045391  0.16215955 0.951761   0.96244062]\n",
            " [0.41641202 0.10702824 0.52370073 0.50561474 0.50532575 0.65355804\n",
            "  0.86218296 0.80111793 0.40757509 0.93335852]]\n"
          ]
        }
      ],
      "source": [
        "arr = np.random.random((10, 10))\n",
        "print(arr)"
      ]
    },
    {
      "cell_type": "code",
      "execution_count": null,
      "metadata": {
        "id": "HzkZlpI2tLX-",
        "outputId": "7eb19c2b-9e8f-47f6-993e-81cded70fa9c"
      },
      "outputs": [
        {
          "data": {
            "text/plain": [
              "0.9624406217568627"
            ]
          },
          "execution_count": 12,
          "metadata": {},
          "output_type": "execute_result"
        }
      ],
      "source": [
        "arr.max()"
      ]
    },
    {
      "cell_type": "code",
      "execution_count": null,
      "metadata": {
        "id": "TGH6OkbotLX_",
        "outputId": "251c5879-a64d-4725-d665-69d30e80e0fc"
      },
      "outputs": [
        {
          "data": {
            "text/plain": [
              "0.0015692361778920638"
            ]
          },
          "execution_count": 13,
          "metadata": {},
          "output_type": "execute_result"
        }
      ],
      "source": [
        "arr.min()"
      ]
    },
    {
      "cell_type": "markdown",
      "metadata": {
        "id": "22bQMP1_tLYA"
      },
      "source": [
        "#### 14. Create a random vector of size 30 and find the mean value (★☆☆)"
      ]
    },
    {
      "cell_type": "code",
      "execution_count": null,
      "metadata": {
        "collapsed": true,
        "jupyter": {
          "outputs_hidden": true
        },
        "id": "ybOLL80stLYB",
        "outputId": "18eb96a0-a7ca-4e55-d689-7c5d87498116"
      },
      "outputs": [
        {
          "name": "stdout",
          "output_type": "stream",
          "text": [
            "[[0.51572881 0.11960298 0.42354551 0.61042644 0.50653679 0.98687758\n",
            "  0.4795675  0.78292092 0.10506879 0.11234317 0.96824264 0.2859835\n",
            "  0.48754079 0.29473792 0.81364751 0.8442513  0.74914635 0.61243712\n",
            "  0.77776215 0.81248016 0.28400215 0.37907939 0.94788233 0.77837525\n",
            "  0.05064853 0.0850512  0.90651604 0.79283948 0.41897439 0.61088739]\n",
            " [0.89739514 0.4145821  0.44289095 0.34097242 0.37742966 0.17965618\n",
            "  0.80744487 0.99870835 0.78379901 0.35396504 0.14395369 0.9469971\n",
            "  0.87183738 0.43579013 0.74802668 0.36320603 0.29933483 0.9724037\n",
            "  0.40157597 0.84344211 0.40545107 0.83970713 0.01939568 0.37651461\n",
            "  0.21275996 0.3033107  0.09352746 0.5581993  0.51608548 0.60720477]\n",
            " [0.6902634  0.80000248 0.00835783 0.17306772 0.77974217 0.82988533\n",
            "  0.22320028 0.40087714 0.6865498  0.80850505 0.53255381 0.13251937\n",
            "  0.7011171  0.8162485  0.01755847 0.88846142 0.28174055 0.39434145\n",
            "  0.43145106 0.06419163 0.76509059 0.87110349 0.98571268 0.91957702\n",
            "  0.75852252 0.75881912 0.7526867  0.65697652 0.23880251 0.86990203]\n",
            " [0.65855011 0.15034369 0.00719076 0.36022499 0.90137986 0.6845529\n",
            "  0.00140529 0.50535072 0.51811989 0.60545885 0.80023599 0.23622893\n",
            "  0.36650373 0.92900235 0.62225504 0.50269454 0.57919221 0.99122012\n",
            "  0.73487024 0.56179811 0.97571978 0.60322135 0.6879171  0.72668307\n",
            "  0.61666529 0.09495425 0.39400034 0.94881516 0.79228134 0.18701403]\n",
            " [0.31826405 0.60888951 0.05442613 0.22445037 0.18578575 0.06358252\n",
            "  0.25638344 0.72147688 0.36713776 0.26062728 0.88469282 0.97319318\n",
            "  0.26560877 0.80830935 0.65069639 0.11065233 0.97971961 0.49656616\n",
            "  0.27865056 0.19743018 0.80874742 0.01145243 0.05238505 0.26999926\n",
            "  0.64791131 0.92491433 0.1088637  0.32812373 0.70907828 0.4808913 ]\n",
            " [0.00504107 0.48267326 0.76241386 0.68783078 0.9278059  0.58826653\n",
            "  0.15484928 0.9650031  0.82926283 0.43086815 0.18997059 0.74285047\n",
            "  0.35289853 0.26050499 0.25125107 0.5566741  0.44498242 0.67308124\n",
            "  0.58780607 0.87021185 0.78958504 0.63152441 0.00489288 0.4123368\n",
            "  0.2916039  0.51384407 0.56060655 0.67892997 0.66748233 0.75338764]\n",
            " [0.87961801 0.44698625 0.47542721 0.36759485 0.72847131 0.11451678\n",
            "  0.9020085  0.96221061 0.64131786 0.86414673 0.2260475  0.10646366\n",
            "  0.95341489 0.13089396 0.07427312 0.5990231  0.94441143 0.44629364\n",
            "  0.7264996  0.47355266 0.55308964 0.77596492 0.82444698 0.30947468\n",
            "  0.45849028 0.13566543 0.95870129 0.90450552 0.39250289 0.01396569]\n",
            " [0.60746968 0.37227545 0.99869459 0.31147324 0.01757984 0.81422816\n",
            "  0.58768558 0.62515207 0.50885032 0.28489435 0.49061296 0.81569204\n",
            "  0.29192746 0.74238651 0.21382301 0.90377023 0.14632122 0.02874835\n",
            "  0.303192   0.73327542 0.19056385 0.26757223 0.70685944 0.83918686\n",
            "  0.67478398 0.02874225 0.83146968 0.9868639  0.70895282 0.92007995]\n",
            " [0.02173093 0.23613616 0.96742997 0.29528302 0.36241508 0.73516424\n",
            "  0.68207708 0.50639504 0.8459267  0.99357918 0.35407955 0.84693703\n",
            "  0.69542162 0.05171239 0.26092536 0.55600359 0.39610485 0.93646676\n",
            "  0.13252429 0.57298109 0.5505206  0.04176594 0.78052052 0.42462007\n",
            "  0.45590897 0.20120792 0.72321532 0.38115111 0.46975236 0.14042837]\n",
            " [0.97710942 0.78166772 0.22233121 0.70045683 0.913355   0.92402739\n",
            "  0.50736863 0.60104909 0.52794008 0.8983505  0.12583809 0.43813744\n",
            "  0.68921577 0.15864106 0.05892937 0.1671399  0.29870013 0.86529027\n",
            "  0.87439676 0.62319211 0.75265682 0.67578185 0.84681024 0.5714534\n",
            "  0.14080778 0.21907245 0.84383762 0.20339507 0.2198288  0.4899321 ]\n",
            " [0.75992831 0.4069305  0.1745203  0.28912702 0.4842538  0.50802307\n",
            "  0.24453638 0.15823856 0.35494161 0.80863669 0.57616839 0.03462337\n",
            "  0.02530708 0.93118225 0.81348865 0.62686519 0.58275291 0.75145115\n",
            "  0.98273818 0.13031114 0.53185822 0.96695068 0.72449485 0.48470988\n",
            "  0.50322076 0.34130442 0.04278036 0.80822247 0.24677358 0.75809558]\n",
            " [0.27090177 0.5770844  0.87570105 0.52080001 0.20602701 0.94341306\n",
            "  0.329991   0.64102653 0.79613075 0.89147689 0.4011015  0.44262131\n",
            "  0.56397292 0.83093034 0.23749982 0.66220055 0.97086693 0.64915929\n",
            "  0.87797165 0.56547957 0.15610874 0.29063878 0.77110084 0.36023652\n",
            "  0.1924904  0.34911589 0.70962859 0.96559631 0.49369771 0.49768766]\n",
            " [0.49519038 0.51489111 0.30856645 0.77285741 0.68183105 0.18818635\n",
            "  0.46224825 0.64124408 0.63670514 0.25487429 0.35276004 0.58318797\n",
            "  0.98794183 0.67034834 0.96390438 0.02923042 0.06081474 0.44452097\n",
            "  0.28205247 0.40449003 0.99118504 0.50227007 0.63337047 0.06421869\n",
            "  0.66600034 0.14330703 0.18936123 0.16919004 0.35719316 0.70231677]\n",
            " [0.72072674 0.89020078 0.48544842 0.49489171 0.85863621 0.98741773\n",
            "  0.77923182 0.33761323 0.3059895  0.30523573 0.47859144 0.99197231\n",
            "  0.22947489 0.32496511 0.37174275 0.79016972 0.25228358 0.4659083\n",
            "  0.73990034 0.66591924 0.63169825 0.78771082 0.26733234 0.98090554\n",
            "  0.78021873 0.94581761 0.96567757 0.24882838 0.75070662 0.74613155]\n",
            " [0.79496122 0.90285498 0.79454722 0.12849456 0.16595471 0.82072573\n",
            "  0.86894773 0.9541058  0.53772941 0.88550985 0.72349354 0.01056166\n",
            "  0.76512382 0.29727357 0.61685919 0.46928994 0.52365289 0.61136623\n",
            "  0.17801832 0.34370595 0.21641991 0.87375127 0.33915818 0.92999848\n",
            "  0.88234123 0.52711968 0.61673669 0.2221696  0.79975771 0.33413321]\n",
            " [0.63613925 0.78209859 0.37360014 0.39618147 0.47900397 0.82940708\n",
            "  0.09212363 0.70109663 0.33213017 0.43277022 0.57514904 0.09094913\n",
            "  0.72481546 0.97159272 0.18460762 0.98487364 0.77119742 0.77368155\n",
            "  0.47190208 0.51469756 0.86014279 0.5651225  0.02304974 0.62143687\n",
            "  0.77268696 0.78066001 0.84511703 0.25785361 0.32622688 0.175325  ]\n",
            " [0.82100505 0.97542275 0.25736301 0.95973634 0.16392226 0.91430554\n",
            "  0.03907298 0.12930196 0.3306323  0.56390899 0.69473888 0.22183986\n",
            "  0.1102833  0.3400348  0.06078358 0.16381154 0.0347695  0.25738982\n",
            "  0.98214067 0.55419559 0.12615416 0.5635415  0.82915099 0.66499158\n",
            "  0.53021103 0.77466035 0.5495534  0.11112989 0.37962609 0.23841809]\n",
            " [0.70059664 0.34492952 0.64546099 0.75075913 0.30756706 0.09905766\n",
            "  0.54553379 0.81824849 0.11752859 0.97243164 0.91477742 0.93316726\n",
            "  0.22751378 0.65442196 0.27357863 0.92606768 0.20397701 0.69850856\n",
            "  0.03962713 0.01952068 0.88020406 0.77863532 0.07193221 0.48599174\n",
            "  0.98802229 0.71784474 0.3444165  0.90912631 0.98220671 0.81711992]\n",
            " [0.99857085 0.2417537  0.48340463 0.75625181 0.0358517  0.3112685\n",
            "  0.57135225 0.29895533 0.09494444 0.33042713 0.52594417 0.23215852\n",
            "  0.93625451 0.34504331 0.47606389 0.97051284 0.38751864 0.48878643\n",
            "  0.18602273 0.3930855  0.15268997 0.71776286 0.16029571 0.97889511\n",
            "  0.55427131 0.43424526 0.74975976 0.18016696 0.93808104 0.92347116]\n",
            " [0.71464527 0.69981658 0.11923607 0.06553481 0.44971792 0.63771443\n",
            "  0.05584604 0.38995527 0.80374605 0.02176099 0.9136419  0.93431327\n",
            "  0.43664602 0.89656221 0.81860639 0.62058503 0.76771772 0.8618693\n",
            "  0.08482418 0.98265675 0.26962721 0.83501339 0.83506787 0.33952554\n",
            "  0.81849019 0.07221518 0.12603413 0.93530865 0.22830272 0.92984976]\n",
            " [0.80827502 0.60744763 0.28448003 0.95201851 0.96408481 0.0860579\n",
            "  0.29004318 0.89875674 0.60503353 0.47092507 0.94106793 0.11800465\n",
            "  0.95295176 0.54420735 0.75620547 0.00946532 0.72673844 0.26454506\n",
            "  0.90139735 0.94171502 0.01152316 0.35202197 0.83997656 0.48168489\n",
            "  0.96684941 0.80282465 0.2446907  0.50074169 0.76051554 0.13507719]\n",
            " [0.46713642 0.35222176 0.46658776 0.21733596 0.20715773 0.64217475\n",
            "  0.82640956 0.86089304 0.81867755 0.0673244  0.03086727 0.58291173\n",
            "  0.09843516 0.76155428 0.69220404 0.65688088 0.45005227 0.28126825\n",
            "  0.27116572 0.40107437 0.23142058 0.34378392 0.56057368 0.18069958\n",
            "  0.74242834 0.67564378 0.18718856 0.85228808 0.62055111 0.13894257]\n",
            " [0.98605192 0.0607119  0.94573666 0.75140035 0.92654696 0.43353633\n",
            "  0.49745392 0.91521864 0.15521699 0.33038098 0.35403179 0.99575399\n",
            "  0.77481052 0.68997242 0.92550222 0.90801922 0.82550017 0.50099268\n",
            "  0.64612433 0.11195097 0.15284281 0.43831274 0.97563101 0.59238875\n",
            "  0.97140426 0.84854407 0.70610251 0.97707597 0.53415762 0.71692517]\n",
            " [0.24974984 0.44160991 0.91717489 0.03892603 0.64923613 0.26341716\n",
            "  0.92479746 0.4290813  0.10703875 0.9518494  0.11974656 0.74820912\n",
            "  0.71280511 0.3351064  0.40663703 0.84917948 0.07577291 0.48231342\n",
            "  0.14030874 0.96796741 0.98770513 0.59428785 0.71878074 0.0340885\n",
            "  0.02742796 0.63643628 0.78179478 0.18755645 0.48319432 0.00706156]\n",
            " [0.96591734 0.81781838 0.75469123 0.06732547 0.9676582  0.90407223\n",
            "  0.65884179 0.86413762 0.36808583 0.06260272 0.96237675 0.79043151\n",
            "  0.77674763 0.56852329 0.10084014 0.53471563 0.72095367 0.77570253\n",
            "  0.87633645 0.49440877 0.78990912 0.70617226 0.50318806 0.71479701\n",
            "  0.06211995 0.41002526 0.59313086 0.01576711 0.58294879 0.62003637]\n",
            " [0.83885693 0.49979176 0.75852725 0.52609084 0.94939663 0.64394078\n",
            "  0.25090098 0.47695515 0.44027567 0.93410447 0.70432128 0.98606088\n",
            "  0.10454825 0.65984094 0.06089913 0.20713148 0.62658905 0.21011479\n",
            "  0.9267535  0.46284304 0.74970336 0.24207729 0.27257819 0.44261578\n",
            "  0.09896997 0.19901175 0.83958473 0.5396451  0.07470089 0.28311985]\n",
            " [0.5048065  0.77995848 0.44623523 0.32440368 0.02351821 0.86373476\n",
            "  0.52397491 0.08391372 0.12627697 0.70126875 0.2650445  0.4312261\n",
            "  0.89979343 0.58890573 0.42340897 0.39555745 0.31233308 0.53922434\n",
            "  0.76332347 0.16998553 0.60466572 0.7211997  0.97209702 0.28203294\n",
            "  0.15584378 0.36700161 0.5095289  0.82774167 0.67146419 0.63289915]\n",
            " [0.2668939  0.40910482 0.29468146 0.80193204 0.99189598 0.05203925\n",
            "  0.22298119 0.00992116 0.30155017 0.30001521 0.98848462 0.73443945\n",
            "  0.8051595  0.01565253 0.53260532 0.47543163 0.31827083 0.88923093\n",
            "  0.90534398 0.2272367  0.08953052 0.44805088 0.38770148 0.4243172\n",
            "  0.34633064 0.99341583 0.28187824 0.02852476 0.88492415 0.05378596]\n",
            " [0.9693647  0.76496378 0.48816537 0.0685247  0.56477822 0.11760236\n",
            "  0.93350095 0.28253531 0.07986477 0.80039951 0.76054499 0.05612884\n",
            "  0.83851371 0.90812708 0.41571195 0.82736309 0.2073559  0.38430779\n",
            "  0.93122338 0.53323296 0.23402882 0.35355591 0.34931899 0.514837\n",
            "  0.27452979 0.28087051 0.11439516 0.77604472 0.30120674 0.53295547]\n",
            " [0.48002005 0.9269022  0.98088853 0.49177715 0.63262799 0.3240636\n",
            "  0.17129312 0.44093906 0.070629   0.36511933 0.2909368  0.02688572\n",
            "  0.5636231  0.61877848 0.15407531 0.48818276 0.65255701 0.28542753\n",
            "  0.83944237 0.19252803 0.34792259 0.65368411 0.38035537 0.01786455\n",
            "  0.26844303 0.09052483 0.80899418 0.4153424  0.0585039  0.99474906]]\n"
          ]
        }
      ],
      "source": [
        "arr = np.random.random(30)\n",
        "print(arr)"
      ]
    },
    {
      "cell_type": "code",
      "execution_count": null,
      "metadata": {
        "id": "AR4rh0QvtLYD",
        "outputId": "1fbd00f8-f057-4b80-da85-17074e9e26d4"
      },
      "outputs": [
        {
          "data": {
            "text/plain": [
              "0.5315937639586593"
            ]
          },
          "execution_count": 48,
          "metadata": {},
          "output_type": "execute_result"
        }
      ],
      "source": [
        "arr.mean()"
      ]
    },
    {
      "cell_type": "markdown",
      "metadata": {
        "id": "dsjajtg1tLYE"
      },
      "source": [
        "#### 15. Create a 2d array with 1 on the border and 0 inside (★☆☆)"
      ]
    },
    {
      "cell_type": "code",
      "execution_count": null,
      "metadata": {
        "id": "TlRnISdYtLYE",
        "outputId": "19fb56b3-f17e-4e1d-f84b-870221bf3c58"
      },
      "outputs": [
        {
          "name": "stdout",
          "output_type": "stream",
          "text": [
            "[[1 0 1]\n",
            " [1 0 1]\n",
            " [1 0 1]]\n"
          ]
        }
      ],
      "source": [
        "values = [\n",
        "    [1, 0, 1],\n",
        "    [1, 0, 1],\n",
        "    [1, 0, 1],\n",
        "]\n",
        "matrix = np.array(values)\n",
        "print(matrix)"
      ]
    },
    {
      "cell_type": "code",
      "execution_count": null,
      "metadata": {
        "id": "7TEoUqA1tLYG"
      },
      "outputs": [],
      "source": []
    }
  ],
  "metadata": {
    "kernelspec": {
      "display_name": "Python 3 (ipykernel)",
      "language": "python",
      "name": "python3"
    },
    "language_info": {
      "codemirror_mode": {
        "name": "ipython",
        "version": 3
      },
      "file_extension": ".py",
      "mimetype": "text/x-python",
      "name": "python",
      "nbconvert_exporter": "python",
      "pygments_lexer": "ipython3",
      "version": "3.11.7"
    },
    "colab": {
      "provenance": [],
      "include_colab_link": true
    }
  },
  "nbformat": 4,
  "nbformat_minor": 0
}