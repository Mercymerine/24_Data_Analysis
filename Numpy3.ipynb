{
  "cells": [
    {
      "cell_type": "markdown",
      "metadata": {
        "id": "view-in-github",
        "colab_type": "text"
      },
      "source": [
        "<a href=\"https://colab.research.google.com/github/Mercymerine/24_Data_Analysis/blob/main/Numpy3.ipynb\" target=\"_parent\"><img src=\"https://colab.research.google.com/assets/colab-badge.svg\" alt=\"Open In Colab\"/></a>"
      ]
    },
    {
      "cell_type": "markdown",
      "metadata": {
        "id": "Nr-4CYyByEzr"
      },
      "source": [
        "# Numpy Exercise 3\n",
        "\n",
        "### All of the questions in this exercise are attributed to rougier/numpy-100"
      ]
    },
    {
      "cell_type": "code",
      "execution_count": 3,
      "metadata": {
        "id": "9i6vrS8UyEzx"
      },
      "outputs": [],
      "source": [
        "import numpy as np"
      ]
    },
    {
      "cell_type": "markdown",
      "metadata": {
        "id": "N674BCpxyEzz"
      },
      "source": [
        "#### 31. How to ignore all numpy warnings (not recommended)? (★☆☆)"
      ]
    },
    {
      "cell_type": "code",
      "execution_count": 4,
      "metadata": {
        "colab": {
          "base_uri": "https://localhost:8080/"
        },
        "id": "5MtLWA1TyEz0",
        "outputId": "5f0082be-6fce-4afb-fc9d-7e6a351a406a"
      },
      "outputs": [
        {
          "output_type": "execute_result",
          "data": {
            "text/plain": [
              "{'divide': 'warn', 'over': 'warn', 'under': 'ignore', 'invalid': 'warn'}"
            ]
          },
          "metadata": {},
          "execution_count": 4
        }
      ],
      "source": [
        "np.seterr(all='ignore')"
      ]
    },
    {
      "cell_type": "code",
      "source": [
        "arr = np.array([1, 2, 3])\n",
        "result = arr/0\n",
        "print(result)"
      ],
      "metadata": {
        "colab": {
          "base_uri": "https://localhost:8080/"
        },
        "id": "wa03sitwyyHI",
        "outputId": "81fb1e86-3948-4607-fc9d-b806714b59ec"
      },
      "execution_count": 5,
      "outputs": [
        {
          "output_type": "stream",
          "name": "stdout",
          "text": [
            "[inf inf inf]\n"
          ]
        }
      ]
    },
    {
      "cell_type": "markdown",
      "metadata": {
        "id": "3eRnsWPTyEz1"
      },
      "source": [
        "#### 32. Is the following expressions true? (★☆☆)\n",
        "```python\n",
        "np.sqrt(-1) == np.emath.sqrt(-1)\n",
        "```"
      ]
    },
    {
      "cell_type": "code",
      "execution_count": null,
      "metadata": {
        "id": "ra0NHcI5yEz2",
        "outputId": "4b0affbe-2461-48e6-da2c-c1dd596b1bc7"
      },
      "outputs": [
        {
          "name": "stdout",
          "output_type": "stream",
          "text": [
            "False\n"
          ]
        },
        {
          "name": "stderr",
          "output_type": "stream",
          "text": [
            "C:\\Users\\Mercy Atiz\\AppData\\Local\\Temp\\ipykernel_6388\\2770867030.py:1: RuntimeWarning: invalid value encountered in sqrt\n",
            "  print(np.sqrt(-1) == np.emath.sqrt(-1))\n"
          ]
        }
      ],
      "source": [
        "print(np.sqrt(-1) == np.emath.sqrt(-1))"
      ]
    },
    {
      "cell_type": "markdown",
      "metadata": {
        "id": "rSGxLRVgyEz2"
      },
      "source": [
        "#### 33. How to get the dates of yesterday, today and tomorrow? (★☆☆)"
      ]
    },
    {
      "cell_type": "code",
      "execution_count": null,
      "metadata": {
        "id": "3mrkCSmAyEz2"
      },
      "outputs": [],
      "source": [
        "from datetime import datetime, timedelta"
      ]
    },
    {
      "cell_type": "code",
      "execution_count": null,
      "metadata": {
        "id": "5atONc1OyEz3",
        "outputId": "175c571e-a35b-4e98-cb37-9e070c996580"
      },
      "outputs": [
        {
          "name": "stdout",
          "output_type": "stream",
          "text": [
            "2024-04-26\n"
          ]
        }
      ],
      "source": [
        "today = datetime.now().date()\n",
        "print(today)"
      ]
    },
    {
      "cell_type": "code",
      "execution_count": null,
      "metadata": {
        "id": "gESdtfzSyEz3",
        "outputId": "0186f235-7104-45c3-c542-591888dfb51f"
      },
      "outputs": [
        {
          "name": "stdout",
          "output_type": "stream",
          "text": [
            "2024-04-25\n"
          ]
        }
      ],
      "source": [
        "yesterday = today - timedelta(days=1)\n",
        "print(yesterday)"
      ]
    },
    {
      "cell_type": "code",
      "execution_count": null,
      "metadata": {
        "id": "XWAnpQgYyEz4",
        "outputId": "c2b293d9-ce42-412f-ed64-ccef736c7c11"
      },
      "outputs": [
        {
          "name": "stdout",
          "output_type": "stream",
          "text": [
            "2024-04-27\n"
          ]
        }
      ],
      "source": [
        "tomorrow = today + timedelta(days=1)\n",
        "print(tomorrow)"
      ]
    },
    {
      "cell_type": "markdown",
      "metadata": {
        "id": "OsDfjXNJyEz4"
      },
      "source": [
        "#### 34. How to get all the dates corresponding to the month of July 2016? (★★☆)"
      ]
    },
    {
      "cell_type": "code",
      "execution_count": null,
      "metadata": {
        "id": "0cSto9O5yEz4",
        "outputId": "ed28f344-58ba-45f3-c06b-b3f35046d0a8"
      },
      "outputs": [
        {
          "name": "stdout",
          "output_type": "stream",
          "text": [
            "     July 2016\n",
            "Mo Tu We Th Fr Sa Su\n",
            "             1  2  3\n",
            " 4  5  6  7  8  9 10\n",
            "11 12 13 14 15 16 17\n",
            "18 19 20 21 22 23 24\n",
            "25 26 27 28 29 30 31\n",
            "\n"
          ]
        }
      ],
      "source": [
        "import calendar\n",
        "\n",
        "july_dates = calendar.month(2016, 7)\n",
        "print(july_dates)"
      ]
    },
    {
      "cell_type": "markdown",
      "metadata": {
        "id": "LRIO9bHwyEz5"
      },
      "source": [
        "#### 35. How to compute ((A+B)*(-A/2)) in place (without copy)? (★★☆)"
      ]
    },
    {
      "cell_type": "code",
      "execution_count": null,
      "metadata": {
        "id": "KjxEuI_MyEz5",
        "outputId": "03fb70d0-5624-4f02-9503-9867faade480"
      },
      "outputs": [
        {
          "name": "stdout",
          "output_type": "stream",
          "text": [
            "[ 6  8 10 12]\n",
            "[-1 -2 -3 -4]\n",
            "[-0.5 -1.  -1.5 -2. ]\n",
            "[ -3.  -8. -15. -24.]\n"
          ]
        }
      ],
      "source": [
        "A = np.array([1, 2, 3, 4])\n",
        "B = np.array([5, 6, 7, 8])\n",
        "\n",
        "#Computing (A + B)\n",
        "F = (A + B)\n",
        "print(F)\n",
        "\n",
        "#Compute (-A/2)\n",
        "C = (A * -1)\n",
        "print(C)\n",
        "D = (C/2)\n",
        "print(D)\n",
        "\n",
        "# Compute ((A+B)*(-A/2))\n",
        "E = (F * D)\n",
        "print(E)"
      ]
    },
    {
      "cell_type": "markdown",
      "metadata": {
        "id": "AvnGBZeTyEz5"
      },
      "source": [
        "#### 36. Extract the integer part of a random array of positive numbers using 4 different methods (★★☆)"
      ]
    },
    {
      "cell_type": "code",
      "execution_count": 20,
      "metadata": {
        "id": "idnmz1bUyEz6"
      },
      "outputs": [],
      "source": []
    },
    {
      "cell_type": "markdown",
      "metadata": {
        "id": "yL0ch7BLyEz6"
      },
      "source": [
        "#### 37. Create a 5x5 matrix with row values ranging from 0 to 4 (★★☆)"
      ]
    },
    {
      "cell_type": "code",
      "execution_count": null,
      "metadata": {
        "id": "ZlLV__fYyEz6",
        "outputId": "de500c48-5f09-42eb-fe9f-de84612f1ea3"
      },
      "outputs": [
        {
          "name": "stdout",
          "output_type": "stream",
          "text": [
            "[[3 1 3 2 3]\n",
            " [3 3 0 0 0]\n",
            " [3 3 1 1 2]\n",
            " [3 3 3 1 0]\n",
            " [3 3 2 1 3]]\n"
          ]
        }
      ],
      "source": [
        "array = np.random.randint(0, 4, size = (5, 5))\n",
        "print(array)"
      ]
    },
    {
      "cell_type": "markdown",
      "metadata": {
        "id": "iVOPFXwXyEz6"
      },
      "source": [
        "#### 38. Consider a generator function that generates 10 integers and use it to build an array (★☆☆)"
      ]
    },
    {
      "cell_type": "code",
      "execution_count": 17,
      "metadata": {
        "id": "SAPLdNV8yEz6"
      },
      "outputs": [],
      "source": [
        "def generator():\n",
        "    array = []\n",
        "    for values in range(10):\n",
        "        array.append(values)\n",
        "        print(array)\n",
        "\n",
        ""
      ]
    },
    {
      "cell_type": "code",
      "execution_count": 18,
      "metadata": {
        "colab": {
          "base_uri": "https://localhost:8080/"
        },
        "id": "gQVTUzcJyEz6",
        "outputId": "ed35b6f4-106a-44ee-cee0-5ebc49ea8f02"
      },
      "outputs": [
        {
          "output_type": "stream",
          "name": "stdout",
          "text": [
            "[0]\n",
            "[0, 1]\n",
            "[0, 1, 2]\n",
            "[0, 1, 2, 3]\n",
            "[0, 1, 2, 3, 4]\n",
            "[0, 1, 2, 3, 4, 5]\n",
            "[0, 1, 2, 3, 4, 5, 6]\n",
            "[0, 1, 2, 3, 4, 5, 6, 7]\n",
            "[0, 1, 2, 3, 4, 5, 6, 7, 8]\n",
            "[0, 1, 2, 3, 4, 5, 6, 7, 8, 9]\n",
            "None\n"
          ]
        }
      ],
      "source": [
        "print(generator())"
      ]
    },
    {
      "cell_type": "markdown",
      "metadata": {
        "id": "E6QNtPb1yEz7"
      },
      "source": [
        "#### 39. Create a vector of size 10 with values ranging from 0 to 1, both excluded (★★☆)"
      ]
    },
    {
      "cell_type": "code",
      "execution_count": null,
      "metadata": {
        "id": "DrFuDAQqyEz7",
        "outputId": "6b6451cb-569f-4d78-931c-ac76b4626c60"
      },
      "outputs": [
        {
          "name": "stdout",
          "output_type": "stream",
          "text": [
            "[0.58436904 0.24307667 0.27022333 0.40426786 0.4542821  0.87706384\n",
            " 0.54751195 0.83465694 0.28805778 0.03030053]\n"
          ]
        }
      ],
      "source": [
        "array =  np.random.random(10)\n",
        "print(array)"
      ]
    },
    {
      "cell_type": "markdown",
      "metadata": {
        "id": "Fx0jXttwyEz7"
      },
      "source": [
        "#### 40. Create a random vector of size 10 and sort it (★★☆)"
      ]
    },
    {
      "cell_type": "code",
      "execution_count": null,
      "metadata": {
        "id": "baRc9B5YyEz7",
        "outputId": "39752830-7556-4a88-e7aa-520845297a1b"
      },
      "outputs": [
        {
          "name": "stdout",
          "output_type": "stream",
          "text": [
            "[57 59 62 64 66 66 69 72 73 75]\n"
          ]
        }
      ],
      "source": [
        "vector = np.random.randint(56, 79, 10)\n",
        "print(np.sort(vector))"
      ]
    },
    {
      "cell_type": "markdown",
      "metadata": {
        "id": "PeTHy8fjyEz7"
      },
      "source": [
        "#### 41. How to sum a small array faster than np.sum? (★★☆)"
      ]
    },
    {
      "cell_type": "code",
      "execution_count": null,
      "metadata": {
        "id": "EVZtmMEsyEz7",
        "outputId": "4555fde9-0462-417a-c309-eaf3d67c94b4"
      },
      "outputs": [
        {
          "name": "stdout",
          "output_type": "stream",
          "text": [
            "55\n"
          ]
        }
      ],
      "source": [
        "array = [1, 2, 3, 4, 5, 6, 7, 8, 9, 10]\n",
        "print(sum(array))"
      ]
    },
    {
      "cell_type": "markdown",
      "metadata": {
        "id": "dazUm5rpyEz8"
      },
      "source": [
        "#### 42. Consider two random array A and B, check if they are equal (★★☆)"
      ]
    },
    {
      "cell_type": "code",
      "execution_count": null,
      "metadata": {
        "id": "Mfedgv0GyEz8",
        "outputId": "ae08156e-ed71-4b6b-f239-7ad42b2d46d7"
      },
      "outputs": [
        {
          "name": "stdout",
          "output_type": "stream",
          "text": [
            "[ True  True False False False]\n"
          ]
        }
      ],
      "source": [
        "aA = np.random.randint(0, 10, 5)\n",
        "bB = np.random.randint(0, 10, 5)\n",
        "\n",
        "print(aA == bB)"
      ]
    },
    {
      "cell_type": "markdown",
      "metadata": {
        "id": "5QZIhPK4yEz9"
      },
      "source": [
        "#### 43. Make an array immutable (read-only) (★★☆)"
      ]
    },
    {
      "cell_type": "code",
      "execution_count": 11,
      "metadata": {
        "colab": {
          "base_uri": "https://localhost:8080/"
        },
        "id": "bsRQwqiOyEz9",
        "outputId": "18bc6a90-e6bd-48b3-c247-bde0eae9f70a"
      },
      "outputs": [
        {
          "output_type": "stream",
          "name": "stdout",
          "text": [
            "(1, 2, 3, 4, 5)\n"
          ]
        }
      ],
      "source": [
        "x = [1, 2, 3, 4, 5]\n",
        "y = tuple(x)\n",
        "print(y)\n",
        "\n",
        "#Raises an error\n",
        "#y[0] = 6\n",
        "#print(y)"
      ]
    },
    {
      "cell_type": "markdown",
      "metadata": {
        "id": "FGPgBekvyEz9"
      },
      "source": [
        "#### 44. Consider a random 10x2 matrix representing cartesian coordinates, convert them to polar coordinates (★★☆)"
      ]
    },
    {
      "cell_type": "code",
      "execution_count": 20,
      "metadata": {
        "colab": {
          "base_uri": "https://localhost:8080/"
        },
        "id": "QFp_-WbPyEz-",
        "outputId": "6f97e2ec-b36b-4527-f5b8-b25132f25591"
      },
      "outputs": [
        {
          "output_type": "stream",
          "name": "stdout",
          "text": [
            "Cartesian Coordinates\n",
            "[[0.48263429 0.72341325]\n",
            " [0.92050166 0.54273171]\n",
            " [0.33020752 0.71898015]\n",
            " [0.6251118  0.58518619]\n",
            " [0.19222663 0.92746969]\n",
            " [0.36292236 0.89258817]\n",
            " [0.78370117 0.80566219]\n",
            " [0.13181004 0.90176951]\n",
            " [0.61198963 0.21950283]\n",
            " [0.24624007 0.815729  ]]\n",
            "\n",
            "Polar Coordinates\n",
            "[[0.86963359 0.98245044]\n",
            " [1.06858833 0.53274051]\n",
            " [0.79118232 1.14025853]\n",
            " [0.85627545 0.75242188]\n",
            " [0.94718061 1.36643061]\n",
            " [0.96354879 1.18461711]\n",
            " [1.12395689 0.79921477]\n",
            " [0.91135182 1.42565594]\n",
            " [0.65016367 0.3443784 ]\n",
            " [0.85208449 1.27762937]]\n"
          ]
        }
      ],
      "source": [
        "#Generate random Cartesian coordinates\n",
        "cartesian_coords = np.random.rand(10, 2)\n",
        "\n",
        "#Split x and y coordinates\n",
        "x = cartesian_coords[:, 0]\n",
        "y = cartesian_coords[:, 1]\n",
        "\n",
        "#Convert to polar coordinates\n",
        "r = np.sqrt(x**2 + y**2)\n",
        "theta = np.arctan2(y, x)\n",
        "\n",
        "#Dispaly the results\n",
        "polar_coords = np.column_stack((r, theta))\n",
        "print('Cartesian Coordinates')\n",
        "print(cartesian_coords)\n",
        "print('\\nPolar Coordinates')\n",
        "print(polar_coords)\n",
        "\n",
        "\n"
      ]
    },
    {
      "cell_type": "code",
      "source": [
        "'''\n",
        "Now, you want to tell someone where a different dot is on that paper. Instead of saying, \"Go 2 steps to the right and 3 steps up,\" which is like using a map grid (like x and y coordinates), you could say something like, \"Go out 5 steps from the center and then turn 30 degrees to the left.\"\n",
        "\n",
        "So, polar coordinates are like giving directions from the center of that paper (or dartboard), saying how far out you go (the distance) and which way you turn (the angle), instead of just saying how many steps you go in each direction (like x and y coordinates). It's just another way to talk about where things are!\n",
        "\n",
        "'''"
      ],
      "metadata": {
        "id": "2wFl5DI29jXi"
      },
      "execution_count": null,
      "outputs": []
    },
    {
      "cell_type": "markdown",
      "metadata": {
        "id": "7WINitKZyEz-"
      },
      "source": [
        "#### 45. Create random vector of size 10 and replace the maximum value by 0 (★★☆)"
      ]
    },
    {
      "cell_type": "code",
      "execution_count": null,
      "metadata": {
        "id": "hBNFe_7PyEz-",
        "outputId": "2f353d7c-5ba2-45cf-aac5-b2330cbc782d"
      },
      "outputs": [
        {
          "name": "stdout",
          "output_type": "stream",
          "text": [
            "[94 95 88 94 89 92 89 95 97 94]\n",
            "0\n"
          ]
        }
      ],
      "source": [
        "array = np.random.randint(88, 98, 10)\n",
        "print(array)\n",
        "\n",
        "\n",
        "for values in array:\n",
        "    if values == array.max():\n",
        "        print(0)\n"
      ]
    },
    {
      "cell_type": "code",
      "execution_count": null,
      "metadata": {
        "id": "z19qL068yEz_"
      },
      "outputs": [],
      "source": []
    },
    {
      "cell_type": "code",
      "execution_count": null,
      "metadata": {
        "id": "jmCBMmUlyEz_"
      },
      "outputs": [],
      "source": []
    }
  ],
  "metadata": {
    "kernelspec": {
      "display_name": "Python 3 (ipykernel)",
      "language": "python",
      "name": "python3"
    },
    "language_info": {
      "codemirror_mode": {
        "name": "ipython",
        "version": 3
      },
      "file_extension": ".py",
      "mimetype": "text/x-python",
      "name": "python",
      "nbconvert_exporter": "python",
      "pygments_lexer": "ipython3",
      "version": "3.11.7"
    },
    "colab": {
      "provenance": [],
      "include_colab_link": true
    }
  },
  "nbformat": 4,
  "nbformat_minor": 0
}