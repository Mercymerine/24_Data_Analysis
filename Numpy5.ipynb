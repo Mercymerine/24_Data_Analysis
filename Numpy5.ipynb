{
  "cells": [
    {
      "cell_type": "markdown",
      "metadata": {
        "id": "view-in-github",
        "colab_type": "text"
      },
      "source": [
        "<a href=\"https://colab.research.google.com/github/Mercymerine/24_Data_Analysis/blob/main/Numpy5.ipynb\" target=\"_parent\"><img src=\"https://colab.research.google.com/assets/colab-badge.svg\" alt=\"Open In Colab\"/></a>"
      ]
    },
    {
      "cell_type": "markdown",
      "metadata": {
        "id": "z1NA0cjirQmd"
      },
      "source": [
        "# Numpy Exercise 5\n",
        "\n",
        "### All of the questions in this exercise are attributed to rougier/numpy-100"
      ]
    },
    {
      "cell_type": "code",
      "execution_count": null,
      "metadata": {
        "id": "dxyxyBPBrQmy"
      },
      "outputs": [],
      "source": [
        "import numpy as np"
      ]
    },
    {
      "cell_type": "markdown",
      "metadata": {
        "id": "yFFUd65trQmy"
      },
      "source": [
        "#### 61. Find the nearest value from a given value in an array (★★☆)"
      ]
    },
    {
      "cell_type": "code",
      "execution_count": null,
      "metadata": {
        "id": "5L_LM9U1rQmz",
        "outputId": "3de5d550-0182-4776-f961-7066ac228277"
      },
      "outputs": [
        {
          "name": "stdout",
          "output_type": "stream",
          "text": [
            "[5 3 1 1 3]\n",
            "2\n",
            "[1 3 5 7 9]\n",
            "5\n"
          ]
        }
      ],
      "source": [
        "#Array\n",
        "array = np.array([1, 3, 5, 7, 9])\n",
        "\n",
        "#Given value\n",
        "given_value = 6\n",
        "\n",
        "#Absolute difference\n",
        "diff = np.abs(array - given_value)\n",
        "print(diff)\n",
        "\n",
        "#Index of the minimum absolute difference\n",
        "index = np.argmin(diff)\n",
        "print(index)\n",
        "\n",
        "\n",
        "#Nearest value\n",
        "nearest_value = array[index]\n",
        "\n",
        "print(array)\n",
        "print(nearest_value)"
      ]
    },
    {
      "cell_type": "markdown",
      "metadata": {
        "id": "3shJvIwGrQmz"
      },
      "source": [
        "#### 62. Considering two arrays with shape (1,3) and (3,1), how to compute their sum using an iterator? (★★☆)"
      ]
    },
    {
      "cell_type": "code",
      "execution_count": null,
      "metadata": {
        "colab": {
          "base_uri": "https://localhost:8080/"
        },
        "id": "MmV_alNLrQm0",
        "outputId": "a89a9764-be98-458e-b6ed-047e21bb6727"
      },
      "outputs": [
        {
          "output_type": "stream",
          "name": "stdout",
          "text": [
            "6\n"
          ]
        }
      ],
      "source": [
        "pile1 = [[1, 1, 1]]\n",
        "pile2 = [[1], [1], [1]]\n",
        "\n",
        "#Initialize total\n",
        "total = 0\n",
        "\n",
        "for block in pile1[0]:\n",
        "  total += block\n",
        "\n",
        "#iterate through each block in the second pile\n",
        "for row in pile2:\n",
        "  for block in row:\n",
        "    total += block\n",
        "\n",
        "print(total)"
      ]
    },
    {
      "cell_type": "markdown",
      "metadata": {
        "id": "u9QqcKIRrQm2"
      },
      "source": [
        "#### 63. Create an array class that has a name attribute (★★☆)"
      ]
    },
    {
      "cell_type": "code",
      "execution_count": null,
      "metadata": {
        "id": "uaN29AWMrQm2"
      },
      "outputs": [],
      "source": [
        "class Array_class():\n",
        "    def __init__(self, name):\n",
        "        self.name = name"
      ]
    },
    {
      "cell_type": "markdown",
      "metadata": {
        "id": "NYFGy_ogrQm3"
      },
      "source": [
        "#### 64. Consider a given vector, how to add 1 to each element indexed by a second vector (be careful with repeated indices)? (★★★)"
      ]
    },
    {
      "cell_type": "code",
      "execution_count": null,
      "metadata": {
        "id": "pDympFOnrQm3",
        "outputId": "f11819c6-07d2-47af-cb91-7e9cb81ad738"
      },
      "outputs": [
        {
          "name": "stdout",
          "output_type": "stream",
          "text": [
            "[11 21 30 41 51]\n"
          ]
        }
      ],
      "source": [
        "import numpy as np\n",
        "\n",
        "#Given vector\n",
        "given_vector = np.array([10, 20, 30, 40, 50])\n",
        "\n",
        "#Indices vector\n",
        "indices_vector = np.array([0, 1, 1, 3, 4])\n",
        "\n",
        "#Add 1 to each element indexed by the second vector\n",
        "for index in np.unique(indices_vector):\n",
        "    given_vector[index] +=1\n",
        "print(given_vector)"
      ]
    },
    {
      "cell_type": "markdown",
      "metadata": {
        "id": "kRnB7hJ2rQm4"
      },
      "source": [
        "#### 65. How to accumulate elements of a vector (X) to an array (F) based on an index list (I)? (★★★)"
      ]
    },
    {
      "cell_type": "code",
      "execution_count": null,
      "metadata": {
        "id": "JV5HqbrprQm5"
      },
      "outputs": [],
      "source": [
        "\n",
        "\n",
        "\n"
      ]
    },
    {
      "cell_type": "markdown",
      "metadata": {
        "id": "UDHK1TFbrQm5"
      },
      "source": [
        "#### 66. Considering a (w,h,3) image of (dtype=ubyte), compute the number of unique colors (★★☆)"
      ]
    },
    {
      "cell_type": "code",
      "execution_count": null,
      "metadata": {
        "id": "l3g1lPXNrQm6"
      },
      "outputs": [],
      "source": []
    },
    {
      "cell_type": "markdown",
      "metadata": {
        "id": "mFjxiHh0rQm6"
      },
      "source": [
        "#### 67. Considering a four dimensions array, how to get sum over the last two axis at once? (★★★)"
      ]
    },
    {
      "cell_type": "code",
      "execution_count": null,
      "metadata": {
        "id": "iN9l7WxkrQm6",
        "outputId": "1978a8cd-3d6c-4a98-a3c8-cf43f238a4dc"
      },
      "outputs": [
        {
          "name": "stdout",
          "output_type": "stream",
          "text": [
            "[[[[ 2 19 10  5  6]\n",
            "   [14 19  4  0 18]\n",
            "   [14  0  6  0 19]\n",
            "   [15 12 11 12 16]]\n",
            "\n",
            "  [[19 13 12  6  3]\n",
            "   [15 16 19  3 19]\n",
            "   [ 1 10 19  6 16]\n",
            "   [ 4  6 13  9  5]]\n",
            "\n",
            "  [[14 11  3  8  0]\n",
            "   [17 12  1 12 12]\n",
            "   [ 9  1 10 16 13]\n",
            "   [ 7 16  4 11  3]]]\n",
            "\n",
            "\n",
            " [[[16  8  2 17 18]\n",
            "   [13  6  5  3 13]\n",
            "   [ 1 10 14 18 17]\n",
            "   [11 15  4  6  3]]\n",
            "\n",
            "  [[12 10 18  3 16]\n",
            "   [ 0  0  5 17 12]\n",
            "   [ 2  1 11 19  3]\n",
            "   [ 1  5 13 15  9]]\n",
            "\n",
            "  [[11  5  5 17 14]\n",
            "   [ 9 15 16 15 14]\n",
            "   [ 0 11  9 18  7]\n",
            "   [11 19  9  6 17]]]]\n",
            "[[202 214 180]\n",
            " [200 172 228]]\n"
          ]
        }
      ],
      "source": [
        "import numpy as np\n",
        "\n",
        "array = np.random.randint(0, 20, size = (2, 3, 4, 5))\n",
        "print(array)\n",
        "\n",
        "\n",
        "\n",
        "axis_sum = np.sum(array, axis=(-2, -1))#??????????\n",
        "print(axis_sum)"
      ]
    },
    {
      "cell_type": "markdown",
      "metadata": {
        "id": "-Mw1gldcrQm7"
      },
      "source": [
        "#### 68. Considering a one-dimensional vector D, how to compute means of subsets of D using a vector S of same size describing subset  indices? (★★★)"
      ]
    },
    {
      "cell_type": "code",
      "execution_count": null,
      "metadata": {
        "id": "Ee3goYhqrQm7"
      },
      "outputs": [],
      "source": []
    },
    {
      "cell_type": "markdown",
      "metadata": {
        "id": "O7Bgo6dXrQm8"
      },
      "source": [
        "#### 69. How to get the diagonal of a dot product? (★★★)"
      ]
    },
    {
      "cell_type": "code",
      "execution_count": null,
      "metadata": {
        "id": "IKnrfoeyrQm8",
        "outputId": "e58227d8-852c-47c8-d8fb-33de5262c0e1"
      },
      "outputs": [
        {
          "name": "stdout",
          "output_type": "stream",
          "text": [
            "[[25 28]\n",
            " [73 82]]\n",
            "[25 82]\n"
          ]
        }
      ],
      "source": [
        "arr1 = np.array([[1, 2],\n",
        "                [4, 5]])\n",
        "\n",
        "arr2 = np.array([[7, 8],\n",
        "               [9, 10]])\n",
        "\n",
        "#Diagonal of the dot product of A and B\n",
        "print((np.dot(arr1, arr2)))\n",
        "dot_product = np.diag(np.dot(arr1, arr2))\n",
        "print(dot_product)"
      ]
    },
    {
      "cell_type": "markdown",
      "metadata": {
        "id": "ApIKwf0xrQm9"
      },
      "source": [
        "#### 70. Consider the vector [1, 2, 3, 4, 5], how to build a new vector with 3 consecutive zeros interleaved between each value? (★★★)"
      ]
    },
    {
      "cell_type": "code",
      "source": [
        "original_vector = [1, 2, 3, 4, 5]\n",
        "\n",
        "new_vector = []\n",
        "\n",
        "for value in original_vector:\n",
        "  new_vector.append(value)\n",
        "  new_vector.extend([0, 0, 0])\n",
        "\n",
        "new_vector.pop()\n",
        "print(new_vector)"
      ],
      "metadata": {
        "colab": {
          "base_uri": "https://localhost:8080/"
        },
        "id": "tlJ9pEDb1vfI",
        "outputId": "3b75d5f2-320f-4f32-d5d9-d84abc522bcb"
      },
      "execution_count": null,
      "outputs": [
        {
          "output_type": "stream",
          "name": "stdout",
          "text": [
            "[1, 0, 0, 0, 2, 0, 0, 0, 3, 0, 0, 0, 4, 0, 0, 0, 5, 0, 0]\n"
          ]
        }
      ]
    },
    {
      "cell_type": "markdown",
      "metadata": {
        "id": "njkMyIMdrQm-"
      },
      "source": [
        "#### 71. Consider an array of dimension (5,5,3), how to mulitply it by an array with dimensions (5,5)? (★★★)"
      ]
    },
    {
      "cell_type": "code",
      "execution_count": null,
      "metadata": {
        "id": "shjGdr9XrQm_",
        "outputId": "43677a74-37ef-47ef-9ee2-5806becf1d97"
      },
      "outputs": [
        {
          "name": "stdout",
          "output_type": "stream",
          "text": [
            "[[[1 2 3]\n",
            "  [4 5 6]]]\n",
            "[[1 2 3]\n",
            " [4 5 6]]\n",
            "[[[1]\n",
            "  [2]\n",
            "  [3]]\n",
            "\n",
            " [[4]\n",
            "  [5]\n",
            "  [6]]]\n",
            "3\n"
          ]
        }
      ],
      "source": [
        "array1 = np.array([[[1, 2, 3],\n",
        "           [4, 5, 6]]])\n",
        "array2 = np.array([[1, 2,3],\n",
        "                  [4, 5, 6]])\n",
        "print(array1)\n",
        "print(array2)\n",
        "new=array2[:, :, np.newaxis] #This part of the code adds a new axis to the 2D array. By using np.newaxis, we're essentially adding a new dimension to the 2D array along the third axis.\n",
        "print(new)\n",
        "print(new.ndim)"
      ]
    },
    {
      "cell_type": "code",
      "execution_count": null,
      "metadata": {
        "id": "9ML5NR9grQm_",
        "outputId": "0c8c7803-5fcb-4439-d452-356d55b74976"
      },
      "outputs": [
        {
          "name": "stdout",
          "output_type": "stream",
          "text": [
            "[[[2 3 2]\n",
            "  [2 0 3]\n",
            "  [3 3 0]\n",
            "  [1 2 0]\n",
            "  [0 3 9]]\n",
            "\n",
            " [[0 0 0]\n",
            "  [0 6 2]\n",
            "  [0 3 3]\n",
            "  [4 6 2]\n",
            "  [3 1 2]]\n",
            "\n",
            " [[3 1 1]\n",
            "  [3 1 1]\n",
            "  [4 2 4]\n",
            "  [3 0 3]\n",
            "  [0 9 0]]\n",
            "\n",
            " [[2 2 1]\n",
            "  [2 0 0]\n",
            "  [4 2 0]\n",
            "  [0 6 6]\n",
            "  [9 6 9]]\n",
            "\n",
            " [[3 6 9]\n",
            "  [6 3 6]\n",
            "  [3 0 3]\n",
            "  [4 0 4]\n",
            "  [0 6 2]]]\n"
          ]
        }
      ],
      "source": [
        "arr1 = np.random.randint(0, 4, size = (5, 5, 3))\n",
        "arr2 = np.random.randint(0, 4, size= (5, 5))\n",
        "\n",
        "print(arr1 * arr2[:, :, np.newaxis])"
      ]
    },
    {
      "cell_type": "markdown",
      "metadata": {
        "id": "mC2i2D1wrQnA"
      },
      "source": [
        "#### 72. How to swap two rows of an array? (★★★)"
      ]
    },
    {
      "cell_type": "code",
      "execution_count": null,
      "metadata": {
        "id": "pSUyB1YWrQnA",
        "outputId": "f54f2b22-7ed4-470e-aeb2-487a01cacb22"
      },
      "outputs": [
        {
          "name": "stdout",
          "output_type": "stream",
          "text": [
            "[[1 2 3]\n",
            " [4 5 6]]\n",
            "[[4 5 6]\n",
            " [1 2 3]]\n",
            "[[4 5 6]\n",
            " [1 2 3]\n",
            " [7 8 9]]\n"
          ]
        }
      ],
      "source": [
        "array = np.array([[1, 2, 3],\n",
        "                  [4, 5, 6],\n",
        "                  [7, 8, 9]])\n",
        "\n",
        "\n",
        "print(array[[0, 1]])\n",
        "print('********')\n",
        "print(array[[1, 0]])\n",
        "print('********')\n",
        "array[[0, 1]] = array[[1, 0]]\n",
        "print(array)"
      ]
    },
    {
      "cell_type": "markdown",
      "metadata": {
        "id": "jttdhFkbrQnB"
      },
      "source": [
        "#### 73. Consider a set of 10 triplets describing 10 triangles (with shared vertices), find the set of unique line segments composing all the  triangles (★★★)"
      ]
    },
    {
      "cell_type": "code",
      "execution_count": null,
      "metadata": {
        "id": "6L2KEL14rQnB"
      },
      "outputs": [],
      "source": [
        "#?????????????????????"
      ]
    },
    {
      "cell_type": "markdown",
      "metadata": {
        "id": "_Efx96EwrQnC"
      },
      "source": [
        "#### 74. Given a sorted array C that corresponds to a bincount, how to produce an array A such that np.bincount(A) == C? (★★★)"
      ]
    },
    {
      "cell_type": "code",
      "execution_count": null,
      "metadata": {
        "id": "rCR2bKRirQnC"
      },
      "outputs": [],
      "source": [
        "#???????????????"
      ]
    },
    {
      "cell_type": "markdown",
      "metadata": {
        "id": "FwaDChRkrQnC"
      },
      "source": [
        "#### 75. How to compute averages using a sliding window over an array? (★★★)"
      ]
    },
    {
      "cell_type": "code",
      "execution_count": null,
      "metadata": {
        "id": "HK2_3vPtrQnD"
      },
      "outputs": [],
      "source": [
        "#???????????????"
      ]
    },
    {
      "cell_type": "markdown",
      "metadata": {
        "id": "NaOJxgPorQnD"
      },
      "source": [
        "#### 76. Consider a one-dimensional array Z, build a two-dimensional array whose first row is (Z[0],Z[1],Z[2]) and each subsequent row is  shifted by 1 (last row should be (Z[-3],Z[-2],Z[-1]) (★★★)"
      ]
    },
    {
      "cell_type": "code",
      "execution_count": null,
      "metadata": {
        "id": "2L0GVXUfrQnD"
      },
      "outputs": [],
      "source": [
        "#??????????"
      ]
    },
    {
      "cell_type": "markdown",
      "metadata": {
        "id": "mX-4Ogu2rQnE"
      },
      "source": [
        "#### 77. How to negate a boolean, or to change the sign of a float inplace? (★★★)"
      ]
    },
    {
      "cell_type": "code",
      "execution_count": null,
      "metadata": {
        "id": "IBObrcgYrQnE",
        "outputId": "a2f11a7e-d6bb-47f3-84b2-eaa8943ce2ff"
      },
      "outputs": [
        {
          "name": "stdout",
          "output_type": "stream",
          "text": [
            "False\n"
          ]
        }
      ],
      "source": [
        "boolean = True\n",
        "boolean = not boolean\n",
        "print(boolean)\n"
      ]
    },
    {
      "cell_type": "code",
      "execution_count": null,
      "metadata": {
        "id": "KSMm4ACQrQnF",
        "outputId": "9ebb9591-5b6e-46c6-bff2-1cab2b43699d"
      },
      "outputs": [
        {
          "name": "stdout",
          "output_type": "stream",
          "text": [
            "-5.0\n"
          ]
        }
      ],
      "source": [
        "number = 5.0\n",
        "number = - number\n",
        "print(number)"
      ]
    },
    {
      "cell_type": "markdown",
      "metadata": {
        "id": "EFCULpkXrQnF"
      },
      "source": [
        "#### 78. Consider 2 sets of points P0,P1 describing lines (2d) and a point p, how to compute distance from p to each line i (P0[i],P1[i])? (★★★)"
      ]
    },
    {
      "cell_type": "code",
      "execution_count": null,
      "metadata": {
        "id": "uQNdMFDorQnG"
      },
      "outputs": [],
      "source": []
    },
    {
      "cell_type": "markdown",
      "metadata": {
        "id": "1f6j0dH1rQnG"
      },
      "source": [
        "#### 79. Consider 2 sets of points P0,P1 describing lines (2d) and a set of points P, how to compute distance from each point j (P[j]) to each line i (P0[i],P1[i])? (★★★)"
      ]
    },
    {
      "cell_type": "code",
      "execution_count": null,
      "metadata": {
        "id": "s0eK0rBHrQnH"
      },
      "outputs": [],
      "source": []
    },
    {
      "cell_type": "markdown",
      "metadata": {
        "id": "KF56tgLErQnH"
      },
      "source": [
        "#### 80. Consider an arbitrary array, write a function that extract a subpart with a fixed shape and centered on a given element (pad with a `fill` value when necessary) (★★★)"
      ]
    },
    {
      "cell_type": "code",
      "execution_count": null,
      "metadata": {
        "id": "-u4k82AVrQnH"
      },
      "outputs": [],
      "source": []
    },
    {
      "cell_type": "markdown",
      "metadata": {
        "id": "vfNreTGSrQnH"
      },
      "source": [
        "#### 81. Consider an array Z = [1,2,3,4,5,6,7,8,9,10,11,12,13,14], how to generate an array R = [[1,2,3,4], [2,3,4,5], [3,4,5,6], ..., [11,12,13,14]]? (★★★)"
      ]
    },
    {
      "cell_type": "code",
      "execution_count": null,
      "metadata": {
        "id": "IQD5tUiOrQnI"
      },
      "outputs": [],
      "source": []
    },
    {
      "cell_type": "markdown",
      "metadata": {
        "id": "Aj5DnPJqrQnI"
      },
      "source": [
        "#### 82. Compute a matrix rank (★★★)"
      ]
    },
    {
      "cell_type": "code",
      "execution_count": null,
      "metadata": {
        "id": "NBKEH6FNrQnM"
      },
      "outputs": [],
      "source": [
        "#???????????????"
      ]
    },
    {
      "cell_type": "code",
      "execution_count": null,
      "metadata": {
        "id": "o7a51TjCrQnN",
        "outputId": "ff4424d9-e85c-4b20-8e47-f1b9d69af3e6"
      },
      "outputs": [
        {
          "name": "stdout",
          "output_type": "stream",
          "text": [
            "2\n"
          ]
        }
      ],
      "source": [
        "matrix = np.array([[1, 2, 3],\n",
        "                  [4, 5, 6],\n",
        "                  [7, 8, 9]])\n",
        "\n",
        "rank = np.linalg.matrix_rank(matrix)\n",
        "print(rank)"
      ]
    },
    {
      "cell_type": "markdown",
      "metadata": {
        "id": "2yYfKGEOrQnN"
      },
      "source": [
        "#### 83. How to find the most frequent value in an array?"
      ]
    },
    {
      "cell_type": "code",
      "execution_count": null,
      "metadata": {
        "id": "Fc-L4M4drQnO"
      },
      "outputs": [],
      "source": [
        "#???????????????"
      ]
    },
    {
      "cell_type": "code",
      "execution_count": null,
      "metadata": {
        "id": "I0PXKHVxrQnO",
        "outputId": "b34e5cf5-f73d-4a6c-b5ba-5202ced97d59"
      },
      "outputs": [
        {
          "name": "stdout",
          "output_type": "stream",
          "text": [
            "3\n"
          ]
        }
      ],
      "source": [
        "arrays = np.array([1, 2, 3, 4, 2, 2, 3, 3, 3])\n",
        "\n",
        "#Finding the most frequent value\n",
        "value = np.bincount(arrays).argmax()\n",
        "print(value)"
      ]
    },
    {
      "cell_type": "markdown",
      "metadata": {
        "id": "cMNYXvsNrQnP"
      },
      "source": [
        "#### 84. Extract all the contiguous 3x3 blocks from a random 10x10 matrix (★★★)"
      ]
    },
    {
      "cell_type": "code",
      "execution_count": null,
      "metadata": {
        "id": "qb9XNQ8qrQnQ"
      },
      "outputs": [],
      "source": [
        "#???????????????????????"
      ]
    },
    {
      "cell_type": "markdown",
      "metadata": {
        "id": "vMpmvXFArQnQ"
      },
      "source": [
        "#### 85. Create a 2D array subclass such that Z[i,j] == Z[j,i] (★★★)"
      ]
    },
    {
      "cell_type": "code",
      "execution_count": null,
      "metadata": {
        "id": "V53VLaF0rQnQ"
      },
      "outputs": [],
      "source": []
    },
    {
      "cell_type": "markdown",
      "metadata": {
        "id": "0HjqDtY-rQnR"
      },
      "source": [
        "#### 86. Consider a set of p matrices wich shape (n,n) and a set of p vectors with shape (n,1). How to compute the sum of of the p matrix products at once? (result has shape (n,1)) (★★★)"
      ]
    },
    {
      "cell_type": "code",
      "execution_count": null,
      "metadata": {
        "id": "ncvUXIYWrQnR"
      },
      "outputs": [],
      "source": [
        "#?????????????"
      ]
    },
    {
      "cell_type": "code",
      "execution_count": null,
      "metadata": {
        "id": "mdbaf1llrQnS",
        "outputId": "6eae895a-c2ed-4bf4-fce3-8bf56afb32f1"
      },
      "outputs": [
        {
          "name": "stdout",
          "output_type": "stream",
          "text": [
            "[[ 8  0  0  8 16]\n",
            " [12  0 12  8  0]\n",
            " [ 9  0  0  3  9]\n",
            " [ 0 12 12  0  0]\n",
            " [ 3  2  2  3  2]]\n"
          ]
        }
      ],
      "source": [
        "#Assume n = 5\n",
        "\n",
        "arr1 = np.random.randint(0, 5, size=(5, 5))\n",
        "arr2 = np.random.randint(0, 5, size =(5, 1))\n",
        "\n",
        "product = (arr1 * arr2)\n",
        "print(product)"
      ]
    },
    {
      "cell_type": "markdown",
      "metadata": {
        "id": "DRbjLJmQrQnS"
      },
      "source": [
        "#### 87. Consider a 16x16 array, how to get the block-sum (block size is 4x4)? (★★★)"
      ]
    },
    {
      "cell_type": "code",
      "execution_count": null,
      "metadata": {
        "id": "XlfZx0lIrQnT"
      },
      "outputs": [],
      "source": [
        "#?????????????????"
      ]
    },
    {
      "cell_type": "code",
      "execution_count": null,
      "metadata": {
        "id": "zoMAnydOrQnT",
        "outputId": "62922783-d466-45cd-cf78-a61181a27c10"
      },
      "outputs": [
        {
          "name": "stdout",
          "output_type": "stream",
          "text": [
            "[[90 92 92 85]\n",
            " [93 96 80 78]\n",
            " [88 78 60 81]\n",
            " [85 66 76 88]]\n"
          ]
        }
      ],
      "source": [
        "array = np.random.randint(1, 10, (16, 16))\n",
        "\n",
        "\n",
        "#Block size\n",
        "block_size = 4\n",
        "\n",
        "#Reshape array into a 4D array 0f shape (4, 4, 4, 4)\n",
        "reshaped_array = array.reshape(4, 4, 4, 4)\n",
        "\n",
        "#Getting sum\n",
        "block_sum = reshaped_array.sum(axis=(-2, -1))\n",
        "print(block_sum)"
      ]
    },
    {
      "cell_type": "markdown",
      "metadata": {
        "id": "fjjOmEIdrQnU"
      },
      "source": [
        "#### 88. How to implement the Game of Life using numpy arrays? (★★★)"
      ]
    },
    {
      "cell_type": "code",
      "execution_count": null,
      "metadata": {
        "id": "7zefgfiMrQnU"
      },
      "outputs": [],
      "source": [
        "#?????????????????"
      ]
    },
    {
      "cell_type": "markdown",
      "metadata": {
        "id": "vXmZCOSdrQnV"
      },
      "source": [
        "#### 89. How to get the n largest values of an array (★★★)"
      ]
    },
    {
      "cell_type": "code",
      "execution_count": null,
      "metadata": {
        "id": "Ix9HmKPnrQnV",
        "outputId": "0ac014af-090a-474a-d6d3-7b0c2b55cd58"
      },
      "outputs": [
        {
          "name": "stdout",
          "output_type": "stream",
          "text": [
            "[7 8 9]\n"
          ]
        }
      ],
      "source": [
        "array = np.array([1, 5, 3, 9, 7, 2, 8, 4, 6])\n",
        "\n",
        "#Number of largest value to retrieve\n",
        "n=3\n",
        "\n",
        "#Get the n largest values of array\n",
        "largest_values = np.sort(array)[-n:]\n",
        "print(largest_values)"
      ]
    },
    {
      "cell_type": "markdown",
      "metadata": {
        "id": "WB1k26c_rQnW"
      },
      "source": [
        "#### 90. Given an arbitrary number of vectors, build the cartesian product (every combinations of every item) (★★★)"
      ]
    },
    {
      "cell_type": "code",
      "execution_count": null,
      "metadata": {
        "id": "XPX1vRexrQnW"
      },
      "outputs": [],
      "source": [
        "import itertools # provides various functions for working with iterators and combinatorial functions."
      ]
    },
    {
      "cell_type": "code",
      "execution_count": null,
      "metadata": {
        "id": "xTEkdyLrrQnX",
        "outputId": "e1e15dc3-bc35-4b05-9a90-a8304f8d351e"
      },
      "outputs": [
        {
          "name": "stdout",
          "output_type": "stream",
          "text": [
            "[(1, 4, 6), (1, 4, 7), (1, 5, 6), (1, 5, 7), (2, 4, 6), (2, 4, 7), (2, 5, 6), (2, 5, 7), (3, 4, 6), (3, 4, 7), (3, 5, 6), (3, 5, 7)]\n"
          ]
        }
      ],
      "source": [
        "vectors = [[1, 2, 3], [4, 5], [6, 7]]\n",
        "\n",
        "#Buiding the cartesian product\n",
        "cartesian = list(itertools.product(*vectors)) # It takes multiple iterables (in this case, vectors) as arguments and returns an iterator that produces tuples containing all possible combinations of items from the input iterables. The *vectors syntax is used to unpack the list of vectors into separate arguments for the itertools.product function.\n",
        "print(cartesian)"
      ]
    },
    {
      "cell_type": "markdown",
      "metadata": {
        "id": "sLphiCPwrQnX"
      },
      "source": [
        "#### 91. How to create a record array from a regular array? (★★★)"
      ]
    },
    {
      "cell_type": "code",
      "execution_count": null,
      "metadata": {
        "id": "mVKw6MUErQnY"
      },
      "outputs": [],
      "source": [
        "#?????????///"
      ]
    },
    {
      "cell_type": "code",
      "execution_count": null,
      "metadata": {
        "id": "CZnnIwqXrQnY",
        "outputId": "7baa45ee-8dbc-493b-d89b-5029df9d2dc1"
      },
      "outputs": [
        {
          "name": "stdout",
          "output_type": "stream",
          "text": [
            "[('1', 'John', '25')]\n",
            "**********\n",
            "[['1' 'John' '25']]\n",
            "[('2', 'Alice', '30')]\n",
            "**********\n",
            "[['2' 'Alice' '30']]\n",
            "[('3', 'Bob', '35')]\n",
            "**********\n",
            "[['3' 'Bob' '35']]\n"
          ]
        }
      ],
      "source": [
        "array = np.array([[1, 'John', 25],\n",
        "                 [2, 'Alice', 30],\n",
        "                 [3, 'Bob', 35]])\n",
        "\n",
        "#Defining the dtype for the record array\n",
        "dtype = [('ID', int), ('Name', 'U10'), ('Age', int)]\n",
        "\n",
        "for row in array:\n",
        "    x = ([tuple(row)])\n",
        "    print(x)\n",
        "    print('**********')\n",
        "    print(np.array(x))"
      ]
    },
    {
      "cell_type": "markdown",
      "metadata": {
        "id": "Xto19l9srQnZ"
      },
      "source": [
        "#### 92. Consider a large vector Z, compute Z to the power of 3 using 3 different methods (★★★)"
      ]
    },
    {
      "cell_type": "code",
      "execution_count": null,
      "metadata": {
        "id": "4oDs3epzrQna",
        "outputId": "1dc372d6-1842-47fa-932c-0192ff410029"
      },
      "outputs": [
        {
          "name": "stdout",
          "output_type": "stream",
          "text": [
            "[3.17095722e-01 6.17552154e-05 8.41792220e-01 ... 2.74789362e-03\n",
            " 6.05884556e-01 4.59904324e-01]\n"
          ]
        }
      ],
      "source": [
        "#Method 1 using np.power\n",
        "Z = np.random.rand(1000000)\n",
        "\n",
        "ZP = np.power(Z, 3)\n",
        "print(ZP)\n"
      ]
    },
    {
      "cell_type": "code",
      "execution_count": null,
      "metadata": {
        "id": "sgDks7C4rQna",
        "outputId": "85b716ce-f9ed-4b37-8c3e-8f89f4f7db37"
      },
      "outputs": [
        {
          "name": "stdout",
          "output_type": "stream",
          "text": [
            "[3.17095722e-01 6.17552154e-05 8.41792220e-01 ... 2.74789362e-03\n",
            " 6.05884556e-01 4.59904324e-01]\n"
          ]
        }
      ],
      "source": [
        "#MEthod 2 using **\n",
        "ZE = (Z ** 3)\n",
        "print(ZE)"
      ]
    },
    {
      "cell_type": "code",
      "execution_count": null,
      "metadata": {
        "id": "fwoiY5gZrQnf",
        "outputId": "063bf702-57f4-47cb-cf2a-12c826b4ec44"
      },
      "outputs": [
        {
          "name": "stdout",
          "output_type": "stream",
          "text": [
            "[3.17095722e-01 6.17552154e-05 8.41792220e-01 ... 2.74789362e-03\n",
            " 6.05884556e-01 4.59904324e-01]\n"
          ]
        }
      ],
      "source": [
        "#Method 3: *\n",
        "ZM = Z * Z * Z\n",
        "print(ZM)"
      ]
    },
    {
      "cell_type": "markdown",
      "metadata": {
        "id": "6DSw8w3ArQng"
      },
      "source": [
        "#### 93. Consider two arrays A and B of shape (8,3) and (2,2). How to find rows of A that contain elements of each row of B regardless of the order of the elements in B? (★★★)"
      ]
    },
    {
      "cell_type": "code",
      "execution_count": null,
      "metadata": {
        "id": "7t2zQOXVrQnh",
        "outputId": "3f288e27-86ae-4041-c419-d89cd6a7078e"
      },
      "outputs": [
        {
          "name": "stdout",
          "output_type": "stream",
          "text": [
            "[]\n"
          ]
        }
      ],
      "source": [
        "A = np.array([[1, 2, 3],\n",
        "                  [4, 5, 6],\n",
        "                  [7, 8, 9],\n",
        "                  [1, 2, 3],\n",
        "                  [4, 5, 6],\n",
        "                  [7, 8, 9],\n",
        "                  [1, 2, 3],\n",
        "                  [4, 5, 6]])\n",
        "B = np.array([[2, 1],\n",
        "             [5, 4]])\n",
        "\n",
        "#Sort the rows of B\n",
        "sorted_B = np.sort(B, axis =1)\n",
        "\n",
        "#Sort the rows of A\n",
        "sorted_A = np.sort(A, axis = 1)\n",
        "\n",
        "matching_rows = np.all(np.isin(sorted_A[:, :, None], sorted_B.T), axis = 1).any(axis = 1)\n",
        "result = A[matching_rows]\n",
        "print(result)\n",
        "\n"
      ]
    },
    {
      "cell_type": "markdown",
      "metadata": {
        "id": "q8Vj-4JFrQnh"
      },
      "source": [
        "#### 94. Considering a 10x3 matrix, extract rows with unequal values (e.g. [2,2,3]) (★★★)"
      ]
    },
    {
      "cell_type": "code",
      "execution_count": null,
      "metadata": {
        "id": "oUsG4qfQrQni",
        "outputId": "807e590b-d089-4d34-ae5c-c8541b8578ac"
      },
      "outputs": [
        {
          "name": "stdout",
          "output_type": "stream",
          "text": [
            "[1, 2, 3, 4, 5, 2, 3]\n",
            "{1, 2, 3, 4, 5}\n",
            "5\n"
          ]
        }
      ],
      "source": [
        "lists = [1, 2, 3, 4, 5, 2, 3]\n",
        "print(lists)\n",
        "x = set(lists)\n",
        "print(x)\n",
        "print(len(x))"
      ]
    },
    {
      "cell_type": "code",
      "execution_count": null,
      "metadata": {
        "id": "9_chlXP0rQni",
        "outputId": "7bf838ca-b95f-4179-c559-7cb14f312769"
      },
      "outputs": [
        {
          "name": "stdout",
          "output_type": "stream",
          "text": [
            "3\n",
            "3\n",
            "3\n",
            "3\n"
          ]
        }
      ],
      "source": [
        "matrix = np.array([[1, 1, 1],\n",
        "                  [2, 2, 1],\n",
        "                  [3, 3, 3],\n",
        "                  [4, 4, 4],\n",
        "                  [4, 5, 5],\n",
        "                  [7, 4, 3],\n",
        "                  [6, 6, 6],\n",
        "                  [8, 8, 8],\n",
        "                  [9, 9, 9],\n",
        "                  [9, 5, 6]])\n",
        "unequal_list =[]\n",
        "\n",
        "for row in matrix:\n",
        "    # If the length of the set of values in the row is not equal to 1,\n",
        "    # it means there are unequal values in the row\n",
        "        if len(set(row)) != 1:#??????\n",
        "            unequal_list.append(row)\n",
        "\n",
        "for row in unequal_list:\n",
        "    print(len (row))"
      ]
    },
    {
      "cell_type": "markdown",
      "metadata": {
        "id": "ASupRdEKrQnj"
      },
      "source": [
        "#### 95. Convert a vector of ints into a matrix binary representation (★★★)"
      ]
    },
    {
      "cell_type": "code",
      "execution_count": null,
      "metadata": {
        "id": "fTS0FuPzrQnj",
        "outputId": "b945d19e-7474-4e28-af01-88f6cc05c7ea"
      },
      "outputs": [
        {
          "name": "stdout",
          "output_type": "stream",
          "text": [
            "[[0 0 0 0]\n",
            " [1 1 0 0]\n",
            " [1 1 1 0]\n",
            " [1 1 1 1]]\n"
          ]
        }
      ],
      "source": [
        "vector = np.array([0, 2, 3, 4])\n",
        "\n",
        "#Maximum value\n",
        "max_value = np.max(vector)\n",
        "\n",
        "#Create a matrix of zeros with shape(len(vector)=row, max_value=columns)\n",
        "matrix = np.zeros((len(vector), max_value), dtype = int)\n",
        "\n",
        "for i, val in enumerate(vector):\n",
        "    matrix[i, :val] = 1 #i = index, val: value of index, =1: assigns the the value 1 to the selected elements\n",
        "print(matrix)\n"
      ]
    },
    {
      "cell_type": "code",
      "execution_count": null,
      "metadata": {
        "id": "tmOwaq3grQnl",
        "outputId": "88bbb0a2-b6eb-4d8c-ae3c-09161caa74ef"
      },
      "outputs": [
        {
          "data": {
            "text/plain": [
              "\u001b[1;31mInit signature:\u001b[0m \u001b[0menumerate\u001b[0m\u001b[1;33m(\u001b[0m\u001b[0miterable\u001b[0m\u001b[1;33m,\u001b[0m \u001b[0mstart\u001b[0m\u001b[1;33m=\u001b[0m\u001b[1;36m0\u001b[0m\u001b[1;33m)\u001b[0m\u001b[1;33m\u001b[0m\u001b[1;33m\u001b[0m\u001b[0m\n",
              "\u001b[1;31mDocstring:\u001b[0m     \n",
              "Return an enumerate object.\n",
              "\n",
              "  iterable\n",
              "    an object supporting iteration\n",
              "\n",
              "The enumerate object yields pairs containing a count (from start, which\n",
              "defaults to zero) and a value yielded by the iterable argument.\n",
              "\n",
              "enumerate is useful for obtaining an indexed list:\n",
              "    (0, seq[0]), (1, seq[1]), (2, seq[2]), ...\n",
              "\u001b[1;31mType:\u001b[0m           type\n",
              "\u001b[1;31mSubclasses:\u001b[0m     "
            ]
          },
          "metadata": {},
          "output_type": "display_data"
        }
      ],
      "source": [
        "enumerate?\n"
      ]
    },
    {
      "cell_type": "markdown",
      "metadata": {
        "id": "6xVO9bJUrQnl"
      },
      "source": [
        "#### 96. Given a two dimensional array, how to extract unique rows? (★★★)"
      ]
    },
    {
      "cell_type": "code",
      "execution_count": null,
      "metadata": {
        "id": "XkwyEsPHrQnm",
        "outputId": "eb529c39-7e25-4af4-9640-05adfc0a592b"
      },
      "outputs": [
        {
          "name": "stdout",
          "output_type": "stream",
          "text": [
            "True\n"
          ]
        }
      ],
      "source": [
        "array = np.array([[1, 2, 3],\n",
        "                 [4, 5, 6],\n",
        "                 [1, 2, 3],\n",
        "                 [7, 8, 9],\n",
        "                 [4, 5, 6]])\n",
        "print(np.all(np.unique(array)))"
      ]
    },
    {
      "cell_type": "code",
      "execution_count": null,
      "metadata": {
        "id": "V6kZi89yrQnn",
        "outputId": "c38bf361-c39a-4d8e-b075-613f0ecd22f4"
      },
      "outputs": [
        {
          "name": "stdout",
          "output_type": "stream",
          "text": [
            "[(1, 2, 3), (4, 5, 6), (1, 2, 3), (7, 8, 9), (4, 5, 6)]\n",
            "[[7 8 9]\n",
            " [1 2 3]\n",
            " [4 5 6]]\n"
          ]
        }
      ],
      "source": [
        "array = np.array([[1, 2, 3],\n",
        "                 [4, 5, 6],\n",
        "                 [1, 2, 3],\n",
        "                 [7, 8, 9],\n",
        "                 [4, 5, 6]])\n",
        "\n",
        "#Convert the 2D array to a list of tuples(each row becomes a tuple)\n",
        "# tuples = [tuple(row) for row in toys]\n",
        "tuple_list = []\n",
        "for row in array:\n",
        "    # Each row of the array becomes a tuple. This step is necessary because NumPy's unique() function works differently with 2D arrays.\n",
        "    x = tuple(row)\n",
        "    tuple_list.append(x)\n",
        "print(tuple_list)\n",
        "\n",
        "# We use the set() function to get unique tuples. A set is a collection of unique elements, so when we convert the list of tuples to a set, it automatically removes duplicates.\n",
        "unique = np.array(list(set(tuple_list)))\n",
        "print(unique)"
      ]
    },
    {
      "cell_type": "markdown",
      "metadata": {
        "id": "aPdhlynbrQnn"
      },
      "source": [
        "#### 97. Considering 2 vectors A & B, write the einsum equivalent of inner, outer, sum, and mul function (★★★)"
      ]
    },
    {
      "cell_type": "code",
      "execution_count": null,
      "metadata": {
        "id": "r2GH_JnGrQno",
        "outputId": "d10250f4-b665-4ecf-f226-0a1801ceb7b2"
      },
      "outputs": [
        {
          "name": "stdout",
          "output_type": "stream",
          "text": [
            "32\n"
          ]
        }
      ],
      "source": [
        "A = np.array([1, 2, 3])\n",
        "B = np.array([4, 5, 6])\n",
        "\n",
        "#Inner product using einsum\n",
        "# Imagine you have two lists of numbers, and you want to multiply each pair of numbers from the two lists, then add up all those products.\n",
        "inner_product = np.einsum('i, i->', A, B) # 'i,i->' indicates that we want to multiply corresponding elements of A and B, and -> indicates that we want to sum up the results.\n",
        "print(inner_product)"
      ]
    },
    {
      "cell_type": "code",
      "execution_count": null,
      "metadata": {
        "id": "LMWhBYLxrQno"
      },
      "outputs": [],
      "source": [
        "#???????"
      ]
    },
    {
      "cell_type": "code",
      "execution_count": null,
      "metadata": {
        "id": "UGBQqupBrQnp",
        "outputId": "383d14aa-8a22-4e94-c322-37ef37b0cc4e"
      },
      "outputs": [
        {
          "name": "stdout",
          "output_type": "stream",
          "text": [
            "[[ 4  5  6]\n",
            " [ 8 10 12]\n",
            " [12 15 18]]\n"
          ]
        }
      ],
      "source": [
        "#Outer product using einsum\n",
        "#imagine you have two lists again, but this time you want to create a matrix where each element (i, j) is the product of the ith element of the first list and the jth element of the second list.\n",
        "\n",
        "A = np.array([1, 2, 3])\n",
        "B = np.array([4, 5, 6])\n",
        "\n",
        "#Outer product using einsum\n",
        "outer_product = np.einsum('i, j->ij', A, B)\n",
        "print(outer_product)"
      ]
    },
    {
      "cell_type": "code",
      "execution_count": null,
      "metadata": {
        "id": "8FfGSVaRrQnp",
        "outputId": "596b780b-8c3e-4919-86ba-b020c785e1be"
      },
      "outputs": [
        {
          "name": "stdout",
          "output_type": "stream",
          "text": [
            "15\n"
          ]
        }
      ],
      "source": [
        "#Sum\n",
        "# Let's say you have a list of numbers and you want to add them all up. That's the sum\n",
        "\n",
        "X = np.array([1, 2, 3, 4, 5])\n",
        "\n",
        "#Sum using einsum\n",
        "total_sum = np.einsum('i->', X)\n",
        "print(total_sum)"
      ]
    },
    {
      "cell_type": "code",
      "execution_count": null,
      "metadata": {
        "id": "phmfMTPmrQnq",
        "outputId": "a149ce40-80f9-4b58-b09b-9d50f2e56d72"
      },
      "outputs": [
        {
          "name": "stdout",
          "output_type": "stream",
          "text": [
            "[ 4 10 18]\n"
          ]
        }
      ],
      "source": [
        "A = np.array([1, 2, 3])\n",
        "B = np.array([4, 5, 6])\n",
        "\n",
        "#Multiplication einsum\n",
        "mul = np.einsum('i, i->i', A, B)\n",
        "print(mul)"
      ]
    },
    {
      "cell_type": "code",
      "execution_count": null,
      "metadata": {
        "id": "U7tTIIKKrQnr"
      },
      "outputs": [],
      "source": [
        "#np.einsum?\n"
      ]
    },
    {
      "cell_type": "markdown",
      "metadata": {
        "id": "YLKKQlKZrQnr"
      },
      "source": [
        "#### 98. Considering a path described by two vectors (X,Y), how to sample it using equidistant samples (★★★)?"
      ]
    },
    {
      "cell_type": "code",
      "execution_count": null,
      "metadata": {
        "id": "SSOVvZOzrQns"
      },
      "outputs": [],
      "source": [
        "#????????????????????"
      ]
    },
    {
      "cell_type": "code",
      "execution_count": null,
      "metadata": {
        "id": "MTVXopK4rQns",
        "outputId": "3dc3f73a-1861-4365-a780-75cd3ca7b8b4"
      },
      "outputs": [
        {
          "name": "stdout",
          "output_type": "stream",
          "text": [
            "[-0.5  2. ]\n"
          ]
        }
      ],
      "source": [
        "Y = np.array([1, 4])\n",
        "X = np.array([2, 0])\n",
        "\n",
        "diff = (Y - X)\n",
        "print(diff/2)"
      ]
    },
    {
      "cell_type": "code",
      "execution_count": null,
      "metadata": {
        "id": "jWBvJw5wrQnt"
      },
      "outputs": [],
      "source": []
    },
    {
      "cell_type": "markdown",
      "metadata": {
        "id": "GIZzktmBrQnt"
      },
      "source": [
        "#### 99. Given an integer n and a 2D array X, select from X the rows which can be interpreted as draws from a multinomial distribution with n degrees, i.e., the rows which only contain integers and which sum to n. (★★★)"
      ]
    },
    {
      "cell_type": "code",
      "execution_count": null,
      "metadata": {
        "id": "4ewWaNkPrQnt",
        "outputId": "2c3fd486-4dbb-419c-8176-af80ae50ca4b"
      },
      "outputs": [
        {
          "name": "stdout",
          "output_type": "stream",
          "text": [
            "[1. 2. 3.]\n"
          ]
        }
      ],
      "source": [
        "# Let's say this is our 2D array X representing boxes and their balls\n",
        "X = np.array([[1, 2, 3],\n",
        "             [2, 3.5, 4],\n",
        "             [0, 5, 6],\n",
        "             [4, 1, 0]])\n",
        "\n",
        "# Our desired total count of balls in each box\n",
        "n = 6\n",
        "\n",
        "# List to store the rows that meet our conditions\n",
        "selected_rows = []\n",
        "\n",
        "# Loop through each row in X\n",
        "for row in X:\n",
        "    #Check if the row contains only integers and if the sum equals n\n",
        "    if np.all(np.equal(np.mod(row, 1), 0)) and np.sum(row) == n:\n",
        "        selected_rows.append(row)\n",
        "\n",
        "for row in selected_rows:\n",
        "    print(row)"
      ]
    },
    {
      "cell_type": "markdown",
      "metadata": {
        "id": "UNH-SZohrQnu"
      },
      "source": [
        "#### 100. Compute bootstrapped 95% confidence intervals for the mean of a 1D array X (i.e., resample the elements of an array with replacement N times, compute the mean of each sample, and then compute percentiles over the means). (★★★)"
      ]
    },
    {
      "cell_type": "code",
      "execution_count": null,
      "metadata": {
        "id": "HG2xFJP5rQnv",
        "outputId": "373ba5f6-a11d-4b1d-d034-f83385b8d699"
      },
      "outputs": [
        {
          "name": "stdout",
          "output_type": "stream",
          "text": [
            "Interval for the mean: 1.0, 15.0\n"
          ]
        }
      ],
      "source": [
        "X = np.array([3, 5, 7, 9, 1, 13, 15])\n",
        "\n",
        "#Samples\n",
        "N = 1000\n",
        "\n",
        "#List to store the means of each sample\n",
        "sample_means = []\n",
        "\n",
        "#Loop N times to take samples, compute their mean and store it\n",
        "for i in range(N):\n",
        "    #Randomly sample withreplacement form the bag\n",
        "    sample = np.random.choice(X, size=len(X), replace=True)\n",
        "    #print(sample)\n",
        "    #Compute the mean of the sample and add it to the list\n",
        "    sample_mean = (sample)\n",
        "    #print(sample_mean)\n",
        "    sample_means.append(sample_mean)\n",
        "   # print(sample_means)\n",
        "\n",
        "#Compute the 2.5th and 97.5th percentile to get the 95% confidence interval\n",
        "lower_bound = np.percentile(sample_means, 2.5)\n",
        "upper_bound = np.percentile(sample_means, 97.5)\n",
        "print(f'Interval for the mean: {lower_bound}, {upper_bound}')"
      ]
    },
    {
      "cell_type": "code",
      "execution_count": null,
      "metadata": {
        "id": "LzRpx1IsrQnw"
      },
      "outputs": [],
      "source": []
    }
  ],
  "metadata": {
    "kernelspec": {
      "display_name": "Python 3 (ipykernel)",
      "language": "python",
      "name": "python3"
    },
    "language_info": {
      "codemirror_mode": {
        "name": "ipython",
        "version": 3
      },
      "file_extension": ".py",
      "mimetype": "text/x-python",
      "name": "python",
      "nbconvert_exporter": "python",
      "pygments_lexer": "ipython3",
      "version": "3.11.7"
    },
    "colab": {
      "provenance": [],
      "include_colab_link": true
    }
  },
  "nbformat": 4,
  "nbformat_minor": 0
}