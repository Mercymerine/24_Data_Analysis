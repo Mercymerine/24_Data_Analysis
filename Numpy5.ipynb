{
  "cells": [
    {
      "cell_type": "markdown",
      "metadata": {
        "id": "view-in-github",
        "colab_type": "text"
      },
      "source": [
        "<a href=\"https://colab.research.google.com/github/Mercymerine/24_Data_Analysis/blob/main/Numpy5.ipynb\" target=\"_parent\"><img src=\"https://colab.research.google.com/assets/colab-badge.svg\" alt=\"Open In Colab\"/></a>"
      ]
    },
    {
      "cell_type": "markdown",
      "metadata": {
        "id": "eiX233D8HmPw"
      },
      "source": [
        "# Numpy Exercise 5\n",
        "\n",
        "### All of the questions in this exercise are attributed to rougier/numpy-100"
      ]
    },
    {
      "cell_type": "code",
      "execution_count": 1,
      "metadata": {
        "id": "NXGzImSFHmP0"
      },
      "outputs": [],
      "source": [
        "import numpy as np"
      ]
    },
    {
      "cell_type": "markdown",
      "metadata": {
        "id": "dOFxLUaSHmP1"
      },
      "source": [
        "#### 61. Find the nearest value from a given value in an array (★★☆)"
      ]
    },
    {
      "cell_type": "code",
      "execution_count": 2,
      "metadata": {
        "id": "9pFV_ohHHmP2",
        "outputId": "b5ff9e7f-da56-4b27-83da-f351d47208cd",
        "colab": {
          "base_uri": "https://localhost:8080/"
        }
      },
      "outputs": [
        {
          "output_type": "stream",
          "name": "stdout",
          "text": [
            "[5 3 1 1 3]\n",
            "2\n",
            "[1 3 5 7 9]\n",
            "5\n"
          ]
        }
      ],
      "source": [
        "#Array\n",
        "array = np.array([1, 3, 5, 7, 9])\n",
        "\n",
        "#Given value\n",
        "given_value = 6\n",
        "\n",
        "#Absolute difference\n",
        "diff = np.abs(array - given_value)\n",
        "print(diff)\n",
        "\n",
        "#Index of the minimum absolute difference\n",
        "index = np.argmin(diff)\n",
        "print(index)\n",
        "\n",
        "\n",
        "#Nearest value\n",
        "nearest_value = array[index]\n",
        "\n",
        "print(array)\n",
        "print(nearest_value)"
      ]
    },
    {
      "cell_type": "markdown",
      "metadata": {
        "id": "mHdbTpVbHmP3"
      },
      "source": [
        "#### 62. Considering two arrays with shape (1,3) and (3,1), how to compute their sum using an iterator? (★★☆)"
      ]
    },
    {
      "cell_type": "code",
      "source": [
        "pile1 = [[1, 2, 3]]\n",
        "pile2 = [[4], [5], [6]]\n",
        "\n",
        "total_blocks = 0\n",
        "\n",
        "for block in pile1[0]:\n",
        "  total_blocks += block\n",
        "\n",
        "#iterate through each row then block in the second pile\n",
        "for row in pile2:\n",
        "  for block in row:\n",
        "    total_blocks += block\n",
        "\n",
        "print(total_blocks)"
      ],
      "metadata": {
        "id": "tNov8rYOJgOq",
        "colab": {
          "base_uri": "https://localhost:8080/"
        },
        "outputId": "c79bf302-db23-425c-dee7-d013a0f77c3a"
      },
      "execution_count": 37,
      "outputs": [
        {
          "output_type": "stream",
          "name": "stdout",
          "text": [
            "21\n"
          ]
        }
      ]
    },
    {
      "cell_type": "markdown",
      "metadata": {
        "id": "6wSn3o6uHmP4"
      },
      "source": [
        "#### 63. Create an array class that has a name attribute (★★☆)"
      ]
    },
    {
      "cell_type": "code",
      "execution_count": 38,
      "metadata": {
        "id": "qirXdyDuHmP4"
      },
      "outputs": [],
      "source": [
        "class Array_class():\n",
        "    def __init__(self, name):\n",
        "        self.name = name"
      ]
    },
    {
      "cell_type": "markdown",
      "metadata": {
        "id": "KGUhOEV0HmP5"
      },
      "source": [
        "#### 64. Consider a given vector, how to add 1 to each element indexed by a second vector (be careful with repeated indices)? (★★★)"
      ]
    },
    {
      "cell_type": "code",
      "execution_count": 39,
      "metadata": {
        "id": "QYHuevXGHmP5",
        "outputId": "78b2d10c-bb13-4458-a54b-d7fffc3200c5",
        "colab": {
          "base_uri": "https://localhost:8080/"
        }
      },
      "outputs": [
        {
          "output_type": "stream",
          "name": "stdout",
          "text": [
            "[11 21 30 41 51]\n"
          ]
        }
      ],
      "source": [
        "import numpy as np\n",
        "\n",
        "#Given vector\n",
        "given_vector = np.array([10, 20, 30, 40, 50])\n",
        "\n",
        "#Indices vector\n",
        "indices_vector = np.array([0, 1, 1, 3, 4])\n",
        "\n",
        "#Add 1 to each element indexed by the second vector\n",
        "for index in np.unique(indices_vector):\n",
        "    given_vector[index] +=1\n",
        "print(given_vector)"
      ]
    },
    {
      "cell_type": "markdown",
      "metadata": {
        "id": "rj4fndqhHmP5"
      },
      "source": [
        "#### 65. How to accumulate elements of a vector (X) to an array (F) based on an index list (I)? (★★★)"
      ]
    },
    {
      "cell_type": "code",
      "execution_count": 40,
      "metadata": {
        "id": "YeqXDFY-HmP5",
        "outputId": "e75182db-26e4-45ef-d829-2dfa83abb8c5",
        "colab": {
          "base_uri": "https://localhost:8080/"
        }
      },
      "outputs": [
        {
          "output_type": "stream",
          "name": "stdout",
          "text": [
            "[1. 5. 0. 4. 5.]\n"
          ]
        }
      ],
      "source": [
        "#Vector at X\n",
        "X = np.array([1, 2, 3, 4, 5 ])\n",
        "\n",
        "#Index list I\n",
        "I = np.array([0, 1, 1, 3, 4])\n",
        "\n",
        "#Initializa array F with zeros\n",
        "F = np.zeros(np.max(I) + 1)\n",
        "\n",
        "#Accumulate elements of X into F ased on index list I\n",
        "np.add.at(F, I, X)\n",
        "\n",
        "print(F)\n",
        "\n",
        "\n"
      ]
    },
    {
      "cell_type": "markdown",
      "metadata": {
        "id": "OT5gp1qkHmP6"
      },
      "source": [
        "#### 66. Considering a (w,h,3) image of (dtype=ubyte), compute the number of unique colors (★★☆)"
      ]
    },
    {
      "cell_type": "code",
      "execution_count": 41,
      "metadata": {
        "id": "x_9FmKM1HmP6",
        "outputId": "95850017-5f0f-4b79-9779-0b3508423149",
        "colab": {
          "base_uri": "https://localhost:8080/"
        }
      },
      "outputs": [
        {
          "output_type": "stream",
          "name": "stdout",
          "text": [
            "100\n"
          ]
        }
      ],
      "source": [
        "w = 10\n",
        "h = 10\n",
        "\n",
        "#Generate a random image with dtype =ubyte\n",
        "image = np.random.randint(0, 256, (w, h, 3), dtype=np.uint8)\n",
        "\n",
        "#Reshape the image to (w*h, 3) to treat each pixel as a separate point\n",
        "pixels = np.reshape(image, (-1, 3))\n",
        "\n",
        "#Get the unique colors and count them\n",
        "unique_colors = np.unique(pixels, axis=0)\n",
        "num_unique_colors = len(unique_colors)\n",
        "print(num_unique_colors)"
      ]
    },
    {
      "cell_type": "markdown",
      "metadata": {
        "id": "qejMiFEkHmP6"
      },
      "source": [
        "#### 67. Considering a four dimensions array, how to get sum over the last two axis at once? (★★★)"
      ]
    },
    {
      "cell_type": "code",
      "execution_count": 42,
      "metadata": {
        "id": "xCsNIPQ3HmP6",
        "outputId": "10f8212c-1cf3-4d2a-f757-704cc6e84da8",
        "colab": {
          "base_uri": "https://localhost:8080/"
        }
      },
      "outputs": [
        {
          "output_type": "stream",
          "name": "stdout",
          "text": [
            "[[[[19  0  4  4 10]\n",
            "   [12 18 19 16 19]\n",
            "   [14  6 15  8 18]\n",
            "   [19 13 18 17  6]]\n",
            "\n",
            "  [[ 5  7 18  9  7]\n",
            "   [ 2 17 17 19  6]\n",
            "   [11 15 16 11 14]\n",
            "   [18 19  3 17 19]]\n",
            "\n",
            "  [[ 6 14  2 12 16]\n",
            "   [15 14 19  6 19]\n",
            "   [ 2  4  0 19  1]\n",
            "   [13 11 10  3 13]]]\n",
            "\n",
            "\n",
            " [[[18  7 11 10 12]\n",
            "   [19  6  6 17 18]\n",
            "   [14  0  0  3  6]\n",
            "   [ 4 12  6  7  0]]\n",
            "\n",
            "  [[ 6 17  6  8  0]\n",
            "   [11  3 10  6 10]\n",
            "   [13 10  7  7 19]\n",
            "   [18  3  0  2  6]]\n",
            "\n",
            "  [[18 13  0 12 17]\n",
            "   [ 3 17  7 11  8]\n",
            "   [14 15  8  2 10]\n",
            "   [10  1  1 12 12]]]]\n",
            "[[255 250 199]\n",
            " [176 162 191]]\n"
          ]
        }
      ],
      "source": [
        "import numpy as np\n",
        "\n",
        "array = np.random.randint(0, 20, size = (2, 3, 4, 5))\n",
        "print(array)\n",
        "\n",
        "\n",
        "\n",
        "axis_sum = np.sum(array, axis=(-2, -1))#??????????\n",
        "print(axis_sum)"
      ]
    },
    {
      "cell_type": "markdown",
      "metadata": {
        "id": "Jw2qEBHJHmP7"
      },
      "source": [
        "#### 68. Considering a one-dimensional vector D, how to compute means of subsets of D using a vector S of same size describing subset  indices? (★★★)"
      ]
    },
    {
      "cell_type": "code",
      "execution_count": 43,
      "metadata": {
        "id": "f9ctgwTNHmP7",
        "outputId": "6356d248-6031-4625-f4ec-e7527e355152",
        "colab": {
          "base_uri": "https://localhost:8080/"
        }
      },
      "outputs": [
        {
          "output_type": "stream",
          "name": "stdout",
          "text": [
            "4\n",
            "[1.5, 3.5, 6.0, 9.0]\n"
          ]
        }
      ],
      "source": [
        "D = np.array([1, 2, 3, 4, 5, 6, 7, 8, 9, 10])\n",
        "\n",
        "S = np.array([0, 0, 1, 1, 2, 2, 2, 3, 3, 3])\n",
        "\n",
        "#Let's find out how many groups we have\n",
        "num_groups = np.max(S) + 1\n",
        "print(num_groups)\n",
        "\n",
        "#Initializa a list to hold the means of eac group\n",
        "means = []\n",
        "\n",
        "#Compute mean flavor of candies in each group\n",
        "for group_num in range(num_groups):\n",
        "    #Find candies belonging to the current group\n",
        "    candies_in_group = D[S == group_num]\n",
        "    #Compute the mean flavor of candies in this group\n",
        "    mean_flavor = np.mean(candies_in_group)\n",
        "    means.append(mean_flavor)\n",
        "print(means)\n",
        "\n"
      ]
    },
    {
      "cell_type": "markdown",
      "metadata": {
        "id": "eaBppXBPHmP8"
      },
      "source": [
        "#### 69. How to get the diagonal of a dot product? (★★★)"
      ]
    },
    {
      "cell_type": "code",
      "execution_count": 44,
      "metadata": {
        "id": "XkKRcW8WHmP8",
        "outputId": "0404d113-4dc6-4824-dbc8-ae025a095e89",
        "colab": {
          "base_uri": "https://localhost:8080/"
        }
      },
      "outputs": [
        {
          "output_type": "stream",
          "name": "stdout",
          "text": [
            "[[25 28]\n",
            " [73 82]]\n",
            "[25 82]\n"
          ]
        }
      ],
      "source": [
        "arr1 = np.array([[1, 2],\n",
        "                [4, 5]])\n",
        "\n",
        "arr2 = np.array([[7, 8],\n",
        "               [9, 10]])\n",
        "\n",
        "#Diagonal of the dot product of A and B\n",
        "print((np.dot(arr1, arr2)))\n",
        "dot_product = np.diag(np.dot(arr1, arr2))\n",
        "print(dot_product)"
      ]
    },
    {
      "cell_type": "markdown",
      "metadata": {
        "id": "AK6AaHjWHmP9"
      },
      "source": [
        "#### 70. Consider the vector [1, 2, 3, 4, 5], how to build a new vector with 3 consecutive zeros interleaved between each value? (★★★)"
      ]
    },
    {
      "cell_type": "code",
      "execution_count": 45,
      "metadata": {
        "id": "OALdEtrUHmP9",
        "colab": {
          "base_uri": "https://localhost:8080/"
        },
        "outputId": "247e6b8b-9f07-483a-fb01-477304b4bab7"
      },
      "outputs": [
        {
          "output_type": "stream",
          "name": "stdout",
          "text": [
            "[0 2 3 4]\n"
          ]
        }
      ],
      "source": [
        "original_vector = [1, 2, 3, 4, 5]\n",
        "\n",
        "new_vector = []\n",
        "\n",
        "for value in original_vector:\n",
        "  new_vector.append(value)\n",
        "  new_vector.extend([0, 0, 0])\n",
        "\n",
        "new_vector.pop()\n",
        "print(vector)"
      ]
    },
    {
      "cell_type": "markdown",
      "metadata": {
        "id": "m6BylahWHmP9"
      },
      "source": [
        "#### 71. Consider an array of dimension (5,5,3), how to mulitply it by an array with dimensions (5,5)? (★★★)"
      ]
    },
    {
      "cell_type": "code",
      "execution_count": 46,
      "metadata": {
        "id": "jzmuzHEgHmP9",
        "outputId": "81d64291-7f0a-44fd-a8ef-9db3c06e8515",
        "colab": {
          "base_uri": "https://localhost:8080/"
        }
      },
      "outputs": [
        {
          "output_type": "stream",
          "name": "stdout",
          "text": [
            "[[[1 2 3]\n",
            "  [4 5 6]]]\n",
            "[[1 2 3]\n",
            " [4 5 6]]\n",
            "[[[1]\n",
            "  [2]\n",
            "  [3]]\n",
            "\n",
            " [[4]\n",
            "  [5]\n",
            "  [6]]]\n",
            "3\n"
          ]
        }
      ],
      "source": [
        "array1 = np.array([[[1, 2, 3],\n",
        "           [4, 5, 6]]])\n",
        "array2 = np.array([[1, 2,3],\n",
        "                  [4, 5, 6]])\n",
        "print(array1)\n",
        "print(array2)\n",
        "new=array2[:, :, np.newaxis] #This part of the code adds a new axis to the 2D array. By using np.newaxis, we're essentially adding a new dimension to the 2D array along the third axis.\n",
        "print(new)\n",
        "print(new.ndim)"
      ]
    },
    {
      "cell_type": "code",
      "execution_count": 47,
      "metadata": {
        "id": "I9nyqc9pHmP9",
        "outputId": "48d2b837-c60c-4b71-f6fd-333485e0f02d",
        "colab": {
          "base_uri": "https://localhost:8080/"
        }
      },
      "outputs": [
        {
          "output_type": "stream",
          "name": "stdout",
          "text": [
            "[[[3 9 9]\n",
            "  [6 0 0]\n",
            "  [0 0 0]\n",
            "  [0 0 0]\n",
            "  [6 0 0]]\n",
            "\n",
            " [[3 1 2]\n",
            "  [2 1 2]\n",
            "  [9 3 9]\n",
            "  [6 6 9]\n",
            "  [0 1 2]]\n",
            "\n",
            " [[9 3 3]\n",
            "  [0 0 0]\n",
            "  [9 9 3]\n",
            "  [0 6 6]\n",
            "  [0 0 0]]\n",
            "\n",
            " [[0 3 3]\n",
            "  [0 0 0]\n",
            "  [1 3 1]\n",
            "  [3 0 2]\n",
            "  [9 6 6]]\n",
            "\n",
            " [[0 9 3]\n",
            "  [6 4 2]\n",
            "  [0 6 6]\n",
            "  [3 3 0]\n",
            "  [0 0 6]]]\n"
          ]
        }
      ],
      "source": [
        "arr1 = np.random.randint(0, 4, size = (5, 5, 3))\n",
        "arr2 = np.random.randint(0, 4, size= (5, 5))\n",
        "\n",
        "print(arr1 * arr2[:, :, np.newaxis])"
      ]
    },
    {
      "cell_type": "markdown",
      "metadata": {
        "id": "TpSdIykgHmP9"
      },
      "source": [
        "#### 72. How to swap two rows of an array? (★★★)"
      ]
    },
    {
      "cell_type": "code",
      "execution_count": null,
      "metadata": {
        "id": "gyjbY9GtHmP9"
      },
      "outputs": [],
      "source": [
        "array = np.array([[1, 2, 3],\n",
        "                  [4, 5, 6],\n",
        "                  [7, 8, 9]])\n",
        "\n",
        "\n",
        "print(array[[0, 1]])\n",
        "print('********')\n",
        "print(array[[1, 0]])\n",
        "print('********')\n",
        "array[[0, 1]] = array[[1, 0]]\n",
        "print(array)"
      ]
    },
    {
      "cell_type": "markdown",
      "metadata": {
        "id": "JbGp5YB5HmP-"
      },
      "source": [
        "#### 73. Consider a set of 10 triplets describing 10 triangles (with shared vertices), find the set of unique line segments composing all the  triangles (★★★)"
      ]
    },
    {
      "cell_type": "code",
      "execution_count": 48,
      "metadata": {
        "id": "U_3WErJDHmP-",
        "outputId": "24670a1b-f688-4323-f1da-8b1ab96a1286",
        "colab": {
          "base_uri": "https://localhost:8080/"
        }
      },
      "outputs": [
        {
          "output_type": "stream",
          "name": "stdout",
          "text": [
            "{(3, 4), (3, 1), (12, 10), (8, 9), (8, 6), (4, 2), (4, 5), (5, 6), (5, 3), (9, 7), (9, 10), (1, 2), (10, 11), (10, 8), (6, 4), (6, 7), (11, 9), (2, 3), (11, 12), (7, 5), (7, 8)}\n"
          ]
        }
      ],
      "source": [
        "triangles = np.array([[[1, 2], [2, 3], [3, 1]],\n",
        "                     [[2, 3], [3, 4], [4, 2]],\n",
        "                     [[3, 4], [4, 5], [5, 3]],\n",
        "                     [[4, 5], [5, 6], [6, 4]],\n",
        "                     [[5, 6], [6, 7], [7, 5]],\n",
        "                     [[6, 7], [7, 8], [8, 6]],\n",
        "                     [[7, 8], [8, 9], [9, 7]],\n",
        "                     [[8, 9], [9, 10], [10, 8]],\n",
        "                     [[9, 10], [10, 11], [11, 9]],\n",
        "                     [[10, 11], [11, 12], [12, 10]]\n",
        "                     ])\n",
        "\n",
        "#Flatten the triangle array and convert it to a set to get unique line segments\n",
        "line_segments = set(map(tuple, triangles.reshape(-1, 2))) #????\n",
        "\n",
        "print(line_segments)"
      ]
    },
    {
      "cell_type": "markdown",
      "metadata": {
        "id": "WYPsRSd_HmP-"
      },
      "source": [
        "#### 74. Given a sorted array C that corresponds to a bincount, how to produce an array A such that np.bincount(A) == C? (★★★)"
      ]
    },
    {
      "cell_type": "code",
      "execution_count": 49,
      "metadata": {
        "id": "9VvtlN_8HmP-"
      },
      "outputs": [],
      "source": [
        "#  np.bincount() helps you count how many times each number appears in an array.\n",
        "# np.repeat(...): This function repeats each element of the array"
      ]
    },
    {
      "cell_type": "code",
      "execution_count": 50,
      "metadata": {
        "id": "h26EOE_hHmP-",
        "outputId": "ae2a54d5-cbde-4e07-dfa1-8ffd4d8a1b5c",
        "colab": {
          "base_uri": "https://localhost:8080/"
        }
      },
      "outputs": [
        {
          "output_type": "stream",
          "name": "stdout",
          "text": [
            "6\n",
            "[1 2 1 1 1]\n",
            "(array([0, 1, 2, 3, 4, 5]), array([0, 1, 1, 2, 3, 4]))\n"
          ]
        }
      ],
      "source": [
        "import numpy as np\n",
        "\n",
        "# Assuming 'C' is your sorted array that corresponds to a bincount\n",
        "# Example:\n",
        "C = np.array([0, 1, 1, 2, 3, 4])\n",
        "print(len(C))\n",
        "print(np.bincount(C))\n",
        "\n",
        "# Produce an array 'A' such that np.bincount(A) == C\n",
        "#A = np.repeat(np.arange(len(C)), C)\n",
        "A = (np.arange(len(C)), C)\n",
        "#A = np.arange(len(C))\n",
        "print(A)\n"
      ]
    },
    {
      "cell_type": "code",
      "execution_count": 51,
      "metadata": {
        "id": "6W8XdAvvHmP_",
        "outputId": "f8258b7d-091d-4655-b061-4ff2ffd03524",
        "colab": {
          "base_uri": "https://localhost:8080/"
        }
      },
      "outputs": [
        {
          "output_type": "stream",
          "name": "stdout",
          "text": [
            "6\n",
            "[0 1 2 3 4 5]\n",
            "(array([0, 1, 2, 3, 4, 5]), array([0, 1, 1, 2, 3, 4]))\n",
            "[1 2 3 3 4 4 4 5 5 5 5]\n"
          ]
        }
      ],
      "source": [
        "#Assuming 'C' is the sorted array that corresponds to bincount?\n",
        "# np.bincount() helps you count how many times each number appears in an array.\n",
        "C = np.array([0, 1, 1, 2, 3, 4])\n",
        "print(len(C))\n",
        "\n",
        "#Produce an array 'A' such that np.bincount(A) == C\n",
        "# np.repeat(...): This function repeats each element of the array\n",
        "A = np.arange(len(C))\n",
        "print(A)\n",
        "A = np.arange(len(C)), C\n",
        "print(A)\n",
        "# repeat each index according to the counts specified in C\n",
        "A = np.repeat(np.arange(len(C)), C)\n",
        "print(A)\n"
      ]
    },
    {
      "cell_type": "markdown",
      "metadata": {
        "id": "Kryg3IikHmP_"
      },
      "source": [
        "#### 75. How to compute averages using a sliding window over an array? (★★★)"
      ]
    },
    {
      "cell_type": "code",
      "execution_count": 52,
      "metadata": {
        "id": "R61sTTGyHmP_",
        "outputId": "07b83268-a5ac-481d-9304-3ec27729f203",
        "colab": {
          "base_uri": "https://localhost:8080/"
        }
      },
      "outputs": [
        {
          "output_type": "stream",
          "name": "stdout",
          "text": [
            "[2. 3. 4. 5. 6. 7. 8. 9.]\n"
          ]
        }
      ],
      "source": [
        "#  a sliding window is like a moving view along a row of blocks, and at each position, we compute some value\n",
        "\n",
        "blocks = np.array([1, 2, 3, 4, 5, 6, 7, 8, 9, 10])\n",
        "\n",
        "#Size of sliding window\n",
        "window_size = 3\n",
        "\n",
        "#Compute the moving average using a sliding window\n",
        "# 'valid', only the positions where the entire window can fit within the array are considered\n",
        "averages = np.convolve(blocks, np.ones(window_size) / window_size, mode='valid') #????\n",
        "\n",
        "print(averages)"
      ]
    },
    {
      "cell_type": "markdown",
      "metadata": {
        "id": "gxXuUYeTHmP_"
      },
      "source": [
        "#### 76. Consider a one-dimensional array Z, build a two-dimensional array whose first row is (Z[0],Z[1],Z[2]) and each subsequent row is  shifted by 1 (last row should be (Z[-3],Z[-2],Z[-1]) (★★★)"
      ]
    },
    {
      "cell_type": "code",
      "execution_count": 53,
      "metadata": {
        "id": "roZVjqvvHmP_",
        "outputId": "b7d0415f-cd3d-46e7-de95-7c54db33a153",
        "colab": {
          "base_uri": "https://localhost:8080/"
        }
      },
      "outputs": [
        {
          "output_type": "stream",
          "name": "stdout",
          "text": [
            "7\n",
            "[array([1, 2, 3]), array([2, 3, 4]), array([3, 4, 5]), array([4, 5, 6]), array([5, 6, 7])]\n"
          ]
        }
      ],
      "source": [
        "Z = np.array([1, 2, 3, 4, 5, 6, 7])\n",
        "print(len(Z))\n",
        "\n",
        "rows = []\n",
        "\n",
        "for i in range(len(Z) -2 ):\n",
        "    #Extract three numbers from Z starting from i\n",
        "    row = Z[i:i+3]\n",
        "    rows.append(row)\n",
        "print(rows)"
      ]
    },
    {
      "cell_type": "markdown",
      "metadata": {
        "id": "hf1OJs1nHmP_"
      },
      "source": [
        "#### 77. How to negate a boolean, or to change the sign of a float inplace? (★★★)"
      ]
    },
    {
      "cell_type": "code",
      "execution_count": 54,
      "metadata": {
        "id": "pPwF8NGiHmQD",
        "outputId": "ea513e8c-930a-4f27-b11d-54313597c86f",
        "colab": {
          "base_uri": "https://localhost:8080/"
        }
      },
      "outputs": [
        {
          "output_type": "stream",
          "name": "stdout",
          "text": [
            "False\n"
          ]
        }
      ],
      "source": [
        "boolean = True\n",
        "boolean = not boolean\n",
        "print(boolean)\n"
      ]
    },
    {
      "cell_type": "code",
      "execution_count": 55,
      "metadata": {
        "id": "KVFO00LpHmQE",
        "outputId": "c656f1e0-3eaf-4354-d5cb-3ad386f960b5",
        "colab": {
          "base_uri": "https://localhost:8080/"
        }
      },
      "outputs": [
        {
          "output_type": "stream",
          "name": "stdout",
          "text": [
            "-5.0\n"
          ]
        }
      ],
      "source": [
        "number = 5.0\n",
        "number = - number\n",
        "print(number)"
      ]
    },
    {
      "cell_type": "markdown",
      "metadata": {
        "id": "v9z1XPSBHmQE"
      },
      "source": [
        "#### 78. Consider 2 sets of points P0,P1 describing lines (2d) and a point p, how to compute distance from p to each line i (P0[i],P1[i])? (★★★)"
      ]
    },
    {
      "cell_type": "code",
      "execution_count": 4,
      "metadata": {
        "id": "1TJz5fCnHmQE",
        "outputId": "3c79da48-0887-46ea-c3c3-fc8541f60e7d",
        "colab": {
          "base_uri": "https://localhost:8080/"
        }
      },
      "outputs": [
        {
          "output_type": "stream",
          "name": "stdout",
          "text": [
            "[0.         0.         1.34164079]\n"
          ]
        }
      ],
      "source": [
        "def line_distance(P0, P1, p):\n",
        "    #P0; contains the starting point\n",
        "    #P1; contains the end point\n",
        "    #p; contains the point\n",
        "\n",
        "\n",
        "    #Direction vector of each line\n",
        "    direction = P1 - P0\n",
        "\n",
        "    #Vector from each point to the starting point of each line\n",
        "    delta = p - P0\n",
        "\n",
        "    #Compute the distance from the point to each line using vector cross product\n",
        "    distances = np.abs(np.cross(direction, delta)) / np.linalg.norm(direction, axis=1)\n",
        "    return distances\n",
        "\n",
        "\n",
        "P0 = np.array([[1, 1],[2, 2], [3, 3]])\n",
        "P1 = np.array([[3, 1],[2, 3], [1, 2]])\n",
        "p = np.array([2, 1])\n",
        "\n",
        "print(line_distance(P0, P1, p))\n",
        "\n"
      ]
    },
    {
      "cell_type": "markdown",
      "metadata": {
        "id": "C9BsnHK3HmQE"
      },
      "source": [
        "#### 79. Consider 2 sets of points P0,P1 describing lines (2d) and a set of points P, how to compute distance from each point j (P[j]) to each line i (P0[i],P1[i])? (★★★)"
      ]
    },
    {
      "cell_type": "code",
      "execution_count": 4,
      "metadata": {
        "id": "BL_oa4QZHmQF"
      },
      "outputs": [],
      "source": []
    },
    {
      "cell_type": "markdown",
      "metadata": {
        "id": "lZ_ejqCdHmQF"
      },
      "source": [
        "#### 80. Consider an arbitrary array, write a function that extract a subpart with a fixed shape and centered on a given element (pad with a `fill` value when necessary) (★★★)"
      ]
    },
    {
      "cell_type": "code",
      "execution_count": 4,
      "metadata": {
        "id": "ZR8ZvcDLHmQF"
      },
      "outputs": [],
      "source": []
    },
    {
      "cell_type": "markdown",
      "metadata": {
        "id": "uo-bjyGuHmQF"
      },
      "source": [
        "#### 81. Consider an array Z = [1,2,3,4,5,6,7,8,9,10,11,12,13,14], how to generate an array R = [[1,2,3,4], [2,3,4,5], [3,4,5,6], ..., [11,12,13,14]]? (★★★)"
      ]
    },
    {
      "cell_type": "code",
      "execution_count": 5,
      "metadata": {
        "id": "jNiS0hm5HmQF",
        "outputId": "ad7943c2-3940-4117-956d-1daad36d6368",
        "colab": {
          "base_uri": "https://localhost:8080/"
        }
      },
      "outputs": [
        {
          "output_type": "stream",
          "name": "stdout",
          "text": [
            "[[ 1  2  3  4]\n",
            " [ 2  3  4  5]\n",
            " [ 3  4  5  6]\n",
            " [ 4  5  6  7]\n",
            " [ 5  6  7  8]\n",
            " [ 6  7  8  9]\n",
            " [ 7  8  9 10]\n",
            " [ 8  9 10 11]\n",
            " [ 9 10 11 12]\n",
            " [10 11 12 13]\n",
            " [11 12 13 14]]\n"
          ]
        }
      ],
      "source": [
        "Z = np.array([1,2,3,4,5,6,7,8,9,10,11,12,13,14])\n",
        "\n",
        "group_size = 4\n",
        "\n",
        "R = []\n",
        "\n",
        "for i in range(len(Z) - group_size + 1):\n",
        "    group = Z[i:i+group_size]\n",
        "    R.append(list(group))\n",
        "print(np.array(R))"
      ]
    },
    {
      "cell_type": "markdown",
      "metadata": {
        "id": "WjR4Pz3RHmQF"
      },
      "source": [
        "#### 82. Compute a matrix rank (★★★)"
      ]
    },
    {
      "cell_type": "code",
      "execution_count": 6,
      "metadata": {
        "id": "MkuF09a1HmQG"
      },
      "outputs": [],
      "source": [
        "#The rank of a matrix tells you how many \"independent\" toys are in the toy chest. If you have a lot of duplicate toys or if some toys can be made by combining other toys in the chest, then the rank will be lower."
      ]
    },
    {
      "cell_type": "code",
      "execution_count": 7,
      "metadata": {
        "id": "bTYBfjX9HmQG",
        "outputId": "f8e495b5-c7ac-4d06-e877-7c8d301e4762",
        "colab": {
          "base_uri": "https://localhost:8080/"
        }
      },
      "outputs": [
        {
          "output_type": "stream",
          "name": "stdout",
          "text": [
            "2\n"
          ]
        }
      ],
      "source": [
        "matrix = np.array([[1, 2, 3],\n",
        "                  [4, 5, 6],\n",
        "                  [7, 8, 9]])\n",
        "\n",
        "rank = np.linalg.matrix_rank(matrix)\n",
        "print(rank)"
      ]
    },
    {
      "cell_type": "markdown",
      "metadata": {
        "id": "zDxtzId4HmQG"
      },
      "source": [
        "#### 83. How to find the most frequent value in an array?"
      ]
    },
    {
      "cell_type": "code",
      "execution_count": 8,
      "metadata": {
        "id": "CfRK4Il3HmQG",
        "outputId": "fdd06cda-2987-4bb1-fb6f-6aa2761656e4",
        "colab": {
          "base_uri": "https://localhost:8080/"
        }
      },
      "outputs": [
        {
          "output_type": "stream",
          "name": "stdout",
          "text": [
            "[0 1 3 4 1]\n",
            "3\n"
          ]
        }
      ],
      "source": [
        "arrays = np.array([1, 2, 3, 4, 2, 2, 3, 3, 3])\n",
        "\n",
        "#Finding the most frequent value\n",
        "value = np.bincount(arrays)\n",
        "print(value)\n",
        "value = np.bincount(arrays).argmax()\n",
        "print(value)"
      ]
    },
    {
      "cell_type": "markdown",
      "metadata": {
        "id": "FBrEJQsvHmQH"
      },
      "source": [
        "#### 84. Extract all the contiguous 3x3 blocks from a random 10x10 matrix (★★★)"
      ]
    },
    {
      "cell_type": "code",
      "execution_count": 9,
      "metadata": {
        "id": "M9rxrMnYHmQH",
        "outputId": "11c75df7-6cd5-4c46-9df1-326ce665ddc8",
        "colab": {
          "base_uri": "https://localhost:8080/"
        }
      },
      "outputs": [
        {
          "output_type": "stream",
          "name": "stdout",
          "text": [
            "[[53 90  6]\n",
            " [21  3 32]\n",
            " [79 45 36]]\n",
            "[[90  6 59]\n",
            " [ 3 32  2]\n",
            " [45 36 99]]\n",
            "[[ 6 59 68]\n",
            " [32  2 76]\n",
            " [36 99 56]]\n",
            "[[59 68 13]\n",
            " [ 2 76 37]\n",
            " [99 56 16]]\n",
            "[[68 13 23]\n",
            " [76 37 62]\n",
            " [56 16 27]]\n",
            "[[13 23 57]\n",
            " [37 62 37]\n",
            " [16 27 90]]\n",
            "[[23 57 28]\n",
            " [62 37 69]\n",
            " [27 90 14]]\n",
            "[[57 28 77]\n",
            " [37 69 31]\n",
            " [90 14 87]]\n",
            "[[21  3 32]\n",
            " [79 45 36]\n",
            " [43 34 45]]\n",
            "[[ 3 32  2]\n",
            " [45 36 99]\n",
            " [34 45 12]]\n",
            "[[32  2 76]\n",
            " [36 99 56]\n",
            " [45 12 53]]\n",
            "[[ 2 76 37]\n",
            " [99 56 16]\n",
            " [12 53  5]]\n",
            "[[76 37 62]\n",
            " [56 16 27]\n",
            " [53  5 37]]\n",
            "[[37 62 37]\n",
            " [16 27 90]\n",
            " [ 5 37 63]]\n",
            "[[62 37 69]\n",
            " [27 90 14]\n",
            " [37 63 68]]\n",
            "[[37 69 31]\n",
            " [90 14 87]\n",
            " [63 68 53]]\n",
            "[[79 45 36]\n",
            " [43 34 45]\n",
            " [54 77 48]]\n",
            "[[45 36 99]\n",
            " [34 45 12]\n",
            " [77 48 86]]\n",
            "[[36 99 56]\n",
            " [45 12 53]\n",
            " [48 86 97]]\n",
            "[[99 56 16]\n",
            " [12 53  5]\n",
            " [86 97 38]]\n",
            "[[56 16 27]\n",
            " [53  5 37]\n",
            " [97 38 59]]\n",
            "[[16 27 90]\n",
            " [ 5 37 63]\n",
            " [38 59 55]]\n",
            "[[27 90 14]\n",
            " [37 63 68]\n",
            " [59 55 49]]\n",
            "[[90 14 87]\n",
            " [63 68 53]\n",
            " [55 49 55]]\n",
            "[[43 34 45]\n",
            " [54 77 48]\n",
            " [68 46 70]]\n",
            "[[34 45 12]\n",
            " [77 48 86]\n",
            " [46 70 22]]\n",
            "[[45 12 53]\n",
            " [48 86 97]\n",
            " [70 22 62]]\n",
            "[[12 53  5]\n",
            " [86 97 38]\n",
            " [22 62 41]]\n",
            "[[53  5 37]\n",
            " [97 38 59]\n",
            " [62 41 80]]\n",
            "[[ 5 37 63]\n",
            " [38 59 55]\n",
            " [41 80 71]]\n",
            "[[37 63 68]\n",
            " [59 55 49]\n",
            " [80 71  8]]\n",
            "[[63 68 53]\n",
            " [55 49 55]\n",
            " [71  8 58]]\n",
            "[[54 77 48]\n",
            " [68 46 70]\n",
            " [51  3 88]]\n",
            "[[77 48 86]\n",
            " [46 70 22]\n",
            " [ 3 88 25]]\n",
            "[[48 86 97]\n",
            " [70 22 62]\n",
            " [88 25 24]]\n",
            "[[86 97 38]\n",
            " [22 62 41]\n",
            " [25 24 56]]\n",
            "[[97 38 59]\n",
            " [62 41 80]\n",
            " [24 56 32]]\n",
            "[[38 59 55]\n",
            " [41 80 71]\n",
            " [56 32  2]]\n",
            "[[59 55 49]\n",
            " [80 71  8]\n",
            " [32  2 54]]\n",
            "[[55 49 55]\n",
            " [71  8 58]\n",
            " [ 2 54 84]]\n",
            "[[68 46 70]\n",
            " [51  3 88]\n",
            " [26 37 48]]\n",
            "[[46 70 22]\n",
            " [ 3 88 25]\n",
            " [37 48 93]]\n",
            "[[70 22 62]\n",
            " [88 25 24]\n",
            " [48 93 15]]\n",
            "[[22 62 41]\n",
            " [25 24 56]\n",
            " [93 15 39]]\n",
            "[[62 41 80]\n",
            " [24 56 32]\n",
            " [15 39 34]]\n",
            "[[41 80 71]\n",
            " [56 32  2]\n",
            " [39 34 46]]\n",
            "[[80 71  8]\n",
            " [32  2 54]\n",
            " [34 46 53]]\n",
            "[[71  8 58]\n",
            " [ 2 54 84]\n",
            " [46 53 12]]\n",
            "[[51  3 88]\n",
            " [26 37 48]\n",
            " [37 89 71]]\n",
            "[[ 3 88 25]\n",
            " [37 48 93]\n",
            " [89 71 44]]\n",
            "[[88 25 24]\n",
            " [48 93 15]\n",
            " [71 44  6]]\n",
            "[[25 24 56]\n",
            " [93 15 39]\n",
            " [44  6  2]]\n",
            "[[24 56 32]\n",
            " [15 39 34]\n",
            " [ 6  2 27]]\n",
            "[[56 32  2]\n",
            " [39 34 46]\n",
            " [ 2 27 10]]\n",
            "[[32  2 54]\n",
            " [34 46 53]\n",
            " [27 10 81]]\n",
            "[[ 2 54 84]\n",
            " [46 53 12]\n",
            " [10 81 26]]\n",
            "[[26 37 48]\n",
            " [37 89 71]\n",
            " [33 75 66]]\n",
            "[[37 48 93]\n",
            " [89 71 44]\n",
            " [75 66 69]]\n",
            "[[48 93 15]\n",
            " [71 44  6]\n",
            " [66 69 80]]\n",
            "[[93 15 39]\n",
            " [44  6  2]\n",
            " [69 80 67]]\n",
            "[[15 39 34]\n",
            " [ 6  2 27]\n",
            " [80 67 61]]\n",
            "[[39 34 46]\n",
            " [ 2 27 10]\n",
            " [67 61 31]]\n",
            "[[34 46 53]\n",
            " [27 10 81]\n",
            " [61 31 71]]\n",
            "[[46 53 12]\n",
            " [10 81 26]\n",
            " [31 71 47]]\n"
          ]
        }
      ],
      "source": [
        "matrix = np.random.randint(1, 100, (10, 10))\n",
        "\n",
        "blocks = []\n",
        "\n",
        "#looping through each possible starting row: there are only 8 possible rows and columns\n",
        "for i in range(8):\n",
        "    for j in range(8):\n",
        "        block = matrix[i:i+3, j:j+3]\n",
        "        blocks.append(block)\n",
        "\n",
        "for block in blocks:\n",
        "    print(block)\n"
      ]
    },
    {
      "cell_type": "markdown",
      "metadata": {
        "id": "TnQpuMtsHmQH"
      },
      "source": [
        "#### 85. Create a 2D array subclass such that Z[i,j] == Z[j,i] (★★★)"
      ]
    },
    {
      "cell_type": "code",
      "execution_count": 9,
      "metadata": {
        "id": "MV_fG13AHmQH"
      },
      "outputs": [],
      "source": []
    },
    {
      "cell_type": "markdown",
      "metadata": {
        "id": "oa3akFEQHmQH"
      },
      "source": [
        "#### 86. Consider a set of p matrices wich shape (n,n) and a set of p vectors with shape (n,1). How to compute the sum of of the p matrix products at once? (result has shape (n,1)) (★★★)"
      ]
    },
    {
      "cell_type": "code",
      "execution_count": 10,
      "metadata": {
        "id": "FJGY4esxHmQI",
        "outputId": "dc5ecd08-1bd0-4786-8b56-a13d7eae435a",
        "colab": {
          "base_uri": "https://localhost:8080/"
        }
      },
      "outputs": [
        {
          "output_type": "stream",
          "name": "stdout",
          "text": [
            "[[ 0  0  0  0  0]\n",
            " [ 6  6  3 12 12]\n",
            " [ 8  4  8  8  8]\n",
            " [ 0  3  4  0  1]\n",
            " [ 2  2  2  1  1]]\n"
          ]
        }
      ],
      "source": [
        "#Assume n = 5\n",
        "\n",
        "arr1 = np.random.randint(0, 5, size=(5, 5))\n",
        "arr2 = np.random.randint(0, 5, size =(5, 1))\n",
        "\n",
        "product = (arr1 * arr2)\n",
        "print(product)"
      ]
    },
    {
      "cell_type": "markdown",
      "metadata": {
        "id": "95_Czb50HmQI"
      },
      "source": [
        "#### 87. Consider a 16x16 array, how to get the block-sum (block size is 4x4)? (★★★)"
      ]
    },
    {
      "cell_type": "code",
      "execution_count": 11,
      "metadata": {
        "id": "7MZuwmGRHmQI",
        "outputId": "3b67ca45-a6a0-49dc-ab31-fc8335356c64",
        "colab": {
          "base_uri": "https://localhost:8080/"
        }
      },
      "outputs": [
        {
          "output_type": "stream",
          "name": "stdout",
          "text": [
            "[[ 98  80  87  85]\n",
            " [ 87  88  81  79]\n",
            " [101  86  78  79]\n",
            " [ 83  82  90  93]]\n"
          ]
        }
      ],
      "source": [
        "array = np.random.randint(1, 10, (16, 16))\n",
        "\n",
        "\n",
        "#Block size\n",
        "block_size = 4\n",
        "\n",
        "#Reshape array into a 4D array 0f shape (4, 4, 4, 4)\n",
        "reshaped_array = array.reshape(4, 4, 4, 4)\n",
        "\n",
        "#Getting sum\n",
        "block_sum = reshaped_array.sum(axis=(-2, -1))\n",
        "print(block_sum)"
      ]
    },
    {
      "cell_type": "markdown",
      "metadata": {
        "id": "RgwlxeCxHmQJ"
      },
      "source": [
        "#### 88. How to implement the Game of Life using numpy arrays? (★★★)"
      ]
    },
    {
      "cell_type": "code",
      "execution_count": 12,
      "metadata": {
        "id": "vwzzfHKCHmQJ"
      },
      "outputs": [],
      "source": [
        "#?????????????????"
      ]
    },
    {
      "cell_type": "markdown",
      "metadata": {
        "id": "7dfj3B0oHmQJ"
      },
      "source": [
        "#### 89. How to get the n largest values of an array (★★★)"
      ]
    },
    {
      "cell_type": "code",
      "execution_count": 13,
      "metadata": {
        "id": "8kwCwAsDHmQJ",
        "outputId": "365d4bd7-77cd-494f-e7e3-b80bb9c52a41",
        "colab": {
          "base_uri": "https://localhost:8080/"
        }
      },
      "outputs": [
        {
          "output_type": "stream",
          "name": "stdout",
          "text": [
            "[7 8 9]\n"
          ]
        }
      ],
      "source": [
        "array = np.array([1, 5, 3, 9, 7, 2, 8, 4, 6])\n",
        "\n",
        "#Number of largest value to retrieve\n",
        "n=3\n",
        "\n",
        "#Get the n largest values of array\n",
        "largest_values = np.sort(array)[-n:]\n",
        "print(largest_values)"
      ]
    },
    {
      "cell_type": "markdown",
      "metadata": {
        "id": "0BywWRsBHmQK"
      },
      "source": [
        "#### 90. Given an arbitrary number of vectors, build the cartesian product (every combinations of every item) (★★★)"
      ]
    },
    {
      "cell_type": "code",
      "execution_count": 14,
      "metadata": {
        "id": "FkEMA8z-HmQK"
      },
      "outputs": [],
      "source": [
        "import itertools # provides various functions for working with iterators and combinatorial functions."
      ]
    },
    {
      "cell_type": "code",
      "execution_count": 15,
      "metadata": {
        "id": "kxe7nLi9HmQK",
        "outputId": "c6e9ae43-e21e-4bf1-b781-bd8352d04dd9",
        "colab": {
          "base_uri": "https://localhost:8080/"
        }
      },
      "outputs": [
        {
          "output_type": "stream",
          "name": "stdout",
          "text": [
            "[(1, 4, 6), (1, 4, 7), (1, 5, 6), (1, 5, 7), (2, 4, 6), (2, 4, 7), (2, 5, 6), (2, 5, 7), (3, 4, 6), (3, 4, 7), (3, 5, 6), (3, 5, 7)]\n"
          ]
        }
      ],
      "source": [
        "vectors = [[1, 2, 3], [4, 5], [6, 7]]\n",
        "\n",
        "#Buiding the cartesian product\n",
        "cartesian = list(itertools.product(*vectors)) # It takes multiple iterables (in this case, vectors) as arguments and returns an iterator that produces tuples containing all possible combinations of items from the input iterables. The *vectors syntax is used to unpack the list of vectors into separate arguments for the itertools.product function.\n",
        "print(cartesian)"
      ]
    },
    {
      "cell_type": "markdown",
      "metadata": {
        "id": "v_ntze9iHmQK"
      },
      "source": [
        "#### 91. How to create a record array from a regular array? (★★★)"
      ]
    },
    {
      "cell_type": "code",
      "execution_count": 15,
      "metadata": {
        "id": "z7Y_ddyrHmQK"
      },
      "outputs": [],
      "source": []
    },
    {
      "cell_type": "code",
      "execution_count": 16,
      "metadata": {
        "id": "AS5n9qR7HmQL",
        "outputId": "26ead4aa-bf6a-4b50-9c59-fca53c9df0ae",
        "colab": {
          "base_uri": "https://localhost:8080/"
        }
      },
      "outputs": [
        {
          "output_type": "stream",
          "name": "stdout",
          "text": [
            "[['1' 'John' '25']]\n",
            "[['2' 'Alice' '30']]\n",
            "[['3' 'Bob' '35']]\n"
          ]
        }
      ],
      "source": [
        "array = np.array([[1, 'John', 25],\n",
        "                 [2, 'Alice', 30],\n",
        "                 [3, 'Bob', 35]])\n",
        "\n",
        "#Defining the dtype for the record array\n",
        "dtype = [('ID', int), ('Name', 'U10'), ('Age', int)]\n",
        "\n",
        "for row in array:\n",
        "    x = ([tuple(row)])\n",
        "    #print(x)\n",
        "\n",
        "    print(np.array(x))"
      ]
    },
    {
      "cell_type": "markdown",
      "metadata": {
        "id": "pyoAoYMJHmQL"
      },
      "source": [
        "#### 92. Consider a large vector Z, compute Z to the power of 3 using 3 different methods (★★★)"
      ]
    },
    {
      "cell_type": "code",
      "execution_count": 17,
      "metadata": {
        "id": "Vbly91_PHmQL",
        "outputId": "a9e4c871-3d7c-4261-becd-2ad2e176223a",
        "colab": {
          "base_uri": "https://localhost:8080/"
        }
      },
      "outputs": [
        {
          "output_type": "stream",
          "name": "stdout",
          "text": [
            "[5.63724115e-05 1.10695064e-01 2.61017617e-03 ... 5.39063103e-03\n",
            " 2.47515769e-01 2.81441410e-02]\n"
          ]
        }
      ],
      "source": [
        "#Method 1 using np.power\n",
        "Z = np.random.rand(1000000)\n",
        "\n",
        "ZP = np.power(Z, 3)\n",
        "print(ZP)\n"
      ]
    },
    {
      "cell_type": "code",
      "execution_count": 18,
      "metadata": {
        "id": "9v_L-MWpHmQM",
        "outputId": "3f7cacf8-c240-4326-b7ac-3a8e060dbe7c",
        "colab": {
          "base_uri": "https://localhost:8080/"
        }
      },
      "outputs": [
        {
          "output_type": "stream",
          "name": "stdout",
          "text": [
            "[5.63724115e-05 1.10695064e-01 2.61017617e-03 ... 5.39063103e-03\n",
            " 2.47515769e-01 2.81441410e-02]\n"
          ]
        }
      ],
      "source": [
        "#MEthod 2 using **\n",
        "ZE = (Z ** 3)\n",
        "print(ZE)"
      ]
    },
    {
      "cell_type": "code",
      "execution_count": 19,
      "metadata": {
        "id": "64ZPCh6UHmQM",
        "outputId": "d7bc702e-c880-4e69-92f1-8a89342eb45a",
        "colab": {
          "base_uri": "https://localhost:8080/"
        }
      },
      "outputs": [
        {
          "output_type": "stream",
          "name": "stdout",
          "text": [
            "[5.63724115e-05 1.10695064e-01 2.61017617e-03 ... 5.39063103e-03\n",
            " 2.47515769e-01 2.81441410e-02]\n"
          ]
        }
      ],
      "source": [
        "#Method 3: *\n",
        "ZM = Z * Z * Z\n",
        "print(ZM)"
      ]
    },
    {
      "cell_type": "markdown",
      "metadata": {
        "id": "S6kqdQFJHmQM"
      },
      "source": [
        "#### 93. Consider two arrays A and B of shape (8,3) and (2,2). How to find rows of A that contain elements of each row of B regardless of the order of the elements in B? (★★★)"
      ]
    },
    {
      "cell_type": "code",
      "execution_count": 20,
      "metadata": {
        "id": "bR8iSsoqHmQM",
        "outputId": "159d7797-9b9d-42db-e6c5-c73cc593d953",
        "colab": {
          "base_uri": "https://localhost:8080/"
        }
      },
      "outputs": [
        {
          "output_type": "stream",
          "name": "stdout",
          "text": [
            "[]\n"
          ]
        }
      ],
      "source": [
        "A = np.array([[1, 2, 3],\n",
        "                  [4, 5, 6],\n",
        "                  [7, 8, 9],\n",
        "                  [1, 2, 3],\n",
        "                  [4, 5, 6],\n",
        "                  [7, 8, 9],\n",
        "                  [1, 2, 3],\n",
        "                  [4, 5, 6]])\n",
        "B = np.array([[2, 1],\n",
        "             [5, 4]])\n",
        "\n",
        "#Sort the rows of B\n",
        "sorted_B = np.sort(B, axis =1)\n",
        "\n",
        "#Sort the rows of A\n",
        "sorted_A = np.sort(A, axis = 1)\n",
        "\n",
        "matching_rows = np.all(np.isin(sorted_A[:, :, None], sorted_B.T), axis = 1).any(axis = 1)\n",
        "result = A[matching_rows]\n",
        "print(result)\n",
        "\n"
      ]
    },
    {
      "cell_type": "markdown",
      "metadata": {
        "id": "Dk6LpsUeHmQN"
      },
      "source": [
        "#### 94. Considering a 10x3 matrix, extract rows with unequal values (e.g. [2,2,3]) (★★★)"
      ]
    },
    {
      "cell_type": "code",
      "execution_count": 21,
      "metadata": {
        "id": "yan8nGYgHmQN",
        "outputId": "22defad2-7c92-4d2e-a812-21bc4a31eed1",
        "colab": {
          "base_uri": "https://localhost:8080/"
        }
      },
      "outputs": [
        {
          "output_type": "stream",
          "name": "stdout",
          "text": [
            "[1, 2, 3, 4, 5, 2, 3]\n",
            "{1, 2, 3, 4, 5}\n",
            "5\n"
          ]
        }
      ],
      "source": [
        "lists = [1, 2, 3, 4, 5, 2, 3]\n",
        "print(lists)\n",
        "x = set(lists)\n",
        "print(x)\n",
        "print(len(x))"
      ]
    },
    {
      "cell_type": "code",
      "execution_count": 22,
      "metadata": {
        "id": "wE285JORHmQO",
        "outputId": "075a099b-2d98-4e84-8c75-770c9c6396de",
        "colab": {
          "base_uri": "https://localhost:8080/"
        }
      },
      "outputs": [
        {
          "output_type": "stream",
          "name": "stdout",
          "text": [
            "3\n",
            "3\n",
            "3\n",
            "3\n"
          ]
        }
      ],
      "source": [
        "matrix = np.array([[1, 1, 1],\n",
        "                  [2, 2, 1],\n",
        "                  [3, 3, 3],\n",
        "                  [4, 4, 4],\n",
        "                  [4, 5, 5],\n",
        "                  [7, 4, 3],\n",
        "                  [6, 6, 6],\n",
        "                  [8, 8, 8],\n",
        "                  [9, 9, 9],\n",
        "                  [9, 5, 6]])\n",
        "unequal_list =[]\n",
        "\n",
        "for row in matrix:\n",
        "    # If the length of the set of values in the row is not equal to 1,\n",
        "    # it means there are unequal values in the row\n",
        "        if len(set(row)) != 1:#??????\n",
        "            unequal_list.append(row)\n",
        "\n",
        "for row in unequal_list:\n",
        "    print(len (row))"
      ]
    },
    {
      "cell_type": "markdown",
      "metadata": {
        "id": "Vgzh-aK_HmQO"
      },
      "source": [
        "#### 95. Convert a vector of ints into a matrix binary representation (★★★)"
      ]
    },
    {
      "cell_type": "code",
      "execution_count": 23,
      "metadata": {
        "id": "nRJcdSsbHmQO",
        "outputId": "234378f6-0123-4db9-e326-c5ffb88058b7",
        "colab": {
          "base_uri": "https://localhost:8080/"
        }
      },
      "outputs": [
        {
          "output_type": "stream",
          "name": "stdout",
          "text": [
            "[[0 0 0 0]\n",
            " [1 1 0 0]\n",
            " [1 1 1 0]\n",
            " [1 1 1 1]]\n"
          ]
        }
      ],
      "source": [
        "vector = np.array([0, 2, 3, 4])\n",
        "\n",
        "#Maximum value\n",
        "max_value = np.max(vector)\n",
        "\n",
        "#Create a matrix of zeros with shape(len(vector)=row, max_value=columns)\n",
        "matrix = np.zeros((len(vector), max_value), dtype = int)\n",
        "\n",
        "for i, val in enumerate(vector):\n",
        "    matrix[i, :val] = 1 #i = index, val: value of index, =1: assigns the the value 1 to the selected elements\n",
        "print(matrix)\n"
      ]
    },
    {
      "cell_type": "code",
      "execution_count": 24,
      "metadata": {
        "id": "Xblz-bmSHmQO"
      },
      "outputs": [],
      "source": [
        "enumerate?\n"
      ]
    },
    {
      "cell_type": "markdown",
      "metadata": {
        "id": "htQxrwoLHmQP"
      },
      "source": [
        "#### 96. Given a two dimensional array, how to extract unique rows? (★★★)"
      ]
    },
    {
      "cell_type": "code",
      "execution_count": 25,
      "metadata": {
        "id": "Reo-RRHCHmQP",
        "outputId": "aa94aaeb-e24e-4397-a012-35a7f731b7e2",
        "colab": {
          "base_uri": "https://localhost:8080/"
        }
      },
      "outputs": [
        {
          "output_type": "stream",
          "name": "stdout",
          "text": [
            "True\n"
          ]
        }
      ],
      "source": [
        "array = np.array([[1, 2, 3],\n",
        "                 [4, 5, 6],\n",
        "                 [1, 2, 3],\n",
        "                 [7, 8, 9],\n",
        "                 [4, 5, 6]])\n",
        "print(np.all(np.unique(array)))"
      ]
    },
    {
      "cell_type": "code",
      "execution_count": 26,
      "metadata": {
        "id": "zG1_MDu7HmQP",
        "outputId": "9a7e5307-8d66-45e0-fc13-32621370661c",
        "colab": {
          "base_uri": "https://localhost:8080/"
        }
      },
      "outputs": [
        {
          "output_type": "stream",
          "name": "stdout",
          "text": [
            "[(1, 2, 3), (4, 5, 6), (1, 2, 3), (7, 8, 9), (4, 5, 6)]\n",
            "[[7 8 9]\n",
            " [1 2 3]\n",
            " [4 5 6]]\n"
          ]
        }
      ],
      "source": [
        "array = np.array([[1, 2, 3],\n",
        "                 [4, 5, 6],\n",
        "                 [1, 2, 3],\n",
        "                 [7, 8, 9],\n",
        "                 [4, 5, 6]])\n",
        "\n",
        "#Convert the 2D array to a list of tuples(each row becomes a tuple)\n",
        "# tuples = [tuple(row) for row in toys]\n",
        "tuple_list = []\n",
        "for row in array:\n",
        "    # Each row of the array becomes a tuple. This step is necessary because NumPy's unique() function works differently with 2D arrays.\n",
        "    x = tuple(row)\n",
        "    tuple_list.append(x)\n",
        "print(tuple_list)\n",
        "\n",
        "# We use the set() function to get unique tuples. A set is a collection of unique elements, so when we convert the list of tuples to a set, it automatically removes duplicates.\n",
        "unique = np.array(list(set(tuple_list)))\n",
        "print(unique)"
      ]
    },
    {
      "cell_type": "markdown",
      "metadata": {
        "id": "56W9tMs3HmQP"
      },
      "source": [
        "#### 97. Considering 2 vectors A & B, write the einsum equivalent of inner, outer, sum, and mul function (★★★)"
      ]
    },
    {
      "cell_type": "code",
      "execution_count": 27,
      "metadata": {
        "id": "frr9kEonHmQP",
        "outputId": "7a93d767-b1d4-4941-f9b1-219b0063eef2",
        "colab": {
          "base_uri": "https://localhost:8080/"
        }
      },
      "outputs": [
        {
          "output_type": "stream",
          "name": "stdout",
          "text": [
            "32\n"
          ]
        }
      ],
      "source": [
        "A = np.array([1, 2, 3])\n",
        "B = np.array([4, 5, 6])\n",
        "\n",
        "#Inner product using einsum\n",
        "# Imagine you have two lists of numbers, and you want to multiply each pair of numbers from the two lists, then add up all those products.\n",
        "inner_product = np.einsum('i, i->', A, B) # 'i,i->' indicates that we want to multiply corresponding elements of A and B, and -> indicates that we want to sum up the results.\n",
        "print(inner_product)"
      ]
    },
    {
      "cell_type": "code",
      "execution_count": 28,
      "metadata": {
        "id": "K4SAEvO_HmQQ"
      },
      "outputs": [],
      "source": [
        "#???????"
      ]
    },
    {
      "cell_type": "code",
      "execution_count": 29,
      "metadata": {
        "id": "EX0CK80-HmQQ",
        "outputId": "e9299ad4-1afe-45cf-a841-5333c2c88a76",
        "colab": {
          "base_uri": "https://localhost:8080/"
        }
      },
      "outputs": [
        {
          "output_type": "stream",
          "name": "stdout",
          "text": [
            "[[ 4  5  6]\n",
            " [ 8 10 12]\n",
            " [12 15 18]]\n"
          ]
        }
      ],
      "source": [
        "#Outer product using einsum\n",
        "#imagine you have two lists again, but this time you want to create a matrix where each element (i, j) is the product of the ith element of the first list and the jth element of the second list.\n",
        "\n",
        "A = np.array([1, 2, 3])\n",
        "B = np.array([4, 5, 6])\n",
        "\n",
        "#Outer product using einsum\n",
        "outer_product = np.einsum('i, j->ij', A, B)\n",
        "print(outer_product)"
      ]
    },
    {
      "cell_type": "code",
      "execution_count": 30,
      "metadata": {
        "id": "WR3RFlAQHmQQ",
        "outputId": "6b8bd29e-5f13-46e8-d8f6-50c82fec7ebf",
        "colab": {
          "base_uri": "https://localhost:8080/"
        }
      },
      "outputs": [
        {
          "output_type": "stream",
          "name": "stdout",
          "text": [
            "15\n"
          ]
        }
      ],
      "source": [
        "#Sum\n",
        "# Let's say you have a list of numbers and you want to add them all up. That's the sum\n",
        "\n",
        "X = np.array([1, 2, 3, 4, 5])\n",
        "\n",
        "#Sum using einsum\n",
        "total_sum = np.einsum('i->', X)\n",
        "print(total_sum)"
      ]
    },
    {
      "cell_type": "code",
      "execution_count": 31,
      "metadata": {
        "id": "bGsBaCsFHmQQ",
        "outputId": "5036251f-b7f9-4671-fae9-6facb985d6f7",
        "colab": {
          "base_uri": "https://localhost:8080/"
        }
      },
      "outputs": [
        {
          "output_type": "stream",
          "name": "stdout",
          "text": [
            "[ 4 10 18]\n"
          ]
        }
      ],
      "source": [
        "A = np.array([1, 2, 3])\n",
        "B = np.array([4, 5, 6])\n",
        "\n",
        "#Multiplication einsum\n",
        "mul = np.einsum('i, i->i', A, B)\n",
        "print(mul)"
      ]
    },
    {
      "cell_type": "code",
      "execution_count": 32,
      "metadata": {
        "id": "h2i4o21dHmQQ"
      },
      "outputs": [],
      "source": [
        "#np.einsum?\n"
      ]
    },
    {
      "cell_type": "markdown",
      "metadata": {
        "id": "nAeWDODSHmQR"
      },
      "source": [
        "#### 98. Considering a path described by two vectors (X,Y), how to sample it using equidistant samples (★★★)?"
      ]
    },
    {
      "cell_type": "code",
      "execution_count": 33,
      "metadata": {
        "id": "nBcbO6MVHmQR"
      },
      "outputs": [],
      "source": [
        "#????????????????????"
      ]
    },
    {
      "cell_type": "code",
      "execution_count": 34,
      "metadata": {
        "id": "KSJpUWjqHmQR",
        "outputId": "e6e6c60a-cc83-44e4-eef2-bf341be9f1d8",
        "colab": {
          "base_uri": "https://localhost:8080/"
        }
      },
      "outputs": [
        {
          "output_type": "stream",
          "name": "stdout",
          "text": [
            "[-0.5  2. ]\n"
          ]
        }
      ],
      "source": [
        "Y = np.array([1, 4])\n",
        "X = np.array([2, 0])\n",
        "\n",
        "diff = (Y - X)\n",
        "print(diff/2)"
      ]
    },
    {
      "cell_type": "code",
      "execution_count": 34,
      "metadata": {
        "id": "LPCZRXMiHmQR"
      },
      "outputs": [],
      "source": []
    },
    {
      "cell_type": "markdown",
      "metadata": {
        "id": "4wbBIbdAHmQR"
      },
      "source": [
        "#### 99. Given an integer n and a 2D array X, select from X the rows which can be interpreted as draws from a multinomial distribution with n degrees, i.e., the rows which only contain integers and which sum to n. (★★★)"
      ]
    },
    {
      "cell_type": "code",
      "execution_count": 35,
      "metadata": {
        "id": "VHu303AkHmQR",
        "outputId": "09605ebd-e8bc-4955-db2a-a9fd6eb1207c",
        "colab": {
          "base_uri": "https://localhost:8080/"
        }
      },
      "outputs": [
        {
          "output_type": "stream",
          "name": "stdout",
          "text": [
            "[1. 2. 3.]\n"
          ]
        }
      ],
      "source": [
        "# Let's say this is our 2D array X representing boxes and their balls\n",
        "X = np.array([[1, 2, 3],\n",
        "             [2, 3.5, 4],\n",
        "             [0, 5, 6],\n",
        "             [4, 1, 0]])\n",
        "\n",
        "# Our desired total count of balls in each box\n",
        "n = 6\n",
        "\n",
        "# List to store the rows that meet our conditions\n",
        "selected_rows = []\n",
        "\n",
        "# Loop through each row in X\n",
        "for row in X:\n",
        "    #Check if the row contains only integers and if the sum equals n\n",
        "    if np.all(np.equal(np.mod(row, 1), 0)) and np.sum(row) == n:\n",
        "        selected_rows.append(row)\n",
        "\n",
        "for row in selected_rows:\n",
        "    print(row)"
      ]
    },
    {
      "cell_type": "markdown",
      "metadata": {
        "id": "AIAi6ZpxHmQS"
      },
      "source": [
        "#### 100. Compute bootstrapped 95% confidence intervals for the mean of a 1D array X (i.e., resample the elements of an array with replacement N times, compute the mean of each sample, and then compute percentiles over the means). (★★★)"
      ]
    },
    {
      "cell_type": "code",
      "execution_count": 36,
      "metadata": {
        "id": "7L3VFJj0HmQS",
        "outputId": "c43816c5-36cd-42bb-a00c-d1ad2c9ad70e",
        "colab": {
          "base_uri": "https://localhost:8080/"
        }
      },
      "outputs": [
        {
          "output_type": "stream",
          "name": "stdout",
          "text": [
            "Interval for the mean: 1.0, 15.0\n"
          ]
        }
      ],
      "source": [
        "X = np.array([3, 5, 7, 9, 1, 13, 15])\n",
        "\n",
        "#Samples\n",
        "N = 1000\n",
        "\n",
        "#List to store the means of each sample\n",
        "sample_means = []\n",
        "\n",
        "#Loop N times to take samples, compute their mean and store it\n",
        "for i in range(N):\n",
        "    #Randomly sample withreplacement form the bag\n",
        "    sample = np.random.choice(X, size=len(X), replace=True)\n",
        "    #print(sample)\n",
        "    #Compute the mean of the sample and add it to the list\n",
        "    sample_mean = (sample)\n",
        "    #print(sample_mean)\n",
        "    sample_means.append(sample_mean)\n",
        "   # print(sample_means)\n",
        "\n",
        "#Compute the 2.5th and 97.5th percentile to get the 95% confidence interval\n",
        "lower_bound = np.percentile(sample_means, 2.5)\n",
        "upper_bound = np.percentile(sample_means, 97.5)\n",
        "print(f'Interval for the mean: {lower_bound}, {upper_bound}')"
      ]
    },
    {
      "cell_type": "code",
      "execution_count": 36,
      "metadata": {
        "id": "cW0Wyi1vHmQS"
      },
      "outputs": [],
      "source": []
    }
  ],
  "metadata": {
    "kernelspec": {
      "display_name": "Python 3 (ipykernel)",
      "language": "python",
      "name": "python3"
    },
    "language_info": {
      "codemirror_mode": {
        "name": "ipython",
        "version": 3
      },
      "file_extension": ".py",
      "mimetype": "text/x-python",
      "name": "python",
      "nbconvert_exporter": "python",
      "pygments_lexer": "ipython3",
      "version": "3.11.7"
    },
    "colab": {
      "provenance": [],
      "include_colab_link": true
    }
  },
  "nbformat": 4,
  "nbformat_minor": 0
}