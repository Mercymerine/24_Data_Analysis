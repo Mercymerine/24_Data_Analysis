{
  "cells": [
    {
      "cell_type": "markdown",
      "metadata": {
        "id": "view-in-github",
        "colab_type": "text"
      },
      "source": [
        "<a href=\"https://colab.research.google.com/github/Mercymerine/24_Data_Analysis/blob/main/Numpy5.ipynb\" target=\"_parent\"><img src=\"https://colab.research.google.com/assets/colab-badge.svg\" alt=\"Open In Colab\"/></a>"
      ]
    },
    {
      "cell_type": "markdown",
      "metadata": {
        "id": "MJkt-ttRoYPw"
      },
      "source": [
        "# Numpy Exercise 5\n",
        "\n",
        "### All of the questions in this exercise are attributed to rougier/numpy-100"
      ]
    },
    {
      "cell_type": "code",
      "execution_count": null,
      "metadata": {
        "id": "tkgJ3L3qoYPx"
      },
      "outputs": [],
      "source": [
        "import numpy as np"
      ]
    },
    {
      "cell_type": "markdown",
      "metadata": {
        "id": "RnAmqK3EoYPy"
      },
      "source": [
        "#### 61. Find the nearest value from a given value in an array (★★☆)"
      ]
    },
    {
      "cell_type": "code",
      "execution_count": null,
      "metadata": {
        "colab": {
          "base_uri": "https://localhost:8080/"
        },
        "id": "D2V90-nPoYPy",
        "outputId": "df5aaaf1-e435-4d48-8405-cb984e7101c6"
      },
      "outputs": [
        {
          "output_type": "stream",
          "name": "stdout",
          "text": [
            "[5 3 1 1 3]\n",
            "2\n",
            "[1 3 5 7 9]\n",
            "5\n"
          ]
        }
      ],
      "source": [
        "#Array\n",
        "array = np.array([1, 3, 5, 7, 9])\n",
        "\n",
        "#Given value\n",
        "given_value = 6\n",
        "\n",
        "#Absolute difference\n",
        "diff = np.abs(array - given_value)\n",
        "print(diff)\n",
        "\n",
        "#Index of the minimum absolute difference\n",
        "index = np.argmin(diff)\n",
        "print(index)\n",
        "\n",
        "\n",
        "#Nearest value\n",
        "nearest_value = array[index]\n",
        "\n",
        "print(array)\n",
        "print(nearest_value)"
      ]
    },
    {
      "cell_type": "markdown",
      "metadata": {
        "id": "IGwoXwSpoYPz"
      },
      "source": [
        "#### 62. Considering two arrays with shape (1,3) and (3,1), how to compute their sum using an iterator? (★★☆)"
      ]
    },
    {
      "cell_type": "code",
      "execution_count": null,
      "metadata": {
        "id": "glaEf1UcoYP0"
      },
      "outputs": [],
      "source": [
        "#???????????????????????"
      ]
    },
    {
      "cell_type": "code",
      "execution_count": null,
      "metadata": {
        "colab": {
          "base_uri": "https://localhost:8080/"
        },
        "id": "VxpX8_2doYP0",
        "outputId": "7a474564-da43-4f5e-9cce-4575da977d2d"
      },
      "outputs": [
        {
          "output_type": "stream",
          "name": "stdout",
          "text": [
            "13\n"
          ]
        }
      ],
      "source": [
        "array1 = np.random.randint(10)\n",
        "array2 = np.random.randint(10)\n",
        "\n",
        "print(np.sum(array1 + array2))"
      ]
    },
    {
      "cell_type": "markdown",
      "metadata": {
        "id": "FmfauWnFoYP1"
      },
      "source": [
        "#### 63. Create an array class that has a name attribute (★★☆)"
      ]
    },
    {
      "cell_type": "code",
      "execution_count": null,
      "metadata": {
        "id": "nw2qPav-oYP2"
      },
      "outputs": [],
      "source": [
        "class Array_class():\n",
        "    def __init__(self, name):\n",
        "        self.name = name"
      ]
    },
    {
      "cell_type": "markdown",
      "metadata": {
        "id": "lQOIafxxoYP2"
      },
      "source": [
        "#### 64. Consider a given vector, how to add 1 to each element indexed by a second vector (be careful with repeated indices)? (★★★)"
      ]
    },
    {
      "cell_type": "code",
      "execution_count": null,
      "metadata": {
        "colab": {
          "base_uri": "https://localhost:8080/"
        },
        "id": "i_VjDY_5oYP3",
        "outputId": "fdd63b2c-d6c8-4919-cce9-e734c3e1c3de"
      },
      "outputs": [
        {
          "output_type": "stream",
          "name": "stdout",
          "text": [
            "[11 21 30 41 51]\n"
          ]
        }
      ],
      "source": [
        "import numpy as np\n",
        "\n",
        "#Given vector\n",
        "given_vector = np.array([10, 20, 30, 40, 50])\n",
        "\n",
        "#Indices vector\n",
        "indices_vector = np.array([0, 1, 1, 3, 4])\n",
        "\n",
        "#Add 1 to each element indexed by the second vector\n",
        "for index in np.unique(indices_vector):\n",
        "    given_vector[index] +=1\n",
        "print(given_vector)"
      ]
    },
    {
      "cell_type": "markdown",
      "metadata": {
        "id": "bPrqfNUxoYP3"
      },
      "source": [
        "#### 65. How to accumulate elements of a vector (X) to an array (F) based on an index list (I)? (★★★)"
      ]
    },
    {
      "cell_type": "code",
      "execution_count": null,
      "metadata": {
        "colab": {
          "base_uri": "https://localhost:8080/"
        },
        "id": "B0DiRPf4oYP4",
        "outputId": "6d31de4f-4076-4cd0-eb05-11b2fe0e7886"
      },
      "outputs": [
        {
          "output_type": "stream",
          "name": "stdout",
          "text": [
            "[1. 5. 0. 4. 5.]\n"
          ]
        }
      ],
      "source": [
        "#Vector at X\n",
        "X = np.array([1, 2, 3, 4, 5 ])\n",
        "\n",
        "#Index list I\n",
        "I = np.array([0, 1, 1, 3, 4])\n",
        "\n",
        "#Initializa array F with zeros\n",
        "F = np.zeros(np.max(I) + 1)\n",
        "\n",
        "#Accumulate elements of X into F ased on index list I\n",
        "np.add.at(F, I, X)\n",
        "\n",
        "print(F)\n",
        "\n",
        "\n"
      ]
    },
    {
      "cell_type": "markdown",
      "metadata": {
        "id": "ooVpc-9MoYP4"
      },
      "source": [
        "#### 66. Considering a (w,h,3) image of (dtype=ubyte), compute the number of unique colors (★★☆)"
      ]
    },
    {
      "cell_type": "code",
      "execution_count": null,
      "metadata": {
        "colab": {
          "base_uri": "https://localhost:8080/"
        },
        "id": "uxL1ngtqoYP5",
        "outputId": "8075393b-2fad-4eb9-d59f-3e9d84023dfa"
      },
      "outputs": [
        {
          "output_type": "stream",
          "name": "stdout",
          "text": [
            "100\n"
          ]
        }
      ],
      "source": [
        "w = 10\n",
        "h = 10\n",
        "\n",
        "#Generate a random image with dtype =ubyte\n",
        "image = np.random.randint(0, 256, (w, h, 3), dtype=np.uint8)\n",
        "\n",
        "#Reshape the image to (w*h, 3) to treat each pixel as a separate point\n",
        "pixels = np.reshape(image, (-1, 3))\n",
        "\n",
        "#Get the unique colors and count them\n",
        "unique_colors = np.unique(pixels, axis=0)\n",
        "num_unique_colors = len(unique_colors)\n",
        "print(num_unique_colors)"
      ]
    },
    {
      "cell_type": "markdown",
      "metadata": {
        "id": "ZRhO2RdFoYP5"
      },
      "source": [
        "#### 67. Considering a four dimensions array, how to get sum over the last two axis at once? (★★★)"
      ]
    },
    {
      "cell_type": "code",
      "execution_count": null,
      "metadata": {
        "colab": {
          "base_uri": "https://localhost:8080/"
        },
        "id": "jSGN7v1EoYP5",
        "outputId": "c9beea8a-23ca-4456-b449-e57f0d881ba1"
      },
      "outputs": [
        {
          "output_type": "stream",
          "name": "stdout",
          "text": [
            "[[[[ 5  8  8  1  2]\n",
            "   [ 5 18  1  0  9]\n",
            "   [ 5 18  2 11 12]\n",
            "   [ 5 17 14 19 10]]\n",
            "\n",
            "  [[ 4 18  0 15 17]\n",
            "   [10  0 15  1 18]\n",
            "   [ 4 16 17 14 10]\n",
            "   [15 15  8 16  8]]\n",
            "\n",
            "  [[15 15 14  1 10]\n",
            "   [12  9 11  5 17]\n",
            "   [12  2 19 13 16]\n",
            "   [14  8 12  2 18]]]\n",
            "\n",
            "\n",
            " [[[13  9 10 14  0]\n",
            "   [11 16 15 11 19]\n",
            "   [17  2  3 18  9]\n",
            "   [12 19 11 14 15]]\n",
            "\n",
            "  [[19 19  2  0  6]\n",
            "   [ 6  5  2 14 10]\n",
            "   [16 15  4  3  9]\n",
            "   [19 19 17 10  0]]\n",
            "\n",
            "  [[ 7 13 13 11 11]\n",
            "   [16  7  1  6 14]\n",
            "   [ 3  0  5 14  4]\n",
            "   [ 1 12 14  4 15]]]]\n",
            "[[170 221 225]\n",
            " [238 195 171]]\n"
          ]
        }
      ],
      "source": [
        "import numpy as np\n",
        "\n",
        "array = np.random.randint(0, 20, size = (2, 3, 4, 5))\n",
        "print(array)\n",
        "\n",
        "\n",
        "\n",
        "axis_sum = np.sum(array, axis=(-2, -1))#??????????\n",
        "print(axis_sum)"
      ]
    },
    {
      "cell_type": "markdown",
      "metadata": {
        "id": "0okFz5LJoYP6"
      },
      "source": [
        "#### 68. Considering a one-dimensional vector D, how to compute means of subsets of D using a vector S of same size describing subset  indices? (★★★)"
      ]
    },
    {
      "cell_type": "code",
      "execution_count": null,
      "metadata": {
        "colab": {
          "base_uri": "https://localhost:8080/"
        },
        "id": "70oTkz1DoYP6",
        "outputId": "fd49dadd-8551-46ee-9f0f-ac3a69908fc6"
      },
      "outputs": [
        {
          "output_type": "stream",
          "name": "stdout",
          "text": [
            "4\n",
            "[1.5, 3.5, 6.0, 9.0]\n"
          ]
        }
      ],
      "source": [
        "D = np.array([1, 2, 3, 4, 5, 6, 7, 8, 9, 10])\n",
        "\n",
        "S = np.array([0, 0, 1, 1, 2, 2, 2, 3, 3, 3])\n",
        "\n",
        "#Let's find out how many groups we have\n",
        "num_groups = np.max(S) + 1\n",
        "print(num_groups)\n",
        "\n",
        "#Initializa a list to hold the means of eac group\n",
        "means = []\n",
        "\n",
        "#Compute mean flavor of candies in each group\n",
        "for group_num in range(num_groups):\n",
        "    #Find candies belonging to the current group\n",
        "    candies_in_group = D[S == group_num]\n",
        "    #Compute the mean flavor of candies in this group\n",
        "    mean_flavor = np.mean(candies_in_group)\n",
        "    means.append(mean_flavor)\n",
        "print(means)\n",
        "\n"
      ]
    },
    {
      "cell_type": "markdown",
      "metadata": {
        "id": "ldNvzUb3oYP7"
      },
      "source": [
        "#### 69. How to get the diagonal of a dot product? (★★★)"
      ]
    },
    {
      "cell_type": "code",
      "execution_count": null,
      "metadata": {
        "colab": {
          "base_uri": "https://localhost:8080/"
        },
        "id": "WXi0KMtDoYP7",
        "outputId": "82cef9f9-68f8-43b9-f345-9be5c875f715"
      },
      "outputs": [
        {
          "output_type": "stream",
          "name": "stdout",
          "text": [
            "[[25 28]\n",
            " [73 82]]\n",
            "[25 82]\n"
          ]
        }
      ],
      "source": [
        "arr1 = np.array([[1, 2],\n",
        "                [4, 5]])\n",
        "\n",
        "arr2 = np.array([[7, 8],\n",
        "               [9, 10]])\n",
        "\n",
        "#Diagonal of the dot product of A and B\n",
        "print((np.dot(arr1, arr2)))\n",
        "dot_product = np.diag(np.dot(arr1, arr2))\n",
        "print(dot_product)"
      ]
    },
    {
      "cell_type": "markdown",
      "metadata": {
        "id": "samY3-nqoYP8"
      },
      "source": [
        "#### 70. Consider the vector [1, 2, 3, 4, 5], how to build a new vector with 3 consecutive zeros interleaved between each value? (★★★)"
      ]
    },
    {
      "cell_type": "code",
      "execution_count": null,
      "metadata": {
        "id": "SmXbNc-ToYP8"
      },
      "outputs": [],
      "source": []
    },
    {
      "cell_type": "markdown",
      "metadata": {
        "id": "6b0j91B7oYP8"
      },
      "source": [
        "#### 71. Consider an array of dimension (5,5,3), how to mulitply it by an array with dimensions (5,5)? (★★★)"
      ]
    },
    {
      "cell_type": "code",
      "execution_count": null,
      "metadata": {
        "colab": {
          "base_uri": "https://localhost:8080/"
        },
        "id": "4AdBcQcuoYP9",
        "outputId": "55a30f4b-418c-44f3-96b9-59e24a5bd5cf"
      },
      "outputs": [
        {
          "output_type": "stream",
          "name": "stdout",
          "text": [
            "[[[1 2 3]\n",
            "  [4 5 6]]]\n",
            "[[1 2 3]\n",
            " [4 5 6]]\n",
            "[[[1]\n",
            "  [2]\n",
            "  [3]]\n",
            "\n",
            " [[4]\n",
            "  [5]\n",
            "  [6]]]\n",
            "3\n"
          ]
        }
      ],
      "source": [
        "array1 = np.array([[[1, 2, 3],\n",
        "           [4, 5, 6]]])\n",
        "array2 = np.array([[1, 2,3],\n",
        "                  [4, 5, 6]])\n",
        "print(array1)\n",
        "print(array2)\n",
        "new=array2[:, :, np.newaxis] #This part of the code adds a new axis to the 2D array. By using np.newaxis, we're essentially adding a new dimension to the 2D array along the third axis.\n",
        "print(new)\n",
        "print(new.ndim)"
      ]
    },
    {
      "cell_type": "code",
      "execution_count": null,
      "metadata": {
        "colab": {
          "base_uri": "https://localhost:8080/"
        },
        "id": "H_IUagtYoYP9",
        "outputId": "aeebbbce-66a4-4a0d-a563-aa84aa962212"
      },
      "outputs": [
        {
          "output_type": "stream",
          "name": "stdout",
          "text": [
            "[[[0 0 0]\n",
            "  [0 0 0]\n",
            "  [3 0 2]\n",
            "  [3 1 2]\n",
            "  [2 0 2]]\n",
            "\n",
            " [[0 0 0]\n",
            "  [0 0 0]\n",
            "  [0 9 6]\n",
            "  [2 4 0]\n",
            "  [0 0 0]]\n",
            "\n",
            " [[0 0 0]\n",
            "  [0 0 0]\n",
            "  [6 3 0]\n",
            "  [1 2 2]\n",
            "  [0 0 0]]\n",
            "\n",
            " [[0 2 4]\n",
            "  [2 3 3]\n",
            "  [6 0 6]\n",
            "  [3 1 1]\n",
            "  [0 2 1]]\n",
            "\n",
            " [[0 0 0]\n",
            "  [3 2 2]\n",
            "  [2 0 0]\n",
            "  [0 0 0]\n",
            "  [0 0 0]]]\n"
          ]
        }
      ],
      "source": [
        "arr1 = np.random.randint(0, 4, size = (5, 5, 3))\n",
        "arr2 = np.random.randint(0, 4, size= (5, 5))\n",
        "\n",
        "print(arr1 * arr2[:, :, np.newaxis])"
      ]
    },
    {
      "cell_type": "markdown",
      "metadata": {
        "id": "XGHXRw7ioYP-"
      },
      "source": [
        "#### 72. How to swap two rows of an array? (★★★)"
      ]
    },
    {
      "cell_type": "code",
      "execution_count": null,
      "metadata": {
        "colab": {
          "base_uri": "https://localhost:8080/"
        },
        "id": "o-XPFm5qoYP-",
        "outputId": "2dc04af1-5581-4eb0-9462-ac92b2488d46"
      },
      "outputs": [
        {
          "output_type": "stream",
          "name": "stdout",
          "text": [
            "[[1 2 3]\n",
            " [4 5 6]]\n",
            "********\n",
            "[[4 5 6]\n",
            " [1 2 3]]\n",
            "********\n",
            "[[4 5 6]\n",
            " [1 2 3]\n",
            " [7 8 9]]\n"
          ]
        }
      ],
      "source": [
        "array = np.array([[1, 2, 3],\n",
        "                  [4, 5, 6],\n",
        "                  [7, 8, 9]])\n",
        "\n",
        "\n",
        "print(array[[0, 1]])\n",
        "print('********')\n",
        "print(array[[1, 0]])\n",
        "print('********')\n",
        "array[[0, 1]] = array[[1, 0]]\n",
        "print(array)"
      ]
    },
    {
      "cell_type": "markdown",
      "metadata": {
        "id": "aYEo7VELoYP_"
      },
      "source": [
        "#### 73. Consider a set of 10 triplets describing 10 triangles (with shared vertices), find the set of unique line segments composing all the  triangles (★★★)"
      ]
    },
    {
      "cell_type": "code",
      "execution_count": null,
      "metadata": {
        "colab": {
          "base_uri": "https://localhost:8080/"
        },
        "id": "MPvKjPyKoYQA",
        "outputId": "8db067c4-4f96-4000-a863-7877566c947f"
      },
      "outputs": [
        {
          "output_type": "stream",
          "name": "stdout",
          "text": [
            "{(3, 4), (3, 1), (12, 10), (8, 9), (8, 6), (4, 2), (4, 5), (5, 6), (5, 3), (9, 7), (9, 10), (1, 2), (10, 11), (10, 8), (6, 4), (6, 7), (11, 9), (2, 3), (11, 12), (7, 5), (7, 8)}\n"
          ]
        }
      ],
      "source": [
        "triangles = np.array([[[1, 2], [2, 3], [3, 1]],\n",
        "                     [[2, 3], [3, 4], [4, 2]],\n",
        "                     [[3, 4], [4, 5], [5, 3]],\n",
        "                     [[4, 5], [5, 6], [6, 4]],\n",
        "                     [[5, 6], [6, 7], [7, 5]],\n",
        "                     [[6, 7], [7, 8], [8, 6]],\n",
        "                     [[7, 8], [8, 9], [9, 7]],\n",
        "                     [[8, 9], [9, 10], [10, 8]],\n",
        "                     [[9, 10], [10, 11], [11, 9]],\n",
        "                     [[10, 11], [11, 12], [12, 10]]\n",
        "                     ])\n",
        "\n",
        "#Flatten the triangle array and convert it to a set to get unique line segments\n",
        "line_segments = set(map(tuple, triangles.reshape(-1, 2))) #????\n",
        "\n",
        "print(line_segments)"
      ]
    },
    {
      "cell_type": "markdown",
      "metadata": {
        "id": "KK6UjGzzoYQA"
      },
      "source": [
        "#### 74. Given a sorted array C that corresponds to a bincount, how to produce an array A such that np.bincount(A) == C? (★★★)"
      ]
    },
    {
      "cell_type": "code",
      "execution_count": null,
      "metadata": {
        "id": "OVkmawpDoYQB"
      },
      "outputs": [],
      "source": [
        "#  np.bincount() helps you count how many times each number appears in an array.\n",
        "# np.repeat(...): This function repeats each element of the array"
      ]
    },
    {
      "cell_type": "code",
      "execution_count": null,
      "metadata": {
        "colab": {
          "base_uri": "https://localhost:8080/"
        },
        "id": "9JeQTbazoYQB",
        "outputId": "1fd2adb0-91b0-471e-c31c-81087a527e33"
      },
      "outputs": [
        {
          "output_type": "stream",
          "name": "stdout",
          "text": [
            "6\n",
            "[1 2 1 1 1]\n",
            "(array([0, 1, 2, 3, 4, 5]), array([0, 1, 1, 2, 3, 4]))\n"
          ]
        }
      ],
      "source": [
        "import numpy as np\n",
        "\n",
        "# Assuming 'C' is your sorted array that corresponds to a bincount\n",
        "# Example:\n",
        "C = np.array([0, 1, 1, 2, 3, 4])\n",
        "print(len(C))\n",
        "print(np.bincount(C))\n",
        "\n",
        "# Produce an array 'A' such that np.bincount(A) == C\n",
        "#A = np.repeat(np.arange(len(C)), C)\n",
        "A = (np.arange(len(C)), C)\n",
        "#A = np.arange(len(C))\n",
        "print(A)\n"
      ]
    },
    {
      "cell_type": "code",
      "execution_count": null,
      "metadata": {
        "colab": {
          "base_uri": "https://localhost:8080/"
        },
        "id": "3969kGBjoYQC",
        "outputId": "23e7b6ea-5973-432a-f652-2eb5715244c7"
      },
      "outputs": [
        {
          "output_type": "stream",
          "name": "stdout",
          "text": [
            "6\n",
            "[0 1 2 3 4 5]\n",
            "(array([0, 1, 2, 3, 4, 5]), array([0, 1, 1, 2, 3, 4]))\n",
            "[1 2 3 3 4 4 4 5 5 5 5]\n"
          ]
        }
      ],
      "source": [
        "#Assuming 'C' is the sorted array that corresponds to bincount?\n",
        "# np.bincount() helps you count how many times each number appears in an array.\n",
        "C = np.array([0, 1, 1, 2, 3, 4])\n",
        "print(len(C))\n",
        "\n",
        "#Produce an array 'A' such that np.bincount(A) == C\n",
        "# np.repeat(...): This function repeats each element of the array\n",
        "A = np.arange(len(C))\n",
        "print(A)\n",
        "A = np.arange(len(C)), C\n",
        "print(A)\n",
        "# repeat each index according to the counts specified in C\n",
        "A = np.repeat(np.arange(len(C)), C)\n",
        "print(A)\n"
      ]
    },
    {
      "cell_type": "markdown",
      "metadata": {
        "id": "KLGubBpBoYQC"
      },
      "source": [
        "#### 75. How to compute averages using a sliding window over an array? (★★★)"
      ]
    },
    {
      "cell_type": "code",
      "execution_count": null,
      "metadata": {
        "colab": {
          "base_uri": "https://localhost:8080/"
        },
        "id": "Fx1VtUuJoYQD",
        "outputId": "4804f49f-ccb8-46fb-9125-06f04a212c8f"
      },
      "outputs": [
        {
          "output_type": "stream",
          "name": "stdout",
          "text": [
            "[2. 3. 4. 5. 6. 7. 8. 9.]\n"
          ]
        }
      ],
      "source": [
        "#  a sliding window is like a moving view along a row of blocks, and at each position, we compute some value\n",
        "\n",
        "blocks = np.array([1, 2, 3, 4, 5, 6, 7, 8, 9, 10])\n",
        "\n",
        "#Size of sliding window\n",
        "window_size = 3\n",
        "\n",
        "#Compute the moving average using a sliding window\n",
        "# 'valid', only the positions where the entire window can fit within the array are considered\n",
        "averages = np.convolve(blocks, np.ones(window_size) / window_size, mode='valid') #????\n",
        "\n",
        "print(averages)"
      ]
    },
    {
      "cell_type": "markdown",
      "metadata": {
        "id": "5Vfmiv7NoYQD"
      },
      "source": [
        "#### 76. Consider a one-dimensional array Z, build a two-dimensional array whose first row is (Z[0],Z[1],Z[2]) and each subsequent row is  shifted by 1 (last row should be (Z[-3],Z[-2],Z[-1]) (★★★)"
      ]
    },
    {
      "cell_type": "code",
      "execution_count": null,
      "metadata": {
        "colab": {
          "base_uri": "https://localhost:8080/"
        },
        "id": "uxZpK0_noYQE",
        "outputId": "bbd9308b-7864-43d6-c24b-509a72f4ad35"
      },
      "outputs": [
        {
          "output_type": "stream",
          "name": "stdout",
          "text": [
            "7\n",
            "[array([1, 2, 3]), array([2, 3, 4]), array([3, 4, 5]), array([4, 5, 6]), array([5, 6, 7])]\n"
          ]
        }
      ],
      "source": [
        "Z = np.array([1, 2, 3, 4, 5, 6, 7])\n",
        "print(len(Z))\n",
        "\n",
        "rows = []\n",
        "\n",
        "for i in range(len(Z) -2 ):\n",
        "    #Extract three numbers from Z starting from i\n",
        "    row = Z[i:i+3]\n",
        "    rows.append(row)\n",
        "print(rows)"
      ]
    },
    {
      "cell_type": "markdown",
      "metadata": {
        "id": "HEmTLu0moYQE"
      },
      "source": [
        "#### 77. How to negate a boolean, or to change the sign of a float inplace? (★★★)"
      ]
    },
    {
      "cell_type": "code",
      "execution_count": null,
      "metadata": {
        "colab": {
          "base_uri": "https://localhost:8080/"
        },
        "id": "xOekl3ozoYQF",
        "outputId": "d2a2c832-e4f7-4911-d021-ea5c2e85b47c"
      },
      "outputs": [
        {
          "output_type": "stream",
          "name": "stdout",
          "text": [
            "False\n"
          ]
        }
      ],
      "source": [
        "boolean = True\n",
        "boolean = not boolean\n",
        "print(boolean)\n"
      ]
    },
    {
      "cell_type": "code",
      "execution_count": null,
      "metadata": {
        "colab": {
          "base_uri": "https://localhost:8080/"
        },
        "id": "aMxC9_5CoYQF",
        "outputId": "7122e212-8511-45a6-b3e7-c98e84e1dda4"
      },
      "outputs": [
        {
          "output_type": "stream",
          "name": "stdout",
          "text": [
            "-5.0\n"
          ]
        }
      ],
      "source": [
        "number = 5.0\n",
        "number = - number\n",
        "print(number)"
      ]
    },
    {
      "cell_type": "markdown",
      "metadata": {
        "id": "2b_bOrFvoYQG"
      },
      "source": [
        "#### 78. Consider 2 sets of points P0,P1 describing lines (2d) and a point p, how to compute distance from p to each line i (P0[i],P1[i])? (★★★)"
      ]
    },
    {
      "cell_type": "code",
      "execution_count": null,
      "metadata": {
        "colab": {
          "base_uri": "https://localhost:8080/"
        },
        "id": "vN4vBJIRoYQG",
        "outputId": "319c0ac7-1769-481e-c10e-d1bc7b859805"
      },
      "outputs": [
        {
          "output_type": "stream",
          "name": "stdout",
          "text": [
            "[0.         0.         1.34164079]\n"
          ]
        }
      ],
      "source": [
        "def line_distance(P0, P1, p):\n",
        "    #P0; contains the starting point\n",
        "    #P1; contains the end point\n",
        "    #p; contains the point\n",
        "\n",
        "\n",
        "    #Direction vector of each line\n",
        "    direction = P1 - P0\n",
        "\n",
        "    #Vector from each point to the starting point of each line\n",
        "    delta = p - P0\n",
        "\n",
        "    #Compute the distance from the point to each line using vector cross product\n",
        "    distances = np.abs(np.cross(direction, delta)) / np.linalg.norm(direction, axis=1)\n",
        "    return distances\n",
        "\n",
        "\n",
        "P0 = np.array([[1, 1],[2, 2], [3, 3]])\n",
        "P1 = np.array([[3, 1],[2, 3], [1, 2]])\n",
        "p = np.array([2, 1])\n",
        "\n",
        "print(line_distance(P0, P1, p))\n",
        "\n"
      ]
    },
    {
      "cell_type": "markdown",
      "metadata": {
        "id": "r8fYJsvdoYQG"
      },
      "source": [
        "#### 79. Consider 2 sets of points P0,P1 describing lines (2d) and a set of points P, how to compute distance from each point j (P[j]) to each line i (P0[i],P1[i])? (★★★)"
      ]
    },
    {
      "cell_type": "code",
      "execution_count": null,
      "metadata": {
        "colab": {
          "base_uri": "https://localhost:8080/"
        },
        "id": "S7iQTuwloYQH",
        "outputId": "d9ccb486-72ed-4493-e3e3-da638dd737dd"
      },
      "outputs": [
        {
          "output_type": "stream",
          "name": "stdout",
          "text": [
            "[0.        1.        0.4472136]\n"
          ]
        }
      ],
      "source": [
        "def distance_from_line(P0, P1, P):\n",
        "     #P0; contains the starting point\n",
        "     #P1; contains the end point\n",
        "     #p; contains the point\n",
        "\n",
        "    #Compute direction vector of eac line\n",
        "    direction = P1 - P0\n",
        "\n",
        "    #Compute the distance from each point to the starting point of each line\n",
        "    delta = P - P0\n",
        "\n",
        "    #Compute the distance from each point to each line using vector cross product\n",
        "    distances = np.abs(np.cross(direction, delta)) / np.linalg.norm(direction, axis=1)\n",
        "\n",
        "    return distances\n",
        "\n",
        "P0 = np.array([[1, 1], [2, 2], [3, 3]])\n",
        "P1 = np.array([[3, 1], [2, 3], [1, 2]])\n",
        "P = np.array([[2, 1], [1, 3], [2, 3]])\n",
        "\n",
        "print(distance_from_line(P0, P1, P))\n"
      ]
    },
    {
      "cell_type": "markdown",
      "metadata": {
        "id": "pb0hceAcoYQH"
      },
      "source": [
        "#### 80. Consider an arbitrary array, write a function that extract a subpart with a fixed shape and centered on a given element (pad with a `fill` value when necessary) (★★★)"
      ]
    },
    {
      "cell_type": "code",
      "source": [
        "import numpy as np\n",
        "\n",
        "def extract_subpart(array, center, shape, fill_value=0):\n",
        "    \"\"\"\n",
        "    Extracts a subpart from the array centered on the given element.\n",
        "    If the subpart goes beyond the array boundaries, pads it with the fill value.\n",
        "\n",
        "    Parameters:\n",
        "        array (ndarray): The input array.\n",
        "        center (tuple): The coordinates of the center element.\n",
        "        shape (tuple): The shape of the subpart.\n",
        "        fill_value (scalar, optional): The value to fill the padded areas with. Defaults to 0.\n",
        "\n",
        "    Returns:\n",
        "        subpart (ndarray): The extracted subpart.\n",
        "    \"\"\"\n",
        "    # Calculate the start and end indices for each axis\n",
        "    start_indices = tuple(max(0, c - s // 2) for c, s in zip(center, shape))\n",
        "    end_indices = tuple(min(c + s // 2 + 1, m) for c, s, m in zip(center, shape, array.shape))\n",
        "\n",
        "    # Create an empty subpart array filled with the fill value\n",
        "    subpart = np.full(shape, fill_value)\n",
        "\n",
        "    # Calculate the slice indices for copying from the array to the subpart\n",
        "    array_slice = tuple(slice(start, end) for start, end in zip(start_indices, end_indices))\n",
        "    subpart_slice = tuple(slice(max(0, s // 2 - c), max(0, s // 2 + c - m)) for c, s, m in zip(center, shape, subpart.shape))\n",
        "\n",
        "    # Copy the relevant part of the array to the subpart\n",
        "    subpart[subpart_slice] = array[array_slice]\n",
        "\n",
        "    return subpart\n",
        "\n",
        "# Example usage\n",
        "array = np.random.randint(1, 10, (10, 10))  # Create a random array\n",
        "center = (5, 5)  # Center coordinates\n",
        "shape = (3, 3)  # Shape of the subpart\n",
        "\n",
        "subpart = extract_subpart(array, center, shape)\n",
        "\n",
        "print(\"Input Array:\")\n",
        "print(array)\n",
        "print(\"\\nExtracted Subpart:\")\n",
        "print(subpart)\n"
      ],
      "metadata": {
        "colab": {
          "base_uri": "https://localhost:8080/"
        },
        "id": "ymc6jH2DxZN_",
        "outputId": "a0dfb8bd-608c-4617-db6e-6686837a4395"
      },
      "execution_count": 34,
      "outputs": [
        {
          "output_type": "stream",
          "name": "stdout",
          "text": [
            "Input Array:\n",
            "[[6 6 3 6 6 5 6 1 2 1]\n",
            " [7 5 3 9 9 8 6 3 4 8]\n",
            " [1 3 1 4 1 3 5 8 4 1]\n",
            " [1 9 7 6 6 6 1 8 7 3]\n",
            " [4 4 7 7 4 6 9 4 4 9]\n",
            " [3 7 1 6 8 6 3 8 4 4]\n",
            " [7 9 7 6 7 9 1 4 7 1]\n",
            " [2 4 3 9 7 8 4 8 3 2]\n",
            " [3 6 2 8 9 8 6 7 3 9]\n",
            " [9 7 8 4 5 3 9 1 6 5]]\n",
            "\n",
            "Extracted Subpart:\n",
            "[[4 6 9]\n",
            " [8 6 3]\n",
            " [7 9 1]]\n"
          ]
        }
      ]
    },
    {
      "cell_type": "markdown",
      "metadata": {
        "id": "omcaPtcIoYQJ"
      },
      "source": [
        "#### 81. Consider an array Z = [1,2,3,4,5,6,7,8,9,10,11,12,13,14], how to generate an array R = [[1,2,3,4], [2,3,4,5], [3,4,5,6], ..., [11,12,13,14]]? (★★★)"
      ]
    },
    {
      "cell_type": "code",
      "execution_count": null,
      "metadata": {
        "colab": {
          "base_uri": "https://localhost:8080/"
        },
        "id": "3OtWTJL1oYQJ",
        "outputId": "52226f7c-a9ca-4303-fbf8-4a9464301ac5"
      },
      "outputs": [
        {
          "output_type": "stream",
          "name": "stdout",
          "text": [
            "[[ 1  2  3  4]\n",
            " [ 2  3  4  5]\n",
            " [ 3  4  5  6]\n",
            " [ 4  5  6  7]\n",
            " [ 5  6  7  8]\n",
            " [ 6  7  8  9]\n",
            " [ 7  8  9 10]\n",
            " [ 8  9 10 11]\n",
            " [ 9 10 11 12]\n",
            " [10 11 12 13]\n",
            " [11 12 13 14]]\n"
          ]
        }
      ],
      "source": [
        "Z = np.array([1,2,3,4,5,6,7,8,9,10,11,12,13,14])\n",
        "\n",
        "group_size = 4\n",
        "\n",
        "R = []\n",
        "\n",
        "for i in range(len(Z) - group_size + 1):\n",
        "    group = Z[i:i+group_size]\n",
        "    R.append(list(group))\n",
        "print(np.array(R))"
      ]
    },
    {
      "cell_type": "markdown",
      "metadata": {
        "id": "vOZexzKqoYQJ"
      },
      "source": [
        "#### 82. Compute a matrix rank (★★★)"
      ]
    },
    {
      "cell_type": "code",
      "execution_count": null,
      "metadata": {
        "id": "gRU2mijToYQK"
      },
      "outputs": [],
      "source": [
        "#The rank of a matrix tells you how many \"independent\" toys are in the toy chest. If you have a lot of duplicate toys or if some toys can be made by combining other toys in the chest, then the rank will be lower."
      ]
    },
    {
      "cell_type": "code",
      "execution_count": null,
      "metadata": {
        "colab": {
          "base_uri": "https://localhost:8080/"
        },
        "id": "4Gm8of8poYQK",
        "outputId": "46bc4cd2-a8cf-4017-f18e-1f048355ecc7"
      },
      "outputs": [
        {
          "output_type": "stream",
          "name": "stdout",
          "text": [
            "2\n"
          ]
        }
      ],
      "source": [
        "matrix = np.array([[1, 2, 3],\n",
        "                  [4, 5, 6],\n",
        "                  [7, 8, 9]])\n",
        "\n",
        "rank = np.linalg.matrix_rank(matrix)\n",
        "print(rank)"
      ]
    },
    {
      "cell_type": "markdown",
      "metadata": {
        "id": "utHtD_u9oYQL"
      },
      "source": [
        "#### 83. How to find the most frequent value in an array?"
      ]
    },
    {
      "cell_type": "code",
      "execution_count": null,
      "metadata": {
        "colab": {
          "base_uri": "https://localhost:8080/"
        },
        "id": "NYN4QZ0doYQL",
        "outputId": "0bd8e517-d567-47a7-e40a-38504abef846"
      },
      "outputs": [
        {
          "output_type": "stream",
          "name": "stdout",
          "text": [
            "[0 1 3 4 1]\n",
            "3\n"
          ]
        }
      ],
      "source": [
        "arrays = np.array([1, 2, 3, 4, 2, 2, 3, 3, 3])\n",
        "\n",
        "#Finding the most frequent value\n",
        "value = np.bincount(arrays)\n",
        "print(value)\n",
        "value = np.bincount(arrays).argmax()\n",
        "print(value)"
      ]
    },
    {
      "cell_type": "markdown",
      "metadata": {
        "id": "B71RnOdboYQL"
      },
      "source": [
        "#### 84. Extract all the contiguous 3x3 blocks from a random 10x10 matrix (★★★)"
      ]
    },
    {
      "cell_type": "code",
      "execution_count": null,
      "metadata": {
        "colab": {
          "base_uri": "https://localhost:8080/"
        },
        "id": "1if2RpltoYQM",
        "outputId": "49cbf068-3f6b-41ac-ce5d-7816c902be9b"
      },
      "outputs": [
        {
          "output_type": "stream",
          "name": "stdout",
          "text": [
            "[[85 34 95]\n",
            " [29 90  7]\n",
            " [96 78 17]]\n",
            "[[34 95 81]\n",
            " [90  7 70]\n",
            " [78 17 93]]\n",
            "[[95 81  2]\n",
            " [ 7 70 32]\n",
            " [17 93 45]]\n",
            "[[81  2 35]\n",
            " [70 32 20]\n",
            " [93 45 71]]\n",
            "[[ 2 35 15]\n",
            " [32 20 75]\n",
            " [45 71 38]]\n",
            "[[35 15 85]\n",
            " [20 75 59]\n",
            " [71 38 48]]\n",
            "[[15 85 87]\n",
            " [75 59 23]\n",
            " [38 48 76]]\n",
            "[[85 87  9]\n",
            " [59 23 92]\n",
            " [48 76 14]]\n",
            "[[29 90  7]\n",
            " [96 78 17]\n",
            " [40 74 98]]\n",
            "[[90  7 70]\n",
            " [78 17 93]\n",
            " [74 98 30]]\n",
            "[[ 7 70 32]\n",
            " [17 93 45]\n",
            " [98 30 21]]\n",
            "[[70 32 20]\n",
            " [93 45 71]\n",
            " [30 21 24]]\n",
            "[[32 20 75]\n",
            " [45 71 38]\n",
            " [21 24 35]]\n",
            "[[20 75 59]\n",
            " [71 38 48]\n",
            " [24 35 25]]\n",
            "[[75 59 23]\n",
            " [38 48 76]\n",
            " [35 25 39]]\n",
            "[[59 23 92]\n",
            " [48 76 14]\n",
            " [25 39 50]]\n",
            "[[96 78 17]\n",
            " [40 74 98]\n",
            " [22 36 33]]\n",
            "[[78 17 93]\n",
            " [74 98 30]\n",
            " [36 33 14]]\n",
            "[[17 93 45]\n",
            " [98 30 21]\n",
            " [33 14 89]]\n",
            "[[93 45 71]\n",
            " [30 21 24]\n",
            " [14 89 31]]\n",
            "[[45 71 38]\n",
            " [21 24 35]\n",
            " [89 31 34]]\n",
            "[[71 38 48]\n",
            " [24 35 25]\n",
            " [31 34 21]]\n",
            "[[38 48 76]\n",
            " [35 25 39]\n",
            " [34 21 15]]\n",
            "[[48 76 14]\n",
            " [25 39 50]\n",
            " [21 15 80]]\n",
            "[[40 74 98]\n",
            " [22 36 33]\n",
            " [50 43 47]]\n",
            "[[74 98 30]\n",
            " [36 33 14]\n",
            " [43 47  1]]\n",
            "[[98 30 21]\n",
            " [33 14 89]\n",
            " [47  1 19]]\n",
            "[[30 21 24]\n",
            " [14 89 31]\n",
            " [ 1 19 11]]\n",
            "[[21 24 35]\n",
            " [89 31 34]\n",
            " [19 11 82]]\n",
            "[[24 35 25]\n",
            " [31 34 21]\n",
            " [11 82 62]]\n",
            "[[35 25 39]\n",
            " [34 21 15]\n",
            " [82 62 84]]\n",
            "[[25 39 50]\n",
            " [21 15 80]\n",
            " [62 84  5]]\n",
            "[[22 36 33]\n",
            " [50 43 47]\n",
            " [97 60 75]]\n",
            "[[36 33 14]\n",
            " [43 47  1]\n",
            " [60 75 58]]\n",
            "[[33 14 89]\n",
            " [47  1 19]\n",
            " [75 58 33]]\n",
            "[[14 89 31]\n",
            " [ 1 19 11]\n",
            " [58 33 15]]\n",
            "[[89 31 34]\n",
            " [19 11 82]\n",
            " [33 15 79]]\n",
            "[[31 34 21]\n",
            " [11 82 62]\n",
            " [15 79 51]]\n",
            "[[34 21 15]\n",
            " [82 62 84]\n",
            " [79 51 20]]\n",
            "[[21 15 80]\n",
            " [62 84  5]\n",
            " [51 20 13]]\n",
            "[[50 43 47]\n",
            " [97 60 75]\n",
            " [11 26 63]]\n",
            "[[43 47  1]\n",
            " [60 75 58]\n",
            " [26 63 11]]\n",
            "[[47  1 19]\n",
            " [75 58 33]\n",
            " [63 11 12]]\n",
            "[[ 1 19 11]\n",
            " [58 33 15]\n",
            " [11 12 30]]\n",
            "[[19 11 82]\n",
            " [33 15 79]\n",
            " [12 30 63]]\n",
            "[[11 82 62]\n",
            " [15 79 51]\n",
            " [30 63  1]]\n",
            "[[82 62 84]\n",
            " [79 51 20]\n",
            " [63  1 58]]\n",
            "[[62 84  5]\n",
            " [51 20 13]\n",
            " [ 1 58 91]]\n",
            "[[97 60 75]\n",
            " [11 26 63]\n",
            " [80 27 22]]\n",
            "[[60 75 58]\n",
            " [26 63 11]\n",
            " [27 22 96]]\n",
            "[[75 58 33]\n",
            " [63 11 12]\n",
            " [22 96 21]]\n",
            "[[58 33 15]\n",
            " [11 12 30]\n",
            " [96 21 93]]\n",
            "[[33 15 79]\n",
            " [12 30 63]\n",
            " [21 93 46]]\n",
            "[[15 79 51]\n",
            " [30 63  1]\n",
            " [93 46 65]]\n",
            "[[79 51 20]\n",
            " [63  1 58]\n",
            " [46 65 50]]\n",
            "[[51 20 13]\n",
            " [ 1 58 91]\n",
            " [65 50 38]]\n",
            "[[11 26 63]\n",
            " [80 27 22]\n",
            " [64 31 38]]\n",
            "[[26 63 11]\n",
            " [27 22 96]\n",
            " [31 38 41]]\n",
            "[[63 11 12]\n",
            " [22 96 21]\n",
            " [38 41  8]]\n",
            "[[11 12 30]\n",
            " [96 21 93]\n",
            " [41  8  9]]\n",
            "[[12 30 63]\n",
            " [21 93 46]\n",
            " [ 8  9 55]]\n",
            "[[30 63  1]\n",
            " [93 46 65]\n",
            " [ 9 55 97]]\n",
            "[[63  1 58]\n",
            " [46 65 50]\n",
            " [55 97  7]]\n",
            "[[ 1 58 91]\n",
            " [65 50 38]\n",
            " [97  7 27]]\n"
          ]
        }
      ],
      "source": [
        "matrix = np.random.randint(1, 100, (10, 10))\n",
        "\n",
        "blocks = []\n",
        "\n",
        "#looping through each possible starting row: there are only 8 possible rows and columns\n",
        "for i in range(8):\n",
        "    for j in range(8):\n",
        "        block = matrix[i:i+3, j:j+3]\n",
        "        blocks.append(block)\n",
        "\n",
        "for block in blocks:\n",
        "    print(block)\n"
      ]
    },
    {
      "cell_type": "markdown",
      "metadata": {
        "id": "W-owYA6foYQM"
      },
      "source": [
        "#### 85. Create a 2D array subclass such that Z[i,j] == Z[j,i] (★★★)"
      ]
    },
    {
      "cell_type": "code",
      "source": [
        "import numpy as np\n",
        "\n",
        "class SymmetricArray(np.ndarray):\n",
        "    def __new__(cls, input_array):\n",
        "        obj = np.asarray(input_array).view(cls)\n",
        "        if obj.ndim != 2:\n",
        "            raise ValueError(\"Input array must be 2D\")\n",
        "        if obj.dtype.kind != 'i':\n",
        "            raise ValueError(\"Input array must be of integer type\")\n",
        "        return obj\n",
        "\n",
        "    def __getitem__(self, index):\n",
        "        # If a tuple index is provided\n",
        "        if isinstance(index, tuple):\n",
        "            # If the tuple has two elements\n",
        "            if len(index) == 2:\n",
        "                i, j = index\n",
        "                # Ensure i and j are integers\n",
        "                if isinstance(i, int) and isinstance(j, int):\n",
        "                    # If i and j are equal, return the value at (i, i)\n",
        "                    if i == j:\n",
        "                        return super().__getitem__(i)\n",
        "                    # Otherwise, return the value at (i, j) or (j, i) to ensure symmetry\n",
        "                    return super().__getitem__((i, j)) if i < j else super().__getitem__((j, i))\n",
        "                else:\n",
        "                    raise IndexError(\"Invalid index\")\n",
        "            else:\n",
        "                raise IndexError(\"Invalid index\")\n",
        "        # If a single integer index is provided, return the corresponding row/column\n",
        "        elif isinstance(index, int):\n",
        "            # Access the corresponding row/column\n",
        "            return super().__getitem__((index, slice(None)))\n",
        "        else:\n",
        "            raise IndexError(\"Invalid index\")\n",
        "\n",
        "# Example usage\n",
        "array = np.array([[1, 2, 3],\n",
        "                  [4, 5, 6],\n",
        "                  [7, 8, 9]])\n",
        "\n",
        "symmetric_array = SymmetricArray(array)\n",
        "\n",
        "# Accessing elements\n",
        "print(\"SymmetricArray[0, 1]:\", symmetric_array[0, 1])  # Should be equal to symmetric_array[1, 0]\n",
        "print(\"SymmetricArray[2, 1]:\", symmetric_array[2, 1])  # Should be equal to symmetric_array[1, 2]\n",
        "print(\"SymmetricArray[0]:\", symmetric_array[0])         # Should be equal to the first row of the array\n"
      ],
      "metadata": {
        "colab": {
          "base_uri": "https://localhost:8080/",
          "height": 443
        },
        "id": "_j0UJaDaxmKf",
        "outputId": "48d0e4f1-71b8-4675-87a7-11aa59b50a20"
      },
      "execution_count": 44,
      "outputs": [
        {
          "output_type": "stream",
          "name": "stdout",
          "text": [
            "SymmetricArray[0, 1]: 2\n",
            "SymmetricArray[2, 1]: 6\n",
            "SymmetricArray[0]: "
          ]
        },
        {
          "output_type": "error",
          "ename": "IndexError",
          "evalue": "Invalid index",
          "traceback": [
            "\u001b[0;31m---------------------------------------------------------------------------\u001b[0m",
            "\u001b[0;31mIndexError\u001b[0m                                Traceback (most recent call last)",
            "\u001b[0;32m<ipython-input-44-28c623f71996>\u001b[0m in \u001b[0;36m<cell line: 46>\u001b[0;34m()\u001b[0m\n\u001b[1;32m     44\u001b[0m \u001b[0mprint\u001b[0m\u001b[0;34m(\u001b[0m\u001b[0;34m\"SymmetricArray[0, 1]:\"\u001b[0m\u001b[0;34m,\u001b[0m \u001b[0msymmetric_array\u001b[0m\u001b[0;34m[\u001b[0m\u001b[0;36m0\u001b[0m\u001b[0;34m,\u001b[0m \u001b[0;36m1\u001b[0m\u001b[0;34m]\u001b[0m\u001b[0;34m)\u001b[0m  \u001b[0;31m# Should be equal to symmetric_array[1, 0]\u001b[0m\u001b[0;34m\u001b[0m\u001b[0;34m\u001b[0m\u001b[0m\n\u001b[1;32m     45\u001b[0m \u001b[0mprint\u001b[0m\u001b[0;34m(\u001b[0m\u001b[0;34m\"SymmetricArray[2, 1]:\"\u001b[0m\u001b[0;34m,\u001b[0m \u001b[0msymmetric_array\u001b[0m\u001b[0;34m[\u001b[0m\u001b[0;36m2\u001b[0m\u001b[0;34m,\u001b[0m \u001b[0;36m1\u001b[0m\u001b[0;34m]\u001b[0m\u001b[0;34m)\u001b[0m  \u001b[0;31m# Should be equal to symmetric_array[1, 2]\u001b[0m\u001b[0;34m\u001b[0m\u001b[0;34m\u001b[0m\u001b[0m\n\u001b[0;32m---> 46\u001b[0;31m \u001b[0mprint\u001b[0m\u001b[0;34m(\u001b[0m\u001b[0;34m\"SymmetricArray[0]:\"\u001b[0m\u001b[0;34m,\u001b[0m \u001b[0msymmetric_array\u001b[0m\u001b[0;34m[\u001b[0m\u001b[0;36m0\u001b[0m\u001b[0;34m]\u001b[0m\u001b[0;34m)\u001b[0m         \u001b[0;31m# Should be equal to the first row of the array\u001b[0m\u001b[0;34m\u001b[0m\u001b[0;34m\u001b[0m\u001b[0m\n\u001b[0m",
            "\u001b[0;32m/usr/local/lib/python3.10/dist-packages/numpy/core/arrayprint.py\u001b[0m in \u001b[0;36m_array_str_implementation\u001b[0;34m(a, max_line_width, precision, suppress_small, array2string)\u001b[0m\n\u001b[1;32m   1610\u001b[0m         \u001b[0;32mreturn\u001b[0m \u001b[0m_guarded_repr_or_str\u001b[0m\u001b[0;34m(\u001b[0m\u001b[0mnp\u001b[0m\u001b[0;34m.\u001b[0m\u001b[0mndarray\u001b[0m\u001b[0;34m.\u001b[0m\u001b[0m__getitem__\u001b[0m\u001b[0;34m(\u001b[0m\u001b[0ma\u001b[0m\u001b[0;34m,\u001b[0m \u001b[0;34m(\u001b[0m\u001b[0;34m)\u001b[0m\u001b[0;34m)\u001b[0m\u001b[0;34m)\u001b[0m\u001b[0;34m\u001b[0m\u001b[0;34m\u001b[0m\u001b[0m\n\u001b[1;32m   1611\u001b[0m \u001b[0;34m\u001b[0m\u001b[0m\n\u001b[0;32m-> 1612\u001b[0;31m     \u001b[0;32mreturn\u001b[0m \u001b[0marray2string\u001b[0m\u001b[0;34m(\u001b[0m\u001b[0ma\u001b[0m\u001b[0;34m,\u001b[0m \u001b[0mmax_line_width\u001b[0m\u001b[0;34m,\u001b[0m \u001b[0mprecision\u001b[0m\u001b[0;34m,\u001b[0m \u001b[0msuppress_small\u001b[0m\u001b[0;34m,\u001b[0m \u001b[0;34m' '\u001b[0m\u001b[0;34m,\u001b[0m \u001b[0;34m\"\"\u001b[0m\u001b[0;34m)\u001b[0m\u001b[0;34m\u001b[0m\u001b[0;34m\u001b[0m\u001b[0m\n\u001b[0m\u001b[1;32m   1613\u001b[0m \u001b[0;34m\u001b[0m\u001b[0m\n\u001b[1;32m   1614\u001b[0m \u001b[0;34m\u001b[0m\u001b[0m\n",
            "\u001b[0;32m/usr/local/lib/python3.10/dist-packages/numpy/core/arrayprint.py\u001b[0m in \u001b[0;36marray2string\u001b[0;34m(a, max_line_width, precision, suppress_small, separator, prefix, style, formatter, threshold, edgeitems, sign, floatmode, suffix, legacy)\u001b[0m\n\u001b[1;32m    734\u001b[0m         \u001b[0;32mreturn\u001b[0m \u001b[0;34m\"[]\"\u001b[0m\u001b[0;34m\u001b[0m\u001b[0;34m\u001b[0m\u001b[0m\n\u001b[1;32m    735\u001b[0m \u001b[0;34m\u001b[0m\u001b[0m\n\u001b[0;32m--> 736\u001b[0;31m     \u001b[0;32mreturn\u001b[0m \u001b[0m_array2string\u001b[0m\u001b[0;34m(\u001b[0m\u001b[0ma\u001b[0m\u001b[0;34m,\u001b[0m \u001b[0moptions\u001b[0m\u001b[0;34m,\u001b[0m \u001b[0mseparator\u001b[0m\u001b[0;34m,\u001b[0m \u001b[0mprefix\u001b[0m\u001b[0;34m)\u001b[0m\u001b[0;34m\u001b[0m\u001b[0;34m\u001b[0m\u001b[0m\n\u001b[0m\u001b[1;32m    737\u001b[0m \u001b[0;34m\u001b[0m\u001b[0m\n\u001b[1;32m    738\u001b[0m \u001b[0;34m\u001b[0m\u001b[0m\n",
            "\u001b[0;32m/usr/local/lib/python3.10/dist-packages/numpy/core/arrayprint.py\u001b[0m in \u001b[0;36mwrapper\u001b[0;34m(self, *args, **kwargs)\u001b[0m\n\u001b[1;32m    511\u001b[0m             \u001b[0mrepr_running\u001b[0m\u001b[0;34m.\u001b[0m\u001b[0madd\u001b[0m\u001b[0;34m(\u001b[0m\u001b[0mkey\u001b[0m\u001b[0;34m)\u001b[0m\u001b[0;34m\u001b[0m\u001b[0;34m\u001b[0m\u001b[0m\n\u001b[1;32m    512\u001b[0m             \u001b[0;32mtry\u001b[0m\u001b[0;34m:\u001b[0m\u001b[0;34m\u001b[0m\u001b[0;34m\u001b[0m\u001b[0m\n\u001b[0;32m--> 513\u001b[0;31m                 \u001b[0;32mreturn\u001b[0m \u001b[0mf\u001b[0m\u001b[0;34m(\u001b[0m\u001b[0mself\u001b[0m\u001b[0;34m,\u001b[0m \u001b[0;34m*\u001b[0m\u001b[0margs\u001b[0m\u001b[0;34m,\u001b[0m \u001b[0;34m**\u001b[0m\u001b[0mkwargs\u001b[0m\u001b[0;34m)\u001b[0m\u001b[0;34m\u001b[0m\u001b[0;34m\u001b[0m\u001b[0m\n\u001b[0m\u001b[1;32m    514\u001b[0m             \u001b[0;32mfinally\u001b[0m\u001b[0;34m:\u001b[0m\u001b[0;34m\u001b[0m\u001b[0;34m\u001b[0m\u001b[0m\n\u001b[1;32m    515\u001b[0m                 \u001b[0mrepr_running\u001b[0m\u001b[0;34m.\u001b[0m\u001b[0mdiscard\u001b[0m\u001b[0;34m(\u001b[0m\u001b[0mkey\u001b[0m\u001b[0;34m)\u001b[0m\u001b[0;34m\u001b[0m\u001b[0;34m\u001b[0m\u001b[0m\n",
            "\u001b[0;32m/usr/local/lib/python3.10/dist-packages/numpy/core/arrayprint.py\u001b[0m in \u001b[0;36m_array2string\u001b[0;34m(a, options, separator, prefix)\u001b[0m\n\u001b[1;32m    544\u001b[0m     \u001b[0mnext_line_prefix\u001b[0m \u001b[0;34m+=\u001b[0m \u001b[0;34m\" \"\u001b[0m\u001b[0;34m*\u001b[0m\u001b[0mlen\u001b[0m\u001b[0;34m(\u001b[0m\u001b[0mprefix\u001b[0m\u001b[0;34m)\u001b[0m\u001b[0;34m\u001b[0m\u001b[0;34m\u001b[0m\u001b[0m\n\u001b[1;32m    545\u001b[0m \u001b[0;34m\u001b[0m\u001b[0m\n\u001b[0;32m--> 546\u001b[0;31m     lst = _formatArray(a, format_function, options['linewidth'],\n\u001b[0m\u001b[1;32m    547\u001b[0m                        \u001b[0mnext_line_prefix\u001b[0m\u001b[0;34m,\u001b[0m \u001b[0mseparator\u001b[0m\u001b[0;34m,\u001b[0m \u001b[0moptions\u001b[0m\u001b[0;34m[\u001b[0m\u001b[0;34m'edgeitems'\u001b[0m\u001b[0;34m]\u001b[0m\u001b[0;34m,\u001b[0m\u001b[0;34m\u001b[0m\u001b[0;34m\u001b[0m\u001b[0m\n\u001b[1;32m    548\u001b[0m                        summary_insert, options['legacy'])\n",
            "\u001b[0;32m/usr/local/lib/python3.10/dist-packages/numpy/core/arrayprint.py\u001b[0m in \u001b[0;36m_formatArray\u001b[0;34m(a, format_function, line_width, next_line_prefix, separator, edge_items, summary_insert, legacy)\u001b[0m\n\u001b[1;32m    887\u001b[0m     \u001b[0;32mtry\u001b[0m\u001b[0;34m:\u001b[0m\u001b[0;34m\u001b[0m\u001b[0;34m\u001b[0m\u001b[0m\n\u001b[1;32m    888\u001b[0m         \u001b[0;31m# invoke the recursive part with an initial index and prefix\u001b[0m\u001b[0;34m\u001b[0m\u001b[0;34m\u001b[0m\u001b[0m\n\u001b[0;32m--> 889\u001b[0;31m         return recurser(index=(),\n\u001b[0m\u001b[1;32m    890\u001b[0m                         \u001b[0mhanging_indent\u001b[0m\u001b[0;34m=\u001b[0m\u001b[0mnext_line_prefix\u001b[0m\u001b[0;34m,\u001b[0m\u001b[0;34m\u001b[0m\u001b[0;34m\u001b[0m\u001b[0m\n\u001b[1;32m    891\u001b[0m                         curr_width=line_width)\n",
            "\u001b[0;32m/usr/local/lib/python3.10/dist-packages/numpy/core/arrayprint.py\u001b[0m in \u001b[0;36mrecurser\u001b[0;34m(index, hanging_indent, curr_width)\u001b[0m\n\u001b[1;32m    843\u001b[0m \u001b[0;34m\u001b[0m\u001b[0m\n\u001b[1;32m    844\u001b[0m             \u001b[0;32mfor\u001b[0m \u001b[0mi\u001b[0m \u001b[0;32min\u001b[0m \u001b[0mrange\u001b[0m\u001b[0;34m(\u001b[0m\u001b[0mtrailing_items\u001b[0m\u001b[0;34m,\u001b[0m \u001b[0;36m1\u001b[0m\u001b[0;34m,\u001b[0m \u001b[0;34m-\u001b[0m\u001b[0;36m1\u001b[0m\u001b[0;34m)\u001b[0m\u001b[0;34m:\u001b[0m\u001b[0;34m\u001b[0m\u001b[0;34m\u001b[0m\u001b[0m\n\u001b[0;32m--> 845\u001b[0;31m                 \u001b[0mword\u001b[0m \u001b[0;34m=\u001b[0m \u001b[0mrecurser\u001b[0m\u001b[0;34m(\u001b[0m\u001b[0mindex\u001b[0m \u001b[0;34m+\u001b[0m \u001b[0;34m(\u001b[0m\u001b[0;34m-\u001b[0m\u001b[0mi\u001b[0m\u001b[0;34m,\u001b[0m\u001b[0;34m)\u001b[0m\u001b[0;34m,\u001b[0m \u001b[0mnext_hanging_indent\u001b[0m\u001b[0;34m,\u001b[0m \u001b[0mnext_width\u001b[0m\u001b[0;34m)\u001b[0m\u001b[0;34m\u001b[0m\u001b[0;34m\u001b[0m\u001b[0m\n\u001b[0m\u001b[1;32m    846\u001b[0m                 s, line = _extendLine_pretty(\n\u001b[1;32m    847\u001b[0m                     s, line, word, elem_width, hanging_indent, legacy)\n",
            "\u001b[0;32m/usr/local/lib/python3.10/dist-packages/numpy/core/arrayprint.py\u001b[0m in \u001b[0;36mrecurser\u001b[0;34m(index, hanging_indent, curr_width)\u001b[0m\n\u001b[1;32m    797\u001b[0m \u001b[0;34m\u001b[0m\u001b[0m\n\u001b[1;32m    798\u001b[0m         \u001b[0;32mif\u001b[0m \u001b[0maxes_left\u001b[0m \u001b[0;34m==\u001b[0m \u001b[0;36m0\u001b[0m\u001b[0;34m:\u001b[0m\u001b[0;34m\u001b[0m\u001b[0;34m\u001b[0m\u001b[0m\n\u001b[0;32m--> 799\u001b[0;31m             \u001b[0;32mreturn\u001b[0m \u001b[0mformat_function\u001b[0m\u001b[0;34m(\u001b[0m\u001b[0ma\u001b[0m\u001b[0;34m[\u001b[0m\u001b[0mindex\u001b[0m\u001b[0;34m]\u001b[0m\u001b[0;34m)\u001b[0m\u001b[0;34m\u001b[0m\u001b[0;34m\u001b[0m\u001b[0m\n\u001b[0m\u001b[1;32m    800\u001b[0m \u001b[0;34m\u001b[0m\u001b[0m\n\u001b[1;32m    801\u001b[0m         \u001b[0;31m# when recursing, add a space to align with the [ added, and reduce the\u001b[0m\u001b[0;34m\u001b[0m\u001b[0;34m\u001b[0m\u001b[0m\n",
            "\u001b[0;32m<ipython-input-44-28c623f71996>\u001b[0m in \u001b[0;36m__getitem__\u001b[0;34m(self, index)\u001b[0m\n\u001b[1;32m     26\u001b[0m                     \u001b[0;32mraise\u001b[0m \u001b[0mIndexError\u001b[0m\u001b[0;34m(\u001b[0m\u001b[0;34m\"Invalid index\"\u001b[0m\u001b[0;34m)\u001b[0m\u001b[0;34m\u001b[0m\u001b[0;34m\u001b[0m\u001b[0m\n\u001b[1;32m     27\u001b[0m             \u001b[0;32melse\u001b[0m\u001b[0;34m:\u001b[0m\u001b[0;34m\u001b[0m\u001b[0;34m\u001b[0m\u001b[0m\n\u001b[0;32m---> 28\u001b[0;31m                 \u001b[0;32mraise\u001b[0m \u001b[0mIndexError\u001b[0m\u001b[0;34m(\u001b[0m\u001b[0;34m\"Invalid index\"\u001b[0m\u001b[0;34m)\u001b[0m\u001b[0;34m\u001b[0m\u001b[0;34m\u001b[0m\u001b[0m\n\u001b[0m\u001b[1;32m     29\u001b[0m         \u001b[0;31m# If a single integer index is provided, return the corresponding row/column\u001b[0m\u001b[0;34m\u001b[0m\u001b[0;34m\u001b[0m\u001b[0m\n\u001b[1;32m     30\u001b[0m         \u001b[0;32melif\u001b[0m \u001b[0misinstance\u001b[0m\u001b[0;34m(\u001b[0m\u001b[0mindex\u001b[0m\u001b[0;34m,\u001b[0m \u001b[0mint\u001b[0m\u001b[0;34m)\u001b[0m\u001b[0;34m:\u001b[0m\u001b[0;34m\u001b[0m\u001b[0;34m\u001b[0m\u001b[0m\n",
            "\u001b[0;31mIndexError\u001b[0m: Invalid index"
          ]
        }
      ]
    },
    {
      "cell_type": "markdown",
      "metadata": {
        "id": "BGk6NS4DoYQN"
      },
      "source": [
        "#### 86. Consider a set of p matrices wich shape (n,n) and a set of p vectors with shape (n,1). How to compute the sum of of the p matrix products at once? (result has shape (n,1)) (★★★)"
      ]
    },
    {
      "cell_type": "code",
      "execution_count": null,
      "metadata": {
        "id": "1e10YxhzoYQN"
      },
      "outputs": [],
      "source": [
        "#Assume n = 5\n",
        "\n",
        "arr1 = np.random.randint(0, 5, size=(5, 5))\n",
        "arr2 = np.random.randint(0, 5, size =(5, 1))\n",
        "\n",
        "product = (arr1 * arr2)\n",
        "print(product)"
      ]
    },
    {
      "cell_type": "markdown",
      "metadata": {
        "id": "jd0D_QRsoYQO"
      },
      "source": [
        "#### 87. Consider a 16x16 array, how to get the block-sum (block size is 4x4)? (★★★)"
      ]
    },
    {
      "cell_type": "code",
      "execution_count": null,
      "metadata": {
        "colab": {
          "base_uri": "https://localhost:8080/"
        },
        "id": "7V9GAocooYQO",
        "outputId": "85def4d1-d236-46ea-e2ac-6ff7ef6d2087"
      },
      "outputs": [
        {
          "output_type": "stream",
          "name": "stdout",
          "text": [
            "[[79 75 84 72]\n",
            " [90 75 59 83]\n",
            " [74 92 80 82]\n",
            " [76 82 88 75]]\n"
          ]
        }
      ],
      "source": [
        "array = np.random.randint(1, 10, (16, 16))\n",
        "\n",
        "\n",
        "#Block size\n",
        "block_size = 4\n",
        "\n",
        "#Reshape array into a 4D array 0f shape (4, 4, 4, 4)\n",
        "reshaped_array = array.reshape(4, 4, 4, 4)\n",
        "\n",
        "#Getting sum\n",
        "block_sum = reshaped_array.sum(axis=(-2, -1))\n",
        "print(block_sum)"
      ]
    },
    {
      "cell_type": "markdown",
      "metadata": {
        "id": "I-KXCYdKoYQP"
      },
      "source": [
        "#### 88. How to implement the Game of Life using numpy arrays? (★★★)"
      ]
    },
    {
      "cell_type": "code",
      "source": [],
      "metadata": {
        "id": "VaQaw-gGzyGD"
      },
      "execution_count": 46,
      "outputs": []
    },
    {
      "cell_type": "code",
      "source": [
        "import numpy as np\n",
        "import matplotlib.pyplot as plt\n",
        "import matplotlib.animation as animation\n",
        "\n",
        "# Set grid size\n",
        "N = 100\n",
        "\n",
        "# Set grid constants\n",
        "ON = 255\n",
        "OFF = 0\n",
        "\n",
        "# Create initial random grid\n",
        "grid = np.random.choice([ON, OFF], N*N, p=[0.2, 0.8]).reshape(N, N)\n",
        "\n",
        "# Function to update the grid based on Game of Life rules\n",
        "def update_grid(grid):\n",
        "    new_grid = grid.copy()\n",
        "    for i in range(N):\n",
        "        for j in range(N):\n",
        "            # Count live neighbors\n",
        "            total = int(np.sum(grid[i-1:i+2, j-1:j+2])) - grid[i, j]\n",
        "            # Apply rules\n",
        "            if grid[i, j] == ON:\n",
        "                if total < 2 or total > 3:\n",
        "                    new_grid[i, j] = OFF\n",
        "            else:\n",
        "                if total == 3:\n",
        "                    new_grid[i, j] = ON\n",
        "    return new_grid\n",
        "\n",
        "# Set up the animation\n",
        "fig, ax = plt.subplots()\n",
        "img = ax.imshow(grid, cmap='binary', interpolation='nearest')\n",
        "plt.axis('off')\n",
        "\n",
        "def animate(frame):\n",
        "    global grid\n",
        "    grid = update_grid(grid)\n",
        "    img.set_array(grid)\n",
        "    return img,\n",
        "\n",
        "ani = animation.FuncAnimation(fig, animate, frames=100, interval=100)\n",
        "plt.show()\n"
      ],
      "metadata": {
        "colab": {
          "base_uri": "https://localhost:8080/",
          "height": 406
        },
        "id": "WlXj6Ogdz4SK",
        "outputId": "8b915809-d331-43df-97e2-2afe41be3c0b"
      },
      "execution_count": 47,
      "outputs": [
        {
          "output_type": "display_data",
          "data": {
            "text/plain": [
              "<Figure size 640x480 with 1 Axes>"
            ],
            "image/png": "[encoded data removed]"
          },
          "metadata": {}
        }
      ]
    },
    {
      "cell_type": "markdown",
      "metadata": {
        "id": "1xjTGu5VoYQR"
      },
      "source": [
        "#### 89. How to get the n largest values of an array (★★★)"
      ]
    },
    {
      "cell_type": "code",
      "execution_count": null,
      "metadata": {
        "id": "7P3Q7LxZoYQR"
      },
      "outputs": [],
      "source": [
        "array = np.array([1, 5, 3, 9, 7, 2, 8, 4, 6])\n",
        "\n",
        "#Number of largest value to retrieve\n",
        "n=3\n",
        "\n",
        "#Get the n largest values of array\n",
        "largest_values = np.sort(array)[-n:]\n",
        "print(largest_values)"
      ]
    },
    {
      "cell_type": "markdown",
      "metadata": {
        "id": "9nlOHNctoYQS"
      },
      "source": [
        "#### 90. Given an arbitrary number of vectors, build the cartesian product (every combinations of every item) (★★★)"
      ]
    },
    {
      "cell_type": "code",
      "execution_count": null,
      "metadata": {
        "id": "O6LX0MNqoYQS"
      },
      "outputs": [],
      "source": [
        "import itertools # provides various functions for working with iterators and combinatorial functions."
      ]
    },
    {
      "cell_type": "code",
      "execution_count": null,
      "metadata": {
        "colab": {
          "base_uri": "https://localhost:8080/"
        },
        "id": "-Xc5q5PRoYQT",
        "outputId": "1879cd1f-ace0-416b-b971-a998d7214ca2"
      },
      "outputs": [
        {
          "output_type": "stream",
          "name": "stdout",
          "text": [
            "[(1, 4, 6), (1, 4, 7), (1, 5, 6), (1, 5, 7), (2, 4, 6), (2, 4, 7), (2, 5, 6), (2, 5, 7), (3, 4, 6), (3, 4, 7), (3, 5, 6), (3, 5, 7)]\n"
          ]
        }
      ],
      "source": [
        "vectors = [[1, 2, 3], [4, 5], [6, 7]]\n",
        "\n",
        "#Buiding the cartesian product\n",
        "cartesian = list(itertools.product(*vectors)) # It takes multiple iterables (in this case, vectors) as arguments and returns an iterator that produces tuples containing all possible combinations of items from the input iterables. The *vectors syntax is used to unpack the list of vectors into separate arguments for the itertools.product function.\n",
        "print(cartesian)"
      ]
    },
    {
      "cell_type": "markdown",
      "metadata": {
        "id": "1zlBxuEPoYQT"
      },
      "source": [
        "#### 91. How to create a record array from a regular array? (★★★)"
      ]
    },
    {
      "cell_type": "code",
      "execution_count": null,
      "metadata": {
        "id": "uAlNJN36oYQT"
      },
      "outputs": [],
      "source": []
    },
    {
      "cell_type": "code",
      "execution_count": null,
      "metadata": {
        "colab": {
          "base_uri": "https://localhost:8080/"
        },
        "id": "M_FcsrjToYQU",
        "outputId": "25e8ca48-0db1-4d37-acf8-ba8425a00d89"
      },
      "outputs": [
        {
          "output_type": "stream",
          "name": "stdout",
          "text": [
            "[['1' 'John' '25']]\n",
            "[['2' 'Alice' '30']]\n",
            "[['3' 'Bob' '35']]\n"
          ]
        }
      ],
      "source": [
        "array = np.array([[1, 'John', 25],\n",
        "                 [2, 'Alice', 30],\n",
        "                 [3, 'Bob', 35]])\n",
        "\n",
        "#Defining the dtype for the record array\n",
        "dtype = [('ID', int), ('Name', 'U10'), ('Age', int)]\n",
        "\n",
        "for row in array:\n",
        "    x = ([tuple(row)])\n",
        "    #print(x)\n",
        "\n",
        "    print(np.array(x))"
      ]
    },
    {
      "cell_type": "markdown",
      "metadata": {
        "id": "2Bu-_x4woYQU"
      },
      "source": [
        "#### 92. Consider a large vector Z, compute Z to the power of 3 using 3 different methods (★★★)"
      ]
    },
    {
      "cell_type": "code",
      "execution_count": null,
      "metadata": {
        "colab": {
          "base_uri": "https://localhost:8080/"
        },
        "id": "d8X2A4RqoYQU",
        "outputId": "98d80760-06f3-4cc1-8f87-80531407038f"
      },
      "outputs": [
        {
          "output_type": "stream",
          "name": "stdout",
          "text": [
            "[6.41358764e-02 7.32689570e-05 4.63296821e-02 ... 1.91986142e-05\n",
            " 1.97986428e-01 6.92765362e-02]\n"
          ]
        }
      ],
      "source": [
        "#Method 1 using np.power\n",
        "Z = np.random.rand(1000000)\n",
        "\n",
        "ZP = np.power(Z, 3)\n",
        "print(ZP)\n"
      ]
    },
    {
      "cell_type": "code",
      "execution_count": null,
      "metadata": {
        "colab": {
          "base_uri": "https://localhost:8080/"
        },
        "id": "kRZvrUIcoYQV",
        "outputId": "19ed4b48-63f1-43c5-8b0e-90d698aeeeb5"
      },
      "outputs": [
        {
          "output_type": "stream",
          "name": "stdout",
          "text": [
            "[6.41358764e-02 7.32689570e-05 4.63296821e-02 ... 1.91986142e-05\n",
            " 1.97986428e-01 6.92765362e-02]\n"
          ]
        }
      ],
      "source": [
        "#MEthod 2 using **\n",
        "ZE = (Z ** 3)\n",
        "print(ZE)"
      ]
    },
    {
      "cell_type": "code",
      "execution_count": null,
      "metadata": {
        "colab": {
          "base_uri": "https://localhost:8080/"
        },
        "id": "f-oRwDC3oYQV",
        "outputId": "079665d0-25fb-405f-a6ae-9ffa354b74da"
      },
      "outputs": [
        {
          "output_type": "stream",
          "name": "stdout",
          "text": [
            "[6.41358764e-02 7.32689570e-05 4.63296821e-02 ... 1.91986142e-05\n",
            " 1.97986428e-01 6.92765362e-02]\n"
          ]
        }
      ],
      "source": [
        "#Method 3: *\n",
        "ZM = Z * Z * Z\n",
        "print(ZM)"
      ]
    },
    {
      "cell_type": "markdown",
      "metadata": {
        "id": "yXX5SupvoYQW"
      },
      "source": [
        "#### 93. Consider two arrays A and B of shape (8,3) and (2,2). How to find rows of A that contain elements of each row of B regardless of the order of the elements in B? (★★★)"
      ]
    },
    {
      "cell_type": "code",
      "execution_count": null,
      "metadata": {
        "colab": {
          "base_uri": "https://localhost:8080/"
        },
        "id": "PNod4cqnoYQW",
        "outputId": "1f27e189-aab4-4c63-c502-86b3aebe5fd4"
      },
      "outputs": [
        {
          "output_type": "stream",
          "name": "stdout",
          "text": [
            "[]\n"
          ]
        }
      ],
      "source": [
        "A = np.array([[1, 2, 3],\n",
        "                  [4, 5, 6],\n",
        "                  [7, 8, 9],\n",
        "                  [1, 2, 3],\n",
        "                  [4, 5, 6],\n",
        "                  [7, 8, 9],\n",
        "                  [1, 2, 3],\n",
        "                  [4, 5, 6]])\n",
        "B = np.array([[2, 1],\n",
        "             [5, 4]])\n",
        "\n",
        "#Sort the rows of B\n",
        "sorted_B = np.sort(B, axis =1)\n",
        "\n",
        "#Sort the rows of A\n",
        "sorted_A = np.sort(A, axis = 1)\n",
        "\n",
        "matching_rows = np.all(np.isin(sorted_A[:, :, None], sorted_B.T), axis = 1).any(axis = 1)\n",
        "result = A[matching_rows]\n",
        "print(result)\n",
        "\n"
      ]
    },
    {
      "cell_type": "markdown",
      "metadata": {
        "id": "LtrDCSxxoYQX"
      },
      "source": [
        "#### 94. Considering a 10x3 matrix, extract rows with unequal values (e.g. [2,2,3]) (★★★)"
      ]
    },
    {
      "cell_type": "code",
      "execution_count": null,
      "metadata": {
        "colab": {
          "base_uri": "https://localhost:8080/"
        },
        "id": "xNta6w_yoYQX",
        "outputId": "b604689b-9fbd-4061-e5c3-cf0c4954b0e4"
      },
      "outputs": [
        {
          "output_type": "stream",
          "name": "stdout",
          "text": [
            "[1, 2, 3, 4, 5, 2, 3]\n",
            "{1, 2, 3, 4, 5}\n",
            "5\n"
          ]
        }
      ],
      "source": [
        "lists = [1, 2, 3, 4, 5, 2, 3]\n",
        "print(lists)\n",
        "x = set(lists)\n",
        "print(x)\n",
        "print(len(x))"
      ]
    },
    {
      "cell_type": "code",
      "execution_count": null,
      "metadata": {
        "colab": {
          "base_uri": "https://localhost:8080/"
        },
        "id": "3D6CF8wKoYQX",
        "outputId": "41797fbe-09f0-4784-cc42-63b6a8f51c8a"
      },
      "outputs": [
        {
          "output_type": "stream",
          "name": "stdout",
          "text": [
            "3\n",
            "3\n",
            "3\n",
            "3\n"
          ]
        }
      ],
      "source": [
        "matrix = np.array([[1, 1, 1],\n",
        "                  [2, 2, 1],\n",
        "                  [3, 3, 3],\n",
        "                  [4, 4, 4],\n",
        "                  [4, 5, 5],\n",
        "                  [7, 4, 3],\n",
        "                  [6, 6, 6],\n",
        "                  [8, 8, 8],\n",
        "                  [9, 9, 9],\n",
        "                  [9, 5, 6]])\n",
        "unequal_list =[]\n",
        "\n",
        "for row in matrix:\n",
        "    # If the length of the set of values in the row is not equal to 1,\n",
        "    # it means there are unequal values in the row\n",
        "        if len(set(row)) != 1:#??????\n",
        "            unequal_list.append(row)\n",
        "\n",
        "for row in unequal_list:\n",
        "    print(len (row))"
      ]
    },
    {
      "cell_type": "markdown",
      "metadata": {
        "id": "RijIHpBmoYQY"
      },
      "source": [
        "#### 95. Convert a vector of ints into a matrix binary representation (★★★)"
      ]
    },
    {
      "cell_type": "code",
      "execution_count": null,
      "metadata": {
        "colab": {
          "base_uri": "https://localhost:8080/"
        },
        "id": "COXSiwJDoYQY",
        "outputId": "84e83231-e3e0-4735-a4ec-714c30fa6c63"
      },
      "outputs": [
        {
          "output_type": "stream",
          "name": "stdout",
          "text": [
            "[[0 0 0 0]\n",
            " [1 1 0 0]\n",
            " [1 1 1 0]\n",
            " [1 1 1 1]]\n"
          ]
        }
      ],
      "source": [
        "vector = np.array([0, 2, 3, 4])\n",
        "\n",
        "#Maximum value\n",
        "max_value = np.max(vector)\n",
        "\n",
        "#Create a matrix of zeros with shape(len(vector)=row, max_value=columns)\n",
        "matrix = np.zeros((len(vector), max_value), dtype = int)\n",
        "\n",
        "for i, val in enumerate(vector):\n",
        "    matrix[i, :val] = 1 #i = index, val: value of index, =1: assigns the the value 1 to the selected elements\n",
        "print(matrix)\n"
      ]
    },
    {
      "cell_type": "markdown",
      "metadata": {
        "id": "swSZkO9LoYQY"
      },
      "source": [
        "#### 96. Given a two dimensional array, how to extract unique rows? (★★★)"
      ]
    },
    {
      "cell_type": "code",
      "execution_count": null,
      "metadata": {
        "colab": {
          "base_uri": "https://localhost:8080/"
        },
        "id": "zfSDIjd0oYQZ",
        "outputId": "f7f70ce5-949a-40cb-e6ce-313143182312"
      },
      "outputs": [
        {
          "output_type": "stream",
          "name": "stdout",
          "text": [
            "True\n"
          ]
        }
      ],
      "source": [
        "array = np.array([[1, 2, 3],\n",
        "                 [4, 5, 6],\n",
        "                 [1, 2, 3],\n",
        "                 [7, 8, 9],\n",
        "                 [4, 5, 6]])\n",
        "print(np.all(np.unique(array)))"
      ]
    },
    {
      "cell_type": "code",
      "execution_count": null,
      "metadata": {
        "colab": {
          "base_uri": "https://localhost:8080/"
        },
        "id": "iXpGzivpoYQZ",
        "outputId": "64a8c76e-32e9-450e-c9c1-1c9b3b2ae3d6"
      },
      "outputs": [
        {
          "output_type": "stream",
          "name": "stdout",
          "text": [
            "[(1, 2, 3), (4, 5, 6), (1, 2, 3), (7, 8, 9), (4, 5, 6)]\n",
            "[[7 8 9]\n",
            " [1 2 3]\n",
            " [4 5 6]]\n"
          ]
        }
      ],
      "source": [
        "array = np.array([[1, 2, 3],\n",
        "                 [4, 5, 6],\n",
        "                 [1, 2, 3],\n",
        "                 [7, 8, 9],\n",
        "                 [4, 5, 6]])\n",
        "\n",
        "#Convert the 2D array to a list of tuples(each row becomes a tuple)\n",
        "# tuples = [tuple(row) for row in toys]\n",
        "tuple_list = []\n",
        "for row in array:\n",
        "    # Each row of the array becomes a tuple. This step is necessary because NumPy's unique() function works differently with 2D arrays.\n",
        "    x = tuple(row)\n",
        "    tuple_list.append(x)\n",
        "print(tuple_list)\n",
        "\n",
        "# We use the set() function to get unique tuples. A set is a collection of unique elements, so when we convert the list of tuples to a set, it automatically removes duplicates.\n",
        "unique = np.array(list(set(tuple_list)))\n",
        "print(unique)"
      ]
    },
    {
      "cell_type": "markdown",
      "metadata": {
        "id": "2M89rDvGoYQZ"
      },
      "source": [
        "#### 97. Considering 2 vectors A & B, write the einsum equivalent of inner, outer, sum, and mul function (★★★)"
      ]
    },
    {
      "cell_type": "code",
      "execution_count": null,
      "metadata": {
        "colab": {
          "base_uri": "https://localhost:8080/"
        },
        "id": "HalEI9ONoYQa",
        "outputId": "3155d650-9641-4186-8bb2-0b4e4e685262"
      },
      "outputs": [
        {
          "output_type": "stream",
          "name": "stdout",
          "text": [
            "32\n"
          ]
        }
      ],
      "source": [
        "A = np.array([1, 2, 3])\n",
        "B = np.array([4, 5, 6])\n",
        "\n",
        "#Inner product using einsum\n",
        "# Imagine you have two lists of numbers, and you want to multiply each pair of numbers from the two lists, then add up all those products.\n",
        "inner_product = np.einsum('i, i->', A, B) # 'i,i->' indicates that we want to multiply corresponding elements of A and B, and -> indicates that we want to sum up the results.\n",
        "print(inner_product)"
      ]
    },
    {
      "cell_type": "code",
      "execution_count": null,
      "metadata": {
        "colab": {
          "base_uri": "https://localhost:8080/"
        },
        "id": "er81PxAPoYQa",
        "outputId": "a6028d7f-7f70-463d-980b-47a6cb701993"
      },
      "outputs": [
        {
          "output_type": "stream",
          "name": "stdout",
          "text": [
            "[[ 4  5  6]\n",
            " [ 8 10 12]\n",
            " [12 15 18]]\n"
          ]
        }
      ],
      "source": [
        "#Outer product using einsum\n",
        "#imagine you have two lists again, but this time you want to create a matrix where each element (i, j) is the product of the ith element of the first list and the jth element of the second list.\n",
        "\n",
        "A = np.array([1, 2, 3])\n",
        "B = np.array([4, 5, 6])\n",
        "\n",
        "#Outer product using einsum\n",
        "outer_product = np.einsum('i, j->ij', A, B)\n",
        "print(outer_product)"
      ]
    },
    {
      "cell_type": "code",
      "execution_count": null,
      "metadata": {
        "colab": {
          "base_uri": "https://localhost:8080/"
        },
        "id": "dLmlUhnUoYQb",
        "outputId": "ee62e8c5-9261-43a2-f726-b3861fa4db74"
      },
      "outputs": [
        {
          "output_type": "stream",
          "name": "stdout",
          "text": [
            "15\n"
          ]
        }
      ],
      "source": [
        "#Sum\n",
        "# Let's say you have a list of numbers and you want to add them all up. That's the sum\n",
        "\n",
        "X = np.array([1, 2, 3, 4, 5])\n",
        "\n",
        "#Sum using einsum\n",
        "total_sum = np.einsum('i->', X)\n",
        "print(total_sum)"
      ]
    },
    {
      "cell_type": "code",
      "execution_count": null,
      "metadata": {
        "colab": {
          "base_uri": "https://localhost:8080/"
        },
        "id": "KNN2BqqZoYQb",
        "outputId": "d7da0849-7234-414d-aafe-2a16f170b2c5"
      },
      "outputs": [
        {
          "output_type": "stream",
          "name": "stdout",
          "text": [
            "[ 4 10 18]\n"
          ]
        }
      ],
      "source": [
        "A = np.array([1, 2, 3])\n",
        "B = np.array([4, 5, 6])\n",
        "\n",
        "#Multiplication einsum\n",
        "mul = np.einsum('i, i->i', A, B)\n",
        "print(mul)"
      ]
    },
    {
      "cell_type": "code",
      "execution_count": null,
      "metadata": {
        "colab": {
          "base_uri": "https://localhost:8080/"
        },
        "id": "Rn82Q7u1oYQb",
        "outputId": "64e1828f-6a71-42e6-9518-ee97da7f49a5"
      },
      "outputs": [
        {
          "output_type": "stream",
          "name": "stdout",
          "text": [
            "[-0.5  2. ]\n"
          ]
        }
      ],
      "source": [
        "Y = np.array([1, 4])\n",
        "X = np.array([2, 0])\n",
        "\n",
        "diff = (Y - X)\n",
        "print(diff/2)"
      ]
    },
    {
      "cell_type": "code",
      "execution_count": null,
      "metadata": {
        "id": "fzLJ9ZhJoYQc"
      },
      "outputs": [],
      "source": []
    },
    {
      "cell_type": "markdown",
      "metadata": {
        "id": "S-unHcNjoYQc"
      },
      "source": [
        "#### 99. Given an integer n and a 2D array X, select from X the rows which can be interpreted as draws from a multinomial distribution with n degrees, i.e., the rows which only contain integers and which sum to n. (★★★)"
      ]
    },
    {
      "cell_type": "code",
      "execution_count": null,
      "metadata": {
        "colab": {
          "base_uri": "https://localhost:8080/"
        },
        "id": "qpMaNnRToYQc",
        "outputId": "07cce85a-2673-464e-a956-05ec0983ccb4"
      },
      "outputs": [
        {
          "output_type": "stream",
          "name": "stdout",
          "text": [
            "[1. 2. 3.]\n"
          ]
        }
      ],
      "source": [
        "# Let's say this is our 2D array X representing boxes and their balls\n",
        "X = np.array([[1, 2, 3],\n",
        "             [2, 3.5, 4],\n",
        "             [0, 5, 6],\n",
        "             [4, 1, 0]])\n",
        "\n",
        "# Our desired total count of balls in each box\n",
        "n = 6\n",
        "\n",
        "# List to store the rows that meet our conditions\n",
        "selected_rows = []\n",
        "\n",
        "# Loop through each row in X\n",
        "for row in X:\n",
        "    #Check if the row contains only integers and if the sum equals n\n",
        "    if np.all(np.equal(np.mod(row, 1), 0)) and np.sum(row) == n:\n",
        "        selected_rows.append(row)\n",
        "\n",
        "for row in selected_rows:\n",
        "    print(row)"
      ]
    },
    {
      "cell_type": "markdown",
      "metadata": {
        "id": "9-WYLegEoYQd"
      },
      "source": [
        "#### 100. Compute bootstrapped 95% confidence intervals for the mean of a 1D array X (i.e., resample the elements of an array with replacement N times, compute the mean of each sample, and then compute percentiles over the means). (★★★)"
      ]
    },
    {
      "cell_type": "code",
      "execution_count": null,
      "metadata": {
        "colab": {
          "base_uri": "https://localhost:8080/"
        },
        "id": "LqjFhywJoYQd",
        "outputId": "5a0a97e3-133c-43bb-c639-4bef758b4434"
      },
      "outputs": [
        {
          "output_type": "stream",
          "name": "stdout",
          "text": [
            "Interval for the mean: 1.0, 15.0\n"
          ]
        }
      ],
      "source": [
        "X = np.array([3, 5, 7, 9, 1, 13, 15])\n",
        "\n",
        "#Samples\n",
        "N = 1000\n",
        "\n",
        "#List to store the means of each sample\n",
        "sample_means = []\n",
        "\n",
        "#Loop N times to take samples, compute their mean and store it\n",
        "for i in range(N):\n",
        "    #Randomly sample withreplacement form the bag\n",
        "    sample = np.random.choice(X, size=len(X), replace=True)\n",
        "    #print(sample)\n",
        "    #Compute the mean of the sample and add it to the list\n",
        "    sample_mean = (sample)\n",
        "    #print(sample_mean)\n",
        "    sample_means.append(sample_mean)\n",
        "   # print(sample_means)\n",
        "\n",
        "#Compute the 2.5th and 97.5th percentile to get the 95% confidence interval\n",
        "lower_bound = np.percentile(sample_means, 2.5)\n",
        "upper_bound = np.percentile(sample_means, 97.5)\n",
        "print(f'Interval for the mean: {lower_bound}, {upper_bound}')"
      ]
    },
    {
      "cell_type": "code",
      "execution_count": null,
      "metadata": {
        "id": "IfmSSUtQoYQe"
      },
      "outputs": [],
      "source": []
    }
  ],
  "metadata": {
    "kernelspec": {
      "display_name": "Python 3 (ipykernel)",
      "language": "python",
      "name": "python3"
    },
    "language_info": {
      "codemirror_mode": {
        "name": "ipython",
        "version": 3
      },
      "file_extension": ".py",
      "mimetype": "text/x-python",
      "name": "python",
      "nbconvert_exporter": "python",
      "pygments_lexer": "ipython3",
      "version": "3.11.7"
    },
    "colab": {
      "provenance": [],
      "include_colab_link": true
    }
  },
  "nbformat": 4,
  "nbformat_minor": 0
}