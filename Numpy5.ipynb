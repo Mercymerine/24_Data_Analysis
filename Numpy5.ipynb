{
  "cells": [
    {
      "cell_type": "markdown",
      "metadata": {
        "id": "view-in-github",
        "colab_type": "text"
      },
      "source": [
        "<a href=\"https://colab.research.google.com/github/Mercymerine/24_Data_Analysis/blob/main/Numpy5.ipynb\" target=\"_parent\"><img src=\"https://colab.research.google.com/assets/colab-badge.svg\" alt=\"Open In Colab\"/></a>"
      ]
    },
    {
      "cell_type": "markdown",
      "metadata": {
        "id": "IsUWnFJZrPFY"
      },
      "source": [
        "# Numpy Exercise 5\n",
        "\n",
        "### All of the questions in this exercise are attributed to rougier/numpy-100"
      ]
    },
    {
      "cell_type": "code",
      "execution_count": null,
      "metadata": {
        "id": "1to6eVM3rPFb"
      },
      "outputs": [],
      "source": [
        "import numpy as np"
      ]
    },
    {
      "cell_type": "markdown",
      "metadata": {
        "id": "In6Xmnu1rPFd"
      },
      "source": [
        "#### 61. Find the nearest value from a given value in an array (★★☆)"
      ]
    },
    {
      "cell_type": "code",
      "execution_count": null,
      "metadata": {
        "id": "Yzjog15RrPFe",
        "outputId": "25458f7c-6fd5-46d0-d7fc-901f11cd6911"
      },
      "outputs": [
        {
          "name": "stdout",
          "output_type": "stream",
          "text": [
            "[5 3 1 1 3]\n",
            "2\n",
            "[1 3 5 7 9]\n",
            "5\n"
          ]
        }
      ],
      "source": [
        "#Array\n",
        "array = np.array([1, 3, 5, 7, 9])\n",
        "\n",
        "#Given value\n",
        "given_value = 6\n",
        "\n",
        "#Absolute difference\n",
        "diff = np.abs(array - given_value)\n",
        "print(diff)\n",
        "\n",
        "#Index of the minimum absolute difference\n",
        "index = np.argmin(diff)\n",
        "print(index)\n",
        "\n",
        "\n",
        "#Nearest value\n",
        "nearest_value = array[index]\n",
        "\n",
        "print(array)\n",
        "print(nearest_value)"
      ]
    },
    {
      "cell_type": "markdown",
      "metadata": {
        "id": "2DFHLyALrPFg"
      },
      "source": [
        "#### 62. Considering two arrays with shape (1,3) and (3,1), how to compute their sum using an iterator? (★★☆)"
      ]
    },
    {
      "cell_type": "code",
      "execution_count": null,
      "metadata": {
        "id": "jlbl0drgrPFg"
      },
      "outputs": [],
      "source": [
        "#???????????????????????"
      ]
    },
    {
      "cell_type": "code",
      "execution_count": null,
      "metadata": {
        "id": "mnCKcqQLrPFh",
        "outputId": "25a973dc-ac48-42ef-800b-c4aff0d85825"
      },
      "outputs": [
        {
          "name": "stdout",
          "output_type": "stream",
          "text": [
            "14\n"
          ]
        }
      ],
      "source": [
        "array1 = np.random.randint(10)\n",
        "array2 = np.random.randint(10)\n",
        "\n",
        "print(np.sum(array1 + array2))"
      ]
    },
    {
      "cell_type": "markdown",
      "metadata": {
        "id": "HCagvxWsrPFh"
      },
      "source": [
        "#### 63. Create an array class that has a name attribute (★★☆)"
      ]
    },
    {
      "cell_type": "code",
      "execution_count": null,
      "metadata": {
        "id": "GriI98lsrPFh"
      },
      "outputs": [],
      "source": [
        "class Array_class():\n",
        "    def __init__(self, name):\n",
        "        self.name = name"
      ]
    },
    {
      "cell_type": "markdown",
      "metadata": {
        "id": "wxiky_enrPFi"
      },
      "source": [
        "#### 64. Consider a given vector, how to add 1 to each element indexed by a second vector (be careful with repeated indices)? (★★★)"
      ]
    },
    {
      "cell_type": "code",
      "execution_count": null,
      "metadata": {
        "id": "qKQZp2X5rPFi",
        "outputId": "f762fc2f-f049-4b62-e861-efb1b3a4892b"
      },
      "outputs": [
        {
          "name": "stdout",
          "output_type": "stream",
          "text": [
            "[11 21 30 41 51]\n"
          ]
        }
      ],
      "source": [
        "import numpy as np\n",
        "\n",
        "#Given vector\n",
        "given_vector = np.array([10, 20, 30, 40, 50])\n",
        "\n",
        "#Indices vector\n",
        "indices_vector = np.array([0, 1, 1, 3, 4])\n",
        "\n",
        "#Add 1 to each element indexed by the second vector\n",
        "for index in np.unique(indices_vector):\n",
        "    given_vector[index] +=1\n",
        "print(given_vector)"
      ]
    },
    {
      "cell_type": "markdown",
      "metadata": {
        "id": "A8oVJw59rPFj"
      },
      "source": [
        "#### 65. How to accumulate elements of a vector (X) to an array (F) based on an index list (I)? (★★★)"
      ]
    },
    {
      "cell_type": "code",
      "execution_count": null,
      "metadata": {
        "id": "b5inVC7PrPFj"
      },
      "outputs": [],
      "source": [
        "\n",
        "\n",
        "\n"
      ]
    },
    {
      "cell_type": "markdown",
      "metadata": {
        "id": "CndxejfvrPFk"
      },
      "source": [
        "#### 66. Considering a (w,h,3) image of (dtype=ubyte), compute the number of unique colors (★★☆)"
      ]
    },
    {
      "cell_type": "code",
      "execution_count": null,
      "metadata": {
        "id": "6iuEYe-jrPFk"
      },
      "outputs": [],
      "source": []
    },
    {
      "cell_type": "markdown",
      "metadata": {
        "id": "A0N5TU67rPFk"
      },
      "source": [
        "#### 67. Considering a four dimensions array, how to get sum over the last two axis at once? (★★★)"
      ]
    },
    {
      "cell_type": "code",
      "execution_count": null,
      "metadata": {
        "id": "8i3wJQRarPFl",
        "outputId": "ccdf68da-bcc1-4fd7-8c2b-1479dff585ef"
      },
      "outputs": [
        {
          "name": "stdout",
          "output_type": "stream",
          "text": [
            "[[[[ 2 19 10  5  6]\n",
            "   [14 19  4  0 18]\n",
            "   [14  0  6  0 19]\n",
            "   [15 12 11 12 16]]\n",
            "\n",
            "  [[19 13 12  6  3]\n",
            "   [15 16 19  3 19]\n",
            "   [ 1 10 19  6 16]\n",
            "   [ 4  6 13  9  5]]\n",
            "\n",
            "  [[14 11  3  8  0]\n",
            "   [17 12  1 12 12]\n",
            "   [ 9  1 10 16 13]\n",
            "   [ 7 16  4 11  3]]]\n",
            "\n",
            "\n",
            " [[[16  8  2 17 18]\n",
            "   [13  6  5  3 13]\n",
            "   [ 1 10 14 18 17]\n",
            "   [11 15  4  6  3]]\n",
            "\n",
            "  [[12 10 18  3 16]\n",
            "   [ 0  0  5 17 12]\n",
            "   [ 2  1 11 19  3]\n",
            "   [ 1  5 13 15  9]]\n",
            "\n",
            "  [[11  5  5 17 14]\n",
            "   [ 9 15 16 15 14]\n",
            "   [ 0 11  9 18  7]\n",
            "   [11 19  9  6 17]]]]\n",
            "[[202 214 180]\n",
            " [200 172 228]]\n"
          ]
        }
      ],
      "source": [
        "import numpy as np\n",
        "\n",
        "array = np.random.randint(0, 20, size = (2, 3, 4, 5))\n",
        "print(array)\n",
        "\n",
        "\n",
        "\n",
        "axis_sum = np.sum(array, axis=(-2, -1))#??????????\n",
        "print(axis_sum)"
      ]
    },
    {
      "cell_type": "markdown",
      "metadata": {
        "id": "HJUKemQjrPFl"
      },
      "source": [
        "#### 68. Considering a one-dimensional vector D, how to compute means of subsets of D using a vector S of same size describing subset  indices? (★★★)"
      ]
    },
    {
      "cell_type": "code",
      "execution_count": null,
      "metadata": {
        "id": "lCcgDrNirPFm"
      },
      "outputs": [],
      "source": []
    },
    {
      "cell_type": "markdown",
      "metadata": {
        "id": "h-a1r_W4rPFm"
      },
      "source": [
        "#### 69. How to get the diagonal of a dot product? (★★★)"
      ]
    },
    {
      "cell_type": "code",
      "execution_count": null,
      "metadata": {
        "id": "wzyclGjErPFm",
        "outputId": "c28a1ec9-dece-4296-c099-d0a1a10345c5"
      },
      "outputs": [
        {
          "name": "stdout",
          "output_type": "stream",
          "text": [
            "[[25 28]\n",
            " [73 82]]\n",
            "[25 82]\n"
          ]
        }
      ],
      "source": [
        "arr1 = np.array([[1, 2],\n",
        "                [4, 5]])\n",
        "\n",
        "arr2 = np.array([[7, 8],\n",
        "               [9, 10]])\n",
        "\n",
        "#Diagonal of the dot product of A and B\n",
        "print((np.dot(arr1, arr2)))\n",
        "dot_product = np.diag(np.dot(arr1, arr2))\n",
        "print(dot_product)"
      ]
    },
    {
      "cell_type": "markdown",
      "metadata": {
        "id": "uptevNf2rPFn"
      },
      "source": [
        "#### 70. Consider the vector [1, 2, 3, 4, 5], how to build a new vector with 3 consecutive zeros interleaved between each value? (★★★)"
      ]
    },
    {
      "cell_type": "code",
      "execution_count": null,
      "metadata": {
        "id": "7Los6P0VrPFn"
      },
      "outputs": [],
      "source": []
    },
    {
      "cell_type": "markdown",
      "metadata": {
        "id": "AD-5yGS4rPFn"
      },
      "source": [
        "#### 71. Consider an array of dimension (5,5,3), how to mulitply it by an array with dimensions (5,5)? (★★★)"
      ]
    },
    {
      "cell_type": "code",
      "execution_count": null,
      "metadata": {
        "id": "v-BKhulIrPFn",
        "outputId": "6a97596f-bae2-4a26-fdf3-bb03779cd222"
      },
      "outputs": [
        {
          "name": "stdout",
          "output_type": "stream",
          "text": [
            "[[[1 2 3]\n",
            "  [4 5 6]]]\n",
            "[[1 2 3]\n",
            " [4 5 6]]\n",
            "[[[1]\n",
            "  [2]\n",
            "  [3]]\n",
            "\n",
            " [[4]\n",
            "  [5]\n",
            "  [6]]]\n",
            "3\n"
          ]
        }
      ],
      "source": [
        "array1 = np.array([[[1, 2, 3],\n",
        "           [4, 5, 6]]])\n",
        "array2 = np.array([[1, 2,3],\n",
        "                  [4, 5, 6]])\n",
        "print(array1)\n",
        "print(array2)\n",
        "new=array2[:, :, np.newaxis] #This part of the code adds a new axis to the 2D array. By using np.newaxis, we're essentially adding a new dimension to the 2D array along the third axis.\n",
        "print(new)\n",
        "print(new.ndim)"
      ]
    },
    {
      "cell_type": "code",
      "execution_count": null,
      "metadata": {
        "id": "T2G-i9cIrPFo",
        "outputId": "00d7dc85-97de-4aad-e4af-5d241f4eccc4"
      },
      "outputs": [
        {
          "name": "stdout",
          "output_type": "stream",
          "text": [
            "[[[2 3 2]\n",
            "  [2 0 3]\n",
            "  [3 3 0]\n",
            "  [1 2 0]\n",
            "  [0 3 9]]\n",
            "\n",
            " [[0 0 0]\n",
            "  [0 6 2]\n",
            "  [0 3 3]\n",
            "  [4 6 2]\n",
            "  [3 1 2]]\n",
            "\n",
            " [[3 1 1]\n",
            "  [3 1 1]\n",
            "  [4 2 4]\n",
            "  [3 0 3]\n",
            "  [0 9 0]]\n",
            "\n",
            " [[2 2 1]\n",
            "  [2 0 0]\n",
            "  [4 2 0]\n",
            "  [0 6 6]\n",
            "  [9 6 9]]\n",
            "\n",
            " [[3 6 9]\n",
            "  [6 3 6]\n",
            "  [3 0 3]\n",
            "  [4 0 4]\n",
            "  [0 6 2]]]\n"
          ]
        }
      ],
      "source": [
        "arr1 = np.random.randint(0, 4, size = (5, 5, 3))\n",
        "arr2 = np.random.randint(0, 4, size= (5, 5))\n",
        "\n",
        "print(arr1 * arr2[:, :, np.newaxis])"
      ]
    },
    {
      "cell_type": "markdown",
      "metadata": {
        "id": "qC4cE2OZrPFp"
      },
      "source": [
        "#### 72. How to swap two rows of an array? (★★★)"
      ]
    },
    {
      "cell_type": "code",
      "execution_count": null,
      "metadata": {
        "id": "_9x3-NyXrPFp",
        "outputId": "4326f927-b0e6-407a-e916-e7a121e49110"
      },
      "outputs": [
        {
          "name": "stdout",
          "output_type": "stream",
          "text": [
            "[[1 2 3]\n",
            " [4 5 6]]\n",
            "[[4 5 6]\n",
            " [1 2 3]]\n",
            "[[4 5 6]\n",
            " [1 2 3]\n",
            " [7 8 9]]\n"
          ]
        }
      ],
      "source": [
        "array = np.array([[1, 2, 3],\n",
        "                  [4, 5, 6],\n",
        "                  [7, 8, 9]])\n",
        "\n",
        "\n",
        "print(array[[0, 1]])\n",
        "print('********')\n",
        "print(array[[1, 0]])\n",
        "print('********')\n",
        "array[[0, 1]] = array[[1, 0]]\n",
        "print(array)"
      ]
    },
    {
      "cell_type": "markdown",
      "metadata": {
        "id": "kONAro4TrPFq"
      },
      "source": [
        "#### 73. Consider a set of 10 triplets describing 10 triangles (with shared vertices), find the set of unique line segments composing all the  triangles (★★★)"
      ]
    },
    {
      "cell_type": "code",
      "execution_count": null,
      "metadata": {
        "id": "jMFLODWlrPFq"
      },
      "outputs": [],
      "source": [
        "#?????????????????????"
      ]
    },
    {
      "cell_type": "markdown",
      "metadata": {
        "id": "AQT02ALkrPFq"
      },
      "source": [
        "#### 74. Given a sorted array C that corresponds to a bincount, how to produce an array A such that np.bincount(A) == C? (★★★)"
      ]
    },
    {
      "cell_type": "code",
      "execution_count": null,
      "metadata": {
        "id": "CV4g2j6ErPFr"
      },
      "outputs": [],
      "source": [
        "#???????????????"
      ]
    },
    {
      "cell_type": "markdown",
      "metadata": {
        "id": "-eOHCpsRrPFr"
      },
      "source": [
        "#### 75. How to compute averages using a sliding window over an array? (★★★)"
      ]
    },
    {
      "cell_type": "code",
      "execution_count": null,
      "metadata": {
        "id": "6VH-qyVJrPFr"
      },
      "outputs": [],
      "source": [
        "#???????????????"
      ]
    },
    {
      "cell_type": "markdown",
      "metadata": {
        "id": "dhmo5eFYrPFs"
      },
      "source": [
        "#### 76. Consider a one-dimensional array Z, build a two-dimensional array whose first row is (Z[0],Z[1],Z[2]) and each subsequent row is  shifted by 1 (last row should be (Z[-3],Z[-2],Z[-1]) (★★★)"
      ]
    },
    {
      "cell_type": "code",
      "execution_count": null,
      "metadata": {
        "id": "66Y3cOPBrPFs"
      },
      "outputs": [],
      "source": [
        "#??????????"
      ]
    },
    {
      "cell_type": "markdown",
      "metadata": {
        "id": "AEx6EsC3rPFs"
      },
      "source": [
        "#### 77. How to negate a boolean, or to change the sign of a float inplace? (★★★)"
      ]
    },
    {
      "cell_type": "code",
      "execution_count": null,
      "metadata": {
        "id": "cOHga1ckrPFt",
        "outputId": "eb594011-5f9c-47b4-fef9-ddf8fecc32be"
      },
      "outputs": [
        {
          "name": "stdout",
          "output_type": "stream",
          "text": [
            "False\n"
          ]
        }
      ],
      "source": [
        "boolean = True\n",
        "boolean = not boolean\n",
        "print(boolean)\n"
      ]
    },
    {
      "cell_type": "code",
      "execution_count": null,
      "metadata": {
        "id": "9ZqTyPdbrPFu",
        "outputId": "fb9fb4fa-f459-4470-f7fa-c82016080bf1"
      },
      "outputs": [
        {
          "name": "stdout",
          "output_type": "stream",
          "text": [
            "-5.0\n"
          ]
        }
      ],
      "source": [
        "number = 5.0\n",
        "number = - number\n",
        "print(number)"
      ]
    },
    {
      "cell_type": "markdown",
      "metadata": {
        "id": "abu89x7mrPF0"
      },
      "source": [
        "#### 78. Consider 2 sets of points P0,P1 describing lines (2d) and a point p, how to compute distance from p to each line i (P0[i],P1[i])? (★★★)"
      ]
    },
    {
      "cell_type": "code",
      "execution_count": null,
      "metadata": {
        "id": "aR-8Lf2UrPF1"
      },
      "outputs": [],
      "source": []
    },
    {
      "cell_type": "markdown",
      "metadata": {
        "id": "qquSfBFjrPF1"
      },
      "source": [
        "#### 79. Consider 2 sets of points P0,P1 describing lines (2d) and a set of points P, how to compute distance from each point j (P[j]) to each line i (P0[i],P1[i])? (★★★)"
      ]
    },
    {
      "cell_type": "code",
      "execution_count": null,
      "metadata": {
        "id": "R0Iqi2worPF1"
      },
      "outputs": [],
      "source": []
    },
    {
      "cell_type": "markdown",
      "metadata": {
        "id": "ebGX4k0ArPF2"
      },
      "source": [
        "#### 80. Consider an arbitrary array, write a function that extract a subpart with a fixed shape and centered on a given element (pad with a `fill` value when necessary) (★★★)"
      ]
    },
    {
      "cell_type": "code",
      "execution_count": null,
      "metadata": {
        "id": "NYI5QtmarPF2"
      },
      "outputs": [],
      "source": []
    },
    {
      "cell_type": "markdown",
      "metadata": {
        "id": "CyUobjEjrPF2"
      },
      "source": [
        "#### 81. Consider an array Z = [1,2,3,4,5,6,7,8,9,10,11,12,13,14], how to generate an array R = [[1,2,3,4], [2,3,4,5], [3,4,5,6], ..., [11,12,13,14]]? (★★★)"
      ]
    },
    {
      "cell_type": "code",
      "execution_count": null,
      "metadata": {
        "id": "AC-EmpARrPF2"
      },
      "outputs": [],
      "source": []
    },
    {
      "cell_type": "markdown",
      "metadata": {
        "id": "Odc0CBxorPF2"
      },
      "source": [
        "#### 82. Compute a matrix rank (★★★)"
      ]
    },
    {
      "cell_type": "code",
      "execution_count": null,
      "metadata": {
        "id": "y9C5WqllrPF3"
      },
      "outputs": [],
      "source": [
        "#???????????????"
      ]
    },
    {
      "cell_type": "code",
      "execution_count": null,
      "metadata": {
        "id": "H7O1xlCYrPF3",
        "outputId": "bb51db21-3b08-41d9-f88f-1032e0600da1"
      },
      "outputs": [
        {
          "name": "stdout",
          "output_type": "stream",
          "text": [
            "2\n"
          ]
        }
      ],
      "source": [
        "matrix = np.array([[1, 2, 3],\n",
        "                  [4, 5, 6],\n",
        "                  [7, 8, 9]])\n",
        "\n",
        "rank = np.linalg.matrix_rank(matrix)\n",
        "print(rank)"
      ]
    },
    {
      "cell_type": "markdown",
      "metadata": {
        "id": "kg48USwhrPF3"
      },
      "source": [
        "#### 83. How to find the most frequent value in an array?"
      ]
    },
    {
      "cell_type": "code",
      "execution_count": null,
      "metadata": {
        "id": "6eKZpTfRrPF3"
      },
      "outputs": [],
      "source": [
        "#???????????????"
      ]
    },
    {
      "cell_type": "code",
      "execution_count": null,
      "metadata": {
        "id": "3q3PAv_OrPF4",
        "outputId": "d8693a86-5dfd-49fe-84ef-200569e1f799"
      },
      "outputs": [
        {
          "name": "stdout",
          "output_type": "stream",
          "text": [
            "3\n"
          ]
        }
      ],
      "source": [
        "arrays = np.array([1, 2, 3, 4, 2, 2, 3, 3, 3])\n",
        "\n",
        "#Finding the most frequent value\n",
        "value = np.bincount(arrays).argmax()\n",
        "print(value)"
      ]
    },
    {
      "cell_type": "markdown",
      "metadata": {
        "id": "J9h2keYcrPF4"
      },
      "source": [
        "#### 84. Extract all the contiguous 3x3 blocks from a random 10x10 matrix (★★★)"
      ]
    },
    {
      "cell_type": "code",
      "execution_count": null,
      "metadata": {
        "id": "1uP1gSE9rPF4"
      },
      "outputs": [],
      "source": [
        "#???????????????????????"
      ]
    },
    {
      "cell_type": "markdown",
      "metadata": {
        "id": "-aFycmWVrPF5"
      },
      "source": [
        "#### 85. Create a 2D array subclass such that Z[i,j] == Z[j,i] (★★★)"
      ]
    },
    {
      "cell_type": "code",
      "execution_count": null,
      "metadata": {
        "id": "nmYUYsYKrPF5"
      },
      "outputs": [],
      "source": []
    },
    {
      "cell_type": "markdown",
      "metadata": {
        "id": "L1rTmBUnrPF6"
      },
      "source": [
        "#### 86. Consider a set of p matrices wich shape (n,n) and a set of p vectors with shape (n,1). How to compute the sum of of the p matrix products at once? (result has shape (n,1)) (★★★)"
      ]
    },
    {
      "cell_type": "code",
      "execution_count": null,
      "metadata": {
        "id": "aOdr8uH2rPF6"
      },
      "outputs": [],
      "source": [
        "#?????????????"
      ]
    },
    {
      "cell_type": "code",
      "execution_count": null,
      "metadata": {
        "id": "MIn4X5fXrPF6",
        "outputId": "694d08d2-da01-42d8-8b29-61760005daa1"
      },
      "outputs": [
        {
          "name": "stdout",
          "output_type": "stream",
          "text": [
            "[[ 8  0  0  8 16]\n",
            " [12  0 12  8  0]\n",
            " [ 9  0  0  3  9]\n",
            " [ 0 12 12  0  0]\n",
            " [ 3  2  2  3  2]]\n"
          ]
        }
      ],
      "source": [
        "#Assume n = 5\n",
        "\n",
        "arr1 = np.random.randint(0, 5, size=(5, 5))\n",
        "arr2 = np.random.randint(0, 5, size =(5, 1))\n",
        "\n",
        "product = (arr1 * arr2)\n",
        "print(product)"
      ]
    },
    {
      "cell_type": "markdown",
      "metadata": {
        "id": "qT7rJd-srPF6"
      },
      "source": [
        "#### 87. Consider a 16x16 array, how to get the block-sum (block size is 4x4)? (★★★)"
      ]
    },
    {
      "cell_type": "code",
      "execution_count": null,
      "metadata": {
        "id": "WX6S3DWbrPF7"
      },
      "outputs": [],
      "source": [
        "#?????????????????"
      ]
    },
    {
      "cell_type": "code",
      "execution_count": null,
      "metadata": {
        "id": "AnNGWSEirPF7",
        "outputId": "842450ef-4429-4ed1-c06a-7f74c7a2b95f"
      },
      "outputs": [
        {
          "name": "stdout",
          "output_type": "stream",
          "text": [
            "[[90 92 92 85]\n",
            " [93 96 80 78]\n",
            " [88 78 60 81]\n",
            " [85 66 76 88]]\n"
          ]
        }
      ],
      "source": [
        "array = np.random.randint(1, 10, (16, 16))\n",
        "\n",
        "\n",
        "#Block size\n",
        "block_size = 4\n",
        "\n",
        "#Reshape array into a 4D array 0f shape (4, 4, 4, 4)\n",
        "reshaped_array = array.reshape(4, 4, 4, 4)\n",
        "\n",
        "#Getting sum\n",
        "block_sum = reshaped_array.sum(axis=(-2, -1))\n",
        "print(block_sum)"
      ]
    },
    {
      "cell_type": "markdown",
      "metadata": {
        "id": "qfGhunOOrPF8"
      },
      "source": [
        "#### 88. How to implement the Game of Life using numpy arrays? (★★★)"
      ]
    },
    {
      "cell_type": "code",
      "execution_count": null,
      "metadata": {
        "id": "11VfmcicrPF8"
      },
      "outputs": [],
      "source": [
        "#?????????????????"
      ]
    },
    {
      "cell_type": "markdown",
      "metadata": {
        "id": "abzw5mpnrPF8"
      },
      "source": [
        "#### 89. How to get the n largest values of an array (★★★)"
      ]
    },
    {
      "cell_type": "code",
      "execution_count": null,
      "metadata": {
        "id": "hD7qnI6vrPF8",
        "outputId": "189841a7-81f7-4598-aced-e1d9401161b9"
      },
      "outputs": [
        {
          "name": "stdout",
          "output_type": "stream",
          "text": [
            "[7 8 9]\n"
          ]
        }
      ],
      "source": [
        "array = np.array([1, 5, 3, 9, 7, 2, 8, 4, 6])\n",
        "\n",
        "#Number of largest value to retrieve\n",
        "n=3\n",
        "\n",
        "#Get the n largest values of array\n",
        "largest_values = np.sort(array)[-n:]\n",
        "print(largest_values)"
      ]
    },
    {
      "cell_type": "markdown",
      "metadata": {
        "id": "97YewPc3rPF9"
      },
      "source": [
        "#### 90. Given an arbitrary number of vectors, build the cartesian product (every combinations of every item) (★★★)"
      ]
    },
    {
      "cell_type": "code",
      "execution_count": null,
      "metadata": {
        "id": "8QtZEbsWrPF9"
      },
      "outputs": [],
      "source": [
        "import itertools # provides various functions for working with iterators and combinatorial functions."
      ]
    },
    {
      "cell_type": "code",
      "execution_count": null,
      "metadata": {
        "id": "BJo46Rs1rPF9",
        "outputId": "cc49ef80-e55c-4cb1-f7f3-949a0e703140"
      },
      "outputs": [
        {
          "name": "stdout",
          "output_type": "stream",
          "text": [
            "[(1, 4, 6), (1, 4, 7), (1, 5, 6), (1, 5, 7), (2, 4, 6), (2, 4, 7), (2, 5, 6), (2, 5, 7), (3, 4, 6), (3, 4, 7), (3, 5, 6), (3, 5, 7)]\n"
          ]
        }
      ],
      "source": [
        "vectors = [[1, 2, 3], [4, 5], [6, 7]]\n",
        "\n",
        "#Buiding the cartesian product\n",
        "cartesian = list(itertools.product(*vectors)) # It takes multiple iterables (in this case, vectors) as arguments and returns an iterator that produces tuples containing all possible combinations of items from the input iterables. The *vectors syntax is used to unpack the list of vectors into separate arguments for the itertools.product function.\n",
        "print(cartesian)"
      ]
    },
    {
      "cell_type": "markdown",
      "metadata": {
        "id": "HTRjVIK5rPF-"
      },
      "source": [
        "#### 91. How to create a record array from a regular array? (★★★)"
      ]
    },
    {
      "cell_type": "code",
      "execution_count": null,
      "metadata": {
        "id": "oJqleWPZrPF-"
      },
      "outputs": [],
      "source": [
        "#?????????///"
      ]
    },
    {
      "cell_type": "code",
      "execution_count": null,
      "metadata": {
        "id": "uAxYbKGXrPF-",
        "outputId": "3d315568-845a-420c-a84c-ee2e3ad1f302"
      },
      "outputs": [
        {
          "name": "stdout",
          "output_type": "stream",
          "text": [
            "[('1', 'John', '25')]\n",
            "**********\n",
            "[['1' 'John' '25']]\n",
            "[('2', 'Alice', '30')]\n",
            "**********\n",
            "[['2' 'Alice' '30']]\n",
            "[('3', 'Bob', '35')]\n",
            "**********\n",
            "[['3' 'Bob' '35']]\n"
          ]
        }
      ],
      "source": [
        "array = np.array([[1, 'John', 25],\n",
        "                 [2, 'Alice', 30],\n",
        "                 [3, 'Bob', 35]])\n",
        "\n",
        "#Defining the dtype for the record array\n",
        "dtype = [('ID', int), ('Name', 'U10'), ('Age', int)]\n",
        "\n",
        "for row in array:\n",
        "    x = ([tuple(row)])\n",
        "    print(x)\n",
        "    print('**********')\n",
        "    print(np.array(x))"
      ]
    },
    {
      "cell_type": "markdown",
      "metadata": {
        "id": "WS0Hp-ZgrPF_"
      },
      "source": [
        "#### 92. Consider a large vector Z, compute Z to the power of 3 using 3 different methods (★★★)"
      ]
    },
    {
      "cell_type": "code",
      "execution_count": null,
      "metadata": {
        "id": "29bfpv4MrPF_",
        "outputId": "f002397f-84fb-4977-baaf-eb16d39141b2"
      },
      "outputs": [
        {
          "name": "stdout",
          "output_type": "stream",
          "text": [
            "[3.17095722e-01 6.17552154e-05 8.41792220e-01 ... 2.74789362e-03\n",
            " 6.05884556e-01 4.59904324e-01]\n"
          ]
        }
      ],
      "source": [
        "#Method 1 using np.power\n",
        "Z = np.random.rand(1000000)\n",
        "\n",
        "ZP = np.power(Z, 3)\n",
        "print(ZP)\n"
      ]
    },
    {
      "cell_type": "code",
      "execution_count": null,
      "metadata": {
        "id": "-H4rYfW1rPGA",
        "outputId": "fa01579e-9cf1-4355-c279-0d4ce5a85954"
      },
      "outputs": [
        {
          "name": "stdout",
          "output_type": "stream",
          "text": [
            "[3.17095722e-01 6.17552154e-05 8.41792220e-01 ... 2.74789362e-03\n",
            " 6.05884556e-01 4.59904324e-01]\n"
          ]
        }
      ],
      "source": [
        "#MEthod 2 using **\n",
        "ZE = (Z ** 3)\n",
        "print(ZE)"
      ]
    },
    {
      "cell_type": "code",
      "execution_count": null,
      "metadata": {
        "id": "bVz3Vs7qrPGA",
        "outputId": "0fdf6b04-1bae-4a3f-adca-95193a12e738"
      },
      "outputs": [
        {
          "name": "stdout",
          "output_type": "stream",
          "text": [
            "[3.17095722e-01 6.17552154e-05 8.41792220e-01 ... 2.74789362e-03\n",
            " 6.05884556e-01 4.59904324e-01]\n"
          ]
        }
      ],
      "source": [
        "#Method 3: *\n",
        "ZM = Z * Z * Z\n",
        "print(ZM)"
      ]
    },
    {
      "cell_type": "markdown",
      "metadata": {
        "id": "NjSR53XIrPGA"
      },
      "source": [
        "#### 93. Consider two arrays A and B of shape (8,3) and (2,2). How to find rows of A that contain elements of each row of B regardless of the order of the elements in B? (★★★)"
      ]
    },
    {
      "cell_type": "code",
      "execution_count": null,
      "metadata": {
        "id": "Vd4C3kqrrPGB",
        "outputId": "3f9814fa-3b8f-4dd1-862d-b75cbabb97aa"
      },
      "outputs": [
        {
          "name": "stdout",
          "output_type": "stream",
          "text": [
            "[]\n"
          ]
        }
      ],
      "source": [
        "A = np.array([[1, 2, 3],\n",
        "                  [4, 5, 6],\n",
        "                  [7, 8, 9],\n",
        "                  [1, 2, 3],\n",
        "                  [4, 5, 6],\n",
        "                  [7, 8, 9],\n",
        "                  [1, 2, 3],\n",
        "                  [4, 5, 6]])\n",
        "B = np.array([[2, 1],\n",
        "             [5, 4]])\n",
        "\n",
        "#Sort the rows of B\n",
        "sorted_B = np.sort(B, axis =1)\n",
        "\n",
        "#Sort the rows of A\n",
        "sorted_A = np.sort(A, axis = 1)\n",
        "\n",
        "matching_rows = np.all(np.isin(sorted_A[:, :, None], sorted_B.T), axis = 1).any(axis = 1)\n",
        "result = A[matching_rows]\n",
        "print(result)\n",
        "\n"
      ]
    },
    {
      "cell_type": "markdown",
      "metadata": {
        "id": "oS6yOjt3rPGB"
      },
      "source": [
        "#### 94. Considering a 10x3 matrix, extract rows with unequal values (e.g. [2,2,3]) (★★★)"
      ]
    },
    {
      "cell_type": "code",
      "execution_count": null,
      "metadata": {
        "id": "OAJw-pkOrPGC",
        "outputId": "e8f7072d-e8b1-47c6-b0f1-db24e713b47d"
      },
      "outputs": [
        {
          "name": "stdout",
          "output_type": "stream",
          "text": [
            "[1, 2, 3, 4, 5, 2, 3]\n",
            "{1, 2, 3, 4, 5}\n",
            "5\n"
          ]
        }
      ],
      "source": [
        "lists = [1, 2, 3, 4, 5, 2, 3]\n",
        "print(lists)\n",
        "x = set(lists)\n",
        "print(x)\n",
        "print(len(x))"
      ]
    },
    {
      "cell_type": "code",
      "execution_count": null,
      "metadata": {
        "id": "5r-jCE_ArPGC",
        "outputId": "1130425a-6438-49fc-f95f-1feaf0e02254"
      },
      "outputs": [
        {
          "name": "stdout",
          "output_type": "stream",
          "text": [
            "3\n",
            "3\n",
            "3\n",
            "3\n"
          ]
        }
      ],
      "source": [
        "matrix = np.array([[1, 1, 1],\n",
        "                  [2, 2, 1],\n",
        "                  [3, 3, 3],\n",
        "                  [4, 4, 4],\n",
        "                  [4, 5, 5],\n",
        "                  [7, 4, 3],\n",
        "                  [6, 6, 6],\n",
        "                  [8, 8, 8],\n",
        "                  [9, 9, 9],\n",
        "                  [9, 5, 6]])\n",
        "unequal_list =[]\n",
        "\n",
        "for row in matrix:\n",
        "    # If the length of the set of values in the row is not equal to 1,\n",
        "    # it means there are unequal values in the row\n",
        "        if len(set(row)) != 1:#??????\n",
        "            unequal_list.append(row)\n",
        "\n",
        "for row in unequal_list:\n",
        "    print(len (row))"
      ]
    },
    {
      "cell_type": "markdown",
      "metadata": {
        "id": "VTImKQfArPGC"
      },
      "source": [
        "#### 95. Convert a vector of ints into a matrix binary representation (★★★)"
      ]
    },
    {
      "cell_type": "code",
      "execution_count": null,
      "metadata": {
        "id": "tZuZiqISrPGD",
        "outputId": "3cd3a7c8-d1bd-4ba3-e82e-ef226068bb7a"
      },
      "outputs": [
        {
          "name": "stdout",
          "output_type": "stream",
          "text": [
            "[[0 0 0 0]\n",
            " [1 1 0 0]\n",
            " [1 1 1 0]\n",
            " [1 1 1 1]]\n"
          ]
        }
      ],
      "source": [
        "vector = np.array([0, 2, 3, 4])\n",
        "\n",
        "#Maximum value\n",
        "max_value = np.max(vector)\n",
        "\n",
        "#Create a matrix of zeros with shape(len(vector)=row, max_value=columns)\n",
        "matrix = np.zeros((len(vector), max_value), dtype = int)\n",
        "\n",
        "for i, val in enumerate(vector):\n",
        "    matrix[i, :val] = 1 #i = index, val: value of index, =1: assigns the the value 1 to the selected elements\n",
        "print(matrix)\n",
        ""
      ]
    },
    {
      "cell_type": "code",
      "execution_count": null,
      "metadata": {
        "id": "fuJX8-ChrPGD",
        "outputId": "40731999-7882-442f-9f13-8256f78d2fb5"
      },
      "outputs": [
        {
          "data": {
            "text/plain": [
              "\u001b[1;31mInit signature:\u001b[0m \u001b[0menumerate\u001b[0m\u001b[1;33m(\u001b[0m\u001b[0miterable\u001b[0m\u001b[1;33m,\u001b[0m \u001b[0mstart\u001b[0m\u001b[1;33m=\u001b[0m\u001b[1;36m0\u001b[0m\u001b[1;33m)\u001b[0m\u001b[1;33m\u001b[0m\u001b[1;33m\u001b[0m\u001b[0m\n",
              "\u001b[1;31mDocstring:\u001b[0m     \n",
              "Return an enumerate object.\n",
              "\n",
              "  iterable\n",
              "    an object supporting iteration\n",
              "\n",
              "The enumerate object yields pairs containing a count (from start, which\n",
              "defaults to zero) and a value yielded by the iterable argument.\n",
              "\n",
              "enumerate is useful for obtaining an indexed list:\n",
              "    (0, seq[0]), (1, seq[1]), (2, seq[2]), ...\n",
              "\u001b[1;31mType:\u001b[0m           type\n",
              "\u001b[1;31mSubclasses:\u001b[0m     "
            ]
          },
          "metadata": {},
          "output_type": "display_data"
        }
      ],
      "source": [
        "enumerate?\n"
      ]
    },
    {
      "cell_type": "markdown",
      "metadata": {
        "id": "E5Po2q_brPGD"
      },
      "source": [
        "#### 96. Given a two dimensional array, how to extract unique rows? (★★★)"
      ]
    },
    {
      "cell_type": "code",
      "execution_count": null,
      "metadata": {
        "id": "QP9q-WAHrPGE",
        "outputId": "1c859321-43c2-41a3-e1bd-2331861af040"
      },
      "outputs": [
        {
          "name": "stdout",
          "output_type": "stream",
          "text": [
            "True\n"
          ]
        }
      ],
      "source": [
        "array = np.array([[1, 2, 3],\n",
        "                 [4, 5, 6],\n",
        "                 [1, 2, 3],\n",
        "                 [7, 8, 9],\n",
        "                 [4, 5, 6]])\n",
        "print(np.all(np.unique(array)))"
      ]
    },
    {
      "cell_type": "code",
      "execution_count": null,
      "metadata": {
        "id": "xSPcS3DBrPGE",
        "outputId": "6ee4bd13-f822-4d94-8b74-3f98c17d3f7c"
      },
      "outputs": [
        {
          "name": "stdout",
          "output_type": "stream",
          "text": [
            "[(1, 2, 3), (4, 5, 6), (1, 2, 3), (7, 8, 9), (4, 5, 6)]\n",
            "[[7 8 9]\n",
            " [1 2 3]\n",
            " [4 5 6]]\n"
          ]
        }
      ],
      "source": [
        "array = np.array([[1, 2, 3],\n",
        "                 [4, 5, 6],\n",
        "                 [1, 2, 3],\n",
        "                 [7, 8, 9],\n",
        "                 [4, 5, 6]])\n",
        "\n",
        "#Convert the 2D array to a list of tuples(each row becomes a tuple)\n",
        "# tuples = [tuple(row) for row in toys]\n",
        "tuple_list = []\n",
        "for row in array:\n",
        "    # Each row of the array becomes a tuple. This step is necessary because NumPy's unique() function works differently with 2D arrays.\n",
        "    x = tuple(row)\n",
        "    tuple_list.append(x)\n",
        "print(tuple_list)\n",
        "\n",
        "# We use the set() function to get unique tuples. A set is a collection of unique elements, so when we convert the list of tuples to a set, it automatically removes duplicates.\n",
        "unique = np.array(list(set(tuple_list)))\n",
        "print(unique)"
      ]
    },
    {
      "cell_type": "markdown",
      "metadata": {
        "id": "T4RYDS7QrPGE"
      },
      "source": [
        "#### 97. Considering 2 vectors A & B, write the einsum equivalent of inner, outer, sum, and mul function (★★★)"
      ]
    },
    {
      "cell_type": "code",
      "execution_count": null,
      "metadata": {
        "id": "IWahfokVrPGF",
        "outputId": "572e738a-c422-4297-e495-f06064075c25"
      },
      "outputs": [
        {
          "name": "stdout",
          "output_type": "stream",
          "text": [
            "32\n"
          ]
        }
      ],
      "source": [
        "A = np.array([1, 2, 3])\n",
        "B = np.array([4, 5, 6])\n",
        "\n",
        "#Inner product using einsum\n",
        "# Imagine you have two lists of numbers, and you want to multiply each pair of numbers from the two lists, then add up all those products.\n",
        "inner_product = np.einsum('i, i->', A, B) # 'i,i->' indicates that we want to multiply corresponding elements of A and B, and -> indicates that we want to sum up the results.\n",
        "print(inner_product)"
      ]
    },
    {
      "cell_type": "code",
      "execution_count": null,
      "metadata": {
        "id": "fvi6M1aVrPGF"
      },
      "outputs": [],
      "source": [
        "#???????"
      ]
    },
    {
      "cell_type": "code",
      "execution_count": null,
      "metadata": {
        "id": "Ic8KvP3WrPGG",
        "outputId": "004222a6-c2f6-4af9-f394-23c6cb621977"
      },
      "outputs": [
        {
          "name": "stdout",
          "output_type": "stream",
          "text": [
            "[[ 4  5  6]\n",
            " [ 8 10 12]\n",
            " [12 15 18]]\n"
          ]
        }
      ],
      "source": [
        "#Outer product using einsum\n",
        "#imagine you have two lists again, but this time you want to create a matrix where each element (i, j) is the product of the ith element of the first list and the jth element of the second list.\n",
        "\n",
        "A = np.array([1, 2, 3])\n",
        "B = np.array([4, 5, 6])\n",
        "\n",
        "#Outer product using einsum\n",
        "outer_product = np.einsum('i, j->ij', A, B)\n",
        "print(outer_product)"
      ]
    },
    {
      "cell_type": "code",
      "execution_count": null,
      "metadata": {
        "id": "y4fsEkJfrPGG",
        "outputId": "30ee1a92-e2fe-431d-e798-3b8fded4ba31"
      },
      "outputs": [
        {
          "name": "stdout",
          "output_type": "stream",
          "text": [
            "15\n"
          ]
        }
      ],
      "source": [
        "#Sum\n",
        "# Let's say you have a list of numbers and you want to add them all up. That's the sum\n",
        "\n",
        "X = np.array([1, 2, 3, 4, 5])\n",
        "\n",
        "#Sum using einsum\n",
        "total_sum = np.einsum('i->', X)\n",
        "print(total_sum)"
      ]
    },
    {
      "cell_type": "code",
      "execution_count": null,
      "metadata": {
        "id": "3M6sNML0rPGG",
        "outputId": "01c37a60-2d85-4a44-fbf9-7cb53c6f218e"
      },
      "outputs": [
        {
          "name": "stdout",
          "output_type": "stream",
          "text": [
            "[ 4 10 18]\n"
          ]
        }
      ],
      "source": [
        "A = np.array([1, 2, 3])\n",
        "B = np.array([4, 5, 6])\n",
        "\n",
        "#Multiplication einsum\n",
        "mul = np.einsum('i, i->i', A, B)\n",
        "print(mul)"
      ]
    },
    {
      "cell_type": "code",
      "execution_count": null,
      "metadata": {
        "id": "Bo9i-obYrPGH"
      },
      "outputs": [],
      "source": [
        "#np.einsum?\n"
      ]
    },
    {
      "cell_type": "markdown",
      "metadata": {
        "id": "HksxmVodrPGH"
      },
      "source": [
        "#### 98. Considering a path described by two vectors (X,Y), how to sample it using equidistant samples (★★★)?"
      ]
    },
    {
      "cell_type": "code",
      "execution_count": null,
      "metadata": {
        "id": "U1PABsDJrPGH"
      },
      "outputs": [],
      "source": [
        "#????????????????????"
      ]
    },
    {
      "cell_type": "code",
      "execution_count": null,
      "metadata": {
        "id": "fRDkauAurPGH",
        "outputId": "bb01234f-2723-46ce-8a3b-2b9a1e20bfc5"
      },
      "outputs": [
        {
          "name": "stdout",
          "output_type": "stream",
          "text": [
            "[-0.5  2. ]\n"
          ]
        }
      ],
      "source": [
        "Y = np.array([1, 4])\n",
        "X = np.array([2, 0])\n",
        "\n",
        "diff = (Y - X)\n",
        "print(diff/2)"
      ]
    },
    {
      "cell_type": "code",
      "execution_count": null,
      "metadata": {
        "id": "TURfH-VbrPGI"
      },
      "outputs": [],
      "source": []
    },
    {
      "cell_type": "markdown",
      "metadata": {
        "id": "jVlt8pAOrPGI"
      },
      "source": [
        "#### 99. Given an integer n and a 2D array X, select from X the rows which can be interpreted as draws from a multinomial distribution with n degrees, i.e., the rows which only contain integers and which sum to n. (★★★)"
      ]
    },
    {
      "cell_type": "code",
      "execution_count": null,
      "metadata": {
        "id": "SMZ7TPmQrPGI",
        "outputId": "17aa70c4-23ff-4e55-b80c-5aecea7d2b03"
      },
      "outputs": [
        {
          "name": "stdout",
          "output_type": "stream",
          "text": [
            "[1. 2. 3.]\n"
          ]
        }
      ],
      "source": [
        "# Let's say this is our 2D array X representing boxes and their balls\n",
        "X = np.array([[1, 2, 3],\n",
        "             [2, 3.5, 4],\n",
        "             [0, 5, 6],\n",
        "             [4, 1, 0]])\n",
        "\n",
        "# Our desired total count of balls in each box\n",
        "n = 6\n",
        "\n",
        "# List to store the rows that meet our conditions\n",
        "selected_rows = []\n",
        "\n",
        "# Loop through each row in X\n",
        "for row in X:\n",
        "    #Check if the row contains only integers and if the sum equals n\n",
        "    if np.all(np.equal(np.mod(row, 1), 0)) and np.sum(row) == n:\n",
        "        selected_rows.append(row)\n",
        "\n",
        "for row in selected_rows:\n",
        "    print(row)"
      ]
    },
    {
      "cell_type": "markdown",
      "metadata": {
        "id": "YfKK30qsrPGI"
      },
      "source": [
        "#### 100. Compute bootstrapped 95% confidence intervals for the mean of a 1D array X (i.e., resample the elements of an array with replacement N times, compute the mean of each sample, and then compute percentiles over the means). (★★★)"
      ]
    },
    {
      "cell_type": "code",
      "execution_count": null,
      "metadata": {
        "id": "_2NK1NTmrPGJ",
        "outputId": "9a58d5a8-11ba-45a6-87d4-5ffd59000b1a"
      },
      "outputs": [
        {
          "name": "stdout",
          "output_type": "stream",
          "text": [
            "Interval for the mean: 1.0, 15.0\n"
          ]
        }
      ],
      "source": [
        "X = np.array([3, 5, 7, 9, 1, 13, 15])\n",
        "\n",
        "#Samples\n",
        "N = 1000\n",
        "\n",
        "#List to store the means of each sample\n",
        "sample_means = []\n",
        "\n",
        "#Loop N times to take samples, compute their mean and store it\n",
        "for i in range(N):\n",
        "    #Randomly sample withreplacement form the bag\n",
        "    sample = np.random.choice(X, size=len(X), replace=True)\n",
        "    #print(sample)\n",
        "    #Compute the mean of the sample and add it to the list\n",
        "    sample_mean = (sample)\n",
        "    #print(sample_mean)\n",
        "    sample_means.append(sample_mean)\n",
        "   # print(sample_means)\n",
        "\n",
        "#Compute the 2.5th and 97.5th percentile to get the 95% confidence interval\n",
        "lower_bound = np.percentile(sample_means, 2.5)\n",
        "upper_bound = np.percentile(sample_means, 97.5)\n",
        "print(f'Interval for the mean: {lower_bound}, {upper_bound}')"
      ]
    },
    {
      "cell_type": "code",
      "execution_count": null,
      "metadata": {
        "id": "bHgSy17lrPGZ"
      },
      "outputs": [],
      "source": []
    }
  ],
  "metadata": {
    "kernelspec": {
      "display_name": "Python 3 (ipykernel)",
      "language": "python",
      "name": "python3"
    },
    "language_info": {
      "codemirror_mode": {
        "name": "ipython",
        "version": 3
      },
      "file_extension": ".py",
      "mimetype": "text/x-python",
      "name": "python",
      "nbconvert_exporter": "python",
      "pygments_lexer": "ipython3",
      "version": "3.11.7"
    },
    "colab": {
      "provenance": [],
      "include_colab_link": true
    }
  },
  "nbformat": 4,
  "nbformat_minor": 0
}