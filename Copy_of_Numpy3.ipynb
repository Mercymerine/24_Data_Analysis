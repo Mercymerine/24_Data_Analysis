{
  "cells": [
    {
      "cell_type": "markdown",
      "metadata": {
        "id": "view-in-github",
        "colab_type": "text"
      },
      "source": [
        "<a href=\"https://colab.research.google.com/github/Mercymerine/24_Data_Analysis/blob/main/Copy_of_Numpy3.ipynb\" target=\"_parent\"><img src=\"https://colab.research.google.com/assets/colab-badge.svg\" alt=\"Open In Colab\"/></a>"
      ]
    },
    {
      "cell_type": "markdown",
      "metadata": {
        "id": "Nr-4CYyByEzr"
      },
      "source": [
        "# Numpy Exercise 3\n",
        "\n",
        "### All of the questions in this exercise are attributed to rougier/numpy-100"
      ]
    },
    {
      "cell_type": "code",
      "execution_count": null,
      "metadata": {
        "id": "9i6vrS8UyEzx"
      },
      "outputs": [],
      "source": [
        "import numpy as np"
      ]
    },
    {
      "cell_type": "markdown",
      "metadata": {
        "id": "N674BCpxyEzz"
      },
      "source": [
        "#### 31. How to ignore all numpy warnings (not recommended)? (★☆☆)"
      ]
    },
    {
      "cell_type": "code",
      "execution_count": null,
      "metadata": {
        "colab": {
          "base_uri": "https://localhost:8080/"
        },
        "id": "5MtLWA1TyEz0",
        "outputId": "b6413411-b5c9-447a-8c45-52c7769ebaa5"
      },
      "outputs": [
        {
          "output_type": "execute_result",
          "data": {
            "text/plain": [
              "{'divide': 'warn', 'over': 'warn', 'under': 'ignore', 'invalid': 'warn'}"
            ]
          },
          "metadata": {},
          "execution_count": 2
        }
      ],
      "source": [
        "np.seterr(all='ignore')"
      ]
    },
    {
      "cell_type": "code",
      "source": [
        "arr = np.array([1, 2, 3])\n",
        "result = arr/0\n",
        "print(result)"
      ],
      "metadata": {
        "colab": {
          "base_uri": "https://localhost:8080/"
        },
        "id": "wa03sitwyyHI",
        "outputId": "b25dedca-c4fd-4926-d62f-a65d447b7db1"
      },
      "execution_count": null,
      "outputs": [
        {
          "output_type": "stream",
          "name": "stdout",
          "text": [
            "[inf inf inf]\n"
          ]
        }
      ]
    },
    {
      "cell_type": "markdown",
      "metadata": {
        "id": "3eRnsWPTyEz1"
      },
      "source": [
        "#### 32. Is the following expressions true? (★☆☆)\n",
        "```python\n",
        "np.sqrt(-1) == np.emath.sqrt(-1)\n",
        "```"
      ]
    },
    {
      "cell_type": "code",
      "execution_count": null,
      "metadata": {
        "id": "ra0NHcI5yEz2",
        "outputId": "01b6d92a-719d-4e3c-acbf-434ae717f158",
        "colab": {
          "base_uri": "https://localhost:8080/"
        }
      },
      "outputs": [
        {
          "output_type": "stream",
          "name": "stdout",
          "text": [
            "False\n"
          ]
        }
      ],
      "source": [
        "print(np.sqrt(-1) == np.emath.sqrt(-1))"
      ]
    },
    {
      "cell_type": "markdown",
      "metadata": {
        "id": "rSGxLRVgyEz2"
      },
      "source": [
        "#### 33. How to get the dates of yesterday, today and tomorrow? (★☆☆)"
      ]
    },
    {
      "cell_type": "code",
      "execution_count": null,
      "metadata": {
        "id": "3mrkCSmAyEz2"
      },
      "outputs": [],
      "source": [
        "from datetime import datetime, timedelta"
      ]
    },
    {
      "cell_type": "code",
      "execution_count": null,
      "metadata": {
        "id": "5atONc1OyEz3",
        "outputId": "5d35a54e-6fd8-4da2-81e4-348c58791c8c",
        "colab": {
          "base_uri": "https://localhost:8080/"
        }
      },
      "outputs": [
        {
          "output_type": "stream",
          "name": "stdout",
          "text": [
            "2024-04-30\n"
          ]
        }
      ],
      "source": [
        "today = datetime.now().date()\n",
        "print(today)"
      ]
    },
    {
      "cell_type": "code",
      "execution_count": null,
      "metadata": {
        "id": "gESdtfzSyEz3",
        "outputId": "68bab010-73c2-4f0a-d4b2-379e8ae66685",
        "colab": {
          "base_uri": "https://localhost:8080/"
        }
      },
      "outputs": [
        {
          "output_type": "stream",
          "name": "stdout",
          "text": [
            "2024-04-29\n"
          ]
        }
      ],
      "source": [
        "yesterday = today - timedelta(days=1)\n",
        "print(yesterday)"
      ]
    },
    {
      "cell_type": "code",
      "execution_count": null,
      "metadata": {
        "id": "XWAnpQgYyEz4",
        "outputId": "9653c6b7-ba85-43f4-8076-d816200d9fcf",
        "colab": {
          "base_uri": "https://localhost:8080/"
        }
      },
      "outputs": [
        {
          "output_type": "stream",
          "name": "stdout",
          "text": [
            "2024-05-01\n"
          ]
        }
      ],
      "source": [
        "tomorrow = today + timedelta(days=1)\n",
        "print(tomorrow)"
      ]
    },
    {
      "cell_type": "markdown",
      "metadata": {
        "id": "OsDfjXNJyEz4"
      },
      "source": [
        "#### 34. How to get all the dates corresponding to the month of July 2016? (★★☆)"
      ]
    },
    {
      "cell_type": "code",
      "execution_count": null,
      "metadata": {
        "id": "0cSto9O5yEz4",
        "outputId": "1b556e14-8c77-4ec9-bf69-aaa1543a2deb",
        "colab": {
          "base_uri": "https://localhost:8080/"
        }
      },
      "outputs": [
        {
          "output_type": "stream",
          "name": "stdout",
          "text": [
            "     July 2016\n",
            "Mo Tu We Th Fr Sa Su\n",
            "             1  2  3\n",
            " 4  5  6  7  8  9 10\n",
            "11 12 13 14 15 16 17\n",
            "18 19 20 21 22 23 24\n",
            "25 26 27 28 29 30 31\n",
            "\n"
          ]
        }
      ],
      "source": [
        "import calendar\n",
        "\n",
        "july_dates = calendar.month(2016, 7)\n",
        "print(july_dates)"
      ]
    },
    {
      "cell_type": "markdown",
      "metadata": {
        "id": "LRIO9bHwyEz5"
      },
      "source": [
        "#### 35. How to compute ((A+B)*(-A/2)) in place (without copy)? (★★☆)"
      ]
    },
    {
      "cell_type": "code",
      "execution_count": null,
      "metadata": {
        "id": "KjxEuI_MyEz5",
        "outputId": "27d81635-919b-4bf6-e705-a39793ca8e48",
        "colab": {
          "base_uri": "https://localhost:8080/"
        }
      },
      "outputs": [
        {
          "output_type": "stream",
          "name": "stdout",
          "text": [
            "[ 6  8 10 12]\n",
            "[-1 -2 -3 -4]\n",
            "[-0.5 -1.  -1.5 -2. ]\n",
            "[ -3.  -8. -15. -24.]\n"
          ]
        }
      ],
      "source": [
        "A = np.array([1, 2, 3, 4])\n",
        "B = np.array([5, 6, 7, 8])\n",
        "\n",
        "#Computing (A + B)\n",
        "F = (A + B)\n",
        "print(F)\n",
        "\n",
        "#Compute (-A/2)\n",
        "C = (A * -1)\n",
        "print(C)\n",
        "D = (C/2)\n",
        "print(D)\n",
        "\n",
        "# Compute ((A+B)*(-A/2))\n",
        "E = (F * D)\n",
        "print(E)"
      ]
    },
    {
      "cell_type": "markdown",
      "metadata": {
        "id": "AvnGBZeTyEz5"
      },
      "source": [
        "#### 36. Extract the integer part of a random array of positive numbers using 4 different methods (★★☆)"
      ]
    },
    {
      "cell_type": "code",
      "execution_count": null,
      "metadata": {
        "id": "idnmz1bUyEz6",
        "outputId": "626799e0-4a81-4f62-bf2b-80d7ad4db6dd",
        "colab": {
          "base_uri": "https://localhost:8080/"
        }
      },
      "outputs": [
        {
          "output_type": "stream",
          "name": "stdout",
          "text": [
            "[4 9 7 6 1]\n"
          ]
        }
      ],
      "source": [
        "#Using as type function\n",
        "random_array = np.random.rand(5)*10\n",
        "\n",
        "integer = random_array.astype(int)\n",
        "print(integer)"
      ]
    },
    {
      "cell_type": "code",
      "source": [
        "random = np.random.rand(5)*10\n",
        "\n",
        "integer = np.floor(random)\n",
        "\n",
        "print(integer)"
      ],
      "metadata": {
        "id": "DWlP0othsz4c",
        "outputId": "a8128c0d-0f6f-4c3b-96f9-a82fb157bed7",
        "colab": {
          "base_uri": "https://localhost:8080/"
        }
      },
      "execution_count": null,
      "outputs": [
        {
          "output_type": "stream",
          "name": "stdout",
          "text": [
            "[8. 9. 1. 8. 4.]\n"
          ]
        }
      ]
    },
    {
      "cell_type": "code",
      "source": [
        "random = np.random.rand(5)*10\n",
        "\n",
        "integer = np.trunc(random)\n",
        "\n",
        "print(integer)"
      ],
      "metadata": {
        "id": "2lo2_waptJCZ",
        "outputId": "095b0fd2-9dca-4845-ba24-d8e046d3d221",
        "colab": {
          "base_uri": "https://localhost:8080/"
        }
      },
      "execution_count": null,
      "outputs": [
        {
          "output_type": "stream",
          "name": "stdout",
          "text": [
            "[7. 4. 8. 7. 1.]\n"
          ]
        }
      ]
    },
    {
      "cell_type": "code",
      "source": [
        "random = np.random.rand(5)*10\n",
        "\n",
        "for x in random:\n",
        "  print(int(x))"
      ],
      "metadata": {
        "id": "6hoegT9EtVWe",
        "outputId": "982bb7f9-322c-437c-cc62-b22ff141bfee",
        "colab": {
          "base_uri": "https://localhost:8080/"
        }
      },
      "execution_count": null,
      "outputs": [
        {
          "output_type": "stream",
          "name": "stdout",
          "text": [
            "8\n",
            "6\n",
            "3\n",
            "0\n",
            "4\n"
          ]
        }
      ]
    },
    {
      "cell_type": "markdown",
      "metadata": {
        "id": "yL0ch7BLyEz6"
      },
      "source": [
        "#### 37. Create a 5x5 matrix with row values ranging from 0 to 4 (★★☆)"
      ]
    },
    {
      "cell_type": "code",
      "execution_count": null,
      "metadata": {
        "id": "ZlLV__fYyEz6",
        "outputId": "db4898dc-1895-4512-9c3b-8ce66088b68c",
        "colab": {
          "base_uri": "https://localhost:8080/"
        }
      },
      "outputs": [
        {
          "output_type": "stream",
          "name": "stdout",
          "text": [
            "[[1 2 1 1 1]\n",
            " [0 2 2 0 2]\n",
            " [1 0 1 0 2]\n",
            " [3 3 2 3 0]\n",
            " [0 0 0 1 3]]\n"
          ]
        }
      ],
      "source": [
        "array = np.random.randint(0, 4, size = (5, 5))\n",
        "print(array)"
      ]
    },
    {
      "cell_type": "markdown",
      "metadata": {
        "id": "iVOPFXwXyEz6"
      },
      "source": [
        "#### 38. Consider a generator function that generates 10 integers and use it to build an array (★☆☆)"
      ]
    },
    {
      "cell_type": "code",
      "execution_count": null,
      "metadata": {
        "id": "SAPLdNV8yEz6"
      },
      "outputs": [],
      "source": [
        "def generator():\n",
        "    array = []\n",
        "    for values in range(10):\n",
        "        array.append(values)\n",
        "    print(array)\n",
        "\n"
      ]
    },
    {
      "cell_type": "code",
      "execution_count": null,
      "metadata": {
        "colab": {
          "base_uri": "https://localhost:8080/"
        },
        "id": "gQVTUzcJyEz6",
        "outputId": "57df8ecc-f158-4bac-c487-dc73b9f5fffc"
      },
      "outputs": [
        {
          "output_type": "stream",
          "name": "stdout",
          "text": [
            "[0, 1, 2, 3, 4, 5, 6, 7, 8, 9]\n",
            "None\n"
          ]
        }
      ],
      "source": [
        "print(generator())"
      ]
    },
    {
      "cell_type": "markdown",
      "metadata": {
        "id": "E6QNtPb1yEz7"
      },
      "source": [
        "#### 39. Create a vector of size 10 with values ranging from 0 to 1, both excluded (★★☆)"
      ]
    },
    {
      "cell_type": "code",
      "execution_count": null,
      "metadata": {
        "id": "DrFuDAQqyEz7",
        "outputId": "4f742fb3-d918-42d3-f08b-da11a9a69cdf",
        "colab": {
          "base_uri": "https://localhost:8080/"
        }
      },
      "outputs": [
        {
          "output_type": "stream",
          "name": "stdout",
          "text": [
            "[0.99265344 0.22121396 0.2879082  0.46792679 0.47635321 0.27727302\n",
            " 0.27622594 0.71540813 0.04699722 0.69536617]\n"
          ]
        }
      ],
      "source": [
        "array =  np.random.random(10)\n",
        "print(array)"
      ]
    },
    {
      "cell_type": "markdown",
      "metadata": {
        "id": "Fx0jXttwyEz7"
      },
      "source": [
        "#### 40. Create a random vector of size 10 and sort it (★★☆)"
      ]
    },
    {
      "cell_type": "code",
      "execution_count": null,
      "metadata": {
        "id": "baRc9B5YyEz7",
        "outputId": "e9acc3bb-b9e8-4bb0-a26c-4c18fc61a8b6",
        "colab": {
          "base_uri": "https://localhost:8080/"
        }
      },
      "outputs": [
        {
          "output_type": "stream",
          "name": "stdout",
          "text": [
            "[63 63 64 64 68 70 71 71 74 76]\n"
          ]
        }
      ],
      "source": [
        "vector = np.random.randint(56, 79, 10)\n",
        "print(np.sort(vector))"
      ]
    },
    {
      "cell_type": "markdown",
      "metadata": {
        "id": "PeTHy8fjyEz7"
      },
      "source": [
        "#### 41. How to sum a small array faster than np.sum? (★★☆)"
      ]
    },
    {
      "cell_type": "code",
      "execution_count": null,
      "metadata": {
        "id": "EVZtmMEsyEz7",
        "outputId": "3d00d5cc-6fe9-49f4-9d43-83a98d0049b4",
        "colab": {
          "base_uri": "https://localhost:8080/"
        }
      },
      "outputs": [
        {
          "output_type": "stream",
          "name": "stdout",
          "text": [
            "55\n"
          ]
        }
      ],
      "source": [
        "array = [1, 2, 3, 4, 5, 6, 7, 8, 9, 10]\n",
        "print(sum(array))"
      ]
    },
    {
      "cell_type": "markdown",
      "metadata": {
        "id": "dazUm5rpyEz8"
      },
      "source": [
        "#### 42. Consider two random array A and B, check if they are equal (★★☆)"
      ]
    },
    {
      "cell_type": "code",
      "execution_count": null,
      "metadata": {
        "id": "Mfedgv0GyEz8",
        "outputId": "3b1486d3-ad42-4450-8c91-138e2c554c5e",
        "colab": {
          "base_uri": "https://localhost:8080/"
        }
      },
      "outputs": [
        {
          "output_type": "stream",
          "name": "stdout",
          "text": [
            "[False  True False False False]\n"
          ]
        }
      ],
      "source": [
        "aA = np.random.randint(0, 10, 5)\n",
        "bB = np.random.randint(0, 10, 5)\n",
        "\n",
        "print(aA == bB)"
      ]
    },
    {
      "cell_type": "markdown",
      "metadata": {
        "id": "5QZIhPK4yEz9"
      },
      "source": [
        "#### 43. Make an array immutable (read-only) (★★☆)"
      ]
    },
    {
      "cell_type": "code",
      "execution_count": null,
      "metadata": {
        "colab": {
          "base_uri": "https://localhost:8080/"
        },
        "id": "bsRQwqiOyEz9",
        "outputId": "10f112e0-da81-48d2-d558-cc02f4ea57c3"
      },
      "outputs": [
        {
          "output_type": "stream",
          "name": "stdout",
          "text": [
            "(1, 2, 3, 4, 5)\n"
          ]
        }
      ],
      "source": [
        "x = [1, 2, 3, 4, 5]\n",
        "y = tuple(x)\n",
        "print(y)\n",
        "\n",
        "#Raises an error\n",
        "#y[0] = 6\n",
        "#print(y)"
      ]
    },
    {
      "cell_type": "markdown",
      "metadata": {
        "id": "FGPgBekvyEz9"
      },
      "source": [
        "#### 44. Consider a random 10x2 matrix representing cartesian coordinates, convert them to polar coordinates (★★☆)"
      ]
    },
    {
      "cell_type": "code",
      "execution_count": null,
      "metadata": {
        "colab": {
          "base_uri": "https://localhost:8080/"
        },
        "id": "QFp_-WbPyEz-",
        "outputId": "54e44d0f-8535-45ac-ce09-309043acb788"
      },
      "outputs": [
        {
          "output_type": "stream",
          "name": "stdout",
          "text": [
            "Cartesian Coordinates\n",
            "[[0.4810174  0.62580097]\n",
            " [0.63694135 0.09849204]\n",
            " [0.95186874 0.72278476]\n",
            " [0.57161047 0.61075688]\n",
            " [0.79278239 0.32859352]\n",
            " [0.18772278 0.03876136]\n",
            " [0.337754   0.35725776]\n",
            " [0.10470616 0.68437603]\n",
            " [0.20347433 0.11749175]\n",
            " [0.16362312 0.13446444]]\n",
            "\n",
            "Polar Coordinates\n",
            "[[0.7893064  0.91547021]\n",
            " [0.64451142 0.15341772]\n",
            " [1.19518698 0.64944713]\n",
            " [0.83651808 0.81849458]\n",
            " [0.85818275 0.39292764]\n",
            " [0.19168277 0.20362035]\n",
            " [0.49164099 0.81345329]\n",
            " [0.69233946 1.4189785 ]\n",
            " [0.23495982 0.52365699]\n",
            " [0.21178577 0.6878892 ]]\n"
          ]
        }
      ],
      "source": [
        "#Generate random Cartesian coordinates\n",
        "cartesian_coords = np.random.rand(10, 2)\n",
        "\n",
        "#Split x and y coordinates\n",
        "x = cartesian_coords[:, 0]\n",
        "y = cartesian_coords[:, 1]\n",
        "\n",
        "#Convert to polar coordinates\n",
        "r = np.sqrt(x**2 + y**2)\n",
        "theta = np.arctan2(y, x)\n",
        "\n",
        "#Dispaly the results\n",
        "polar_coords = np.column_stack((r, theta))\n",
        "print('Cartesian Coordinates')\n",
        "print(cartesian_coords)\n",
        "print('\\nPolar Coordinates')\n",
        "print(polar_coords)\n",
        "\n",
        "\n"
      ]
    },
    {
      "cell_type": "code",
      "source": [
        "'''\n",
        "Now, you want to tell someone where a different dot is on that paper. Instead of saying, \"Go 2 steps to the right and 3 steps up,\" which is like using a map grid (like x and y coordinates), you could say something like, \"Go out 5 steps from the center and then turn 30 degrees to the left.\"\n",
        "\n",
        "So, polar coordinates are like giving directions from the center of that paper (or dartboard), saying how far out you go (the distance) and which way you turn (the angle), instead of just saying how many steps you go in each direction (like x and y coordinates). It's just another way to talk about where things are!\n",
        "\n",
        "'''"
      ],
      "metadata": {
        "id": "2wFl5DI29jXi",
        "outputId": "f2a1c0ce-5c54-4b7b-d061-9d3302557433",
        "colab": {
          "base_uri": "https://localhost:8080/",
          "height": 157
        }
      },
      "execution_count": null,
      "outputs": [
        {
          "output_type": "execute_result",
          "data": {
            "text/plain": [
              "'\\nNow, you want to tell someone where a different dot is on that paper. Instead of saying, \"Go 2 steps to the right and 3 steps up,\" which is like using a map grid (like x and y coordinates), you could say something like, \"Go out 5 steps from the center and then turn 30 degrees to the left.\"\\n\\nSo, polar coordinates are like giving directions from the center of that paper (or dartboard), saying how far out you go (the distance) and which way you turn (the angle), instead of just saying how many steps you go in each direction (like x and y coordinates). It\\'s just another way to talk about where things are!\\n\\n'"
            ],
            "application/vnd.google.colaboratory.intrinsic+json": {
              "type": "string"
            }
          },
          "metadata": {},
          "execution_count": 24
        }
      ]
    },
    {
      "cell_type": "markdown",
      "metadata": {
        "id": "7WINitKZyEz-"
      },
      "source": [
        "#### 45. Create random vector of size 10 and replace the maximum value by 0 (★★☆)"
      ]
    },
    {
      "cell_type": "code",
      "execution_count": null,
      "metadata": {
        "id": "hBNFe_7PyEz-",
        "outputId": "5b661df4-1dd1-458a-fc88-1e1cd7a72d2d",
        "colab": {
          "base_uri": "https://localhost:8080/"
        }
      },
      "outputs": [
        {
          "output_type": "stream",
          "name": "stdout",
          "text": [
            "[93 89 97 89 97 97 91 88 89 94]\n",
            "0\n",
            "0\n",
            "0\n"
          ]
        }
      ],
      "source": [
        "array = np.random.randint(88, 98, 10)\n",
        "print(array)\n",
        "\n",
        "\n",
        "for values in array:\n",
        "    if values == array.max():\n",
        "        print(0)\n"
      ]
    },
    {
      "cell_type": "code",
      "execution_count": null,
      "metadata": {
        "id": "z19qL068yEz_"
      },
      "outputs": [],
      "source": []
    },
    {
      "cell_type": "code",
      "execution_count": null,
      "metadata": {
        "id": "jmCBMmUlyEz_"
      },
      "outputs": [],
      "source": []
    }
  ],
  "metadata": {
    "kernelspec": {
      "display_name": "Python 3 (ipykernel)",
      "language": "python",
      "name": "python3"
    },
    "language_info": {
      "codemirror_mode": {
        "name": "ipython",
        "version": 3
      },
      "file_extension": ".py",
      "mimetype": "text/x-python",
      "name": "python",
      "nbconvert_exporter": "python",
      "pygments_lexer": "ipython3",
      "version": "3.11.7"
    },
    "colab": {
      "provenance": [],
      "include_colab_link": true
    }
  },
  "nbformat": 4,
  "nbformat_minor": 0
}