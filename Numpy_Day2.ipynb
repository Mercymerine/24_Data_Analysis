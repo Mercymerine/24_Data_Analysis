{
  "nbformat": 4,
  "nbformat_minor": 0,
  "metadata": {
    "colab": {
      "provenance": [],
      "authorship_tag": "ABX9TyNQepSN/59p3ZpvB+gk8hoB",
      "include_colab_link": true
    },
    "kernelspec": {
      "name": "python3",
      "display_name": "Python 3"
    },
    "language_info": {
      "name": "python"
    }
  },
  "cells": [
    {
      "cell_type": "markdown",
      "metadata": {
        "id": "view-in-github",
        "colab_type": "text"
      },
      "source": [
        "<a href=\"https://colab.research.google.com/github/Mercymerine/24_Data_Analysis/blob/main/Numpy_Day2.ipynb\" target=\"_parent\"><img src=\"https://colab.research.google.com/assets/colab-badge.svg\" alt=\"Open In Colab\"/></a>"
      ]
    },
    {
      "cell_type": "markdown",
      "source": [
        "## **Basic Numpy Operations**"
      ],
      "metadata": {
        "id": "96JYEZMWiZ5S"
      }
    },
    {
      "cell_type": "code",
      "execution_count": null,
      "metadata": {
        "id": "mOJ8HbvMiN-q"
      },
      "outputs": [],
      "source": [
        "import numpy as np"
      ]
    },
    {
      "cell_type": "markdown",
      "source": [
        "### Reshaping Arrays"
      ],
      "metadata": {
        "id": "xiP-I8isiq0e"
      }
    },
    {
      "cell_type": "code",
      "source": [
        "#Giving a new shape to an array without changing its data\n",
        "\n",
        "arr = np.array([[1, 2, 3, 7, 8], [4, 5, 6, 9, 10]])\n",
        "print(f\"Shape : {arr.shape}\")\n",
        "print(arr)\n",
        "print(\"\\n\")\n",
        "\n",
        "arr2 = arr.reshape(5, 2)\n",
        "print(f\"Arr 2 shape : {arr2.shape} \")\n",
        "print(arr2)"
      ],
      "metadata": {
        "colab": {
          "base_uri": "https://localhost:8080/"
        },
        "id": "34y7rkkXilE3",
        "outputId": "f4833045-1eae-4b38-a4bc-4b0e7f63d82b",
        "collapsed": true
      },
      "execution_count": null,
      "outputs": [
        {
          "output_type": "stream",
          "name": "stdout",
          "text": [
            "Shape : (2, 5)\n",
            "[[ 1  2  3  7  8]\n",
            " [ 4  5  6  9 10]]\n",
            "\n",
            "\n",
            "Arr 2 shape : (5, 2) \n",
            "[[ 1  2]\n",
            " [ 3  7]\n",
            " [ 8  4]\n",
            " [ 5  6]\n",
            " [ 9 10]]\n"
          ]
        }
      ]
    },
    {
      "cell_type": "code",
      "source": [],
      "metadata": {
        "id": "d9B7P9sq0Hr1"
      },
      "execution_count": null,
      "outputs": []
    },
    {
      "cell_type": "markdown",
      "source": [
        "Why Do They Look Similar?\n",
        "arr.reshape(-1): This flattens the array into a 1D list of numbers. It has no rows or columns anymore—just 6 elements in one dimension.\n",
        "arr.reshape(1, -1): This keeps it as a 2D array with 1 row and 6 columns."
      ],
      "metadata": {
        "id": "VVJUIpTKr5Zk"
      }
    },
    {
      "cell_type": "code",
      "source": [
        "arr3 = arr.reshape(-1)\n",
        "print(f\"Arr 3 shape : {arr3.shape}\")\n",
        "print(arr3)"
      ],
      "metadata": {
        "colab": {
          "base_uri": "https://localhost:8080/"
        },
        "id": "vMT3qlH3lm-I",
        "outputId": "4a735df1-44d9-4e89-8882-7ed29ea1b2f7"
      },
      "execution_count": null,
      "outputs": [
        {
          "output_type": "stream",
          "name": "stdout",
          "text": [
            "Arr 3 shape : (10,)\n",
            "[ 1  2  3  7  8  4  5  6  9 10]\n"
          ]
        }
      ]
    },
    {
      "cell_type": "code",
      "source": [
        "arr5 = arr.reshape(1, -1)\n",
        "print(f\"Arr 5 shape : {arr5.shape}\")\n",
        "print(arr5)"
      ],
      "metadata": {
        "colab": {
          "base_uri": "https://localhost:8080/"
        },
        "id": "MmVo1MczriaX",
        "outputId": "990a7e41-f1e0-4303-d2f6-fc4181ae943b"
      },
      "execution_count": null,
      "outputs": [
        {
          "output_type": "stream",
          "name": "stdout",
          "text": [
            "Arr 5 shape : (1, 10)\n",
            "[[ 1  2  3  7  8  4  5  6  9 10]]\n"
          ]
        }
      ]
    },
    {
      "cell_type": "code",
      "source": [
        "arr4 = arr.reshape(-1, 1)\n",
        "print(f\"Arr 4 shape : {arr4.shape}\")\n",
        "print(arr4)"
      ],
      "metadata": {
        "colab": {
          "base_uri": "https://localhost:8080/"
        },
        "id": "rdYO3EDCmY-T",
        "outputId": "2aa8e2d2-d744-4096-b602-3e519b889acf"
      },
      "execution_count": null,
      "outputs": [
        {
          "output_type": "stream",
          "name": "stdout",
          "text": [
            "Arr 4 shape : (10, 1)\n",
            "[[ 1]\n",
            " [ 2]\n",
            " [ 3]\n",
            " [ 7]\n",
            " [ 8]\n",
            " [ 4]\n",
            " [ 5]\n",
            " [ 6]\n",
            " [ 9]\n",
            " [10]]\n"
          ]
        }
      ]
    },
    {
      "cell_type": "markdown",
      "source": [
        "\n",
        "\n",
        "*   arr.reshape(-1, 1): Creates a column vector.\n",
        "*   arr.reshape(1, -1): Creates a row vector.\n",
        "*   arr.reshape(-1): Flattens the array into a 1D array.\n",
        "\n",
        "\n",
        "\n",
        "\n"
      ],
      "metadata": {
        "id": "D8QlWlARo-Bp"
      }
    },
    {
      "cell_type": "markdown",
      "source": [
        "### Concatenation"
      ],
      "metadata": {
        "id": "gWx42XLDm8yn"
      }
    },
    {
      "cell_type": "markdown",
      "source": [
        "axis=1: Concatenates along columns, adding the arrays side by side, resulting in one row.\n",
        "axis=0: Concatenates along rows, adding the arrays one below the other, resulting in multiple rows."
      ],
      "metadata": {
        "id": "6Ep9yrtQvWZt"
      }
    },
    {
      "cell_type": "code",
      "source": [
        "arr1 = np.array([[1, 2, 3]])\n",
        "arr2 = np.array([[4, 5, 6]])\n",
        "\n",
        "concatenated_array = np.concatenate((arr1, arr2), axis=1)\n",
        "concatenated_array"
      ],
      "metadata": {
        "colab": {
          "base_uri": "https://localhost:8080/"
        },
        "id": "0lgDV2oDdXoL",
        "outputId": "a4ba1e53-ecdb-4207-e3f2-5c077e519ee7"
      },
      "execution_count": null,
      "outputs": [
        {
          "output_type": "execute_result",
          "data": {
            "text/plain": [
              "array([[1, 2, 3, 4, 5, 6]])"
            ]
          },
          "metadata": {},
          "execution_count": 11
        }
      ]
    },
    {
      "cell_type": "code",
      "source": [
        "arr1 = np.array([[1, 2, 3]])\n",
        "arr2 = np.array([[4, 5, 6]])\n",
        "\n",
        "concatenated_array = np.concatenate((arr1, arr2), axis=0)\n",
        "concatenated_array"
      ],
      "metadata": {
        "colab": {
          "base_uri": "https://localhost:8080/"
        },
        "id": "rLD8OLvzfbUE",
        "outputId": "7ba7e5f4-179e-4fa3-cf75-808842855b65"
      },
      "execution_count": null,
      "outputs": [
        {
          "output_type": "execute_result",
          "data": {
            "text/plain": [
              "array([[1, 2, 3],\n",
              "       [4, 5, 6]])"
            ]
          },
          "metadata": {},
          "execution_count": 12
        }
      ]
    },
    {
      "cell_type": "code",
      "source": [
        "arr1 = np.array([[1, 2, 3]])\n",
        "arr2 = np.array([[4, 5, 6]])\n",
        "\n",
        "concatenated_array = np.concatenate((arr1, arr2), axis=None)\n",
        "concatenated_array"
      ],
      "metadata": {
        "colab": {
          "base_uri": "https://localhost:8080/"
        },
        "id": "4dVElTSXfgOi",
        "outputId": "11b01ede-f5c2-4b39-8dd3-9638918374fa"
      },
      "execution_count": null,
      "outputs": [
        {
          "output_type": "execute_result",
          "data": {
            "text/plain": [
              "array([1, 2, 3, 4, 5, 6])"
            ]
          },
          "metadata": {},
          "execution_count": 13
        }
      ]
    },
    {
      "cell_type": "code",
      "source": [
        "arr1 = np.array([[1, 2, 3]])\n",
        "arr2 = np.array([[4, 5, 6]])\n",
        "arr3 = np.array([[7, 8, 9]])\n",
        "\n",
        "\n",
        "\n",
        "concatenated_array = np.concatenate((arr1, arr2, arr3), axis=0)\n",
        "\n",
        "print('Array 1:', arr1)\n",
        "print(\"Array 2:\", arr2)\n",
        "print(\"Array 3:\", arr3)\n",
        "print(\"Concatenated Array\", concatenated_array)"
      ],
      "metadata": {
        "colab": {
          "base_uri": "https://localhost:8080/"
        },
        "id": "P6o31S8jm4FC",
        "outputId": "70641bd6-ff6a-4c40-e269-fa859fb22715"
      },
      "execution_count": null,
      "outputs": [
        {
          "output_type": "stream",
          "name": "stdout",
          "text": [
            "Array 1: [[1 2 3]]\n",
            "Array 2: [[4 5 6]]\n",
            "Array 3: [[7 8 9]]\n",
            "Concatenated Array [[1 2 3]\n",
            " [4 5 6]\n",
            " [7 8 9]]\n"
          ]
        }
      ]
    },
    {
      "cell_type": "code",
      "source": [
        "a = np.array([[1, 2], [3, 4]])\n",
        "\n",
        "b = np.array([[5, 6]])\n",
        "\n",
        "arr4 = np.concatenate((a, b), axis=None)\n",
        "print(a.ndim)\n",
        "print(arr4.ndim)\n"
      ],
      "metadata": {
        "colab": {
          "base_uri": "https://localhost:8080/"
        },
        "id": "IOu6OpTbmqX2",
        "outputId": "09062aef-0b36-4cab-b8b7-af62ddd2e40c"
      },
      "execution_count": null,
      "outputs": [
        {
          "output_type": "stream",
          "name": "stdout",
          "text": [
            "2\n",
            "1\n"
          ]
        }
      ]
    },
    {
      "cell_type": "code",
      "source": [
        "c = a.flatten()\n",
        "c.ndim"
      ],
      "metadata": {
        "colab": {
          "base_uri": "https://localhost:8080/"
        },
        "id": "aHBpPnWwuS2x",
        "outputId": "06ffa70a-5853-4271-bb9f-d5f4a371870f"
      },
      "execution_count": null,
      "outputs": [
        {
          "output_type": "execute_result",
          "data": {
            "text/plain": [
              "1"
            ]
          },
          "metadata": {},
          "execution_count": 11
        }
      ]
    },
    {
      "cell_type": "code",
      "source": [
        "a.ndim"
      ],
      "metadata": {
        "colab": {
          "base_uri": "https://localhost:8080/"
        },
        "id": "b-z5strevusC",
        "outputId": "0ae37e24-dbc4-420f-a96e-4092abaaeb45"
      },
      "execution_count": null,
      "outputs": [
        {
          "output_type": "execute_result",
          "data": {
            "text/plain": [
              "2"
            ]
          },
          "metadata": {},
          "execution_count": 12
        }
      ]
    },
    {
      "cell_type": "code",
      "source": [
        "arr1.ndim"
      ],
      "metadata": {
        "colab": {
          "base_uri": "https://localhost:8080/"
        },
        "id": "hmX9c0zIuXnD",
        "outputId": "438629db-5d6c-47eb-cfdc-2f51b0471155"
      },
      "execution_count": null,
      "outputs": [
        {
          "output_type": "execute_result",
          "data": {
            "text/plain": [
              "2"
            ]
          },
          "metadata": {},
          "execution_count": 13
        }
      ]
    },
    {
      "cell_type": "markdown",
      "source": [
        "1D arrays like arr1 = np.array([1, 2, 3]) and arr2 = np.array([4, 5, 6]) are simple lists of numbers. They only have one axis (axis=0), which represents the elements themselves.\n",
        "When you specify axis=1, NumPy expects the arrays to be at least 2D (where axis=1 refers to columns), but since you're working with 1D arrays, it raises an error: \"axis 1 is out of bounds for array of dimension 1\"."
      ],
      "metadata": {
        "id": "-a8zAfEhz9p7"
      }
    },
    {
      "cell_type": "code",
      "source": [
        "arr1 = np.array([1, 2, 3])\n",
        "arr1.ndim"
      ],
      "metadata": {
        "colab": {
          "base_uri": "https://localhost:8080/"
        },
        "id": "TAhHSfGEU3lB",
        "outputId": "4fcbd254-55be-4f57-a9b0-906c6a83c4b5"
      },
      "execution_count": null,
      "outputs": [
        {
          "output_type": "execute_result",
          "data": {
            "text/plain": [
              "1"
            ]
          },
          "metadata": {},
          "execution_count": 21
        }
      ]
    },
    {
      "cell_type": "code",
      "source": [
        "arr1 = np.array([[1, 2, 3]])\n",
        "arr1.ndim"
      ],
      "metadata": {
        "colab": {
          "base_uri": "https://localhost:8080/"
        },
        "id": "YFoKpU9lU-St",
        "outputId": "9a272673-6fba-4b97-89cc-391bf067b150"
      },
      "execution_count": null,
      "outputs": [
        {
          "output_type": "execute_result",
          "data": {
            "text/plain": [
              "2"
            ]
          },
          "metadata": {},
          "execution_count": 22
        }
      ]
    },
    {
      "cell_type": "code",
      "source": [
        "arr1 = np.array([1, 2, 3])\n",
        "arr2 = np.array([4, 5, 6])\n",
        "\n",
        "concatenated_array = np.concatenate((arr1, arr2), axis=None)\n",
        "\n",
        "print(\"Array 1\", arr1)\n",
        "print(\"Array 2\", arr2)\n",
        "print(\"Concatenated Array\", concatenated_array)"
      ],
      "metadata": {
        "colab": {
          "base_uri": "https://localhost:8080/"
        },
        "id": "ZXHXinpZvrs1",
        "outputId": "6c369755-b6e6-4aeb-d7e2-5811b5d0694e"
      },
      "execution_count": null,
      "outputs": [
        {
          "output_type": "stream",
          "name": "stdout",
          "text": [
            "Array 1 [1 2 3]\n",
            "Array 2 [4 5 6]\n",
            "Concatenated Array [1 2 3 4 5 6]\n"
          ]
        }
      ]
    },
    {
      "cell_type": "markdown",
      "source": [
        "- Reshape(-1, 1) results in an array with a single column and multiple rows (a column vector), while reshape(1, -1) results in an array with a single row and multiple columns (a row vector)."
      ],
      "metadata": {
        "id": "3s2ZGFiB0uBU"
      }
    },
    {
      "cell_type": "code",
      "source": [
        "arr1 = np.array([1, 2, 3])\n",
        "arr2 = np.array([4, 5, 6])\n",
        "\n",
        "#Reshaping the arrays to 2D (each array becomes a row vector)\n",
        "arr1_reshaped = arr1.reshape(1, -1)\n",
        "arr2_reshaped = arr2.reshape(1, -1)\n",
        "\n",
        "concatenated_array = np.concatenate((arr1_reshaped, arr2_reshaped), axis=1)\n",
        "\n",
        "print(\"Array 1:\", arr1)\n",
        "print(\"Array 2:\", arr2)\n",
        "print(\"Concatenated Array:\", concatenated_array)"
      ],
      "metadata": {
        "colab": {
          "base_uri": "https://localhost:8080/"
        },
        "id": "xsV5FvMhxtSU",
        "outputId": "6842a755-4723-4101-e5bb-422673dffbbe"
      },
      "execution_count": null,
      "outputs": [
        {
          "output_type": "stream",
          "name": "stdout",
          "text": [
            "Array 1: [1 2 3]\n",
            "Array 2: [4 5 6]\n",
            "Concatenated Array: [[1 2 3 4 5 6]]\n"
          ]
        }
      ]
    },
    {
      "cell_type": "code",
      "source": [
        "array1 = np.array([[1, 2, 3],\n",
        "                   [4, 5, 6]])\n",
        "\n",
        "array2 = np.array([[7, 8, 9],\n",
        "                   [10, 11, 12]])\n",
        "\n",
        "# Concatenate along rows\n",
        "result = np.concatenate((array1, array2), axis=0)\n",
        "print(result)"
      ],
      "metadata": {
        "colab": {
          "base_uri": "https://localhost:8080/"
        },
        "id": "t490JU9K1ugB",
        "outputId": "070f5105-c388-4c08-ac9b-62e9ff26fe43"
      },
      "execution_count": null,
      "outputs": [
        {
          "output_type": "stream",
          "name": "stdout",
          "text": [
            "[[ 1  2  3]\n",
            " [ 4  5  6]\n",
            " [ 7  8  9]\n",
            " [10 11 12]]\n"
          ]
        }
      ]
    },
    {
      "cell_type": "code",
      "source": [
        "array1 = np.array([[1, 2, 3],\n",
        "                   [4, 5, 6]])\n",
        "\n",
        "array2 = np.array([[7, 8, 9],\n",
        "                   [10, 11, 12]])\n",
        "\n",
        "#Concatenate along columns\n",
        "result = np.concatenate((array1, array2), axis=1)\n",
        "print(result)"
      ],
      "metadata": {
        "colab": {
          "base_uri": "https://localhost:8080/"
        },
        "id": "V41AjgbA3Gss",
        "outputId": "769531d8-b833-4561-f884-0527a2bc4fcc"
      },
      "execution_count": null,
      "outputs": [
        {
          "output_type": "stream",
          "name": "stdout",
          "text": [
            "[[ 1  2  3  7  8  9]\n",
            " [ 4  5  6 10 11 12]]\n"
          ]
        }
      ]
    },
    {
      "cell_type": "code",
      "source": [
        "a = np.array([[1, 2], [3, 4]])\n",
        "b = np.array([[5, 6, 7]])"
      ],
      "metadata": {
        "id": "mrpuAvx73kwO"
      },
      "execution_count": null,
      "outputs": []
    },
    {
      "cell_type": "code",
      "source": [
        "np.concatenate((a, b), axis=0)"
      ],
      "metadata": {
        "colab": {
          "base_uri": "https://localhost:8080/",
          "height": 159
        },
        "id": "eAPzXQix6MyQ",
        "outputId": "f4895daa-ac38-4c80-9639-826eb864f7b8"
      },
      "execution_count": null,
      "outputs": [
        {
          "output_type": "error",
          "ename": "ValueError",
          "evalue": "all the input array dimensions except for the concatenation axis must match exactly, but along dimension 1, the array at index 0 has size 2 and the array at index 1 has size 3",
          "traceback": [
            "\u001b[0;31m---------------------------------------------------------------------------\u001b[0m",
            "\u001b[0;31mValueError\u001b[0m                                Traceback (most recent call last)",
            "\u001b[0;32m<ipython-input-25-0ed2f549f1e6>\u001b[0m in \u001b[0;36m<cell line: 1>\u001b[0;34m()\u001b[0m\n\u001b[0;32m----> 1\u001b[0;31m \u001b[0mnp\u001b[0m\u001b[0;34m.\u001b[0m\u001b[0mconcatenate\u001b[0m\u001b[0;34m(\u001b[0m\u001b[0;34m(\u001b[0m\u001b[0ma\u001b[0m\u001b[0;34m,\u001b[0m \u001b[0mb\u001b[0m\u001b[0;34m)\u001b[0m\u001b[0;34m,\u001b[0m \u001b[0maxis\u001b[0m\u001b[0;34m=\u001b[0m\u001b[0;36m0\u001b[0m\u001b[0;34m)\u001b[0m\u001b[0;34m\u001b[0m\u001b[0;34m\u001b[0m\u001b[0m\n\u001b[0m",
            "\u001b[0;31mValueError\u001b[0m: all the input array dimensions except for the concatenation axis must match exactly, but along dimension 1, the array at index 0 has size 2 and the array at index 1 has size 3"
          ]
        }
      ]
    },
    {
      "cell_type": "code",
      "source": [
        "np.concatenate((a, b), axis=1)"
      ],
      "metadata": {
        "colab": {
          "base_uri": "https://localhost:8080/",
          "height": 159
        },
        "id": "VlsenxI86Sf5",
        "outputId": "66d848e3-78fc-4e3d-e16f-d425048f1bea"
      },
      "execution_count": null,
      "outputs": [
        {
          "output_type": "error",
          "ename": "ValueError",
          "evalue": "all the input array dimensions except for the concatenation axis must match exactly, but along dimension 0, the array at index 0 has size 2 and the array at index 1 has size 1",
          "traceback": [
            "\u001b[0;31m---------------------------------------------------------------------------\u001b[0m",
            "\u001b[0;31mValueError\u001b[0m                                Traceback (most recent call last)",
            "\u001b[0;32m<ipython-input-26-ab47451b2341>\u001b[0m in \u001b[0;36m<cell line: 1>\u001b[0;34m()\u001b[0m\n\u001b[0;32m----> 1\u001b[0;31m \u001b[0mnp\u001b[0m\u001b[0;34m.\u001b[0m\u001b[0mconcatenate\u001b[0m\u001b[0;34m(\u001b[0m\u001b[0;34m(\u001b[0m\u001b[0ma\u001b[0m\u001b[0;34m,\u001b[0m \u001b[0mb\u001b[0m\u001b[0;34m)\u001b[0m\u001b[0;34m,\u001b[0m \u001b[0maxis\u001b[0m\u001b[0;34m=\u001b[0m\u001b[0;36m1\u001b[0m\u001b[0;34m)\u001b[0m\u001b[0;34m\u001b[0m\u001b[0;34m\u001b[0m\u001b[0m\n\u001b[0m",
            "\u001b[0;31mValueError\u001b[0m: all the input array dimensions except for the concatenation axis must match exactly, but along dimension 0, the array at index 0 has size 2 and the array at index 1 has size 1"
          ]
        }
      ]
    },
    {
      "cell_type": "code",
      "source": [
        "np.concatenate((a, b), axis=None)"
      ],
      "metadata": {
        "colab": {
          "base_uri": "https://localhost:8080/"
        },
        "id": "Ccex5ToW6ilO",
        "outputId": "372edc8c-e137-4753-ee2a-b9ea677c8e49"
      },
      "execution_count": null,
      "outputs": [
        {
          "output_type": "execute_result",
          "data": {
            "text/plain": [
              "array([1, 2, 3, 4, 5, 6, 7])"
            ]
          },
          "metadata": {},
          "execution_count": 27
        }
      ]
    },
    {
      "cell_type": "markdown",
      "source": [
        "## **Operations on a single array**"
      ],
      "metadata": {
        "id": "fjxjfNVr7XUQ"
      }
    },
    {
      "cell_type": "code",
      "source": [
        "num = [1, 2, 3, 4]\n",
        "add = 1\n",
        "\n",
        "for i in num:\n",
        "  sum = i + add\n",
        "  print(sum)"
      ],
      "metadata": {
        "colab": {
          "base_uri": "https://localhost:8080/"
        },
        "id": "33F0N8cy6o_X",
        "outputId": "1890c139-e30a-41af-b66b-2feaa5a2468a"
      },
      "execution_count": null,
      "outputs": [
        {
          "output_type": "stream",
          "name": "stdout",
          "text": [
            "2\n",
            "3\n",
            "4\n",
            "5\n"
          ]
        }
      ]
    },
    {
      "cell_type": "code",
      "source": [
        "num + add"
      ],
      "metadata": {
        "colab": {
          "base_uri": "https://localhost:8080/",
          "height": 141
        },
        "id": "gygET0R-89eS",
        "outputId": "f74a36fd-2f23-4140-c32c-616a83412ec5"
      },
      "execution_count": null,
      "outputs": [
        {
          "output_type": "error",
          "ename": "TypeError",
          "evalue": "can only concatenate list (not \"int\") to list",
          "traceback": [
            "\u001b[0;31m---------------------------------------------------------------------------\u001b[0m",
            "\u001b[0;31mTypeError\u001b[0m                                 Traceback (most recent call last)",
            "\u001b[0;32m<ipython-input-29-68357b884b03>\u001b[0m in \u001b[0;36m<cell line: 1>\u001b[0;34m()\u001b[0m\n\u001b[0;32m----> 1\u001b[0;31m \u001b[0mnum\u001b[0m \u001b[0;34m+\u001b[0m \u001b[0madd\u001b[0m\u001b[0;34m\u001b[0m\u001b[0;34m\u001b[0m\u001b[0m\n\u001b[0m",
            "\u001b[0;31mTypeError\u001b[0m: can only concatenate list (not \"int\") to list"
          ]
        }
      ]
    },
    {
      "cell_type": "code",
      "source": [
        "a = np.array([1, 2, 5, 3])\n",
        "\n",
        "#Add 1 to every element\n",
        "print(\"Adding 1 to every element\", a+1)\n",
        "\n",
        "#Subtract 3 from each element\n",
        "print(\"Subtracting 3 from element\", a-3)\n",
        "\n",
        "#Multiply each element by 10\n",
        "print(\"Multiplying each element by 10:\", a*10)\n",
        "\n",
        "#Square Each element by 10\n",
        "print(\"Squaring each element:\", a**2)"
      ],
      "metadata": {
        "colab": {
          "base_uri": "https://localhost:8080/"
        },
        "id": "tIDQrBpp9AXz",
        "outputId": "336b3071-18c0-4f79-aa1e-a350756525e9"
      },
      "execution_count": null,
      "outputs": [
        {
          "output_type": "stream",
          "name": "stdout",
          "text": [
            "Adding 1 to every element [2 3 6 4]\n",
            "Subtracting 3 from element [-2 -1  2  0]\n",
            "Multiplying each element by 10: [10 20 50 30]\n",
            "Squaring each element: [ 1  4 25  9]\n"
          ]
        }
      ]
    },
    {
      "cell_type": "code",
      "source": [
        "a = [1, 2, 5, 3]\n",
        "print(type(a))\n",
        "print(a+1)"
      ],
      "metadata": {
        "colab": {
          "base_uri": "https://localhost:8080/",
          "height": 193
        },
        "id": "KKdhrjXYcgyA",
        "outputId": "aa191c91-bd7a-43f7-80a7-5897d92ed13b"
      },
      "execution_count": null,
      "outputs": [
        {
          "output_type": "stream",
          "name": "stdout",
          "text": [
            "<class 'list'>\n"
          ]
        },
        {
          "output_type": "error",
          "ename": "TypeError",
          "evalue": "can only concatenate list (not \"int\") to list",
          "traceback": [
            "\u001b[0;31m---------------------------------------------------------------------------\u001b[0m",
            "\u001b[0;31mTypeError\u001b[0m                                 Traceback (most recent call last)",
            "\u001b[0;32m<ipython-input-31-1c7980641afd>\u001b[0m in \u001b[0;36m<cell line: 3>\u001b[0;34m()\u001b[0m\n\u001b[1;32m      1\u001b[0m \u001b[0ma\u001b[0m \u001b[0;34m=\u001b[0m \u001b[0;34m[\u001b[0m\u001b[0;36m1\u001b[0m\u001b[0;34m,\u001b[0m \u001b[0;36m2\u001b[0m\u001b[0;34m,\u001b[0m \u001b[0;36m5\u001b[0m\u001b[0;34m,\u001b[0m \u001b[0;36m3\u001b[0m\u001b[0;34m]\u001b[0m\u001b[0;34m\u001b[0m\u001b[0;34m\u001b[0m\u001b[0m\n\u001b[1;32m      2\u001b[0m \u001b[0mprint\u001b[0m\u001b[0;34m(\u001b[0m\u001b[0mtype\u001b[0m\u001b[0;34m(\u001b[0m\u001b[0ma\u001b[0m\u001b[0;34m)\u001b[0m\u001b[0;34m)\u001b[0m\u001b[0;34m\u001b[0m\u001b[0;34m\u001b[0m\u001b[0m\n\u001b[0;32m----> 3\u001b[0;31m \u001b[0mprint\u001b[0m\u001b[0;34m(\u001b[0m\u001b[0ma\u001b[0m\u001b[0;34m+\u001b[0m\u001b[0;36m1\u001b[0m\u001b[0;34m)\u001b[0m\u001b[0;34m\u001b[0m\u001b[0;34m\u001b[0m\u001b[0m\n\u001b[0m",
            "\u001b[0;31mTypeError\u001b[0m: can only concatenate list (not \"int\") to list"
          ]
        }
      ]
    },
    {
      "cell_type": "code",
      "source": [
        "a = np.array([1, 2, 5, 3])\n",
        "print(type(a))\n",
        "print(a+1)"
      ],
      "metadata": {
        "colab": {
          "base_uri": "https://localhost:8080/"
        },
        "id": "QMcfE3wq-Ag_",
        "outputId": "cd920312-c797-4357-a7ef-746fa7097cc3"
      },
      "execution_count": null,
      "outputs": [
        {
          "output_type": "stream",
          "name": "stdout",
          "text": [
            "<class 'numpy.ndarray'>\n",
            "[2 3 6 4]\n"
          ]
        }
      ]
    },
    {
      "cell_type": "code",
      "source": [
        "import numpy as np\n",
        "import time\n",
        "\n",
        "# Create a large dataset\n",
        "size = 10**8\n",
        "python_list = list(range(size))\n",
        "numpy_array = np.array(python_list)\n",
        "\n",
        "# Sum using Python list\n",
        "start_time = time.time()\n",
        "python_sum_list = sum(python_list)  # Make sure 'sum' is not defined elsewhere\n",
        "end_time = time.time()\n",
        "python_list_time = end_time - start_time\n",
        "\n",
        "# Sum using NumPy array\n",
        "start_time = time.time()\n",
        "numpy_array_sum = np.sum(numpy_array)\n",
        "end_time = time.time()\n",
        "numpy_array_time = end_time - start_time\n",
        "\n",
        "print(f\"Sum using Python List: {python_sum_list}, Time: {python_list_time:.6f} seconds\")\n",
        "print(f\"Sum using NumPy Array: {numpy_array_sum}, Time: {numpy_array_time:.6f} seconds\")\n"
      ],
      "metadata": {
        "colab": {
          "base_uri": "https://localhost:8080/"
        },
        "id": "9B3Nzl3FAkpT",
        "outputId": "adbd67bb-1134-4120-86a5-e932a6ab1639"
      },
      "execution_count": null,
      "outputs": [
        {
          "output_type": "stream",
          "name": "stdout",
          "text": [
            "Sum using Python List: 4999999950000000, Time: 0.470874 seconds\n",
            "Sum using NumPy Array: 4999999950000000, Time: 0.045333 seconds\n"
          ]
        }
      ]
    },
    {
      "cell_type": "code",
      "source": [
        "type(python_list)"
      ],
      "metadata": {
        "colab": {
          "base_uri": "https://localhost:8080/"
        },
        "id": "3x4fQ_-2NBqr",
        "outputId": "8079c223-84ba-43d4-cad1-1ca29e4b10f5"
      },
      "execution_count": null,
      "outputs": [
        {
          "output_type": "execute_result",
          "data": {
            "text/plain": [
              "list"
            ]
          },
          "metadata": {},
          "execution_count": 36
        }
      ]
    },
    {
      "cell_type": "code",
      "source": [
        "num= [1, 2, 3, 4]\n",
        "print(sum(num))"
      ],
      "metadata": {
        "colab": {
          "base_uri": "https://localhost:8080/"
        },
        "id": "GS6tTUTJNLxt",
        "outputId": "6daed16e-679f-4bb0-b1f3-b35072dce3f8"
      },
      "execution_count": null,
      "outputs": [
        {
          "output_type": "stream",
          "name": "stdout",
          "text": [
            "10\n"
          ]
        }
      ]
    },
    {
      "cell_type": "code",
      "source": [
        "del sum"
      ],
      "metadata": {
        "id": "3X-XB9nSNRer"
      },
      "execution_count": null,
      "outputs": []
    },
    {
      "cell_type": "markdown",
      "source": [
        "Methods"
      ],
      "metadata": {
        "id": "AB40kzStPEl-"
      }
    },
    {
      "cell_type": "code",
      "source": [
        "arr = np.array([1, 2, 3, 4, 5])\n",
        "\n",
        "#Sum of all elements\n",
        "sum_elements = np.sum(arr)\n",
        "\n",
        "#Mean of all elements\n",
        "mean_value = np.mean(arr)\n",
        "\n",
        "#Maximum element\n",
        "max_value = np.max(arr)\n",
        "\n",
        "#Minimum element\n",
        "min_value = np.min(arr)\n",
        "\n",
        "#Median of array\n",
        "median_value = np.median(arr)\n",
        "\n",
        "print('Original array', arr)\n",
        "print('Sum', sum_elements)\n",
        "print('Mean',mean_value)\n",
        "print('Max', max_value)\n",
        "print('Min', min_value)\n",
        "print('Median', median_value)"
      ],
      "metadata": {
        "colab": {
          "base_uri": "https://localhost:8080/"
        },
        "id": "RoWJ2TNrOYs1",
        "outputId": "57694ece-df9d-424a-dcf4-4e5db8003d8c"
      },
      "execution_count": null,
      "outputs": [
        {
          "output_type": "stream",
          "name": "stdout",
          "text": [
            "Original array [1 2 3 4 5]\n",
            "Sum 15\n",
            "Mean 3.0\n",
            "Max 5\n",
            "Min 1\n",
            "Median 3.0\n"
          ]
        }
      ]
    },
    {
      "cell_type": "markdown",
      "source": [],
      "metadata": {
        "id": "0_tKBnrsU2Ze"
      }
    },
    {
      "cell_type": "markdown",
      "source": [
        "**Vectorization (Arrays vs Lists)**\n",
        "\n",
        "Vectorization in NumPy refers to the practice of using array operations that apply to entire arrays or large blocks of data at once, rather than using explicit loops. This approach allows for more efficient computation and leads to cleaner, more readable code.\n",
        "\n",
        "**Key Benefits of Vectorization:**\n",
        "\n",
        "*  ** Performance:** Vectorized operations are generally faster than iterating over elements with loops, as they take advantage of low-level optimizations and parallel processing.\n",
        "\n",
        "*   **Conciseness:** Vectorized code is often more concise and easier to read compared to traditional loop-based implementations.\n",
        "*  ** Functionality:** Many mathematical operations and functions in NumPy are already vectorized, allowing you to perform complex calculations with minimal code.\n",
        "\n",
        "\n",
        "Common Vectorized Operations:\n",
        "\n",
        "*   Element-wise operations: Addition, subtraction, multiplication, division, etc.\n",
        "*   Aggregations: Functions like np.sum(), np.mean(), np.std(), etc.\n",
        "\n",
        "* Broadcasting: Allows operations between arrays of different shapes."
      ],
      "metadata": {
        "id": "LY7ciPvkRAEx"
      }
    },
    {
      "cell_type": "code",
      "source": [
        "#Creating two python lists\n",
        "a_list = [1, 2, 3, 4, 5]\n",
        "b_list = [6, 7, 8, 9, 10]\n",
        "\n",
        "#Element-wise addition using a loop\n",
        "result_list = []\n",
        "for i in range(len(a_list)):\n",
        "  result_list.append(a_list[i] + b_list[i])\n",
        "\n",
        "print(result_list)"
      ],
      "metadata": {
        "colab": {
          "base_uri": "https://localhost:8080/"
        },
        "id": "gZetVyuCSTwE",
        "outputId": "c5dc1f16-8476-483e-f4db-f28bc45b08b4"
      },
      "execution_count": null,
      "outputs": [
        {
          "output_type": "stream",
          "name": "stdout",
          "text": [
            "[7, 9, 11, 13, 15]\n"
          ]
        }
      ]
    },
    {
      "cell_type": "code",
      "source": [
        "# Creating two NumPy arrays\n",
        "a = np.array([1, 2, 3, 4, 5])\n",
        "b = np.array([6, 7, 8, 9, 10])\n",
        "\n",
        "# Element-wise addition using vectorization\n",
        "#result = a + b\n",
        "\n",
        "print(a+b)"
      ],
      "metadata": {
        "colab": {
          "base_uri": "https://localhost:8080/"
        },
        "id": "L7g4XLIATx3s",
        "outputId": "1edce239-347d-4f22-823b-5d383f49dbd7"
      },
      "execution_count": null,
      "outputs": [
        {
          "output_type": "stream",
          "name": "stdout",
          "text": [
            "[ 7  9 11 13 15]\n"
          ]
        }
      ]
    },
    {
      "cell_type": "markdown",
      "source": [
        "**Broadcasting:** The term broadcasting describes how NumPy treats arrays with different shapes during arithmetic operations. Subject to certain constraints, the smaller array is “broadcast” across the larger array so that they have compatible shapes.\n",
        "\n",
        " Broadcasting is a mechanism that allows NumPy to perform operations on arrays of different shapes."
      ],
      "metadata": {
        "id": "bOYTnYbsXGay"
      }
    },
    {
      "cell_type": "code",
      "source": [
        "#Creating a 2x3 matrix\n",
        "a = np.array([[1, 2, 3],\n",
        "              [4, 5, 6]])\n",
        "\n",
        "#Creating a 1x3 array\n",
        "b = np.array([10, 20, 30])\n",
        "\n",
        "#Performing broadcasting addtion\n",
        "result = a + b\n",
        "print(a)\n",
        "print()\n",
        "print(b)\n",
        "print()\n",
        "print(result)"
      ],
      "metadata": {
        "colab": {
          "base_uri": "https://localhost:8080/"
        },
        "id": "Z2jMjDDHVy7b",
        "outputId": "61d9517b-bf67-4af7-e8bc-09f64b17cfcf"
      },
      "execution_count": null,
      "outputs": [
        {
          "output_type": "stream",
          "name": "stdout",
          "text": [
            "[[1 2 3]\n",
            " [4 5 6]]\n",
            "\n",
            "[10 20 30]\n",
            "\n",
            "[[11 22 33]\n",
            " [14 25 36]]\n"
          ]
        }
      ]
    },
    {
      "cell_type": "code",
      "source": [
        "#Creating a 3x3 matrix\n",
        "a = np.array([[1, 2, 3],\n",
        "              [4, 5, 6],\n",
        "              [7, 8, 9]])\n",
        "\n",
        "#Creating a 1x3 array\n",
        "b = np.array([10, 20, 30])\n",
        "\n",
        "#Performing broadcasting subtracion\n",
        "result = a-b\n",
        "\n",
        "print(result)"
      ],
      "metadata": {
        "colab": {
          "base_uri": "https://localhost:8080/"
        },
        "id": "6KvuwftPYEAr",
        "outputId": "414a12ff-d86c-42c7-e492-9233be0c9330"
      },
      "execution_count": null,
      "outputs": [
        {
          "output_type": "stream",
          "name": "stdout",
          "text": [
            "[[ -9 -18 -27]\n",
            " [ -6 -15 -24]\n",
            " [ -3 -12 -21]]\n"
          ]
        }
      ]
    },
    {
      "cell_type": "code",
      "source": [
        "#Creating a 3x3 matrix\n",
        "a = np.array([[1, 2, 3],\n",
        "              [4, 5, 6],\n",
        "              [7, 8, 9]])\n",
        "\n",
        "#Creating a 1x3 array\n",
        "b = np.array([10, 20, 30])\n",
        "\n",
        "#Performing broadcasting subtracion\n",
        "result = a*b\n",
        "\n",
        "print(result)"
      ],
      "metadata": {
        "id": "Dxm7on70Yi0M",
        "colab": {
          "base_uri": "https://localhost:8080/"
        },
        "outputId": "332bad8d-6a6a-49f2-87d3-f821e1577e3f"
      },
      "execution_count": null,
      "outputs": [
        {
          "output_type": "stream",
          "name": "stdout",
          "text": [
            "[[ 10  40  90]\n",
            " [ 40 100 180]\n",
            " [ 70 160 270]]\n"
          ]
        }
      ]
    },
    {
      "cell_type": "code",
      "source": [
        "#Creating a 3x3 matrix\n",
        "a = np.array([[1, 2, 3],\n",
        "              [4, 5, 6],\n",
        "              [7, 8, 9]])\n",
        "\n",
        "#Creating a 1x3 array\n",
        "b = np.array([10, 20, 30])\n",
        "\n",
        "#Performing broadcasting subtracion\n",
        "result = a**b\n",
        "\n",
        "print(result)"
      ],
      "metadata": {
        "colab": {
          "base_uri": "https://localhost:8080/"
        },
        "id": "CRfN6xKTnush",
        "outputId": "b0a73159-b391-4eb8-dc2f-f43c8999d5af"
      },
      "execution_count": null,
      "outputs": [
        {
          "output_type": "stream",
          "name": "stdout",
          "text": [
            "[[                   1              1048576      205891132094649]\n",
            " [             1048576       95367431640625  8138741398091333632]\n",
            " [           282475249  1152921504606846976 -3535985420588157519]]\n"
          ]
        }
      ]
    },
    {
      "cell_type": "code",
      "source": [],
      "metadata": {
        "id": "JtxOMM4cn2A8"
      },
      "execution_count": null,
      "outputs": []
    },
    {
      "cell_type": "markdown",
      "source": [
        "#**Concatenate**: Join a sequence of arrays along an existing axis.\n",
        "\n",
        "# **Broadcasting:** a mechanism that allows NumPy to perform operations on arrays of different shapes\n"
      ],
      "metadata": {
        "id": "6uqM7Od3okQT"
      }
    },
    {
      "cell_type": "code",
      "source": [
        "a = [[5, 7, 8]]\n",
        "b = [[11, 10, 21]]\n",
        "\n",
        "c = np.concatenate((a, b), axis= 1)\n",
        "c"
      ],
      "metadata": {
        "id": "P0UXDFO5owiN",
        "colab": {
          "base_uri": "https://localhost:8080/"
        },
        "outputId": "51123650-dce5-4220-a67b-ebd554bd4343"
      },
      "execution_count": null,
      "outputs": [
        {
          "output_type": "execute_result",
          "data": {
            "text/plain": [
              "array([[ 5,  7,  8, 11, 10, 21]])"
            ]
          },
          "metadata": {},
          "execution_count": 41
        }
      ]
    },
    {
      "cell_type": "code",
      "source": [
        "a = np.array ([5, 7, 8])\n",
        "b = np.array([[11, 10, 21], [17, 21, 31]])\n",
        "print(type(a))\n",
        "\n",
        "c = a * b\n",
        "c\n",
        "\n"
      ],
      "metadata": {
        "id": "QLWiwzy6rVa9",
        "colab": {
          "base_uri": "https://localhost:8080/"
        },
        "outputId": "aaa8de3c-ddfe-437c-bec7-050980f61358"
      },
      "execution_count": null,
      "outputs": [
        {
          "output_type": "stream",
          "name": "stdout",
          "text": [
            "<class 'numpy.ndarray'>\n"
          ]
        },
        {
          "output_type": "execute_result",
          "data": {
            "text/plain": [
              "array([[ 55,  70, 168],\n",
              "       [ 85, 147, 248]])"
            ]
          },
          "metadata": {},
          "execution_count": 42
        }
      ]
    },
    {
      "cell_type": "code",
      "source": [],
      "metadata": {
        "id": "_S7qayLlr0tl"
      },
      "execution_count": null,
      "outputs": []
    }
  ]
}